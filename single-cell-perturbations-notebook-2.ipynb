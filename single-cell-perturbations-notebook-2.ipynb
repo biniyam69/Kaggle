{
 "cells": [
  {
   "cell_type": "code",
   "execution_count": 1,
   "id": "7f12021b",
   "metadata": {
    "_cell_guid": "b1076dfc-b9ad-4769-8c92-a6c4dae69d19",
    "_uuid": "8f2839f25d086af736a60e9eeb907d3b93b6e0e5",
    "execution": {
     "iopub.execute_input": "2023-10-15T19:37:12.842321Z",
     "iopub.status.busy": "2023-10-15T19:37:12.841957Z",
     "iopub.status.idle": "2023-10-15T19:37:20.248537Z",
     "shell.execute_reply": "2023-10-15T19:37:20.247640Z"
    },
    "papermill": {
     "duration": 7.418994,
     "end_time": "2023-10-15T19:37:20.250628",
     "exception": false,
     "start_time": "2023-10-15T19:37:12.831634",
     "status": "completed"
    },
    "tags": []
   },
   "outputs": [
    {
     "name": "stderr",
     "output_type": "stream",
     "text": [
      "/opt/conda/lib/python3.10/site-packages/scipy/__init__.py:146: UserWarning: A NumPy version >=1.16.5 and <1.23.0 is required for this version of SciPy (detected version 1.23.5\n",
      "  warnings.warn(f\"A NumPy version >={np_minversion} and <{np_maxversion}\"\n"
     ]
    }
   ],
   "source": [
    "import numpy as np \n",
    "import pandas as pd \n",
    "import tensorflow as tf\n",
    "import matplotlib.pyplot as plt"
   ]
  },
  {
   "cell_type": "code",
   "execution_count": 2,
   "id": "e013f428",
   "metadata": {
    "execution": {
     "iopub.execute_input": "2023-10-15T19:37:20.278803Z",
     "iopub.status.busy": "2023-10-15T19:37:20.278095Z",
     "iopub.status.idle": "2023-10-15T19:37:24.883501Z",
     "shell.execute_reply": "2023-10-15T19:37:24.882529Z"
    },
    "papermill": {
     "duration": 4.625091,
     "end_time": "2023-10-15T19:37:24.885661",
     "exception": false,
     "start_time": "2023-10-15T19:37:20.260570",
     "status": "completed"
    },
    "tags": []
   },
   "outputs": [],
   "source": [
    "de_train =   pd.read_parquet(\"/kaggle/input/open-problems-single-cell-perturbations/de_train.parquet\")\n",
    "id_map = pd.read_csv(\"/kaggle/input/open-problems-single-cell-perturbations/id_map.csv\")\n",
    "sample_submission = pd.read_csv(\"/kaggle/input/open-problems-single-cell-perturbations/sample_submission.csv\")"
   ]
  },
  {
   "cell_type": "code",
   "execution_count": 3,
   "id": "1587c0e8",
   "metadata": {
    "execution": {
     "iopub.execute_input": "2023-10-15T19:37:24.905629Z",
     "iopub.status.busy": "2023-10-15T19:37:24.905003Z",
     "iopub.status.idle": "2023-10-15T19:37:24.937467Z",
     "shell.execute_reply": "2023-10-15T19:37:24.936512Z"
    },
    "papermill": {
     "duration": 0.044414,
     "end_time": "2023-10-15T19:37:24.939351",
     "exception": false,
     "start_time": "2023-10-15T19:37:24.894937",
     "status": "completed"
    },
    "tags": []
   },
   "outputs": [
    {
     "data": {
      "text/html": [
       "<div>\n",
       "<style scoped>\n",
       "    .dataframe tbody tr th:only-of-type {\n",
       "        vertical-align: middle;\n",
       "    }\n",
       "\n",
       "    .dataframe tbody tr th {\n",
       "        vertical-align: top;\n",
       "    }\n",
       "\n",
       "    .dataframe thead th {\n",
       "        text-align: right;\n",
       "    }\n",
       "</style>\n",
       "<table border=\"1\" class=\"dataframe\">\n",
       "  <thead>\n",
       "    <tr style=\"text-align: right;\">\n",
       "      <th></th>\n",
       "      <th>cell_type</th>\n",
       "      <th>sm_name</th>\n",
       "      <th>sm_lincs_id</th>\n",
       "      <th>SMILES</th>\n",
       "      <th>control</th>\n",
       "      <th>A1BG</th>\n",
       "      <th>A1BG-AS1</th>\n",
       "      <th>A2M</th>\n",
       "      <th>A2M-AS1</th>\n",
       "      <th>A2MP1</th>\n",
       "      <th>...</th>\n",
       "      <th>ZUP1</th>\n",
       "      <th>ZW10</th>\n",
       "      <th>ZWILCH</th>\n",
       "      <th>ZWINT</th>\n",
       "      <th>ZXDA</th>\n",
       "      <th>ZXDB</th>\n",
       "      <th>ZXDC</th>\n",
       "      <th>ZYG11B</th>\n",
       "      <th>ZYX</th>\n",
       "      <th>ZZEF1</th>\n",
       "    </tr>\n",
       "  </thead>\n",
       "  <tbody>\n",
       "    <tr>\n",
       "      <th>0</th>\n",
       "      <td>NK cells</td>\n",
       "      <td>Clotrimazole</td>\n",
       "      <td>LSM-5341</td>\n",
       "      <td>Clc1ccccc1C(c1ccccc1)(c1ccccc1)n1ccnc1</td>\n",
       "      <td>False</td>\n",
       "      <td>0.104720</td>\n",
       "      <td>-0.077524</td>\n",
       "      <td>-1.625596</td>\n",
       "      <td>-0.144545</td>\n",
       "      <td>0.143555</td>\n",
       "      <td>...</td>\n",
       "      <td>-0.227781</td>\n",
       "      <td>-0.010752</td>\n",
       "      <td>-0.023881</td>\n",
       "      <td>0.674536</td>\n",
       "      <td>-0.453068</td>\n",
       "      <td>0.005164</td>\n",
       "      <td>-0.094959</td>\n",
       "      <td>0.034127</td>\n",
       "      <td>0.221377</td>\n",
       "      <td>0.368755</td>\n",
       "    </tr>\n",
       "    <tr>\n",
       "      <th>1</th>\n",
       "      <td>T cells CD4+</td>\n",
       "      <td>Clotrimazole</td>\n",
       "      <td>LSM-5341</td>\n",
       "      <td>Clc1ccccc1C(c1ccccc1)(c1ccccc1)n1ccnc1</td>\n",
       "      <td>False</td>\n",
       "      <td>0.915953</td>\n",
       "      <td>-0.884380</td>\n",
       "      <td>0.371834</td>\n",
       "      <td>-0.081677</td>\n",
       "      <td>-0.498266</td>\n",
       "      <td>...</td>\n",
       "      <td>-0.494985</td>\n",
       "      <td>-0.303419</td>\n",
       "      <td>0.304955</td>\n",
       "      <td>-0.333905</td>\n",
       "      <td>-0.315516</td>\n",
       "      <td>-0.369626</td>\n",
       "      <td>-0.095079</td>\n",
       "      <td>0.704780</td>\n",
       "      <td>1.096702</td>\n",
       "      <td>-0.869887</td>\n",
       "    </tr>\n",
       "    <tr>\n",
       "      <th>2</th>\n",
       "      <td>T cells CD8+</td>\n",
       "      <td>Clotrimazole</td>\n",
       "      <td>LSM-5341</td>\n",
       "      <td>Clc1ccccc1C(c1ccccc1)(c1ccccc1)n1ccnc1</td>\n",
       "      <td>False</td>\n",
       "      <td>-0.387721</td>\n",
       "      <td>-0.305378</td>\n",
       "      <td>0.567777</td>\n",
       "      <td>0.303895</td>\n",
       "      <td>-0.022653</td>\n",
       "      <td>...</td>\n",
       "      <td>-0.119422</td>\n",
       "      <td>-0.033608</td>\n",
       "      <td>-0.153123</td>\n",
       "      <td>0.183597</td>\n",
       "      <td>-0.555678</td>\n",
       "      <td>-1.494789</td>\n",
       "      <td>-0.213550</td>\n",
       "      <td>0.415768</td>\n",
       "      <td>0.078439</td>\n",
       "      <td>-0.259365</td>\n",
       "    </tr>\n",
       "    <tr>\n",
       "      <th>3</th>\n",
       "      <td>T regulatory cells</td>\n",
       "      <td>Clotrimazole</td>\n",
       "      <td>LSM-5341</td>\n",
       "      <td>Clc1ccccc1C(c1ccccc1)(c1ccccc1)n1ccnc1</td>\n",
       "      <td>False</td>\n",
       "      <td>0.232893</td>\n",
       "      <td>0.129029</td>\n",
       "      <td>0.336897</td>\n",
       "      <td>0.486946</td>\n",
       "      <td>0.767661</td>\n",
       "      <td>...</td>\n",
       "      <td>0.451679</td>\n",
       "      <td>0.704643</td>\n",
       "      <td>0.015468</td>\n",
       "      <td>-0.103868</td>\n",
       "      <td>0.865027</td>\n",
       "      <td>0.189114</td>\n",
       "      <td>0.224700</td>\n",
       "      <td>-0.048233</td>\n",
       "      <td>0.216139</td>\n",
       "      <td>-0.085024</td>\n",
       "    </tr>\n",
       "    <tr>\n",
       "      <th>4</th>\n",
       "      <td>NK cells</td>\n",
       "      <td>Mometasone Furoate</td>\n",
       "      <td>LSM-3349</td>\n",
       "      <td>C[C@@H]1C[C@H]2[C@@H]3CCC4=CC(=O)C=C[C@]4(C)[C...</td>\n",
       "      <td>False</td>\n",
       "      <td>4.290652</td>\n",
       "      <td>-0.063864</td>\n",
       "      <td>-0.017443</td>\n",
       "      <td>-0.541154</td>\n",
       "      <td>0.570982</td>\n",
       "      <td>...</td>\n",
       "      <td>0.758474</td>\n",
       "      <td>0.510762</td>\n",
       "      <td>0.607401</td>\n",
       "      <td>-0.123059</td>\n",
       "      <td>0.214366</td>\n",
       "      <td>0.487838</td>\n",
       "      <td>-0.819775</td>\n",
       "      <td>0.112365</td>\n",
       "      <td>-0.122193</td>\n",
       "      <td>0.676629</td>\n",
       "    </tr>\n",
       "    <tr>\n",
       "      <th>...</th>\n",
       "      <td>...</td>\n",
       "      <td>...</td>\n",
       "      <td>...</td>\n",
       "      <td>...</td>\n",
       "      <td>...</td>\n",
       "      <td>...</td>\n",
       "      <td>...</td>\n",
       "      <td>...</td>\n",
       "      <td>...</td>\n",
       "      <td>...</td>\n",
       "      <td>...</td>\n",
       "      <td>...</td>\n",
       "      <td>...</td>\n",
       "      <td>...</td>\n",
       "      <td>...</td>\n",
       "      <td>...</td>\n",
       "      <td>...</td>\n",
       "      <td>...</td>\n",
       "      <td>...</td>\n",
       "      <td>...</td>\n",
       "      <td>...</td>\n",
       "    </tr>\n",
       "    <tr>\n",
       "      <th>609</th>\n",
       "      <td>T regulatory cells</td>\n",
       "      <td>Atorvastatin</td>\n",
       "      <td>LSM-5771</td>\n",
       "      <td>CC(C)c1c(C(=O)Nc2ccccc2)c(-c2ccccc2)c(-c2ccc(F...</td>\n",
       "      <td>False</td>\n",
       "      <td>-0.014372</td>\n",
       "      <td>-0.122464</td>\n",
       "      <td>-0.456366</td>\n",
       "      <td>-0.147894</td>\n",
       "      <td>-0.545382</td>\n",
       "      <td>...</td>\n",
       "      <td>-0.549987</td>\n",
       "      <td>-2.200925</td>\n",
       "      <td>0.359806</td>\n",
       "      <td>1.073983</td>\n",
       "      <td>0.356939</td>\n",
       "      <td>-0.029603</td>\n",
       "      <td>-0.528817</td>\n",
       "      <td>0.105138</td>\n",
       "      <td>0.491015</td>\n",
       "      <td>-0.979951</td>\n",
       "    </tr>\n",
       "    <tr>\n",
       "      <th>610</th>\n",
       "      <td>NK cells</td>\n",
       "      <td>Riociguat</td>\n",
       "      <td>LSM-45758</td>\n",
       "      <td>COC(=O)N(C)c1c(N)nc(-c2nn(Cc3ccccc3F)c3ncccc23...</td>\n",
       "      <td>False</td>\n",
       "      <td>-0.455549</td>\n",
       "      <td>0.188181</td>\n",
       "      <td>0.595734</td>\n",
       "      <td>-0.100299</td>\n",
       "      <td>0.786192</td>\n",
       "      <td>...</td>\n",
       "      <td>-1.236905</td>\n",
       "      <td>0.003854</td>\n",
       "      <td>-0.197569</td>\n",
       "      <td>-0.175307</td>\n",
       "      <td>0.101391</td>\n",
       "      <td>1.028394</td>\n",
       "      <td>0.034144</td>\n",
       "      <td>-0.231642</td>\n",
       "      <td>1.023994</td>\n",
       "      <td>-0.064760</td>\n",
       "    </tr>\n",
       "    <tr>\n",
       "      <th>611</th>\n",
       "      <td>T cells CD4+</td>\n",
       "      <td>Riociguat</td>\n",
       "      <td>LSM-45758</td>\n",
       "      <td>COC(=O)N(C)c1c(N)nc(-c2nn(Cc3ccccc3F)c3ncccc23...</td>\n",
       "      <td>False</td>\n",
       "      <td>0.338168</td>\n",
       "      <td>-0.109079</td>\n",
       "      <td>0.270182</td>\n",
       "      <td>-0.436586</td>\n",
       "      <td>-0.069476</td>\n",
       "      <td>...</td>\n",
       "      <td>0.077579</td>\n",
       "      <td>-1.101637</td>\n",
       "      <td>0.457201</td>\n",
       "      <td>0.535184</td>\n",
       "      <td>-0.198404</td>\n",
       "      <td>-0.005004</td>\n",
       "      <td>0.552810</td>\n",
       "      <td>-0.209077</td>\n",
       "      <td>0.389751</td>\n",
       "      <td>-0.337082</td>\n",
       "    </tr>\n",
       "    <tr>\n",
       "      <th>612</th>\n",
       "      <td>T cells CD8+</td>\n",
       "      <td>Riociguat</td>\n",
       "      <td>LSM-45758</td>\n",
       "      <td>COC(=O)N(C)c1c(N)nc(-c2nn(Cc3ccccc3F)c3ncccc23...</td>\n",
       "      <td>False</td>\n",
       "      <td>0.101138</td>\n",
       "      <td>-0.409724</td>\n",
       "      <td>-0.606292</td>\n",
       "      <td>-0.071300</td>\n",
       "      <td>-0.001789</td>\n",
       "      <td>...</td>\n",
       "      <td>0.005951</td>\n",
       "      <td>-0.893093</td>\n",
       "      <td>-1.003029</td>\n",
       "      <td>-0.080367</td>\n",
       "      <td>-0.076604</td>\n",
       "      <td>0.024849</td>\n",
       "      <td>0.012862</td>\n",
       "      <td>-0.029684</td>\n",
       "      <td>0.005506</td>\n",
       "      <td>-1.733112</td>\n",
       "    </tr>\n",
       "    <tr>\n",
       "      <th>613</th>\n",
       "      <td>T regulatory cells</td>\n",
       "      <td>Riociguat</td>\n",
       "      <td>LSM-45758</td>\n",
       "      <td>COC(=O)N(C)c1c(N)nc(-c2nn(Cc3ccccc3F)c3ncccc23...</td>\n",
       "      <td>False</td>\n",
       "      <td>-0.757116</td>\n",
       "      <td>0.085910</td>\n",
       "      <td>-0.730025</td>\n",
       "      <td>-1.367801</td>\n",
       "      <td>-0.695944</td>\n",
       "      <td>...</td>\n",
       "      <td>0.232343</td>\n",
       "      <td>-2.247816</td>\n",
       "      <td>-0.346036</td>\n",
       "      <td>-0.919567</td>\n",
       "      <td>-1.131372</td>\n",
       "      <td>-0.120252</td>\n",
       "      <td>-0.064537</td>\n",
       "      <td>-0.603280</td>\n",
       "      <td>-0.098041</td>\n",
       "      <td>-0.750681</td>\n",
       "    </tr>\n",
       "  </tbody>\n",
       "</table>\n",
       "<p>614 rows × 18216 columns</p>\n",
       "</div>"
      ],
      "text/plain": [
       "              cell_type             sm_name sm_lincs_id  \\\n",
       "0              NK cells        Clotrimazole    LSM-5341   \n",
       "1          T cells CD4+        Clotrimazole    LSM-5341   \n",
       "2          T cells CD8+        Clotrimazole    LSM-5341   \n",
       "3    T regulatory cells        Clotrimazole    LSM-5341   \n",
       "4              NK cells  Mometasone Furoate    LSM-3349   \n",
       "..                  ...                 ...         ...   \n",
       "609  T regulatory cells        Atorvastatin    LSM-5771   \n",
       "610            NK cells           Riociguat   LSM-45758   \n",
       "611        T cells CD4+           Riociguat   LSM-45758   \n",
       "612        T cells CD8+           Riociguat   LSM-45758   \n",
       "613  T regulatory cells           Riociguat   LSM-45758   \n",
       "\n",
       "                                                SMILES  control      A1BG  \\\n",
       "0               Clc1ccccc1C(c1ccccc1)(c1ccccc1)n1ccnc1    False  0.104720   \n",
       "1               Clc1ccccc1C(c1ccccc1)(c1ccccc1)n1ccnc1    False  0.915953   \n",
       "2               Clc1ccccc1C(c1ccccc1)(c1ccccc1)n1ccnc1    False -0.387721   \n",
       "3               Clc1ccccc1C(c1ccccc1)(c1ccccc1)n1ccnc1    False  0.232893   \n",
       "4    C[C@@H]1C[C@H]2[C@@H]3CCC4=CC(=O)C=C[C@]4(C)[C...    False  4.290652   \n",
       "..                                                 ...      ...       ...   \n",
       "609  CC(C)c1c(C(=O)Nc2ccccc2)c(-c2ccccc2)c(-c2ccc(F...    False -0.014372   \n",
       "610  COC(=O)N(C)c1c(N)nc(-c2nn(Cc3ccccc3F)c3ncccc23...    False -0.455549   \n",
       "611  COC(=O)N(C)c1c(N)nc(-c2nn(Cc3ccccc3F)c3ncccc23...    False  0.338168   \n",
       "612  COC(=O)N(C)c1c(N)nc(-c2nn(Cc3ccccc3F)c3ncccc23...    False  0.101138   \n",
       "613  COC(=O)N(C)c1c(N)nc(-c2nn(Cc3ccccc3F)c3ncccc23...    False -0.757116   \n",
       "\n",
       "     A1BG-AS1       A2M   A2M-AS1     A2MP1  ...      ZUP1      ZW10  \\\n",
       "0   -0.077524 -1.625596 -0.144545  0.143555  ... -0.227781 -0.010752   \n",
       "1   -0.884380  0.371834 -0.081677 -0.498266  ... -0.494985 -0.303419   \n",
       "2   -0.305378  0.567777  0.303895 -0.022653  ... -0.119422 -0.033608   \n",
       "3    0.129029  0.336897  0.486946  0.767661  ...  0.451679  0.704643   \n",
       "4   -0.063864 -0.017443 -0.541154  0.570982  ...  0.758474  0.510762   \n",
       "..        ...       ...       ...       ...  ...       ...       ...   \n",
       "609 -0.122464 -0.456366 -0.147894 -0.545382  ... -0.549987 -2.200925   \n",
       "610  0.188181  0.595734 -0.100299  0.786192  ... -1.236905  0.003854   \n",
       "611 -0.109079  0.270182 -0.436586 -0.069476  ...  0.077579 -1.101637   \n",
       "612 -0.409724 -0.606292 -0.071300 -0.001789  ...  0.005951 -0.893093   \n",
       "613  0.085910 -0.730025 -1.367801 -0.695944  ...  0.232343 -2.247816   \n",
       "\n",
       "       ZWILCH     ZWINT      ZXDA      ZXDB      ZXDC    ZYG11B       ZYX  \\\n",
       "0   -0.023881  0.674536 -0.453068  0.005164 -0.094959  0.034127  0.221377   \n",
       "1    0.304955 -0.333905 -0.315516 -0.369626 -0.095079  0.704780  1.096702   \n",
       "2   -0.153123  0.183597 -0.555678 -1.494789 -0.213550  0.415768  0.078439   \n",
       "3    0.015468 -0.103868  0.865027  0.189114  0.224700 -0.048233  0.216139   \n",
       "4    0.607401 -0.123059  0.214366  0.487838 -0.819775  0.112365 -0.122193   \n",
       "..        ...       ...       ...       ...       ...       ...       ...   \n",
       "609  0.359806  1.073983  0.356939 -0.029603 -0.528817  0.105138  0.491015   \n",
       "610 -0.197569 -0.175307  0.101391  1.028394  0.034144 -0.231642  1.023994   \n",
       "611  0.457201  0.535184 -0.198404 -0.005004  0.552810 -0.209077  0.389751   \n",
       "612 -1.003029 -0.080367 -0.076604  0.024849  0.012862 -0.029684  0.005506   \n",
       "613 -0.346036 -0.919567 -1.131372 -0.120252 -0.064537 -0.603280 -0.098041   \n",
       "\n",
       "        ZZEF1  \n",
       "0    0.368755  \n",
       "1   -0.869887  \n",
       "2   -0.259365  \n",
       "3   -0.085024  \n",
       "4    0.676629  \n",
       "..        ...  \n",
       "609 -0.979951  \n",
       "610 -0.064760  \n",
       "611 -0.337082  \n",
       "612 -1.733112  \n",
       "613 -0.750681  \n",
       "\n",
       "[614 rows x 18216 columns]"
      ]
     },
     "execution_count": 3,
     "metadata": {},
     "output_type": "execute_result"
    }
   ],
   "source": [
    "de_train"
   ]
  },
  {
   "cell_type": "code",
   "execution_count": 4,
   "id": "3b5fe33c",
   "metadata": {
    "execution": {
     "iopub.execute_input": "2023-10-15T19:37:24.961072Z",
     "iopub.status.busy": "2023-10-15T19:37:24.960781Z",
     "iopub.status.idle": "2023-10-15T19:37:24.969101Z",
     "shell.execute_reply": "2023-10-15T19:37:24.968046Z"
    },
    "papermill": {
     "duration": 0.021726,
     "end_time": "2023-10-15T19:37:24.971211",
     "exception": false,
     "start_time": "2023-10-15T19:37:24.949485",
     "status": "completed"
    },
    "tags": []
   },
   "outputs": [
    {
     "data": {
      "text/html": [
       "<div>\n",
       "<style scoped>\n",
       "    .dataframe tbody tr th:only-of-type {\n",
       "        vertical-align: middle;\n",
       "    }\n",
       "\n",
       "    .dataframe tbody tr th {\n",
       "        vertical-align: top;\n",
       "    }\n",
       "\n",
       "    .dataframe thead th {\n",
       "        text-align: right;\n",
       "    }\n",
       "</style>\n",
       "<table border=\"1\" class=\"dataframe\">\n",
       "  <thead>\n",
       "    <tr style=\"text-align: right;\">\n",
       "      <th></th>\n",
       "      <th>id</th>\n",
       "      <th>cell_type</th>\n",
       "      <th>sm_name</th>\n",
       "    </tr>\n",
       "  </thead>\n",
       "  <tbody>\n",
       "    <tr>\n",
       "      <th>0</th>\n",
       "      <td>0</td>\n",
       "      <td>B cells</td>\n",
       "      <td>5-(9-Isopropyl-8-methyl-2-morpholino-9H-purin-...</td>\n",
       "    </tr>\n",
       "    <tr>\n",
       "      <th>1</th>\n",
       "      <td>1</td>\n",
       "      <td>B cells</td>\n",
       "      <td>ABT-199 (GDC-0199)</td>\n",
       "    </tr>\n",
       "    <tr>\n",
       "      <th>2</th>\n",
       "      <td>2</td>\n",
       "      <td>B cells</td>\n",
       "      <td>ABT737</td>\n",
       "    </tr>\n",
       "    <tr>\n",
       "      <th>3</th>\n",
       "      <td>3</td>\n",
       "      <td>B cells</td>\n",
       "      <td>AMD-070 (hydrochloride)</td>\n",
       "    </tr>\n",
       "    <tr>\n",
       "      <th>4</th>\n",
       "      <td>4</td>\n",
       "      <td>B cells</td>\n",
       "      <td>AT 7867</td>\n",
       "    </tr>\n",
       "  </tbody>\n",
       "</table>\n",
       "</div>"
      ],
      "text/plain": [
       "   id cell_type                                            sm_name\n",
       "0   0   B cells  5-(9-Isopropyl-8-methyl-2-morpholino-9H-purin-...\n",
       "1   1   B cells                                 ABT-199 (GDC-0199)\n",
       "2   2   B cells                                             ABT737\n",
       "3   3   B cells                            AMD-070 (hydrochloride)\n",
       "4   4   B cells                                            AT 7867"
      ]
     },
     "execution_count": 4,
     "metadata": {},
     "output_type": "execute_result"
    }
   ],
   "source": [
    "id_map.head()"
   ]
  },
  {
   "cell_type": "code",
   "execution_count": 5,
   "id": "6d77826b",
   "metadata": {
    "execution": {
     "iopub.execute_input": "2023-10-15T19:37:24.993729Z",
     "iopub.status.busy": "2023-10-15T19:37:24.993442Z",
     "iopub.status.idle": "2023-10-15T19:37:25.019250Z",
     "shell.execute_reply": "2023-10-15T19:37:25.018254Z"
    },
    "papermill": {
     "duration": 0.038978,
     "end_time": "2023-10-15T19:37:25.021115",
     "exception": false,
     "start_time": "2023-10-15T19:37:24.982137",
     "status": "completed"
    },
    "tags": []
   },
   "outputs": [
    {
     "data": {
      "text/html": [
       "<div>\n",
       "<style scoped>\n",
       "    .dataframe tbody tr th:only-of-type {\n",
       "        vertical-align: middle;\n",
       "    }\n",
       "\n",
       "    .dataframe tbody tr th {\n",
       "        vertical-align: top;\n",
       "    }\n",
       "\n",
       "    .dataframe thead th {\n",
       "        text-align: right;\n",
       "    }\n",
       "</style>\n",
       "<table border=\"1\" class=\"dataframe\">\n",
       "  <thead>\n",
       "    <tr style=\"text-align: right;\">\n",
       "      <th></th>\n",
       "      <th>id</th>\n",
       "      <th>A1BG</th>\n",
       "      <th>A1BG-AS1</th>\n",
       "      <th>A2M</th>\n",
       "      <th>A2M-AS1</th>\n",
       "      <th>A2MP1</th>\n",
       "      <th>A4GALT</th>\n",
       "      <th>AAAS</th>\n",
       "      <th>AACS</th>\n",
       "      <th>AAGAB</th>\n",
       "      <th>...</th>\n",
       "      <th>ZUP1</th>\n",
       "      <th>ZW10</th>\n",
       "      <th>ZWILCH</th>\n",
       "      <th>ZWINT</th>\n",
       "      <th>ZXDA</th>\n",
       "      <th>ZXDB</th>\n",
       "      <th>ZXDC</th>\n",
       "      <th>ZYG11B</th>\n",
       "      <th>ZYX</th>\n",
       "      <th>ZZEF1</th>\n",
       "    </tr>\n",
       "  </thead>\n",
       "  <tbody>\n",
       "    <tr>\n",
       "      <th>0</th>\n",
       "      <td>0</td>\n",
       "      <td>0.0</td>\n",
       "      <td>0.0</td>\n",
       "      <td>0.0</td>\n",
       "      <td>0.0</td>\n",
       "      <td>0.0</td>\n",
       "      <td>0.0</td>\n",
       "      <td>0.0</td>\n",
       "      <td>0.0</td>\n",
       "      <td>0.0</td>\n",
       "      <td>...</td>\n",
       "      <td>0.0</td>\n",
       "      <td>0.0</td>\n",
       "      <td>0.0</td>\n",
       "      <td>0.0</td>\n",
       "      <td>0.0</td>\n",
       "      <td>0.0</td>\n",
       "      <td>0.0</td>\n",
       "      <td>0.0</td>\n",
       "      <td>0.0</td>\n",
       "      <td>0.0</td>\n",
       "    </tr>\n",
       "    <tr>\n",
       "      <th>1</th>\n",
       "      <td>1</td>\n",
       "      <td>0.0</td>\n",
       "      <td>0.0</td>\n",
       "      <td>0.0</td>\n",
       "      <td>0.0</td>\n",
       "      <td>0.0</td>\n",
       "      <td>0.0</td>\n",
       "      <td>0.0</td>\n",
       "      <td>0.0</td>\n",
       "      <td>0.0</td>\n",
       "      <td>...</td>\n",
       "      <td>0.0</td>\n",
       "      <td>0.0</td>\n",
       "      <td>0.0</td>\n",
       "      <td>0.0</td>\n",
       "      <td>0.0</td>\n",
       "      <td>0.0</td>\n",
       "      <td>0.0</td>\n",
       "      <td>0.0</td>\n",
       "      <td>0.0</td>\n",
       "      <td>0.0</td>\n",
       "    </tr>\n",
       "    <tr>\n",
       "      <th>2</th>\n",
       "      <td>2</td>\n",
       "      <td>0.0</td>\n",
       "      <td>0.0</td>\n",
       "      <td>0.0</td>\n",
       "      <td>0.0</td>\n",
       "      <td>0.0</td>\n",
       "      <td>0.0</td>\n",
       "      <td>0.0</td>\n",
       "      <td>0.0</td>\n",
       "      <td>0.0</td>\n",
       "      <td>...</td>\n",
       "      <td>0.0</td>\n",
       "      <td>0.0</td>\n",
       "      <td>0.0</td>\n",
       "      <td>0.0</td>\n",
       "      <td>0.0</td>\n",
       "      <td>0.0</td>\n",
       "      <td>0.0</td>\n",
       "      <td>0.0</td>\n",
       "      <td>0.0</td>\n",
       "      <td>0.0</td>\n",
       "    </tr>\n",
       "    <tr>\n",
       "      <th>3</th>\n",
       "      <td>3</td>\n",
       "      <td>0.0</td>\n",
       "      <td>0.0</td>\n",
       "      <td>0.0</td>\n",
       "      <td>0.0</td>\n",
       "      <td>0.0</td>\n",
       "      <td>0.0</td>\n",
       "      <td>0.0</td>\n",
       "      <td>0.0</td>\n",
       "      <td>0.0</td>\n",
       "      <td>...</td>\n",
       "      <td>0.0</td>\n",
       "      <td>0.0</td>\n",
       "      <td>0.0</td>\n",
       "      <td>0.0</td>\n",
       "      <td>0.0</td>\n",
       "      <td>0.0</td>\n",
       "      <td>0.0</td>\n",
       "      <td>0.0</td>\n",
       "      <td>0.0</td>\n",
       "      <td>0.0</td>\n",
       "    </tr>\n",
       "    <tr>\n",
       "      <th>4</th>\n",
       "      <td>4</td>\n",
       "      <td>0.0</td>\n",
       "      <td>0.0</td>\n",
       "      <td>0.0</td>\n",
       "      <td>0.0</td>\n",
       "      <td>0.0</td>\n",
       "      <td>0.0</td>\n",
       "      <td>0.0</td>\n",
       "      <td>0.0</td>\n",
       "      <td>0.0</td>\n",
       "      <td>...</td>\n",
       "      <td>0.0</td>\n",
       "      <td>0.0</td>\n",
       "      <td>0.0</td>\n",
       "      <td>0.0</td>\n",
       "      <td>0.0</td>\n",
       "      <td>0.0</td>\n",
       "      <td>0.0</td>\n",
       "      <td>0.0</td>\n",
       "      <td>0.0</td>\n",
       "      <td>0.0</td>\n",
       "    </tr>\n",
       "  </tbody>\n",
       "</table>\n",
       "<p>5 rows × 18212 columns</p>\n",
       "</div>"
      ],
      "text/plain": [
       "   id  A1BG  A1BG-AS1  A2M  A2M-AS1  A2MP1  A4GALT  AAAS  AACS  AAGAB  ...  \\\n",
       "0   0   0.0       0.0  0.0      0.0    0.0     0.0   0.0   0.0    0.0  ...   \n",
       "1   1   0.0       0.0  0.0      0.0    0.0     0.0   0.0   0.0    0.0  ...   \n",
       "2   2   0.0       0.0  0.0      0.0    0.0     0.0   0.0   0.0    0.0  ...   \n",
       "3   3   0.0       0.0  0.0      0.0    0.0     0.0   0.0   0.0    0.0  ...   \n",
       "4   4   0.0       0.0  0.0      0.0    0.0     0.0   0.0   0.0    0.0  ...   \n",
       "\n",
       "   ZUP1  ZW10  ZWILCH  ZWINT  ZXDA  ZXDB  ZXDC  ZYG11B  ZYX  ZZEF1  \n",
       "0   0.0   0.0     0.0    0.0   0.0   0.0   0.0     0.0  0.0    0.0  \n",
       "1   0.0   0.0     0.0    0.0   0.0   0.0   0.0     0.0  0.0    0.0  \n",
       "2   0.0   0.0     0.0    0.0   0.0   0.0   0.0     0.0  0.0    0.0  \n",
       "3   0.0   0.0     0.0    0.0   0.0   0.0   0.0     0.0  0.0    0.0  \n",
       "4   0.0   0.0     0.0    0.0   0.0   0.0   0.0     0.0  0.0    0.0  \n",
       "\n",
       "[5 rows x 18212 columns]"
      ]
     },
     "execution_count": 5,
     "metadata": {},
     "output_type": "execute_result"
    }
   ],
   "source": [
    "sample_submission.head()"
   ]
  },
  {
   "cell_type": "code",
   "execution_count": 6,
   "id": "83f4aa76",
   "metadata": {
    "execution": {
     "iopub.execute_input": "2023-10-15T19:37:25.042099Z",
     "iopub.status.busy": "2023-10-15T19:37:25.041861Z",
     "iopub.status.idle": "2023-10-15T19:37:25.072369Z",
     "shell.execute_reply": "2023-10-15T19:37:25.071522Z"
    },
    "papermill": {
     "duration": 0.042345,
     "end_time": "2023-10-15T19:37:25.074059",
     "exception": false,
     "start_time": "2023-10-15T19:37:25.031714",
     "status": "completed"
    },
    "tags": []
   },
   "outputs": [
    {
     "data": {
      "text/plain": [
       "cell_type      0\n",
       "sm_name        0\n",
       "sm_lincs_id    0\n",
       "SMILES         0\n",
       "control        0\n",
       "              ..\n",
       "ZXDB           0\n",
       "ZXDC           0\n",
       "ZYG11B         0\n",
       "ZYX            0\n",
       "ZZEF1          0\n",
       "Length: 18216, dtype: int64"
      ]
     },
     "execution_count": 6,
     "metadata": {},
     "output_type": "execute_result"
    }
   ],
   "source": [
    "de_train.isnull().sum()"
   ]
  },
  {
   "cell_type": "code",
   "execution_count": 7,
   "id": "e59c4bda",
   "metadata": {
    "execution": {
     "iopub.execute_input": "2023-10-15T19:37:25.094600Z",
     "iopub.status.busy": "2023-10-15T19:37:25.094112Z",
     "iopub.status.idle": "2023-10-15T19:37:25.102417Z",
     "shell.execute_reply": "2023-10-15T19:37:25.101527Z"
    },
    "papermill": {
     "duration": 0.020208,
     "end_time": "2023-10-15T19:37:25.104045",
     "exception": false,
     "start_time": "2023-10-15T19:37:25.083837",
     "status": "completed"
    },
    "tags": []
   },
   "outputs": [
    {
     "name": "stdout",
     "output_type": "stream",
     "text": [
      "{146}\n"
     ]
    },
    {
     "data": {
      "text/plain": [
       "(array(['Clotrimazole', 'Mometasone Furoate', 'Idelalisib', 'Vandetanib',\n",
       "        'Bosutinib', 'Ceritinib', 'Lamivudine', 'Crizotinib',\n",
       "        'Cabozantinib', 'Flutamide', 'Dasatinib', 'Selumetinib',\n",
       "        'Trametinib', 'ABT-199 (GDC-0199)', 'Oxybenzone', 'Vorinostat',\n",
       "        'Raloxifene', 'Linagliptin', 'Lapatinib', 'Canertinib',\n",
       "        'Disulfiram', 'Vardenafil', 'Palbociclib', 'Ricolinostat',\n",
       "        'Dabrafenib', 'Proscillaridin A;Proscillaridin-A', 'IN1451',\n",
       "        'Ixabepilone', 'CEP-18770 (Delanzomib)', 'RG7112', 'MK-5108',\n",
       "        'Resminostat', 'IMD-0354', 'Alvocidib', 'LY2090314',\n",
       "        'Methotrexate', 'LDN 193189', 'Tacalcitol', 'Colchicine', 'R428',\n",
       "        'TL_HRAS26', 'BMS-387032', 'CGP 60474', 'TIE2 Kinase Inhibitor',\n",
       "        'PD-0325901', 'Isoniazid', 'GSK-1070916', 'Masitinib',\n",
       "        'Saracatinib', 'CC-401', 'Decitabine', 'Ketoconazole',\n",
       "        'HYDROXYUREA', 'BAY 61-3606', 'Navitoclax', 'Porcn Inhibitor III',\n",
       "        'GW843682X', 'Prednisolone', 'Tamatinib', 'Tosedostat',\n",
       "        'GSK256066', 'MGCD-265', 'AZD-8330', 'RN-486', 'Amiodarone',\n",
       "        'Belinostat', 'RVX-208', 'GO-6976', 'Scriptaid', 'HMN-214',\n",
       "        'SB525334', 'AVL-292', 'BMS-777607', 'AZD4547', 'Foretinib',\n",
       "        'Tivozanib', 'Quizartinib', 'IKK Inhibitor VII', 'UNII-BXU45ZH6LI',\n",
       "        'Chlorpheniramine', 'Tivantinib', 'CEP-37440', 'TPCA-1', 'AZ628',\n",
       "        'OSI-930', 'AZD3514', 'Vanoxerine', 'PF-03814735', 'MLN 2238',\n",
       "        'Dovitinib', 'K-02288', 'Midostaurin', 'I-BET151', 'STK219801',\n",
       "        'PRT-062607', 'AT 7867', 'Sunitinib', 'Penfluridol', 'BMS-536924',\n",
       "        'Perhexiline', 'BI-D1870', 'FK 866', 'Mubritinib (TAK 165)',\n",
       "        'Doxorubicin', 'Pomalidomide', 'Colforsin', 'Phenylbutazone',\n",
       "        'Protriptyline', 'Buspirone', 'Clomipramine', 'Alogliptin',\n",
       "        'Nefazodone', 'ABT737', 'Dactolisib', 'Nilotinib', 'Defactinib',\n",
       "        'PF-04691502', 'GLPG0634', 'Sgc-cbp30', 'BX 912', 'SCH-58261',\n",
       "        'Ruxolitinib', 'BAY 87-2243', 'O-Demethylated Adapalene',\n",
       "        'YK 4-279', 'Ganetespib (STA-9090)', 'SLx-2119',\n",
       "        'Oprozomib (ONX 0912)', 'Desloratadine', 'Pitavastatin Calcium',\n",
       "        'TR-14035', 'AT13387', 'CHIR-99021', 'RG7090',\n",
       "        'AMD-070 (hydrochloride)', 'BMS-265246', 'Tipifarnib', 'Imatinib',\n",
       "        'Topotecan', 'Clemastine',\n",
       "        '5-(9-Isopropyl-8-methyl-2-morpholino-9H-purin-6-yl)pyrimidin-2-amine',\n",
       "        'CGM-097', 'TGX 221', 'Azacitidine', 'Atorvastatin', 'Riociguat'],\n",
       "       dtype=object),\n",
       " None)"
      ]
     },
     "execution_count": 7,
     "metadata": {},
     "output_type": "execute_result"
    }
   ],
   "source": [
    "unique = de_train['sm_name'].unique()\n",
    "unique, print({len(unique)})"
   ]
  },
  {
   "cell_type": "code",
   "execution_count": 8,
   "id": "70f1f8d7",
   "metadata": {
    "execution": {
     "iopub.execute_input": "2023-10-15T19:37:25.125016Z",
     "iopub.status.busy": "2023-10-15T19:37:25.124275Z",
     "iopub.status.idle": "2023-10-15T19:37:25.130002Z",
     "shell.execute_reply": "2023-10-15T19:37:25.129166Z"
    },
    "papermill": {
     "duration": 0.017833,
     "end_time": "2023-10-15T19:37:25.131665",
     "exception": false,
     "start_time": "2023-10-15T19:37:25.113832",
     "status": "completed"
    },
    "tags": []
   },
   "outputs": [
    {
     "data": {
      "text/plain": [
       "array(['NK cells', 'T cells CD4+', 'T cells CD8+', 'T regulatory cells',\n",
       "       'B cells', 'Myeloid cells'], dtype=object)"
      ]
     },
     "execution_count": 8,
     "metadata": {},
     "output_type": "execute_result"
    }
   ],
   "source": [
    "de_train['cell_type'].unique()"
   ]
  },
  {
   "cell_type": "code",
   "execution_count": 9,
   "id": "39e3e120",
   "metadata": {
    "execution": {
     "iopub.execute_input": "2023-10-15T19:37:25.152284Z",
     "iopub.status.busy": "2023-10-15T19:37:25.151723Z",
     "iopub.status.idle": "2023-10-15T19:37:25.167904Z",
     "shell.execute_reply": "2023-10-15T19:37:25.167028Z"
    },
    "papermill": {
     "duration": 0.028711,
     "end_time": "2023-10-15T19:37:25.170070",
     "exception": false,
     "start_time": "2023-10-15T19:37:25.141359",
     "status": "completed"
    },
    "tags": []
   },
   "outputs": [
    {
     "data": {
      "text/plain": [
       "<bound method DataFrame.count of               cell_type     sm_name sm_lincs_id  \\\n",
       "104             B cells  Dabrafenib    LSM-6303   \n",
       "105       Myeloid cells  Dabrafenib    LSM-6303   \n",
       "106            NK cells  Dabrafenib    LSM-6303   \n",
       "107        T cells CD4+  Dabrafenib    LSM-6303   \n",
       "108        T cells CD8+  Dabrafenib    LSM-6303   \n",
       "109  T regulatory cells  Dabrafenib    LSM-6303   \n",
       "275             B cells  Belinostat   LSM-43181   \n",
       "276       Myeloid cells  Belinostat   LSM-43181   \n",
       "277            NK cells  Belinostat   LSM-43181   \n",
       "278        T cells CD4+  Belinostat   LSM-43181   \n",
       "279        T cells CD8+  Belinostat   LSM-43181   \n",
       "280  T regulatory cells  Belinostat   LSM-43181   \n",
       "\n",
       "                                                SMILES  control       A1BG  \\\n",
       "104  CC(C)(C)c1nc(-c2cccc(NS(=O)(=O)c3c(F)cccc3F)c2...     True   0.942197   \n",
       "105  CC(C)(C)c1nc(-c2cccc(NS(=O)(=O)c3c(F)cccc3F)c2...     True   0.254567   \n",
       "106  CC(C)(C)c1nc(-c2cccc(NS(=O)(=O)c3c(F)cccc3F)c2...     True  -0.161665   \n",
       "107  CC(C)(C)c1nc(-c2cccc(NS(=O)(=O)c3c(F)cccc3F)c2...     True   0.000443   \n",
       "108  CC(C)(C)c1nc(-c2cccc(NS(=O)(=O)c3c(F)cccc3F)c2...     True   0.103281   \n",
       "109  CC(C)(C)c1nc(-c2cccc(NS(=O)(=O)c3c(F)cccc3F)c2...     True   0.679796   \n",
       "275           O=C(/C=C/c1cccc(S(=O)(=O)Nc2ccccc2)c1)NO     True   2.225073   \n",
       "276           O=C(/C=C/c1cccc(S(=O)(=O)Nc2ccccc2)c1)NO     True   3.519499   \n",
       "277           O=C(/C=C/c1cccc(S(=O)(=O)Nc2ccccc2)c1)NO     True   1.181036   \n",
       "278           O=C(/C=C/c1cccc(S(=O)(=O)Nc2ccccc2)c1)NO     True   0.858771   \n",
       "279           O=C(/C=C/c1cccc(S(=O)(=O)Nc2ccccc2)c1)NO     True  -1.654045   \n",
       "280           O=C(/C=C/c1cccc(S(=O)(=O)Nc2ccccc2)c1)NO     True  22.085428   \n",
       "\n",
       "      A1BG-AS1        A2M    A2M-AS1      A2MP1  ...       ZUP1       ZW10  \\\n",
       "104   0.539713  -0.417087   0.391397   2.049071  ...  -0.094318  -0.043478   \n",
       "105   0.244074 -28.552191  -0.377238  -0.731186  ...   1.771915  -0.085585   \n",
       "106   0.269009  -1.770091  -0.198444   0.954753  ...   0.131425  -1.112697   \n",
       "107   0.750020  -0.151077  -2.733638  -1.073863  ...  -1.032259  -0.571065   \n",
       "108  -0.281974  -0.187118   0.535779   1.201660  ...  -0.288675  -0.156537   \n",
       "109   0.457679   2.576746   2.151973   2.649578  ...  -1.295633   1.393517   \n",
       "275   0.564347  -0.437639  -0.415907   0.307772  ...  10.803264   3.292811   \n",
       "276   6.284255 -24.687990   0.004540  15.109208  ...   0.635599   0.210030   \n",
       "277   3.652341  -7.026508 -17.801989  -0.656651  ...   4.361655   0.558856   \n",
       "278   3.672879  -3.525978 -13.130322  -2.264816  ...   4.859433   4.253850   \n",
       "279  -0.586952  -0.776387   0.844867  -2.313306  ...   1.683870   0.687546   \n",
       "280  14.421991  27.557166  27.603715  35.278040  ...   3.410146  15.959706   \n",
       "\n",
       "        ZWILCH      ZWINT       ZXDA       ZXDB       ZXDC    ZYG11B  \\\n",
       "104  -0.269027   0.484859   0.905045   0.277953   1.126481  0.432023   \n",
       "105   0.010659  -1.890484   1.062484  -0.136040  -0.224016 -1.890099   \n",
       "106  -0.589313  -0.660929   0.016530   0.319136   0.299521 -0.383452   \n",
       "107   0.346539  -0.338557   0.549544  -0.607941  -0.130692 -0.059547   \n",
       "108  -0.555925  -0.564582   0.735246  -0.641172   0.272963 -0.482503   \n",
       "109   0.098008   0.523280   0.871999   2.195867   1.880501  0.489364   \n",
       "275  -0.051246   0.247855  -1.651776  -1.788311  -0.418805  3.396236   \n",
       "276 -21.273505   1.190610  -0.486464  -1.040062  -8.310726  0.612581   \n",
       "277  -0.809408   0.265743  -0.056795  -0.019083  -0.140576  3.909364   \n",
       "278   0.628184   0.332405  -6.780020  -2.497143  -0.868885  3.692675   \n",
       "279  -0.817418  -0.340659  -1.568735  -1.322291   0.231650  1.249664   \n",
       "280  10.649018  17.231287  23.721492  23.089832  10.844942  4.822008   \n",
       "\n",
       "          ZYX     ZZEF1  \n",
       "104 -2.508760 -0.354758  \n",
       "105 -3.105304 -1.155821  \n",
       "106  0.267828 -1.100267  \n",
       "107 -0.169427 -1.992270  \n",
       "108 -0.498744 -0.097232  \n",
       "109 -0.388891 -0.617592  \n",
       "275 -0.567121  0.501423  \n",
       "276  7.826692 -0.917186  \n",
       "277 -1.252862 -1.467913  \n",
       "278  0.128906 -0.583605  \n",
       "279  0.373853  1.635430  \n",
       "280  3.067047  2.149157  \n",
       "\n",
       "[12 rows x 18216 columns]>"
      ]
     },
     "execution_count": 9,
     "metadata": {},
     "output_type": "execute_result"
    }
   ],
   "source": [
    "de_train[de_train[\"control\"] == True].count  "
   ]
  },
  {
   "cell_type": "code",
   "execution_count": 10,
   "id": "cea61f2d",
   "metadata": {
    "execution": {
     "iopub.execute_input": "2023-10-15T19:37:25.192780Z",
     "iopub.status.busy": "2023-10-15T19:37:25.192420Z",
     "iopub.status.idle": "2023-10-15T19:37:25.236031Z",
     "shell.execute_reply": "2023-10-15T19:37:25.235034Z"
    },
    "papermill": {
     "duration": 0.055862,
     "end_time": "2023-10-15T19:37:25.237753",
     "exception": false,
     "start_time": "2023-10-15T19:37:25.181891",
     "status": "completed"
    },
    "tags": []
   },
   "outputs": [],
   "source": [
    "# shuffle the data\n",
    "de_train = de_train.sample(frac=1.0, random_state=42)"
   ]
  },
  {
   "cell_type": "code",
   "execution_count": 11,
   "id": "4127bdbe",
   "metadata": {
    "execution": {
     "iopub.execute_input": "2023-10-15T19:37:25.297846Z",
     "iopub.status.busy": "2023-10-15T19:37:25.297492Z",
     "iopub.status.idle": "2023-10-15T19:37:25.303698Z",
     "shell.execute_reply": "2023-10-15T19:37:25.302515Z"
    },
    "papermill": {
     "duration": 0.056663,
     "end_time": "2023-10-15T19:37:25.305490",
     "exception": false,
     "start_time": "2023-10-15T19:37:25.248827",
     "status": "completed"
    },
    "tags": []
   },
   "outputs": [
    {
     "data": {
      "text/plain": [
       "(614, 18216)"
      ]
     },
     "execution_count": 11,
     "metadata": {},
     "output_type": "execute_result"
    }
   ],
   "source": [
    "de_train.shape"
   ]
  },
  {
   "cell_type": "code",
   "execution_count": 12,
   "id": "fc9fdd86",
   "metadata": {
    "execution": {
     "iopub.execute_input": "2023-10-15T19:37:25.327218Z",
     "iopub.status.busy": "2023-10-15T19:37:25.326392Z",
     "iopub.status.idle": "2023-10-15T19:37:25.362798Z",
     "shell.execute_reply": "2023-10-15T19:37:25.361748Z"
    },
    "papermill": {
     "duration": 0.049284,
     "end_time": "2023-10-15T19:37:25.364943",
     "exception": false,
     "start_time": "2023-10-15T19:37:25.315659",
     "status": "completed"
    },
    "tags": []
   },
   "outputs": [],
   "source": [
    "# Create features and and labels for reverse model 18211 features and 152 labels for true model\n",
    "features_columns = [\"cell_type\", \"sm_name\"]\n",
    "labels_columns=[\"cell_type\",\"sm_name\",\"sm_lincs_id\",\"SMILES\",\"control\"]\n",
    "labels = de_train.drop(columns=labels_columns)\n",
    "features = pd.DataFrame(de_train, columns=features_columns)"
   ]
  },
  {
   "cell_type": "code",
   "execution_count": 13,
   "id": "0d9a5194",
   "metadata": {
    "execution": {
     "iopub.execute_input": "2023-10-15T19:37:25.388170Z",
     "iopub.status.busy": "2023-10-15T19:37:25.387288Z",
     "iopub.status.idle": "2023-10-15T19:37:25.396829Z",
     "shell.execute_reply": "2023-10-15T19:37:25.395921Z"
    },
    "papermill": {
     "duration": 0.022841,
     "end_time": "2023-10-15T19:37:25.398542",
     "exception": false,
     "start_time": "2023-10-15T19:37:25.375701",
     "status": "completed"
    },
    "tags": []
   },
   "outputs": [
    {
     "data": {
      "text/html": [
       "<div>\n",
       "<style scoped>\n",
       "    .dataframe tbody tr th:only-of-type {\n",
       "        vertical-align: middle;\n",
       "    }\n",
       "\n",
       "    .dataframe tbody tr th {\n",
       "        vertical-align: top;\n",
       "    }\n",
       "\n",
       "    .dataframe thead th {\n",
       "        text-align: right;\n",
       "    }\n",
       "</style>\n",
       "<table border=\"1\" class=\"dataframe\">\n",
       "  <thead>\n",
       "    <tr style=\"text-align: right;\">\n",
       "      <th></th>\n",
       "      <th>cell_type</th>\n",
       "      <th>sm_name</th>\n",
       "    </tr>\n",
       "  </thead>\n",
       "  <tbody>\n",
       "    <tr>\n",
       "      <th>350</th>\n",
       "      <td>T regulatory cells</td>\n",
       "      <td>TPCA-1</td>\n",
       "    </tr>\n",
       "    <tr>\n",
       "      <th>377</th>\n",
       "      <td>NK cells</td>\n",
       "      <td>Dovitinib</td>\n",
       "    </tr>\n",
       "    <tr>\n",
       "      <th>163</th>\n",
       "      <td>T regulatory cells</td>\n",
       "      <td>Tacalcitol</td>\n",
       "    </tr>\n",
       "    <tr>\n",
       "      <th>609</th>\n",
       "      <td>T regulatory cells</td>\n",
       "      <td>Atorvastatin</td>\n",
       "    </tr>\n",
       "    <tr>\n",
       "      <th>132</th>\n",
       "      <td>T cells CD8+</td>\n",
       "      <td>MK-5108</td>\n",
       "    </tr>\n",
       "    <tr>\n",
       "      <th>...</th>\n",
       "      <td>...</td>\n",
       "      <td>...</td>\n",
       "    </tr>\n",
       "    <tr>\n",
       "      <th>71</th>\n",
       "      <td>T regulatory cells</td>\n",
       "      <td>Raloxifene</td>\n",
       "    </tr>\n",
       "    <tr>\n",
       "      <th>106</th>\n",
       "      <td>NK cells</td>\n",
       "      <td>Dabrafenib</td>\n",
       "    </tr>\n",
       "    <tr>\n",
       "      <th>270</th>\n",
       "      <td>T regulatory cells</td>\n",
       "      <td>RN-486</td>\n",
       "    </tr>\n",
       "    <tr>\n",
       "      <th>435</th>\n",
       "      <td>NK cells</td>\n",
       "      <td>Doxorubicin</td>\n",
       "    </tr>\n",
       "    <tr>\n",
       "      <th>102</th>\n",
       "      <td>T cells CD8+</td>\n",
       "      <td>Ricolinostat</td>\n",
       "    </tr>\n",
       "  </tbody>\n",
       "</table>\n",
       "<p>614 rows × 2 columns</p>\n",
       "</div>"
      ],
      "text/plain": [
       "              cell_type       sm_name\n",
       "350  T regulatory cells        TPCA-1\n",
       "377            NK cells     Dovitinib\n",
       "163  T regulatory cells    Tacalcitol\n",
       "609  T regulatory cells  Atorvastatin\n",
       "132        T cells CD8+       MK-5108\n",
       "..                  ...           ...\n",
       "71   T regulatory cells    Raloxifene\n",
       "106            NK cells    Dabrafenib\n",
       "270  T regulatory cells        RN-486\n",
       "435            NK cells   Doxorubicin\n",
       "102        T cells CD8+  Ricolinostat\n",
       "\n",
       "[614 rows x 2 columns]"
      ]
     },
     "execution_count": 13,
     "metadata": {},
     "output_type": "execute_result"
    }
   ],
   "source": [
    "features"
   ]
  },
  {
   "cell_type": "code",
   "execution_count": 14,
   "id": "9036168f",
   "metadata": {
    "execution": {
     "iopub.execute_input": "2023-10-15T19:37:25.421104Z",
     "iopub.status.busy": "2023-10-15T19:37:25.420321Z",
     "iopub.status.idle": "2023-10-15T19:37:25.443717Z",
     "shell.execute_reply": "2023-10-15T19:37:25.442798Z"
    },
    "papermill": {
     "duration": 0.036483,
     "end_time": "2023-10-15T19:37:25.445533",
     "exception": false,
     "start_time": "2023-10-15T19:37:25.409050",
     "status": "completed"
    },
    "tags": []
   },
   "outputs": [
    {
     "data": {
      "text/html": [
       "<div>\n",
       "<style scoped>\n",
       "    .dataframe tbody tr th:only-of-type {\n",
       "        vertical-align: middle;\n",
       "    }\n",
       "\n",
       "    .dataframe tbody tr th {\n",
       "        vertical-align: top;\n",
       "    }\n",
       "\n",
       "    .dataframe thead th {\n",
       "        text-align: right;\n",
       "    }\n",
       "</style>\n",
       "<table border=\"1\" class=\"dataframe\">\n",
       "  <thead>\n",
       "    <tr style=\"text-align: right;\">\n",
       "      <th></th>\n",
       "      <th>A1BG</th>\n",
       "      <th>A1BG-AS1</th>\n",
       "      <th>A2M</th>\n",
       "      <th>A2M-AS1</th>\n",
       "      <th>A2MP1</th>\n",
       "      <th>A4GALT</th>\n",
       "      <th>AAAS</th>\n",
       "      <th>AACS</th>\n",
       "      <th>AAGAB</th>\n",
       "      <th>AAK1</th>\n",
       "      <th>...</th>\n",
       "      <th>ZUP1</th>\n",
       "      <th>ZW10</th>\n",
       "      <th>ZWILCH</th>\n",
       "      <th>ZWINT</th>\n",
       "      <th>ZXDA</th>\n",
       "      <th>ZXDB</th>\n",
       "      <th>ZXDC</th>\n",
       "      <th>ZYG11B</th>\n",
       "      <th>ZYX</th>\n",
       "      <th>ZZEF1</th>\n",
       "    </tr>\n",
       "  </thead>\n",
       "  <tbody>\n",
       "    <tr>\n",
       "      <th>350</th>\n",
       "      <td>2.175274</td>\n",
       "      <td>1.219289</td>\n",
       "      <td>2.396227</td>\n",
       "      <td>2.885988</td>\n",
       "      <td>3.384956</td>\n",
       "      <td>3.267348</td>\n",
       "      <td>0.134622</td>\n",
       "      <td>1.829941</td>\n",
       "      <td>-0.956191</td>\n",
       "      <td>-0.404039</td>\n",
       "      <td>...</td>\n",
       "      <td>-1.062199</td>\n",
       "      <td>1.178715</td>\n",
       "      <td>0.180416</td>\n",
       "      <td>0.755145</td>\n",
       "      <td>1.809688</td>\n",
       "      <td>1.644712</td>\n",
       "      <td>0.701406</td>\n",
       "      <td>0.137341</td>\n",
       "      <td>0.230949</td>\n",
       "      <td>0.179458</td>\n",
       "    </tr>\n",
       "    <tr>\n",
       "      <th>377</th>\n",
       "      <td>0.214531</td>\n",
       "      <td>-0.115171</td>\n",
       "      <td>0.326515</td>\n",
       "      <td>0.032289</td>\n",
       "      <td>0.220971</td>\n",
       "      <td>-0.463554</td>\n",
       "      <td>1.016849</td>\n",
       "      <td>0.153039</td>\n",
       "      <td>0.292684</td>\n",
       "      <td>0.038020</td>\n",
       "      <td>...</td>\n",
       "      <td>0.438939</td>\n",
       "      <td>0.216506</td>\n",
       "      <td>-0.108654</td>\n",
       "      <td>-0.063070</td>\n",
       "      <td>0.006721</td>\n",
       "      <td>-0.593161</td>\n",
       "      <td>-0.044022</td>\n",
       "      <td>0.475729</td>\n",
       "      <td>0.356555</td>\n",
       "      <td>-0.038020</td>\n",
       "    </tr>\n",
       "    <tr>\n",
       "      <th>163</th>\n",
       "      <td>0.391257</td>\n",
       "      <td>-0.052922</td>\n",
       "      <td>0.540292</td>\n",
       "      <td>0.718991</td>\n",
       "      <td>1.083183</td>\n",
       "      <td>1.021599</td>\n",
       "      <td>-0.097250</td>\n",
       "      <td>0.306833</td>\n",
       "      <td>-3.331719</td>\n",
       "      <td>0.235092</td>\n",
       "      <td>...</td>\n",
       "      <td>-1.755527</td>\n",
       "      <td>0.556352</td>\n",
       "      <td>0.089976</td>\n",
       "      <td>-0.000729</td>\n",
       "      <td>0.419802</td>\n",
       "      <td>1.020842</td>\n",
       "      <td>0.367313</td>\n",
       "      <td>0.486345</td>\n",
       "      <td>-0.856723</td>\n",
       "      <td>0.191009</td>\n",
       "    </tr>\n",
       "    <tr>\n",
       "      <th>609</th>\n",
       "      <td>-0.014372</td>\n",
       "      <td>-0.122464</td>\n",
       "      <td>-0.456366</td>\n",
       "      <td>-0.147894</td>\n",
       "      <td>-0.545382</td>\n",
       "      <td>-0.544709</td>\n",
       "      <td>0.282458</td>\n",
       "      <td>-0.431359</td>\n",
       "      <td>-0.364961</td>\n",
       "      <td>0.043123</td>\n",
       "      <td>...</td>\n",
       "      <td>-0.549987</td>\n",
       "      <td>-2.200925</td>\n",
       "      <td>0.359806</td>\n",
       "      <td>1.073983</td>\n",
       "      <td>0.356939</td>\n",
       "      <td>-0.029603</td>\n",
       "      <td>-0.528817</td>\n",
       "      <td>0.105138</td>\n",
       "      <td>0.491015</td>\n",
       "      <td>-0.979951</td>\n",
       "    </tr>\n",
       "    <tr>\n",
       "      <th>132</th>\n",
       "      <td>0.094873</td>\n",
       "      <td>1.067610</td>\n",
       "      <td>-0.745980</td>\n",
       "      <td>1.083842</td>\n",
       "      <td>0.638504</td>\n",
       "      <td>0.307649</td>\n",
       "      <td>-0.038108</td>\n",
       "      <td>0.772186</td>\n",
       "      <td>-0.736735</td>\n",
       "      <td>-0.462323</td>\n",
       "      <td>...</td>\n",
       "      <td>0.279780</td>\n",
       "      <td>0.489431</td>\n",
       "      <td>0.147217</td>\n",
       "      <td>0.292313</td>\n",
       "      <td>0.029266</td>\n",
       "      <td>0.330628</td>\n",
       "      <td>1.038142</td>\n",
       "      <td>-0.194884</td>\n",
       "      <td>1.078132</td>\n",
       "      <td>0.057001</td>\n",
       "    </tr>\n",
       "    <tr>\n",
       "      <th>...</th>\n",
       "      <td>...</td>\n",
       "      <td>...</td>\n",
       "      <td>...</td>\n",
       "      <td>...</td>\n",
       "      <td>...</td>\n",
       "      <td>...</td>\n",
       "      <td>...</td>\n",
       "      <td>...</td>\n",
       "      <td>...</td>\n",
       "      <td>...</td>\n",
       "      <td>...</td>\n",
       "      <td>...</td>\n",
       "      <td>...</td>\n",
       "      <td>...</td>\n",
       "      <td>...</td>\n",
       "      <td>...</td>\n",
       "      <td>...</td>\n",
       "      <td>...</td>\n",
       "      <td>...</td>\n",
       "      <td>...</td>\n",
       "      <td>...</td>\n",
       "    </tr>\n",
       "    <tr>\n",
       "      <th>71</th>\n",
       "      <td>1.080779</td>\n",
       "      <td>0.226991</td>\n",
       "      <td>2.440729</td>\n",
       "      <td>2.581894</td>\n",
       "      <td>1.773980</td>\n",
       "      <td>1.989227</td>\n",
       "      <td>-0.074095</td>\n",
       "      <td>0.906555</td>\n",
       "      <td>2.214564</td>\n",
       "      <td>-0.182784</td>\n",
       "      <td>...</td>\n",
       "      <td>-0.276043</td>\n",
       "      <td>0.768273</td>\n",
       "      <td>1.351487</td>\n",
       "      <td>2.359651</td>\n",
       "      <td>1.470219</td>\n",
       "      <td>0.866639</td>\n",
       "      <td>0.467307</td>\n",
       "      <td>0.663700</td>\n",
       "      <td>-0.122574</td>\n",
       "      <td>-0.315800</td>\n",
       "    </tr>\n",
       "    <tr>\n",
       "      <th>106</th>\n",
       "      <td>-0.161665</td>\n",
       "      <td>0.269009</td>\n",
       "      <td>-1.770091</td>\n",
       "      <td>-0.198444</td>\n",
       "      <td>0.954753</td>\n",
       "      <td>1.155912</td>\n",
       "      <td>-0.312552</td>\n",
       "      <td>0.621897</td>\n",
       "      <td>-0.154055</td>\n",
       "      <td>0.331780</td>\n",
       "      <td>...</td>\n",
       "      <td>0.131425</td>\n",
       "      <td>-1.112697</td>\n",
       "      <td>-0.589313</td>\n",
       "      <td>-0.660929</td>\n",
       "      <td>0.016530</td>\n",
       "      <td>0.319136</td>\n",
       "      <td>0.299521</td>\n",
       "      <td>-0.383452</td>\n",
       "      <td>0.267828</td>\n",
       "      <td>-1.100267</td>\n",
       "    </tr>\n",
       "    <tr>\n",
       "      <th>270</th>\n",
       "      <td>-0.304126</td>\n",
       "      <td>0.443651</td>\n",
       "      <td>0.688265</td>\n",
       "      <td>-0.101457</td>\n",
       "      <td>-0.005912</td>\n",
       "      <td>-0.004914</td>\n",
       "      <td>-0.247434</td>\n",
       "      <td>0.281614</td>\n",
       "      <td>-0.915735</td>\n",
       "      <td>-0.032908</td>\n",
       "      <td>...</td>\n",
       "      <td>-0.855096</td>\n",
       "      <td>-0.499096</td>\n",
       "      <td>-0.211083</td>\n",
       "      <td>-0.495621</td>\n",
       "      <td>-0.233734</td>\n",
       "      <td>1.120530</td>\n",
       "      <td>-0.109096</td>\n",
       "      <td>0.128084</td>\n",
       "      <td>0.313468</td>\n",
       "      <td>-0.512444</td>\n",
       "    </tr>\n",
       "    <tr>\n",
       "      <th>435</th>\n",
       "      <td>0.482294</td>\n",
       "      <td>-1.262924</td>\n",
       "      <td>-0.545405</td>\n",
       "      <td>-0.497739</td>\n",
       "      <td>-0.750201</td>\n",
       "      <td>0.959704</td>\n",
       "      <td>0.527966</td>\n",
       "      <td>1.198200</td>\n",
       "      <td>-0.482740</td>\n",
       "      <td>0.635863</td>\n",
       "      <td>...</td>\n",
       "      <td>0.444958</td>\n",
       "      <td>0.029279</td>\n",
       "      <td>0.337660</td>\n",
       "      <td>0.025025</td>\n",
       "      <td>0.035943</td>\n",
       "      <td>0.691171</td>\n",
       "      <td>0.352091</td>\n",
       "      <td>0.046012</td>\n",
       "      <td>-0.760812</td>\n",
       "      <td>-0.168719</td>\n",
       "    </tr>\n",
       "    <tr>\n",
       "      <th>102</th>\n",
       "      <td>-1.270048</td>\n",
       "      <td>-0.102076</td>\n",
       "      <td>-0.274282</td>\n",
       "      <td>0.357499</td>\n",
       "      <td>-0.756485</td>\n",
       "      <td>-0.668128</td>\n",
       "      <td>-0.157495</td>\n",
       "      <td>-0.001625</td>\n",
       "      <td>-1.435762</td>\n",
       "      <td>0.150410</td>\n",
       "      <td>...</td>\n",
       "      <td>0.307323</td>\n",
       "      <td>-1.183770</td>\n",
       "      <td>-0.541778</td>\n",
       "      <td>-0.433469</td>\n",
       "      <td>-0.310043</td>\n",
       "      <td>-0.515335</td>\n",
       "      <td>0.125768</td>\n",
       "      <td>-0.354120</td>\n",
       "      <td>0.603707</td>\n",
       "      <td>-0.379696</td>\n",
       "    </tr>\n",
       "  </tbody>\n",
       "</table>\n",
       "<p>614 rows × 18211 columns</p>\n",
       "</div>"
      ],
      "text/plain": [
       "         A1BG  A1BG-AS1       A2M   A2M-AS1     A2MP1    A4GALT      AAAS  \\\n",
       "350  2.175274  1.219289  2.396227  2.885988  3.384956  3.267348  0.134622   \n",
       "377  0.214531 -0.115171  0.326515  0.032289  0.220971 -0.463554  1.016849   \n",
       "163  0.391257 -0.052922  0.540292  0.718991  1.083183  1.021599 -0.097250   \n",
       "609 -0.014372 -0.122464 -0.456366 -0.147894 -0.545382 -0.544709  0.282458   \n",
       "132  0.094873  1.067610 -0.745980  1.083842  0.638504  0.307649 -0.038108   \n",
       "..        ...       ...       ...       ...       ...       ...       ...   \n",
       "71   1.080779  0.226991  2.440729  2.581894  1.773980  1.989227 -0.074095   \n",
       "106 -0.161665  0.269009 -1.770091 -0.198444  0.954753  1.155912 -0.312552   \n",
       "270 -0.304126  0.443651  0.688265 -0.101457 -0.005912 -0.004914 -0.247434   \n",
       "435  0.482294 -1.262924 -0.545405 -0.497739 -0.750201  0.959704  0.527966   \n",
       "102 -1.270048 -0.102076 -0.274282  0.357499 -0.756485 -0.668128 -0.157495   \n",
       "\n",
       "         AACS     AAGAB      AAK1  ...      ZUP1      ZW10    ZWILCH  \\\n",
       "350  1.829941 -0.956191 -0.404039  ... -1.062199  1.178715  0.180416   \n",
       "377  0.153039  0.292684  0.038020  ...  0.438939  0.216506 -0.108654   \n",
       "163  0.306833 -3.331719  0.235092  ... -1.755527  0.556352  0.089976   \n",
       "609 -0.431359 -0.364961  0.043123  ... -0.549987 -2.200925  0.359806   \n",
       "132  0.772186 -0.736735 -0.462323  ...  0.279780  0.489431  0.147217   \n",
       "..        ...       ...       ...  ...       ...       ...       ...   \n",
       "71   0.906555  2.214564 -0.182784  ... -0.276043  0.768273  1.351487   \n",
       "106  0.621897 -0.154055  0.331780  ...  0.131425 -1.112697 -0.589313   \n",
       "270  0.281614 -0.915735 -0.032908  ... -0.855096 -0.499096 -0.211083   \n",
       "435  1.198200 -0.482740  0.635863  ...  0.444958  0.029279  0.337660   \n",
       "102 -0.001625 -1.435762  0.150410  ...  0.307323 -1.183770 -0.541778   \n",
       "\n",
       "        ZWINT      ZXDA      ZXDB      ZXDC    ZYG11B       ZYX     ZZEF1  \n",
       "350  0.755145  1.809688  1.644712  0.701406  0.137341  0.230949  0.179458  \n",
       "377 -0.063070  0.006721 -0.593161 -0.044022  0.475729  0.356555 -0.038020  \n",
       "163 -0.000729  0.419802  1.020842  0.367313  0.486345 -0.856723  0.191009  \n",
       "609  1.073983  0.356939 -0.029603 -0.528817  0.105138  0.491015 -0.979951  \n",
       "132  0.292313  0.029266  0.330628  1.038142 -0.194884  1.078132  0.057001  \n",
       "..        ...       ...       ...       ...       ...       ...       ...  \n",
       "71   2.359651  1.470219  0.866639  0.467307  0.663700 -0.122574 -0.315800  \n",
       "106 -0.660929  0.016530  0.319136  0.299521 -0.383452  0.267828 -1.100267  \n",
       "270 -0.495621 -0.233734  1.120530 -0.109096  0.128084  0.313468 -0.512444  \n",
       "435  0.025025  0.035943  0.691171  0.352091  0.046012 -0.760812 -0.168719  \n",
       "102 -0.433469 -0.310043 -0.515335  0.125768 -0.354120  0.603707 -0.379696  \n",
       "\n",
       "[614 rows x 18211 columns]"
      ]
     },
     "execution_count": 14,
     "metadata": {},
     "output_type": "execute_result"
    }
   ],
   "source": [
    "labels"
   ]
  },
  {
   "cell_type": "code",
   "execution_count": 15,
   "id": "55e6e562",
   "metadata": {
    "execution": {
     "iopub.execute_input": "2023-10-15T19:37:25.468823Z",
     "iopub.status.busy": "2023-10-15T19:37:25.468307Z",
     "iopub.status.idle": "2023-10-15T19:37:25.472887Z",
     "shell.execute_reply": "2023-10-15T19:37:25.472132Z"
    },
    "papermill": {
     "duration": 0.017781,
     "end_time": "2023-10-15T19:37:25.474596",
     "exception": false,
     "start_time": "2023-10-15T19:37:25.456815",
     "status": "completed"
    },
    "tags": []
   },
   "outputs": [],
   "source": [
    "# Get test data \n",
    "test_data = pd.DataFrame(id_map, columns=features_columns)"
   ]
  },
  {
   "cell_type": "code",
   "execution_count": 16,
   "id": "ea71b533",
   "metadata": {
    "execution": {
     "iopub.execute_input": "2023-10-15T19:37:25.497827Z",
     "iopub.status.busy": "2023-10-15T19:37:25.497061Z",
     "iopub.status.idle": "2023-10-15T19:37:25.506238Z",
     "shell.execute_reply": "2023-10-15T19:37:25.505255Z"
    },
    "papermill": {
     "duration": 0.022737,
     "end_time": "2023-10-15T19:37:25.508108",
     "exception": false,
     "start_time": "2023-10-15T19:37:25.485371",
     "status": "completed"
    },
    "tags": []
   },
   "outputs": [
    {
     "data": {
      "text/html": [
       "<div>\n",
       "<style scoped>\n",
       "    .dataframe tbody tr th:only-of-type {\n",
       "        vertical-align: middle;\n",
       "    }\n",
       "\n",
       "    .dataframe tbody tr th {\n",
       "        vertical-align: top;\n",
       "    }\n",
       "\n",
       "    .dataframe thead th {\n",
       "        text-align: right;\n",
       "    }\n",
       "</style>\n",
       "<table border=\"1\" class=\"dataframe\">\n",
       "  <thead>\n",
       "    <tr style=\"text-align: right;\">\n",
       "      <th></th>\n",
       "      <th>cell_type</th>\n",
       "      <th>sm_name</th>\n",
       "    </tr>\n",
       "  </thead>\n",
       "  <tbody>\n",
       "    <tr>\n",
       "      <th>0</th>\n",
       "      <td>B cells</td>\n",
       "      <td>5-(9-Isopropyl-8-methyl-2-morpholino-9H-purin-...</td>\n",
       "    </tr>\n",
       "    <tr>\n",
       "      <th>1</th>\n",
       "      <td>B cells</td>\n",
       "      <td>ABT-199 (GDC-0199)</td>\n",
       "    </tr>\n",
       "    <tr>\n",
       "      <th>2</th>\n",
       "      <td>B cells</td>\n",
       "      <td>ABT737</td>\n",
       "    </tr>\n",
       "    <tr>\n",
       "      <th>3</th>\n",
       "      <td>B cells</td>\n",
       "      <td>AMD-070 (hydrochloride)</td>\n",
       "    </tr>\n",
       "    <tr>\n",
       "      <th>4</th>\n",
       "      <td>B cells</td>\n",
       "      <td>AT 7867</td>\n",
       "    </tr>\n",
       "    <tr>\n",
       "      <th>...</th>\n",
       "      <td>...</td>\n",
       "      <td>...</td>\n",
       "    </tr>\n",
       "    <tr>\n",
       "      <th>250</th>\n",
       "      <td>Myeloid cells</td>\n",
       "      <td>Vandetanib</td>\n",
       "    </tr>\n",
       "    <tr>\n",
       "      <th>251</th>\n",
       "      <td>Myeloid cells</td>\n",
       "      <td>Vanoxerine</td>\n",
       "    </tr>\n",
       "    <tr>\n",
       "      <th>252</th>\n",
       "      <td>Myeloid cells</td>\n",
       "      <td>Vardenafil</td>\n",
       "    </tr>\n",
       "    <tr>\n",
       "      <th>253</th>\n",
       "      <td>Myeloid cells</td>\n",
       "      <td>Vorinostat</td>\n",
       "    </tr>\n",
       "    <tr>\n",
       "      <th>254</th>\n",
       "      <td>Myeloid cells</td>\n",
       "      <td>YK 4-279</td>\n",
       "    </tr>\n",
       "  </tbody>\n",
       "</table>\n",
       "<p>255 rows × 2 columns</p>\n",
       "</div>"
      ],
      "text/plain": [
       "         cell_type                                            sm_name\n",
       "0          B cells  5-(9-Isopropyl-8-methyl-2-morpholino-9H-purin-...\n",
       "1          B cells                                 ABT-199 (GDC-0199)\n",
       "2          B cells                                             ABT737\n",
       "3          B cells                            AMD-070 (hydrochloride)\n",
       "4          B cells                                            AT 7867\n",
       "..             ...                                                ...\n",
       "250  Myeloid cells                                         Vandetanib\n",
       "251  Myeloid cells                                         Vanoxerine\n",
       "252  Myeloid cells                                         Vardenafil\n",
       "253  Myeloid cells                                         Vorinostat\n",
       "254  Myeloid cells                                           YK 4-279\n",
       "\n",
       "[255 rows x 2 columns]"
      ]
     },
     "execution_count": 16,
     "metadata": {},
     "output_type": "execute_result"
    }
   ],
   "source": [
    "test_data"
   ]
  },
  {
   "cell_type": "markdown",
   "id": "b6f102cb",
   "metadata": {
    "papermill": {
     "duration": 0.010672,
     "end_time": "2023-10-15T19:37:25.530526",
     "exception": false,
     "start_time": "2023-10-15T19:37:25.519854",
     "status": "completed"
    },
    "tags": []
   },
   "source": [
    "# Preprocess Data"
   ]
  },
  {
   "cell_type": "code",
   "execution_count": 17,
   "id": "47922cdb",
   "metadata": {
    "execution": {
     "iopub.execute_input": "2023-10-15T19:37:25.554085Z",
     "iopub.status.busy": "2023-10-15T19:37:25.553308Z",
     "iopub.status.idle": "2023-10-15T19:37:26.041994Z",
     "shell.execute_reply": "2023-10-15T19:37:26.041051Z"
    },
    "papermill": {
     "duration": 0.502232,
     "end_time": "2023-10-15T19:37:26.044129",
     "exception": false,
     "start_time": "2023-10-15T19:37:25.541897",
     "status": "completed"
    },
    "tags": []
   },
   "outputs": [],
   "source": [
    "from sklearn.preprocessing import OneHotEncoder\n",
    "\n",
    "# Create an instance of the encoder\n",
    "encoder = OneHotEncoder()\n",
    "\n",
    "# Fit the encoder on features\n",
    "encoder.fit(features)\n",
    "\n",
    "# Transform the features into one-hot encoded format\n",
    "one_hot_encode_features = encoder.transform(features)\n",
    "\n",
    "# Transform the test data(id_map)\n",
    "one_hot_test = encoder.transform(test_data)"
   ]
  },
  {
   "cell_type": "code",
   "execution_count": 18,
   "id": "c0e298f1",
   "metadata": {
    "execution": {
     "iopub.execute_input": "2023-10-15T19:37:26.067718Z",
     "iopub.status.busy": "2023-10-15T19:37:26.067114Z",
     "iopub.status.idle": "2023-10-15T19:37:26.075700Z",
     "shell.execute_reply": "2023-10-15T19:37:26.074822Z"
    },
    "papermill": {
     "duration": 0.021917,
     "end_time": "2023-10-15T19:37:26.077362",
     "exception": false,
     "start_time": "2023-10-15T19:37:26.055445",
     "status": "completed"
    },
    "tags": []
   },
   "outputs": [
    {
     "data": {
      "text/plain": [
       "((614, 152), (255, 152))"
      ]
     },
     "execution_count": 18,
     "metadata": {},
     "output_type": "execute_result"
    }
   ],
   "source": [
    "one_hot_encode_features.toarray().shape, one_hot_test.toarray().shape"
   ]
  },
  {
   "cell_type": "code",
   "execution_count": 19,
   "id": "fd2e13c6",
   "metadata": {
    "execution": {
     "iopub.execute_input": "2023-10-15T19:37:26.100404Z",
     "iopub.status.busy": "2023-10-15T19:37:26.099681Z",
     "iopub.status.idle": "2023-10-15T19:37:26.106896Z",
     "shell.execute_reply": "2023-10-15T19:37:26.105875Z"
    },
    "papermill": {
     "duration": 0.020776,
     "end_time": "2023-10-15T19:37:26.108824",
     "exception": false,
     "start_time": "2023-10-15T19:37:26.088048",
     "status": "completed"
    },
    "tags": []
   },
   "outputs": [
    {
     "data": {
      "text/plain": [
       "array([0., 0., 0., 0., 0., 1., 0., 0., 0., 0., 0., 0., 0., 0., 0., 0., 0.,\n",
       "       0., 0., 0., 0., 0., 0., 0., 0., 0., 0., 0., 0., 0., 0., 0., 0., 0.,\n",
       "       0., 0., 0., 0., 0., 0., 0., 0., 0., 0., 0., 0., 0., 0., 0., 0., 0.,\n",
       "       0., 0., 0., 0., 0., 0., 0., 0., 0., 0., 0., 0., 0., 0., 0., 0., 0.,\n",
       "       0., 0., 0., 0., 0., 0., 0., 0., 0., 0., 0., 0., 0., 0., 0., 0., 0.,\n",
       "       0., 0., 0., 0., 0., 0., 0., 0., 0., 0., 0., 0., 0., 0., 0., 0., 0.,\n",
       "       0., 0., 0., 0., 0., 0., 0., 0., 0., 0., 0., 0., 0., 0., 0., 0., 0.,\n",
       "       0., 0., 0., 0., 0., 0., 0., 0., 0., 0., 0., 0., 0., 0., 0., 0., 0.,\n",
       "       1., 0., 0., 0., 0., 0., 0., 0., 0., 0., 0., 0., 0., 0., 0., 0.])"
      ]
     },
     "execution_count": 19,
     "metadata": {},
     "output_type": "execute_result"
    }
   ],
   "source": [
    "one_hot_encode_features.toarray()[0]"
   ]
  },
  {
   "cell_type": "markdown",
   "id": "58ffaf61",
   "metadata": {
    "papermill": {
     "duration": 0.010689,
     "end_time": "2023-10-15T19:37:26.131388",
     "exception": false,
     "start_time": "2023-10-15T19:37:26.120699",
     "status": "completed"
    },
    "tags": []
   },
   "source": [
    "# SPLIT "
   ]
  },
  {
   "cell_type": "code",
   "execution_count": 20,
   "id": "10a42653",
   "metadata": {
    "execution": {
     "iopub.execute_input": "2023-10-15T19:37:26.154489Z",
     "iopub.status.busy": "2023-10-15T19:37:26.154045Z",
     "iopub.status.idle": "2023-10-15T19:37:26.301282Z",
     "shell.execute_reply": "2023-10-15T19:37:26.300343Z"
    },
    "papermill": {
     "duration": 0.161302,
     "end_time": "2023-10-15T19:37:26.303535",
     "exception": false,
     "start_time": "2023-10-15T19:37:26.142233",
     "status": "completed"
    },
    "tags": []
   },
   "outputs": [],
   "source": [
    "from sklearn.model_selection import train_test_split\n",
    "\n",
    "X_train, X_temp, y_train, y_temp = train_test_split(one_hot_encode_features, labels.values, test_size=0.3, shuffle=False)\n",
    "X_val, X_test, y_val, y_test = train_test_split(X_temp, y_temp, test_size=0.5, shuffle=False)"
   ]
  },
  {
   "cell_type": "code",
   "execution_count": 21,
   "id": "d8146cc6",
   "metadata": {
    "execution": {
     "iopub.execute_input": "2023-10-15T19:37:26.328576Z",
     "iopub.status.busy": "2023-10-15T19:37:26.327811Z",
     "iopub.status.idle": "2023-10-15T19:37:26.333928Z",
     "shell.execute_reply": "2023-10-15T19:37:26.333031Z"
    },
    "papermill": {
     "duration": 0.019563,
     "end_time": "2023-10-15T19:37:26.335627",
     "exception": false,
     "start_time": "2023-10-15T19:37:26.316064",
     "status": "completed"
    },
    "tags": []
   },
   "outputs": [
    {
     "name": "stdout",
     "output_type": "stream",
     "text": [
      "X_train shape: (429, 152)\n",
      "X_val shape: (92, 152)\n",
      "X_test shape: (93, 152)\n",
      "y_train shape: (429, 18211)\n",
      "y_val shape: (92, 18211)\n",
      "y_test shape: (93, 18211)\n"
     ]
    }
   ],
   "source": [
    "# Printing the shapes of the data splits\n",
    "print(\"X_train shape:\", X_train.shape)\n",
    "print(\"X_val shape:\", X_val.shape)\n",
    "print(\"X_test shape:\", X_test.shape)\n",
    "print(\"y_train shape:\", y_train.shape)\n",
    "print(\"y_val shape:\", y_val.shape)\n",
    "print(\"y_test shape:\", y_test.shape)"
   ]
  },
  {
   "cell_type": "code",
   "execution_count": 22,
   "id": "0671f36b",
   "metadata": {
    "execution": {
     "iopub.execute_input": "2023-10-15T19:37:26.359026Z",
     "iopub.status.busy": "2023-10-15T19:37:26.358225Z",
     "iopub.status.idle": "2023-10-15T19:37:26.363726Z",
     "shell.execute_reply": "2023-10-15T19:37:26.362906Z"
    },
    "papermill": {
     "duration": 0.018871,
     "end_time": "2023-10-15T19:37:26.365405",
     "exception": false,
     "start_time": "2023-10-15T19:37:26.346534",
     "status": "completed"
    },
    "tags": []
   },
   "outputs": [
    {
     "name": "stdout",
     "output_type": "stream",
     "text": [
      "full_features shape:  (614, 152)\n",
      "full labels shape:  (614, 18211)\n"
     ]
    }
   ],
   "source": [
    "full_features = one_hot_encode_features.toarray()\n",
    "full_labels = labels.values\n",
    "\n",
    "print(\"full_features shape: \", full_features.shape)\n",
    "print(\"full labels shape: \", full_labels.shape)"
   ]
  },
  {
   "cell_type": "markdown",
   "id": "f3ffffe9",
   "metadata": {
    "papermill": {
     "duration": 0.010762,
     "end_time": "2023-10-15T19:37:26.386999",
     "exception": false,
     "start_time": "2023-10-15T19:37:26.376237",
     "status": "completed"
    },
    "tags": []
   },
   "source": [
    "# Auxillary Functions"
   ]
  },
  {
   "cell_type": "code",
   "execution_count": 23,
   "id": "8cf57182",
   "metadata": {
    "execution": {
     "iopub.execute_input": "2023-10-15T19:37:26.410382Z",
     "iopub.status.busy": "2023-10-15T19:37:26.409799Z",
     "iopub.status.idle": "2023-10-15T19:37:26.416358Z",
     "shell.execute_reply": "2023-10-15T19:37:26.415373Z"
    },
    "papermill": {
     "duration": 0.020849,
     "end_time": "2023-10-15T19:37:26.418635",
     "exception": false,
     "start_time": "2023-10-15T19:37:26.397786",
     "status": "completed"
    },
    "tags": []
   },
   "outputs": [],
   "source": [
    "from tensorflow.keras.callbacks import ModelCheckpoint\n",
    "\n",
    "def create_model_checkpoint(filepath, monitor='val_mae', save_best_only=True,\n",
    "                           save_weights_only=True,mode='auto',verbose=0):\n",
    "    \n",
    "    '''\n",
    "    Model checkpoint to save the best model weights during training\n",
    "    '''\n",
    "    \n",
    "    checkpoint = ModelCheckpoint(\n",
    "        filepath=filepath,\n",
    "        monitor=monitor,\n",
    "        save_best_only=save_best_only,\n",
    "        save_weights_only=save_weights_only,\n",
    "        mode=mode,\n",
    "        verbose=verbose)\n",
    "    \n",
    "    \n",
    "    return checkpoint"
   ]
  },
  {
   "cell_type": "code",
   "execution_count": 24,
   "id": "e681e4d4",
   "metadata": {
    "execution": {
     "iopub.execute_input": "2023-10-15T19:37:26.445357Z",
     "iopub.status.busy": "2023-10-15T19:37:26.445075Z",
     "iopub.status.idle": "2023-10-15T19:37:26.452117Z",
     "shell.execute_reply": "2023-10-15T19:37:26.451186Z"
    },
    "papermill": {
     "duration": 0.021652,
     "end_time": "2023-10-15T19:37:26.453851",
     "exception": false,
     "start_time": "2023-10-15T19:37:26.432199",
     "status": "completed"
    },
    "tags": []
   },
   "outputs": [],
   "source": [
    "def plot_training_history(history, metrics):\n",
    "    \"\"\"\n",
    "    Plot training history curves for loss and evaluation metrics on the same line.\n",
    "\n",
    "    Args:\n",
    "        history (keras.callbacks.History): Training history object.\n",
    "        metrics (list): List of metric names to plot.\n",
    "\n",
    "    Returns:\n",
    "        None\n",
    "    \"\"\"\n",
    "    loss = history.history['loss']\n",
    "    val_loss = history.history['val_loss']\n",
    "\n",
    "    epochs = range(len(loss))\n",
    "\n",
    "    plt.figure(figsize=(12, 6))\n",
    "\n",
    "    # Plot loss\n",
    "    plt.subplot(1, 2, 1)\n",
    "    plt.plot(epochs, loss, label='Training Loss', color=\"blue\")\n",
    "    plt.plot(epochs, val_loss, label='Validation Loss', color=\"red\")\n",
    "    plt.title('Loss')\n",
    "    plt.xlabel('Epochs')\n",
    "    plt.legend()\n",
    "\n",
    "    # Plot specified evaluation metrics on the same line\n",
    "    for metric in metrics:\n",
    "        train_metric_name = f'Training {metric.capitalize()}'\n",
    "        val_metric_name = f'Validation {metric.capitalize()}'\n",
    "        train_metric = history.history[metric]\n",
    "        val_metric = history.history['val_' + metric]\n",
    "\n",
    "        plt.subplot(1, 2, 2)\n",
    "        plt.plot(epochs, train_metric, label=train_metric_name, color=\"green\")\n",
    "        plt.plot(epochs, val_metric, label=val_metric_name, color=\"orange\")\n",
    "\n",
    "    plt.title('Metrics')\n",
    "    plt.xlabel('Epochs')\n",
    "    plt.legend(loc='upper right')\n",
    "\n",
    "    plt.tight_layout()\n",
    "    plt.show()\n"
   ]
  },
  {
   "cell_type": "code",
   "execution_count": 25,
   "id": "1e9ae593",
   "metadata": {
    "execution": {
     "iopub.execute_input": "2023-10-15T19:37:26.478161Z",
     "iopub.status.busy": "2023-10-15T19:37:26.477665Z",
     "iopub.status.idle": "2023-10-15T19:37:26.483589Z",
     "shell.execute_reply": "2023-10-15T19:37:26.482722Z"
    },
    "papermill": {
     "duration": 0.019437,
     "end_time": "2023-10-15T19:37:26.485282",
     "exception": false,
     "start_time": "2023-10-15T19:37:26.465845",
     "status": "completed"
    },
    "tags": []
   },
   "outputs": [],
   "source": [
    "from sklearn.metrics import mean_absolute_error\n",
    "\n",
    "def calculate_mae_and_mrrmse(model, data, y_true):\n",
    "    \"\"\"\n",
    "    Calculate Mean Absolute Error (MAE) and Mean Rowwise Root Mean Squared Error (MRRMSE).\n",
    "\n",
    "    Parameters:\n",
    "    - model: The trained  model.\n",
    "    - data: The input data for prediction.\n",
    "    - y_true: The true target values.\n",
    "    - scaler: The scaler used for data normalization.\n",
    "\n",
    "    Returns:\n",
    "    - None\n",
    "    \"\"\"\n",
    "    #Predict \n",
    "    y_pred_original = model.predict(data, batch_size=1)\n",
    "    \n",
    "    #Calculate mean absolute error \n",
    "    \n",
    "    mae = mean_absolute_error(y_true, y_pred_original)\n",
    "    \n",
    "    #Calculate Mean Rowwise Mean Root Mean Squared Error\n",
    "    \n",
    "    rowwise_rmse = np.sqrt(np.mean(np.square(y_true - y_pred_original), axis=1))\n",
    "    mrrmse_score = np.mean(rowwise_rmse)\n",
    "    \n",
    "    # Print the results\n",
    "    print(f\"Mean Absolute Error (MAE): {mae}\")\n",
    "    print(f\"Mean Rowwise Root Mean Squared Error (MRRMSE): {mrrmse_score}\")"
   ]
  },
  {
   "cell_type": "code",
   "execution_count": 26,
   "id": "e83fac1c",
   "metadata": {
    "execution": {
     "iopub.execute_input": "2023-10-15T19:37:26.508850Z",
     "iopub.status.busy": "2023-10-15T19:37:26.508622Z",
     "iopub.status.idle": "2023-10-15T19:37:26.512917Z",
     "shell.execute_reply": "2023-10-15T19:37:26.512044Z"
    },
    "papermill": {
     "duration": 0.018011,
     "end_time": "2023-10-15T19:37:26.514566",
     "exception": false,
     "start_time": "2023-10-15T19:37:26.496555",
     "status": "completed"
    },
    "tags": []
   },
   "outputs": [],
   "source": [
    "def mean_rowwise_rmse_loss(y_true, y_pred):\n",
    "    \"\"\"\n",
    "    Custom loss function to calculate the Mean Rowwise Root Mean Squared Error (RMSE) loss.\n",
    "\n",
    "    Parameters:\n",
    "    - y_true: The true target values.\n",
    "    - y_pred: The predicted values.\n",
    "\n",
    "    Returns:\n",
    "    - Mean Rowwise RMSE loss as a scalar tensor.\n",
    "    \"\"\"\n",
    "    # Calculate RMSE for each row\n",
    "    rmse_per_row = tf.sqrt(tf.reduce_mean(tf.square(y_true - y_pred), axis=1))\n",
    "    # Calculate the mean of RMSE values across all rows\n",
    "    mean_rmse = tf.reduce_mean(rmse_per_row)\n",
    "    \n",
    "    return mean_rmse"
   ]
  },
  {
   "cell_type": "code",
   "execution_count": 27,
   "id": "7acb5e97",
   "metadata": {
    "execution": {
     "iopub.execute_input": "2023-10-15T19:37:26.538690Z",
     "iopub.status.busy": "2023-10-15T19:37:26.538179Z",
     "iopub.status.idle": "2023-10-15T19:37:26.543208Z",
     "shell.execute_reply": "2023-10-15T19:37:26.542323Z"
    },
    "papermill": {
     "duration": 0.018895,
     "end_time": "2023-10-15T19:37:26.544909",
     "exception": false,
     "start_time": "2023-10-15T19:37:26.526014",
     "status": "completed"
    },
    "tags": []
   },
   "outputs": [],
   "source": [
    "def custom_mean_rowwise_rmse(y_true, y_pred):\n",
    "    \"\"\"\n",
    "    Custom metric to calculate the Mean Rowwise Root Mean Squared Error (RMSE).\n",
    "\n",
    "    Parameters:\n",
    "    - y_true: The true target values.\n",
    "    - y_pred: The predicted values.\n",
    "\n",
    "    Returns:\n",
    "    - Mean Rowwise RMSE as a scalar tensor.\n",
    "    \"\"\"\n",
    "    # Calculate RMSE for each row\n",
    "    rmse_per_row = tf.sqrt(tf.reduce_mean(tf.square(y_true - y_pred), axis=1))\n",
    "    # Calculate the mean of RMSE values across all rows\n",
    "    mean_rmse = tf.reduce_mean(rmse_per_row)\n",
    "    \n",
    "    return mean_rmse"
   ]
  },
  {
   "cell_type": "markdown",
   "id": "1fed7bda",
   "metadata": {
    "papermill": {
     "duration": 0.011035,
     "end_time": "2023-10-15T19:37:26.566730",
     "exception": false,
     "start_time": "2023-10-15T19:37:26.555695",
     "status": "completed"
    },
    "tags": []
   },
   "source": [
    "# Building the model now!"
   ]
  },
  {
   "cell_type": "code",
   "execution_count": 28,
   "id": "0a92bce8",
   "metadata": {
    "execution": {
     "iopub.execute_input": "2023-10-15T19:37:26.589835Z",
     "iopub.status.busy": "2023-10-15T19:37:26.589366Z",
     "iopub.status.idle": "2023-10-15T19:37:26.594715Z",
     "shell.execute_reply": "2023-10-15T19:37:26.593937Z"
    },
    "papermill": {
     "duration": 0.018839,
     "end_time": "2023-10-15T19:37:26.596392",
     "exception": false,
     "start_time": "2023-10-15T19:37:26.577553",
     "status": "completed"
    },
    "tags": []
   },
   "outputs": [],
   "source": [
    "from tensorflow.keras.layers import Dense, BatchNormalization, Activation, Dropout\n",
    "from tensorflow.keras.models import Sequential"
   ]
  },
  {
   "cell_type": "markdown",
   "id": "683459c5",
   "metadata": {
    "papermill": {
     "duration": 0.011041,
     "end_time": "2023-10-15T19:37:26.618448",
     "exception": false,
     "start_time": "2023-10-15T19:37:26.607407",
     "status": "completed"
    },
    "tags": []
   },
   "source": [
    "I start from two Dense layers "
   ]
  },
  {
   "cell_type": "code",
   "execution_count": 29,
   "id": "52b643ee",
   "metadata": {
    "execution": {
     "iopub.execute_input": "2023-10-15T19:37:26.641871Z",
     "iopub.status.busy": "2023-10-15T19:37:26.641319Z",
     "iopub.status.idle": "2023-10-15T19:37:44.458894Z",
     "shell.execute_reply": "2023-10-15T19:37:44.457950Z"
    },
    "papermill": {
     "duration": 17.831425,
     "end_time": "2023-10-15T19:37:44.461147",
     "exception": false,
     "start_time": "2023-10-15T19:37:26.629722",
     "status": "completed"
    },
    "tags": []
   },
   "outputs": [
    {
     "name": "stdout",
     "output_type": "stream",
     "text": [
      "Epoch 1/10\n",
      "14/14 [==============================] - 6s 127ms/step - loss: 1.3329 - custom_mean_rowwise_rmse: 1.3217 - val_loss: 1.1616 - val_custom_mean_rowwise_rmse: 1.1616\n",
      "Epoch 2/10\n",
      "14/14 [==============================] - 1s 51ms/step - loss: 1.3157 - custom_mean_rowwise_rmse: 1.3039 - val_loss: 1.1414 - val_custom_mean_rowwise_rmse: 1.1412\n",
      "Epoch 3/10\n",
      "14/14 [==============================] - 1s 83ms/step - loss: 1.3023 - custom_mean_rowwise_rmse: 1.3310 - val_loss: 1.1293 - val_custom_mean_rowwise_rmse: 1.1290\n",
      "Epoch 4/10\n",
      "14/14 [==============================] - 1s 37ms/step - loss: 1.2909 - custom_mean_rowwise_rmse: 1.2722 - val_loss: 1.1241 - val_custom_mean_rowwise_rmse: 1.1239\n",
      "Epoch 5/10\n",
      "14/14 [==============================] - 1s 28ms/step - loss: 1.2811 - custom_mean_rowwise_rmse: 1.3243 - val_loss: 1.1184 - val_custom_mean_rowwise_rmse: 1.1182\n",
      "Epoch 6/10\n",
      "14/14 [==============================] - 1s 41ms/step - loss: 1.2694 - custom_mean_rowwise_rmse: 1.2607 - val_loss: 1.1109 - val_custom_mean_rowwise_rmse: 1.1107\n",
      "Epoch 7/10\n",
      "14/14 [==============================] - 0s 34ms/step - loss: 1.2565 - custom_mean_rowwise_rmse: 1.2774 - val_loss: 1.1054 - val_custom_mean_rowwise_rmse: 1.1052\n",
      "Epoch 8/10\n",
      "14/14 [==============================] - 2s 185ms/step - loss: 1.2434 - custom_mean_rowwise_rmse: 1.2354 - val_loss: 1.1020 - val_custom_mean_rowwise_rmse: 1.1019\n",
      "Epoch 9/10\n",
      "14/14 [==============================] - 1s 41ms/step - loss: 1.2310 - custom_mean_rowwise_rmse: 1.2343 - val_loss: 1.0987 - val_custom_mean_rowwise_rmse: 1.0986\n",
      "Epoch 10/10\n",
      "14/14 [==============================] - 1s 53ms/step - loss: 1.2188 - custom_mean_rowwise_rmse: 1.2303 - val_loss: 1.0966 - val_custom_mean_rowwise_rmse: 1.0964\n"
     ]
    }
   ],
   "source": [
    "tf.random.set_seed(42)\n",
    "\n",
    "model_0 = Sequential([\n",
    "        Dense(512, activation='tanh'),\n",
    "        Dense(18211, activation='linear')\n",
    "])\n",
    "\n",
    "model_0.compile(loss=mean_rowwise_rmse_loss,\n",
    "               optimizer=tf.keras.optimizers.Adam(),\n",
    "               metrics=[custom_mean_rowwise_rmse])\n",
    "\n",
    "history_0 = model_0.fit(X_train, y_train,\n",
    "                       epochs=10,\n",
    "                       validation_data=(X_val, y_val),\n",
    "                       batch_size=32,\n",
    "                       callbacks=[create_model_checkpoint('model_0', monitor='val_custom_mean_rowwise_rmse')])"
   ]
  },
  {
   "cell_type": "code",
   "execution_count": 30,
   "id": "6f283d48",
   "metadata": {
    "execution": {
     "iopub.execute_input": "2023-10-15T19:37:44.489016Z",
     "iopub.status.busy": "2023-10-15T19:37:44.488725Z",
     "iopub.status.idle": "2023-10-15T19:37:45.019651Z",
     "shell.execute_reply": "2023-10-15T19:37:45.018472Z"
    },
    "papermill": {
     "duration": 0.54679,
     "end_time": "2023-10-15T19:37:45.021582",
     "exception": false,
     "start_time": "2023-10-15T19:37:44.474792",
     "status": "completed"
    },
    "tags": []
   },
   "outputs": [
    {
     "name": "stdout",
     "output_type": "stream",
     "text": [
      "93/93 [==============================] - 0s 2ms/step\n",
      "Mean Absolute Error (MAE): 0.7207976338006689\n",
      "Mean Rowwise Root Mean Squared Error (MRRMSE): 1.0687664962865042\n"
     ]
    }
   ],
   "source": [
    "model_0.load_weights(\"model_0\")\n",
    "calculate_mae_and_mrrmse(model=model_0, data=X_test, y_true=y_test)"
   ]
  },
  {
   "cell_type": "code",
   "execution_count": 31,
   "id": "d991e8b5",
   "metadata": {
    "execution": {
     "iopub.execute_input": "2023-10-15T19:37:45.050596Z",
     "iopub.status.busy": "2023-10-15T19:37:45.050321Z",
     "iopub.status.idle": "2023-10-15T19:37:46.529624Z",
     "shell.execute_reply": "2023-10-15T19:37:46.528183Z"
    },
    "papermill": {
     "duration": 1.495737,
     "end_time": "2023-10-15T19:37:46.531572",
     "exception": false,
     "start_time": "2023-10-15T19:37:45.035835",
     "status": "completed"
    },
    "tags": []
   },
   "outputs": [
    {
     "name": "stdout",
     "output_type": "stream",
     "text": [
      "614/614 [==============================] - 1s 1ms/step\n",
      "Mean Absolute Error (MAE): 0.7756063646439741\n",
      "Mean Rowwise Root Mean Squared Error (MRRMSE): 1.171456454447126\n"
     ]
    }
   ],
   "source": [
    "# Model performance on full data \n",
    "calculate_mae_and_mrrmse(model=model_0, data=full_features, y_true=full_labels)"
   ]
  },
  {
   "cell_type": "code",
   "execution_count": 32,
   "id": "c6b71397",
   "metadata": {
    "execution": {
     "iopub.execute_input": "2023-10-15T19:37:46.563491Z",
     "iopub.status.busy": "2023-10-15T19:37:46.562876Z",
     "iopub.status.idle": "2023-10-15T19:37:47.194909Z",
     "shell.execute_reply": "2023-10-15T19:37:47.194062Z"
    },
    "papermill": {
     "duration": 0.649781,
     "end_time": "2023-10-15T19:37:47.197335",
     "exception": false,
     "start_time": "2023-10-15T19:37:46.547554",
     "status": "completed"
    },
    "tags": []
   },
   "outputs": [
    {
     "data": {
      "image/png": "[encoded data removed]",
      "text/plain": [
       "<Figure size 1200x600 with 2 Axes>"
      ]
     },
     "metadata": {},
     "output_type": "display_data"
    }
   ],
   "source": [
    "plot_training_history(history_0, metrics=[\"custom_mean_rowwise_rmse\"])"
   ]
  },
  {
   "cell_type": "markdown",
   "id": "b19b00b8",
   "metadata": {
    "papermill": {
     "duration": 0.014592,
     "end_time": "2023-10-15T19:37:47.229604",
     "exception": false,
     "start_time": "2023-10-15T19:37:47.215012",
     "status": "completed"
    },
    "tags": []
   },
   "source": [
    "Model is not learning shit and it is underfitting XD\n",
    "\n",
    "Let me try giving it some more neurons and maybe switch up the learning rate."
   ]
  },
  {
   "cell_type": "code",
   "execution_count": 33,
   "id": "6ecf915b",
   "metadata": {
    "execution": {
     "iopub.execute_input": "2023-10-15T19:37:47.261964Z",
     "iopub.status.busy": "2023-10-15T19:37:47.261691Z",
     "iopub.status.idle": "2023-10-15T19:37:54.984286Z",
     "shell.execute_reply": "2023-10-15T19:37:54.983065Z"
    },
    "papermill": {
     "duration": 7.742586,
     "end_time": "2023-10-15T19:37:54.986770",
     "exception": false,
     "start_time": "2023-10-15T19:37:47.244184",
     "status": "completed"
    },
    "tags": []
   },
   "outputs": [
    {
     "name": "stdout",
     "output_type": "stream",
     "text": [
      "Epoch 1/30\n",
      "Epoch 2/30\n",
      "Epoch 3/30\n",
      "Epoch 4/30\n",
      "Epoch 5/30\n",
      "Epoch 6/30\n",
      "Epoch 7/30\n",
      "Epoch 8/30\n",
      "Epoch 9/30\n",
      "Epoch 10/30\n",
      "Epoch 11/30\n",
      "Epoch 12/30\n",
      "Epoch 13/30\n",
      "Epoch 14/30\n",
      "Epoch 15/30\n",
      "Epoch 16/30\n",
      "Epoch 17/30\n",
      "Epoch 18/30\n",
      "Epoch 19/30\n",
      "Epoch 20/30\n",
      "Epoch 21/30\n",
      "Epoch 22/30\n",
      "Epoch 23/30\n",
      "Epoch 24/30\n",
      "Epoch 25/30\n",
      "Epoch 26/30\n",
      "Epoch 27/30\n",
      "Epoch 28/30\n",
      "Epoch 29/30\n",
      "Epoch 30/30\n"
     ]
    }
   ],
   "source": [
    "tf.random.set_seed(42)\n",
    "\n",
    "model_1 = Sequential([\n",
    "        Dense(1024, activation='tanh'),\n",
    "        Dense(512, activation='tanh'),\n",
    "        Dense(18211, activation='linear')\n",
    "])\n",
    "\n",
    "model_1.compile(loss=mean_rowwise_rmse_loss,\n",
    "               optimizer=tf.keras.optimizers.Adam(),\n",
    "               metrics=[custom_mean_rowwise_rmse])\n",
    "\n",
    "history_1 = model_1.fit(X_train, y_train,\n",
    "           epochs=30,\n",
    "           validation_data=(X_val, y_val),\n",
    "           verbose=100,\n",
    "           callbacks=[create_model_checkpoint('model_1', monitor='val_mean_rowwise_rmse')])"
   ]
  },
  {
   "cell_type": "code",
   "execution_count": 34,
   "id": "29c690b0",
   "metadata": {
    "execution": {
     "iopub.execute_input": "2023-10-15T19:37:55.027828Z",
     "iopub.status.busy": "2023-10-15T19:37:55.027188Z",
     "iopub.status.idle": "2023-10-15T19:37:55.369231Z",
     "shell.execute_reply": "2023-10-15T19:37:55.368241Z"
    },
    "papermill": {
     "duration": 0.364405,
     "end_time": "2023-10-15T19:37:55.371225",
     "exception": false,
     "start_time": "2023-10-15T19:37:55.006820",
     "status": "completed"
    },
    "tags": []
   },
   "outputs": [
    {
     "name": "stdout",
     "output_type": "stream",
     "text": [
      "93/93 [==============================] - 0s 2ms/step\n",
      "Mean Absolute Error (MAE): 0.7197854454971272\n",
      "Mean Rowwise Root Mean Squared Error (MRRMSE): 1.038985367596891\n"
     ]
    }
   ],
   "source": [
    "# model_1.load_weights(\"model_1\")\n",
    "calculate_mae_and_mrrmse(model=model_1, data=X_test, y_true=y_test)"
   ]
  },
  {
   "cell_type": "code",
   "execution_count": 35,
   "id": "5a8e25c1",
   "metadata": {
    "execution": {
     "iopub.execute_input": "2023-10-15T19:37:55.411851Z",
     "iopub.status.busy": "2023-10-15T19:37:55.411259Z",
     "iopub.status.idle": "2023-10-15T19:37:56.923536Z",
     "shell.execute_reply": "2023-10-15T19:37:56.922235Z"
    },
    "papermill": {
     "duration": 1.531431,
     "end_time": "2023-10-15T19:37:56.925584",
     "exception": false,
     "start_time": "2023-10-15T19:37:55.394153",
     "status": "completed"
    },
    "tags": []
   },
   "outputs": [
    {
     "name": "stdout",
     "output_type": "stream",
     "text": [
      "614/614 [==============================] - 1s 1ms/step\n",
      "Mean Absolute Error (MAE): 0.7048298870387627\n",
      "Mean Rowwise Root Mean Squared Error (MRRMSE): 1.0203728317036933\n"
     ]
    }
   ],
   "source": [
    "calculate_mae_and_mrrmse(model=model_1, data=full_features, y_true=full_labels)"
   ]
  },
  {
   "cell_type": "code",
   "execution_count": 36,
   "id": "be4dfceb",
   "metadata": {
    "execution": {
     "iopub.execute_input": "2023-10-15T19:37:56.962508Z",
     "iopub.status.busy": "2023-10-15T19:37:56.962240Z",
     "iopub.status.idle": "2023-10-15T19:37:57.477811Z",
     "shell.execute_reply": "2023-10-15T19:37:57.476951Z"
    },
    "papermill": {
     "duration": 0.535754,
     "end_time": "2023-10-15T19:37:57.480309",
     "exception": false,
     "start_time": "2023-10-15T19:37:56.944555",
     "status": "completed"
    },
    "tags": []
   },
   "outputs": [
    {
     "data": {
      "image/png": "[encoded data removed]",
      "text/plain": [
       "<Figure size 1200x600 with 2 Axes>"
      ]
     },
     "metadata": {},
     "output_type": "display_data"
    }
   ],
   "source": [
    "plot_training_history(history_1, metrics=['custom_mean_rowwise_rmse'])"
   ]
  },
  {
   "cell_type": "markdown",
   "id": "f0c6ea7c",
   "metadata": {
    "papermill": {
     "duration": 0.017693,
     "end_time": "2023-10-15T19:37:57.517267",
     "exception": false,
     "start_time": "2023-10-15T19:37:57.499574",
     "status": "completed"
    },
    "tags": []
   },
   "source": [
    "Still bad! Improvable, by adding more neurons and trying different activations"
   ]
  },
  {
   "cell_type": "code",
   "execution_count": 37,
   "id": "43447bd1",
   "metadata": {
    "execution": {
     "iopub.execute_input": "2023-10-15T19:37:57.553934Z",
     "iopub.status.busy": "2023-10-15T19:37:57.553658Z",
     "iopub.status.idle": "2023-10-15T19:38:11.046472Z",
     "shell.execute_reply": "2023-10-15T19:38:11.045493Z"
    },
    "papermill": {
     "duration": 13.513789,
     "end_time": "2023-10-15T19:38:11.048675",
     "exception": false,
     "start_time": "2023-10-15T19:37:57.534886",
     "status": "completed"
    },
    "tags": []
   },
   "outputs": [
    {
     "name": "stdout",
     "output_type": "stream",
     "text": [
      "Epoch 1/30\n",
      "Epoch 2/30\n",
      "Epoch 3/30\n",
      "Epoch 4/30\n",
      "Epoch 5/30\n",
      "Epoch 6/30\n",
      "Epoch 7/30\n",
      "Epoch 8/30\n",
      "Epoch 9/30\n",
      "Epoch 10/30\n",
      "Epoch 11/30\n",
      "Epoch 12/30\n",
      "Epoch 13/30\n",
      "Epoch 14/30\n",
      "Epoch 15/30\n",
      "Epoch 16/30\n",
      "Epoch 17/30\n",
      "Epoch 18/30\n",
      "Epoch 19/30\n",
      "Epoch 20/30\n",
      "Epoch 21/30\n",
      "Epoch 22/30\n",
      "Epoch 23/30\n",
      "Epoch 24/30\n",
      "Epoch 25/30\n",
      "Epoch 26/30\n",
      "Epoch 27/30\n",
      "Epoch 28/30\n",
      "Epoch 29/30\n",
      "Epoch 30/30\n"
     ]
    }
   ],
   "source": [
    "tf.random.set_seed(42)\n",
    "\n",
    "model_2 = Sequential([\n",
    "        Dense(1024, activation='relu'),\n",
    "        BatchNormalization(),\n",
    "        Activation('relu'),\n",
    "        Dropout(0.2),\n",
    "        Dense(512, activation='relu'),\n",
    "        Dropout(0.2),\n",
    "        BatchNormalization(),\n",
    "        Dense(256, activation='relu'),\n",
    "        Dropout(0.2),\n",
    "        Dense(128, activation='relu'),\n",
    "        Dropout(0.2),\n",
    "        Dense(18211, activation='linear')\n",
    "])\n",
    "\n",
    "model_2.compile(loss='mae',\n",
    "               optimizer=tf.keras.optimizers.Adam(learning_rate=0.0001),\n",
    "               metrics=['mae'])\n",
    "\n",
    "history_2 = model_2.fit(X_train, y_train,\n",
    "           epochs=30,\n",
    "           validation_data=(X_val, y_val),\n",
    "           verbose=100,\n",
    "           callbacks=[create_model_checkpoint('model_2', monitor='val_mae')])"
   ]
  },
  {
   "cell_type": "code",
   "execution_count": 38,
   "id": "bf2489bd",
   "metadata": {
    "execution": {
     "iopub.execute_input": "2023-10-15T19:38:11.088778Z",
     "iopub.status.busy": "2023-10-15T19:38:11.088484Z",
     "iopub.status.idle": "2023-10-15T19:38:11.475115Z",
     "shell.execute_reply": "2023-10-15T19:38:11.473601Z"
    },
    "papermill": {
     "duration": 0.408657,
     "end_time": "2023-10-15T19:38:11.477053",
     "exception": false,
     "start_time": "2023-10-15T19:38:11.068396",
     "status": "completed"
    },
    "tags": []
   },
   "outputs": [
    {
     "name": "stdout",
     "output_type": "stream",
     "text": [
      "93/93 [==============================] - 0s 2ms/step\n",
      "Mean Absolute Error (MAE): 0.7328167149417898\n",
      "Mean Rowwise Root Mean Squared Error (MRRMSE): 1.115737853900657\n"
     ]
    }
   ],
   "source": [
    "calculate_mae_and_mrrmse(model=model_2, data=X_test, y_true=y_test)"
   ]
  },
  {
   "cell_type": "code",
   "execution_count": 39,
   "id": "c4e812be",
   "metadata": {
    "execution": {
     "iopub.execute_input": "2023-10-15T19:38:11.520822Z",
     "iopub.status.busy": "2023-10-15T19:38:11.520035Z",
     "iopub.status.idle": "2023-10-15T19:38:13.173308Z",
     "shell.execute_reply": "2023-10-15T19:38:13.171876Z"
    },
    "papermill": {
     "duration": 1.676789,
     "end_time": "2023-10-15T19:38:13.175576",
     "exception": false,
     "start_time": "2023-10-15T19:38:11.498787",
     "status": "completed"
    },
    "tags": []
   },
   "outputs": [
    {
     "name": "stdout",
     "output_type": "stream",
     "text": [
      "614/614 [==============================] - 1s 2ms/step\n",
      "Mean Absolute Error (MAE): 0.7704472193613666\n",
      "Mean Rowwise Root Mean Squared Error (MRRMSE): 1.1927247590336032\n"
     ]
    }
   ],
   "source": [
    "calculate_mae_and_mrrmse(model=model_2, data=full_features, y_true=full_labels)"
   ]
  },
  {
   "cell_type": "code",
   "execution_count": 40,
   "id": "8644d746",
   "metadata": {
    "execution": {
     "iopub.execute_input": "2023-10-15T19:38:13.219286Z",
     "iopub.status.busy": "2023-10-15T19:38:13.218470Z",
     "iopub.status.idle": "2023-10-15T19:38:13.708831Z",
     "shell.execute_reply": "2023-10-15T19:38:13.707985Z"
    },
    "papermill": {
     "duration": 0.513362,
     "end_time": "2023-10-15T19:38:13.710821",
     "exception": false,
     "start_time": "2023-10-15T19:38:13.197459",
     "status": "completed"
    },
    "tags": []
   },
   "outputs": [
    {
     "data": {
      "image/png": "[encoded data removed]",
      "text/plain": [
       "<Figure size 1200x600 with 2 Axes>"
      ]
     },
     "metadata": {},
     "output_type": "display_data"
    }
   ],
   "source": [
    "#  Visualize the learning from our helper functions\n",
    "plot_training_history(history_2, metrics=[\"mae\"])"
   ]
  },
  {
   "cell_type": "code",
   "execution_count": 41,
   "id": "0e5c1181",
   "metadata": {
    "execution": {
     "iopub.execute_input": "2023-10-15T19:38:13.756183Z",
     "iopub.status.busy": "2023-10-15T19:38:13.755322Z",
     "iopub.status.idle": "2023-10-15T19:38:26.624885Z",
     "shell.execute_reply": "2023-10-15T19:38:26.623886Z"
    },
    "papermill": {
     "duration": 12.893738,
     "end_time": "2023-10-15T19:38:26.627115",
     "exception": false,
     "start_time": "2023-10-15T19:38:13.733377",
     "status": "completed"
    },
    "tags": []
   },
   "outputs": [
    {
     "name": "stdout",
     "output_type": "stream",
     "text": [
      "Epoch 1/25\n",
      "14/14 [==============================] - 4s 92ms/step - loss: 0.8743 - custom_mean_rowwise_rmse: 1.3178 - val_loss: 0.7616 - val_custom_mean_rowwise_rmse: 1.1748\n",
      "Epoch 2/25\n",
      "14/14 [==============================] - 0s 18ms/step - loss: 0.8481 - custom_mean_rowwise_rmse: 1.2849 - val_loss: 0.7621 - val_custom_mean_rowwise_rmse: 1.1751\n",
      "Epoch 3/25\n",
      "14/14 [==============================] - 1s 38ms/step - loss: 0.8133 - custom_mean_rowwise_rmse: 1.2746 - val_loss: 0.7633 - val_custom_mean_rowwise_rmse: 1.1761\n",
      "Epoch 4/25\n",
      "14/14 [==============================] - 0s 22ms/step - loss: 0.7532 - custom_mean_rowwise_rmse: 1.1596 - val_loss: 0.7618 - val_custom_mean_rowwise_rmse: 1.1740\n",
      "Epoch 5/25\n",
      "14/14 [==============================] - 0s 8ms/step - loss: 0.7146 - custom_mean_rowwise_rmse: 1.1400 - val_loss: 0.7641 - val_custom_mean_rowwise_rmse: 1.1766\n",
      "Epoch 6/25\n",
      "14/14 [==============================] - 0s 8ms/step - loss: 0.6958 - custom_mean_rowwise_rmse: 1.0851 - val_loss: 0.7630 - val_custom_mean_rowwise_rmse: 1.1752\n",
      "Epoch 7/25\n",
      "14/14 [==============================] - 0s 22ms/step - loss: 0.6927 - custom_mean_rowwise_rmse: 1.1063 - val_loss: 0.7602 - val_custom_mean_rowwise_rmse: 1.1724\n",
      "Epoch 8/25\n",
      "14/14 [==============================] - 0s 9ms/step - loss: 0.6769 - custom_mean_rowwise_rmse: 1.0566 - val_loss: 0.7618 - val_custom_mean_rowwise_rmse: 1.1743\n",
      "Epoch 9/25\n",
      "14/14 [==============================] - 0s 21ms/step - loss: 0.6699 - custom_mean_rowwise_rmse: 1.0542 - val_loss: 0.7603 - val_custom_mean_rowwise_rmse: 1.1724\n",
      "Epoch 10/25\n",
      "14/14 [==============================] - 0s 19ms/step - loss: 0.6970 - custom_mean_rowwise_rmse: 1.0811 - val_loss: 0.7585 - val_custom_mean_rowwise_rmse: 1.1705\n",
      "Epoch 11/25\n",
      "14/14 [==============================] - 0s 19ms/step - loss: 0.6753 - custom_mean_rowwise_rmse: 1.0439 - val_loss: 0.7582 - val_custom_mean_rowwise_rmse: 1.1701\n",
      "Epoch 12/25\n",
      "14/14 [==============================] - 0s 8ms/step - loss: 0.6814 - custom_mean_rowwise_rmse: 1.0621 - val_loss: 0.7584 - val_custom_mean_rowwise_rmse: 1.1702\n",
      "Epoch 13/25\n",
      "14/14 [==============================] - 0s 18ms/step - loss: 0.6601 - custom_mean_rowwise_rmse: 1.0441 - val_loss: 0.7568 - val_custom_mean_rowwise_rmse: 1.1682\n",
      "Epoch 14/25\n",
      "14/14 [==============================] - 0s 24ms/step - loss: 0.6835 - custom_mean_rowwise_rmse: 1.1075 - val_loss: 0.7558 - val_custom_mean_rowwise_rmse: 1.1670\n",
      "Epoch 15/25\n",
      "14/14 [==============================] - 0s 21ms/step - loss: 0.6308 - custom_mean_rowwise_rmse: 0.9910 - val_loss: 0.7539 - val_custom_mean_rowwise_rmse: 1.1642\n",
      "Epoch 16/25\n",
      "14/14 [==============================] - 0s 8ms/step - loss: 0.6395 - custom_mean_rowwise_rmse: 1.0062 - val_loss: 0.7538 - val_custom_mean_rowwise_rmse: 1.1643\n",
      "Epoch 17/25\n",
      "14/14 [==============================] - 0s 21ms/step - loss: 0.6544 - custom_mean_rowwise_rmse: 1.0349 - val_loss: 0.7472 - val_custom_mean_rowwise_rmse: 1.1554\n",
      "Epoch 18/25\n",
      "14/14 [==============================] - 0s 22ms/step - loss: 0.6532 - custom_mean_rowwise_rmse: 1.0651 - val_loss: 0.7464 - val_custom_mean_rowwise_rmse: 1.1553\n",
      "Epoch 19/25\n",
      "14/14 [==============================] - 0s 9ms/step - loss: 0.6560 - custom_mean_rowwise_rmse: 1.0246 - val_loss: 0.7481 - val_custom_mean_rowwise_rmse: 1.1563\n",
      "Epoch 20/25\n",
      "14/14 [==============================] - 0s 20ms/step - loss: 0.6222 - custom_mean_rowwise_rmse: 0.9895 - val_loss: 0.7424 - val_custom_mean_rowwise_rmse: 1.1500\n",
      "Epoch 21/25\n",
      "14/14 [==============================] - 0s 22ms/step - loss: 0.6159 - custom_mean_rowwise_rmse: 0.9819 - val_loss: 0.7382 - val_custom_mean_rowwise_rmse: 1.1421\n",
      "Epoch 22/25\n",
      "14/14 [==============================] - 0s 22ms/step - loss: 0.6215 - custom_mean_rowwise_rmse: 0.9880 - val_loss: 0.7377 - val_custom_mean_rowwise_rmse: 1.1398\n",
      "Epoch 23/25\n",
      "14/14 [==============================] - 0s 8ms/step - loss: 0.6181 - custom_mean_rowwise_rmse: 0.9735 - val_loss: 0.7438 - val_custom_mean_rowwise_rmse: 1.1501\n",
      "Epoch 24/25\n",
      "14/14 [==============================] - 0s 22ms/step - loss: 0.6527 - custom_mean_rowwise_rmse: 1.0224 - val_loss: 0.7348 - val_custom_mean_rowwise_rmse: 1.1365\n",
      "Epoch 25/25\n",
      "14/14 [==============================] - 0s 31ms/step - loss: 0.6219 - custom_mean_rowwise_rmse: 0.9946 - val_loss: 0.7343 - val_custom_mean_rowwise_rmse: 1.1362\n"
     ]
    }
   ],
   "source": [
    "tf.random.set_seed(42)\n",
    "\n",
    "# clone model 2\n",
    "model_3 = tf.keras.models.clone_model(model_2)\n",
    "\n",
    "model_3.compile(loss=\"mae\", \n",
    "                optimizer=tf.keras.optimizers.Adam(learning_rate=0.0027),\n",
    "                metrics=[custom_mean_rowwise_rmse])\n",
    "\n",
    "history_3 = model_3.fit(X_train, y_train,\n",
    "                       epochs=25,\n",
    "                       validation_data=(X_val,y_val),\n",
    "                       callbacks=[create_model_checkpoint(\"model_3\", monitor=\"val_custom_mean_rowwise_rmse\")])"
   ]
  },
  {
   "cell_type": "markdown",
   "id": "efa08588",
   "metadata": {
    "papermill": {
     "duration": 0.025216,
     "end_time": "2023-10-15T19:38:26.678250",
     "exception": false,
     "start_time": "2023-10-15T19:38:26.653034",
     "status": "completed"
    },
    "tags": []
   },
   "source": [
    "I really dont know what I am doing wrong at this point but let's just proceed!"
   ]
  },
  {
   "cell_type": "code",
   "execution_count": 42,
   "id": "3d70d359",
   "metadata": {
    "execution": {
     "iopub.execute_input": "2023-10-15T19:38:26.730393Z",
     "iopub.status.busy": "2023-10-15T19:38:26.730110Z",
     "iopub.status.idle": "2023-10-15T19:38:27.184601Z",
     "shell.execute_reply": "2023-10-15T19:38:27.183434Z"
    },
    "papermill": {
     "duration": 0.482964,
     "end_time": "2023-10-15T19:38:27.186426",
     "exception": false,
     "start_time": "2023-10-15T19:38:26.703462",
     "status": "completed"
    },
    "tags": []
   },
   "outputs": [
    {
     "name": "stdout",
     "output_type": "stream",
     "text": [
      "93/93 [==============================] - 0s 2ms/step\n",
      "Mean Absolute Error (MAE): 0.7225509283544114\n",
      "Mean Rowwise Root Mean Squared Error (MRRMSE): 1.1013131331528656\n"
     ]
    }
   ],
   "source": [
    "model_3.load_weights(\"model_3\")\n",
    "calculate_mae_and_mrrmse(model=model_3, data=X_test, y_true=y_test)"
   ]
  },
  {
   "cell_type": "code",
   "execution_count": 43,
   "id": "e55c889c",
   "metadata": {
    "execution": {
     "iopub.execute_input": "2023-10-15T19:38:27.241052Z",
     "iopub.status.busy": "2023-10-15T19:38:27.240246Z",
     "iopub.status.idle": "2023-10-15T19:38:28.864140Z",
     "shell.execute_reply": "2023-10-15T19:38:28.862727Z"
    },
    "papermill": {
     "duration": 1.652695,
     "end_time": "2023-10-15T19:38:28.866143",
     "exception": false,
     "start_time": "2023-10-15T19:38:27.213448",
     "status": "completed"
    },
    "tags": []
   },
   "outputs": [
    {
     "name": "stdout",
     "output_type": "stream",
     "text": [
      "614/614 [==============================] - 1s 1ms/step\n",
      "Mean Absolute Error (MAE): 0.7351261044148423\n",
      "Mean Rowwise Root Mean Squared Error (MRRMSE): 1.1433053005290774\n"
     ]
    }
   ],
   "source": [
    "calculate_mae_and_mrrmse(model=model_3, data=full_features, y_true=full_labels)"
   ]
  },
  {
   "cell_type": "code",
   "execution_count": 44,
   "id": "ae04d4c9",
   "metadata": {
    "execution": {
     "iopub.execute_input": "2023-10-15T19:38:28.932088Z",
     "iopub.status.busy": "2023-10-15T19:38:28.931736Z",
     "iopub.status.idle": "2023-10-15T19:38:29.497330Z",
     "shell.execute_reply": "2023-10-15T19:38:29.496471Z"
    },
    "papermill": {
     "duration": 0.604199,
     "end_time": "2023-10-15T19:38:29.499472",
     "exception": false,
     "start_time": "2023-10-15T19:38:28.895273",
     "status": "completed"
    },
    "tags": []
   },
   "outputs": [
    {
     "data": {
      "image/png": "[encoded data removed]",
      "text/plain": [
       "<Figure size 1200x600 with 2 Axes>"
      ]
     },
     "metadata": {},
     "output_type": "display_data"
    }
   ],
   "source": [
    "plot_training_history(history_3, metrics=[\"custom_mean_rowwise_rmse\"])"
   ]
  },
  {
   "cell_type": "markdown",
   "id": "08fa8ca5",
   "metadata": {
    "papermill": {
     "duration": 0.027197,
     "end_time": "2023-10-15T19:38:29.555018",
     "exception": false,
     "start_time": "2023-10-15T19:38:29.527821",
     "status": "completed"
    },
    "tags": []
   },
   "source": [
    "Random but let me now try K-fold validation on the data"
   ]
  },
  {
   "cell_type": "code",
   "execution_count": 45,
   "id": "8c6e9de3",
   "metadata": {
    "execution": {
     "iopub.execute_input": "2023-10-15T19:38:29.611301Z",
     "iopub.status.busy": "2023-10-15T19:38:29.610713Z",
     "iopub.status.idle": "2023-10-15T19:38:29.667218Z",
     "shell.execute_reply": "2023-10-15T19:38:29.666351Z"
    },
    "papermill": {
     "duration": 0.086786,
     "end_time": "2023-10-15T19:38:29.669152",
     "exception": false,
     "start_time": "2023-10-15T19:38:29.582366",
     "status": "completed"
    },
    "tags": []
   },
   "outputs": [],
   "source": [
    "tf.random.set_seed(42)\n",
    "\n",
    "# clone model 2\n",
    "model_4 = Sequential([ \n",
    "    Dense(256),\n",
    "    BatchNormalization(),\n",
    "    Activation(\"relu\"),\n",
    "    Dropout(0.2),\n",
    "    Dense(128, activation=\"relu\"),\n",
    "    Dropout(0.2),\n",
    "    Dense(64, activation=\"relu\"),\n",
    "    BatchNormalization(),\n",
    "    Dropout(0.2),\n",
    "    Dense(32, activation=\"relu\"),\n",
    "    Dropout(0.2),\n",
    "    Dense(16, activation=\"relu\"),\n",
    "    Dropout(0.1),\n",
    "    Dense(18211,activation= \"linear\")\n",
    "])\n",
    "\n",
    "model_4.compile(loss=\"mae\", \n",
    "                optimizer=tf.keras.optimizers.Adam(),\n",
    "                metrics=[custom_mean_rowwise_rmse])"
   ]
  },
  {
   "cell_type": "code",
   "execution_count": 46,
   "id": "2ae50f9b",
   "metadata": {
    "execution": {
     "iopub.execute_input": "2023-10-15T19:38:29.726774Z",
     "iopub.status.busy": "2023-10-15T19:38:29.726507Z",
     "iopub.status.idle": "2023-10-15T19:39:25.752511Z",
     "shell.execute_reply": "2023-10-15T19:39:25.751029Z"
    },
    "papermill": {
     "duration": 56.056792,
     "end_time": "2023-10-15T19:39:25.754544",
     "exception": false,
     "start_time": "2023-10-15T19:38:29.697752",
     "status": "completed"
    },
    "tags": []
   },
   "outputs": [
    {
     "name": "stdout",
     "output_type": "stream",
     "text": [
      "2/2 [==============================] - 0s 4ms/step\n",
      "2/2 [==============================] - 0s 4ms/step\n",
      "2/2 [==============================] - 0s 4ms/step\n",
      "2/2 [==============================] - 0s 4ms/step\n",
      "2/2 [==============================] - 0s 4ms/step\n",
      "2/2 [==============================] - 0s 4ms/step\n",
      "2/2 [==============================] - 0s 3ms/step\n",
      "2/2 [==============================] - 0s 3ms/step\n",
      "2/2 [==============================] - 0s 4ms/step\n",
      "2/2 [==============================] - 0s 4ms/step\n",
      "Average MAE across 10 folds: 0.6075 \n",
      "Average MRRMSE across 10 folds: 0.9907\n"
     ]
    }
   ],
   "source": [
    "from sklearn.model_selection import KFold\n",
    "\n",
    "# Define the number of folds (K)\n",
    "num_folds = 10 # You can change this value as needed\n",
    "\n",
    "# Initialize lists to store the model's performance scores\n",
    "mae_scores = []\n",
    "mrrmse_scores = []\n",
    "\n",
    "# Initialize the KFold object\n",
    "kf = KFold(n_splits=num_folds, shuffle=True, random_state=51)\n",
    "\n",
    "# Loop through the K folds\n",
    "for train_index, val_index in kf.split(full_features):\n",
    "    # Convert indices to integers and split the data\n",
    "    train_index = train_index.astype(int)\n",
    "    val_index = val_index.astype(int)\n",
    "    X_train_, X_val_ = full_features[train_index], full_features[val_index]\n",
    "    y_train_, y_val_ = full_labels[train_index], full_labels[val_index]\n",
    "\n",
    "    # Train your model on X_train and y_train\n",
    "    model_4.fit(X_train_, y_train_, epochs=50, verbose=0)\n",
    "\n",
    "    # Make predictions on the validation set\n",
    "    y_preds = model_4.predict(X_val_)\n",
    "\n",
    "    # Calculate the Mean Absolute Error (MAE)\n",
    "    mae = mean_absolute_error(y_val_, y_preds)\n",
    "    mae_scores.append(mae)\n",
    "\n",
    "    # Calculate the Mean Rowwise Root Mean Square Error (MRRMSE)\n",
    "    rowwise_rmse = np.sqrt(np.mean(np.square(y_val_ - y_preds), axis=1))\n",
    "    mrrmse_score = np.mean(rowwise_rmse)\n",
    "    mrrmse_scores.append(mrrmse_score)\n",
    "\n",
    "# Calculate the mean and standard deviation of MAE and MRRMSE scores\n",
    "mean_mae = np.mean(mae_scores)\n",
    "mean_mrrmse = np.mean(mrrmse_scores)\n",
    "\n",
    "# Print the results\n",
    "print(f'Average MAE across {num_folds} folds: {mean_mae:.4f} ')\n",
    "print(f'Average MRRMSE across {num_folds} folds: {mean_mrrmse:.4f}')"
   ]
  },
  {
   "cell_type": "markdown",
   "id": "da06b017",
   "metadata": {
    "papermill": {
     "duration": 0.028352,
     "end_time": "2023-10-15T19:39:25.812811",
     "exception": false,
     "start_time": "2023-10-15T19:39:25.784459",
     "status": "completed"
    },
    "tags": []
   },
   "source": [
    "Okay this is cool!"
   ]
  },
  {
   "cell_type": "markdown",
   "id": "dff1490f",
   "metadata": {
    "papermill": {
     "duration": 0.027733,
     "end_time": "2023-10-15T19:39:25.868450",
     "exception": false,
     "start_time": "2023-10-15T19:39:25.840717",
     "status": "completed"
    },
    "tags": []
   },
   "source": [
    "Now predict!"
   ]
  },
  {
   "cell_type": "code",
   "execution_count": 47,
   "id": "6d0d3f88",
   "metadata": {
    "execution": {
     "iopub.execute_input": "2023-10-15T19:39:25.926334Z",
     "iopub.status.busy": "2023-10-15T19:39:25.925997Z",
     "iopub.status.idle": "2023-10-15T19:39:26.518774Z",
     "shell.execute_reply": "2023-10-15T19:39:26.517776Z"
    },
    "papermill": {
     "duration": 0.624434,
     "end_time": "2023-10-15T19:39:26.520857",
     "exception": false,
     "start_time": "2023-10-15T19:39:25.896423",
     "status": "completed"
    },
    "tags": []
   },
   "outputs": [
    {
     "name": "stdout",
     "output_type": "stream",
     "text": [
      "255/255 [==============================] - 0s 2ms/step\n"
     ]
    }
   ],
   "source": [
    "preds = model_4.predict(one_hot_test.toarray(), batch_size=1)"
   ]
  },
  {
   "cell_type": "code",
   "execution_count": 48,
   "id": "d9194c1b",
   "metadata": {
    "execution": {
     "iopub.execute_input": "2023-10-15T19:39:26.580860Z",
     "iopub.status.busy": "2023-10-15T19:39:26.580072Z",
     "iopub.status.idle": "2023-10-15T19:39:26.586205Z",
     "shell.execute_reply": "2023-10-15T19:39:26.585306Z"
    },
    "papermill": {
     "duration": 0.037519,
     "end_time": "2023-10-15T19:39:26.587851",
     "exception": false,
     "start_time": "2023-10-15T19:39:26.550332",
     "status": "completed"
    },
    "tags": []
   },
   "outputs": [
    {
     "data": {
      "text/plain": [
       "(255, 18211)"
      ]
     },
     "execution_count": 48,
     "metadata": {},
     "output_type": "execute_result"
    }
   ],
   "source": [
    "preds.shape"
   ]
  },
  {
   "cell_type": "code",
   "execution_count": 49,
   "id": "c6b6e1ae",
   "metadata": {
    "execution": {
     "iopub.execute_input": "2023-10-15T19:39:26.648147Z",
     "iopub.status.busy": "2023-10-15T19:39:26.647765Z",
     "iopub.status.idle": "2023-10-15T19:39:26.652070Z",
     "shell.execute_reply": "2023-10-15T19:39:26.651125Z"
    },
    "papermill": {
     "duration": 0.035039,
     "end_time": "2023-10-15T19:39:26.653666",
     "exception": false,
     "start_time": "2023-10-15T19:39:26.618627",
     "status": "completed"
    },
    "tags": []
   },
   "outputs": [],
   "source": [
    "sample_columns = sample_submission.columns\n",
    "sample_columns= sample_columns[1:]\n",
    "submission_df = pd.DataFrame(preds, columns=sample_columns)"
   ]
  },
  {
   "cell_type": "code",
   "execution_count": 50,
   "id": "6a4f4522",
   "metadata": {
    "execution": {
     "iopub.execute_input": "2023-10-15T19:39:26.711561Z",
     "iopub.status.busy": "2023-10-15T19:39:26.711091Z",
     "iopub.status.idle": "2023-10-15T19:39:26.717721Z",
     "shell.execute_reply": "2023-10-15T19:39:26.716961Z"
    },
    "papermill": {
     "duration": 0.037499,
     "end_time": "2023-10-15T19:39:26.719386",
     "exception": false,
     "start_time": "2023-10-15T19:39:26.681887",
     "status": "completed"
    },
    "tags": []
   },
   "outputs": [],
   "source": [
    "submission_df.insert(0, 'id', range(255))"
   ]
  },
  {
   "cell_type": "code",
   "execution_count": 51,
   "id": "a9c66c8d",
   "metadata": {
    "execution": {
     "iopub.execute_input": "2023-10-15T19:39:26.778758Z",
     "iopub.status.busy": "2023-10-15T19:39:26.778475Z",
     "iopub.status.idle": "2023-10-15T19:39:26.810137Z",
     "shell.execute_reply": "2023-10-15T19:39:26.809180Z"
    },
    "papermill": {
     "duration": 0.063015,
     "end_time": "2023-10-15T19:39:26.811828",
     "exception": false,
     "start_time": "2023-10-15T19:39:26.748813",
     "status": "completed"
    },
    "tags": []
   },
   "outputs": [
    {
     "data": {
      "text/html": [
       "<div>\n",
       "<style scoped>\n",
       "    .dataframe tbody tr th:only-of-type {\n",
       "        vertical-align: middle;\n",
       "    }\n",
       "\n",
       "    .dataframe tbody tr th {\n",
       "        vertical-align: top;\n",
       "    }\n",
       "\n",
       "    .dataframe thead th {\n",
       "        text-align: right;\n",
       "    }\n",
       "</style>\n",
       "<table border=\"1\" class=\"dataframe\">\n",
       "  <thead>\n",
       "    <tr style=\"text-align: right;\">\n",
       "      <th></th>\n",
       "      <th>id</th>\n",
       "      <th>A1BG</th>\n",
       "      <th>A1BG-AS1</th>\n",
       "      <th>A2M</th>\n",
       "      <th>A2M-AS1</th>\n",
       "      <th>A2MP1</th>\n",
       "      <th>A4GALT</th>\n",
       "      <th>AAAS</th>\n",
       "      <th>AACS</th>\n",
       "      <th>AAGAB</th>\n",
       "      <th>...</th>\n",
       "      <th>ZUP1</th>\n",
       "      <th>ZW10</th>\n",
       "      <th>ZWILCH</th>\n",
       "      <th>ZWINT</th>\n",
       "      <th>ZXDA</th>\n",
       "      <th>ZXDB</th>\n",
       "      <th>ZXDC</th>\n",
       "      <th>ZYG11B</th>\n",
       "      <th>ZYX</th>\n",
       "      <th>ZZEF1</th>\n",
       "    </tr>\n",
       "  </thead>\n",
       "  <tbody>\n",
       "    <tr>\n",
       "      <th>0</th>\n",
       "      <td>0</td>\n",
       "      <td>0.0</td>\n",
       "      <td>0.0</td>\n",
       "      <td>0.0</td>\n",
       "      <td>0.0</td>\n",
       "      <td>0.0</td>\n",
       "      <td>0.0</td>\n",
       "      <td>0.0</td>\n",
       "      <td>0.0</td>\n",
       "      <td>0.0</td>\n",
       "      <td>...</td>\n",
       "      <td>0.0</td>\n",
       "      <td>0.0</td>\n",
       "      <td>0.0</td>\n",
       "      <td>0.0</td>\n",
       "      <td>0.0</td>\n",
       "      <td>0.0</td>\n",
       "      <td>0.0</td>\n",
       "      <td>0.0</td>\n",
       "      <td>0.0</td>\n",
       "      <td>0.0</td>\n",
       "    </tr>\n",
       "    <tr>\n",
       "      <th>1</th>\n",
       "      <td>1</td>\n",
       "      <td>0.0</td>\n",
       "      <td>0.0</td>\n",
       "      <td>0.0</td>\n",
       "      <td>0.0</td>\n",
       "      <td>0.0</td>\n",
       "      <td>0.0</td>\n",
       "      <td>0.0</td>\n",
       "      <td>0.0</td>\n",
       "      <td>0.0</td>\n",
       "      <td>...</td>\n",
       "      <td>0.0</td>\n",
       "      <td>0.0</td>\n",
       "      <td>0.0</td>\n",
       "      <td>0.0</td>\n",
       "      <td>0.0</td>\n",
       "      <td>0.0</td>\n",
       "      <td>0.0</td>\n",
       "      <td>0.0</td>\n",
       "      <td>0.0</td>\n",
       "      <td>0.0</td>\n",
       "    </tr>\n",
       "    <tr>\n",
       "      <th>2</th>\n",
       "      <td>2</td>\n",
       "      <td>0.0</td>\n",
       "      <td>0.0</td>\n",
       "      <td>0.0</td>\n",
       "      <td>0.0</td>\n",
       "      <td>0.0</td>\n",
       "      <td>0.0</td>\n",
       "      <td>0.0</td>\n",
       "      <td>0.0</td>\n",
       "      <td>0.0</td>\n",
       "      <td>...</td>\n",
       "      <td>0.0</td>\n",
       "      <td>0.0</td>\n",
       "      <td>0.0</td>\n",
       "      <td>0.0</td>\n",
       "      <td>0.0</td>\n",
       "      <td>0.0</td>\n",
       "      <td>0.0</td>\n",
       "      <td>0.0</td>\n",
       "      <td>0.0</td>\n",
       "      <td>0.0</td>\n",
       "    </tr>\n",
       "    <tr>\n",
       "      <th>3</th>\n",
       "      <td>3</td>\n",
       "      <td>0.0</td>\n",
       "      <td>0.0</td>\n",
       "      <td>0.0</td>\n",
       "      <td>0.0</td>\n",
       "      <td>0.0</td>\n",
       "      <td>0.0</td>\n",
       "      <td>0.0</td>\n",
       "      <td>0.0</td>\n",
       "      <td>0.0</td>\n",
       "      <td>...</td>\n",
       "      <td>0.0</td>\n",
       "      <td>0.0</td>\n",
       "      <td>0.0</td>\n",
       "      <td>0.0</td>\n",
       "      <td>0.0</td>\n",
       "      <td>0.0</td>\n",
       "      <td>0.0</td>\n",
       "      <td>0.0</td>\n",
       "      <td>0.0</td>\n",
       "      <td>0.0</td>\n",
       "    </tr>\n",
       "    <tr>\n",
       "      <th>4</th>\n",
       "      <td>4</td>\n",
       "      <td>0.0</td>\n",
       "      <td>0.0</td>\n",
       "      <td>0.0</td>\n",
       "      <td>0.0</td>\n",
       "      <td>0.0</td>\n",
       "      <td>0.0</td>\n",
       "      <td>0.0</td>\n",
       "      <td>0.0</td>\n",
       "      <td>0.0</td>\n",
       "      <td>...</td>\n",
       "      <td>0.0</td>\n",
       "      <td>0.0</td>\n",
       "      <td>0.0</td>\n",
       "      <td>0.0</td>\n",
       "      <td>0.0</td>\n",
       "      <td>0.0</td>\n",
       "      <td>0.0</td>\n",
       "      <td>0.0</td>\n",
       "      <td>0.0</td>\n",
       "      <td>0.0</td>\n",
       "    </tr>\n",
       "    <tr>\n",
       "      <th>...</th>\n",
       "      <td>...</td>\n",
       "      <td>...</td>\n",
       "      <td>...</td>\n",
       "      <td>...</td>\n",
       "      <td>...</td>\n",
       "      <td>...</td>\n",
       "      <td>...</td>\n",
       "      <td>...</td>\n",
       "      <td>...</td>\n",
       "      <td>...</td>\n",
       "      <td>...</td>\n",
       "      <td>...</td>\n",
       "      <td>...</td>\n",
       "      <td>...</td>\n",
       "      <td>...</td>\n",
       "      <td>...</td>\n",
       "      <td>...</td>\n",
       "      <td>...</td>\n",
       "      <td>...</td>\n",
       "      <td>...</td>\n",
       "      <td>...</td>\n",
       "    </tr>\n",
       "    <tr>\n",
       "      <th>250</th>\n",
       "      <td>250</td>\n",
       "      <td>0.0</td>\n",
       "      <td>0.0</td>\n",
       "      <td>0.0</td>\n",
       "      <td>0.0</td>\n",
       "      <td>0.0</td>\n",
       "      <td>0.0</td>\n",
       "      <td>0.0</td>\n",
       "      <td>0.0</td>\n",
       "      <td>0.0</td>\n",
       "      <td>...</td>\n",
       "      <td>0.0</td>\n",
       "      <td>0.0</td>\n",
       "      <td>0.0</td>\n",
       "      <td>0.0</td>\n",
       "      <td>0.0</td>\n",
       "      <td>0.0</td>\n",
       "      <td>0.0</td>\n",
       "      <td>0.0</td>\n",
       "      <td>0.0</td>\n",
       "      <td>0.0</td>\n",
       "    </tr>\n",
       "    <tr>\n",
       "      <th>251</th>\n",
       "      <td>251</td>\n",
       "      <td>0.0</td>\n",
       "      <td>0.0</td>\n",
       "      <td>0.0</td>\n",
       "      <td>0.0</td>\n",
       "      <td>0.0</td>\n",
       "      <td>0.0</td>\n",
       "      <td>0.0</td>\n",
       "      <td>0.0</td>\n",
       "      <td>0.0</td>\n",
       "      <td>...</td>\n",
       "      <td>0.0</td>\n",
       "      <td>0.0</td>\n",
       "      <td>0.0</td>\n",
       "      <td>0.0</td>\n",
       "      <td>0.0</td>\n",
       "      <td>0.0</td>\n",
       "      <td>0.0</td>\n",
       "      <td>0.0</td>\n",
       "      <td>0.0</td>\n",
       "      <td>0.0</td>\n",
       "    </tr>\n",
       "    <tr>\n",
       "      <th>252</th>\n",
       "      <td>252</td>\n",
       "      <td>0.0</td>\n",
       "      <td>0.0</td>\n",
       "      <td>0.0</td>\n",
       "      <td>0.0</td>\n",
       "      <td>0.0</td>\n",
       "      <td>0.0</td>\n",
       "      <td>0.0</td>\n",
       "      <td>0.0</td>\n",
       "      <td>0.0</td>\n",
       "      <td>...</td>\n",
       "      <td>0.0</td>\n",
       "      <td>0.0</td>\n",
       "      <td>0.0</td>\n",
       "      <td>0.0</td>\n",
       "      <td>0.0</td>\n",
       "      <td>0.0</td>\n",
       "      <td>0.0</td>\n",
       "      <td>0.0</td>\n",
       "      <td>0.0</td>\n",
       "      <td>0.0</td>\n",
       "    </tr>\n",
       "    <tr>\n",
       "      <th>253</th>\n",
       "      <td>253</td>\n",
       "      <td>0.0</td>\n",
       "      <td>0.0</td>\n",
       "      <td>0.0</td>\n",
       "      <td>0.0</td>\n",
       "      <td>0.0</td>\n",
       "      <td>0.0</td>\n",
       "      <td>0.0</td>\n",
       "      <td>0.0</td>\n",
       "      <td>0.0</td>\n",
       "      <td>...</td>\n",
       "      <td>0.0</td>\n",
       "      <td>0.0</td>\n",
       "      <td>0.0</td>\n",
       "      <td>0.0</td>\n",
       "      <td>0.0</td>\n",
       "      <td>0.0</td>\n",
       "      <td>0.0</td>\n",
       "      <td>0.0</td>\n",
       "      <td>0.0</td>\n",
       "      <td>0.0</td>\n",
       "    </tr>\n",
       "    <tr>\n",
       "      <th>254</th>\n",
       "      <td>254</td>\n",
       "      <td>0.0</td>\n",
       "      <td>0.0</td>\n",
       "      <td>0.0</td>\n",
       "      <td>0.0</td>\n",
       "      <td>0.0</td>\n",
       "      <td>0.0</td>\n",
       "      <td>0.0</td>\n",
       "      <td>0.0</td>\n",
       "      <td>0.0</td>\n",
       "      <td>...</td>\n",
       "      <td>0.0</td>\n",
       "      <td>0.0</td>\n",
       "      <td>0.0</td>\n",
       "      <td>0.0</td>\n",
       "      <td>0.0</td>\n",
       "      <td>0.0</td>\n",
       "      <td>0.0</td>\n",
       "      <td>0.0</td>\n",
       "      <td>0.0</td>\n",
       "      <td>0.0</td>\n",
       "    </tr>\n",
       "  </tbody>\n",
       "</table>\n",
       "<p>255 rows × 18212 columns</p>\n",
       "</div>"
      ],
      "text/plain": [
       "      id  A1BG  A1BG-AS1  A2M  A2M-AS1  A2MP1  A4GALT  AAAS  AACS  AAGAB  ...  \\\n",
       "0      0   0.0       0.0  0.0      0.0    0.0     0.0   0.0   0.0    0.0  ...   \n",
       "1      1   0.0       0.0  0.0      0.0    0.0     0.0   0.0   0.0    0.0  ...   \n",
       "2      2   0.0       0.0  0.0      0.0    0.0     0.0   0.0   0.0    0.0  ...   \n",
       "3      3   0.0       0.0  0.0      0.0    0.0     0.0   0.0   0.0    0.0  ...   \n",
       "4      4   0.0       0.0  0.0      0.0    0.0     0.0   0.0   0.0    0.0  ...   \n",
       "..   ...   ...       ...  ...      ...    ...     ...   ...   ...    ...  ...   \n",
       "250  250   0.0       0.0  0.0      0.0    0.0     0.0   0.0   0.0    0.0  ...   \n",
       "251  251   0.0       0.0  0.0      0.0    0.0     0.0   0.0   0.0    0.0  ...   \n",
       "252  252   0.0       0.0  0.0      0.0    0.0     0.0   0.0   0.0    0.0  ...   \n",
       "253  253   0.0       0.0  0.0      0.0    0.0     0.0   0.0   0.0    0.0  ...   \n",
       "254  254   0.0       0.0  0.0      0.0    0.0     0.0   0.0   0.0    0.0  ...   \n",
       "\n",
       "     ZUP1  ZW10  ZWILCH  ZWINT  ZXDA  ZXDB  ZXDC  ZYG11B  ZYX  ZZEF1  \n",
       "0     0.0   0.0     0.0    0.0   0.0   0.0   0.0     0.0  0.0    0.0  \n",
       "1     0.0   0.0     0.0    0.0   0.0   0.0   0.0     0.0  0.0    0.0  \n",
       "2     0.0   0.0     0.0    0.0   0.0   0.0   0.0     0.0  0.0    0.0  \n",
       "3     0.0   0.0     0.0    0.0   0.0   0.0   0.0     0.0  0.0    0.0  \n",
       "4     0.0   0.0     0.0    0.0   0.0   0.0   0.0     0.0  0.0    0.0  \n",
       "..    ...   ...     ...    ...   ...   ...   ...     ...  ...    ...  \n",
       "250   0.0   0.0     0.0    0.0   0.0   0.0   0.0     0.0  0.0    0.0  \n",
       "251   0.0   0.0     0.0    0.0   0.0   0.0   0.0     0.0  0.0    0.0  \n",
       "252   0.0   0.0     0.0    0.0   0.0   0.0   0.0     0.0  0.0    0.0  \n",
       "253   0.0   0.0     0.0    0.0   0.0   0.0   0.0     0.0  0.0    0.0  \n",
       "254   0.0   0.0     0.0    0.0   0.0   0.0   0.0     0.0  0.0    0.0  \n",
       "\n",
       "[255 rows x 18212 columns]"
      ]
     },
     "execution_count": 51,
     "metadata": {},
     "output_type": "execute_result"
    }
   ],
   "source": [
    "sample_submission"
   ]
  },
  {
   "cell_type": "code",
   "execution_count": 52,
   "id": "7ad41333",
   "metadata": {
    "execution": {
     "iopub.execute_input": "2023-10-15T19:39:26.870670Z",
     "iopub.status.busy": "2023-10-15T19:39:26.870428Z",
     "iopub.status.idle": "2023-10-15T19:39:26.894756Z",
     "shell.execute_reply": "2023-10-15T19:39:26.893808Z"
    },
    "papermill": {
     "duration": 0.055479,
     "end_time": "2023-10-15T19:39:26.896450",
     "exception": false,
     "start_time": "2023-10-15T19:39:26.840971",
     "status": "completed"
    },
    "tags": []
   },
   "outputs": [
    {
     "data": {
      "text/html": [
       "<div>\n",
       "<style scoped>\n",
       "    .dataframe tbody tr th:only-of-type {\n",
       "        vertical-align: middle;\n",
       "    }\n",
       "\n",
       "    .dataframe tbody tr th {\n",
       "        vertical-align: top;\n",
       "    }\n",
       "\n",
       "    .dataframe thead th {\n",
       "        text-align: right;\n",
       "    }\n",
       "</style>\n",
       "<table border=\"1\" class=\"dataframe\">\n",
       "  <thead>\n",
       "    <tr style=\"text-align: right;\">\n",
       "      <th></th>\n",
       "      <th>id</th>\n",
       "      <th>A1BG</th>\n",
       "      <th>A1BG-AS1</th>\n",
       "      <th>A2M</th>\n",
       "      <th>A2M-AS1</th>\n",
       "      <th>A2MP1</th>\n",
       "      <th>A4GALT</th>\n",
       "      <th>AAAS</th>\n",
       "      <th>AACS</th>\n",
       "      <th>AAGAB</th>\n",
       "      <th>...</th>\n",
       "      <th>ZUP1</th>\n",
       "      <th>ZW10</th>\n",
       "      <th>ZWILCH</th>\n",
       "      <th>ZWINT</th>\n",
       "      <th>ZXDA</th>\n",
       "      <th>ZXDB</th>\n",
       "      <th>ZXDC</th>\n",
       "      <th>ZYG11B</th>\n",
       "      <th>ZYX</th>\n",
       "      <th>ZZEF1</th>\n",
       "    </tr>\n",
       "  </thead>\n",
       "  <tbody>\n",
       "    <tr>\n",
       "      <th>0</th>\n",
       "      <td>0</td>\n",
       "      <td>0.001447</td>\n",
       "      <td>0.013505</td>\n",
       "      <td>0.004824</td>\n",
       "      <td>-0.032021</td>\n",
       "      <td>0.083582</td>\n",
       "      <td>0.128954</td>\n",
       "      <td>-0.003498</td>\n",
       "      <td>0.092185</td>\n",
       "      <td>-0.056060</td>\n",
       "      <td>...</td>\n",
       "      <td>-0.038476</td>\n",
       "      <td>-0.008901</td>\n",
       "      <td>-0.036051</td>\n",
       "      <td>-0.028422</td>\n",
       "      <td>0.056937</td>\n",
       "      <td>0.054373</td>\n",
       "      <td>0.063403</td>\n",
       "      <td>0.049417</td>\n",
       "      <td>-0.070493</td>\n",
       "      <td>-0.055121</td>\n",
       "    </tr>\n",
       "    <tr>\n",
       "      <th>1</th>\n",
       "      <td>1</td>\n",
       "      <td>0.013177</td>\n",
       "      <td>0.026010</td>\n",
       "      <td>0.013644</td>\n",
       "      <td>-0.033000</td>\n",
       "      <td>0.157669</td>\n",
       "      <td>0.222890</td>\n",
       "      <td>0.010644</td>\n",
       "      <td>0.132410</td>\n",
       "      <td>-0.044179</td>\n",
       "      <td>...</td>\n",
       "      <td>-0.016263</td>\n",
       "      <td>0.003355</td>\n",
       "      <td>-0.007608</td>\n",
       "      <td>-0.009777</td>\n",
       "      <td>0.094620</td>\n",
       "      <td>0.080980</td>\n",
       "      <td>0.077129</td>\n",
       "      <td>0.051191</td>\n",
       "      <td>-0.076579</td>\n",
       "      <td>-0.041942</td>\n",
       "    </tr>\n",
       "    <tr>\n",
       "      <th>2</th>\n",
       "      <td>2</td>\n",
       "      <td>0.085516</td>\n",
       "      <td>0.077327</td>\n",
       "      <td>-0.047328</td>\n",
       "      <td>-0.089765</td>\n",
       "      <td>0.142285</td>\n",
       "      <td>0.586502</td>\n",
       "      <td>0.024097</td>\n",
       "      <td>0.216156</td>\n",
       "      <td>-0.046466</td>\n",
       "      <td>...</td>\n",
       "      <td>0.000544</td>\n",
       "      <td>0.009389</td>\n",
       "      <td>0.020725</td>\n",
       "      <td>0.001437</td>\n",
       "      <td>0.099471</td>\n",
       "      <td>0.123544</td>\n",
       "      <td>0.080025</td>\n",
       "      <td>0.091966</td>\n",
       "      <td>-0.084608</td>\n",
       "      <td>-0.042176</td>\n",
       "    </tr>\n",
       "    <tr>\n",
       "      <th>3</th>\n",
       "      <td>3</td>\n",
       "      <td>0.035923</td>\n",
       "      <td>0.085883</td>\n",
       "      <td>0.084219</td>\n",
       "      <td>0.029167</td>\n",
       "      <td>0.195076</td>\n",
       "      <td>0.125732</td>\n",
       "      <td>0.004524</td>\n",
       "      <td>0.058783</td>\n",
       "      <td>-0.061987</td>\n",
       "      <td>...</td>\n",
       "      <td>0.000612</td>\n",
       "      <td>0.043186</td>\n",
       "      <td>-0.070713</td>\n",
       "      <td>0.084657</td>\n",
       "      <td>0.114235</td>\n",
       "      <td>0.154274</td>\n",
       "      <td>0.081944</td>\n",
       "      <td>0.012157</td>\n",
       "      <td>-0.043366</td>\n",
       "      <td>-0.067375</td>\n",
       "    </tr>\n",
       "    <tr>\n",
       "      <th>4</th>\n",
       "      <td>4</td>\n",
       "      <td>0.047844</td>\n",
       "      <td>0.055423</td>\n",
       "      <td>-0.027822</td>\n",
       "      <td>-0.069421</td>\n",
       "      <td>0.087419</td>\n",
       "      <td>0.398065</td>\n",
       "      <td>0.001916</td>\n",
       "      <td>0.146383</td>\n",
       "      <td>-0.055460</td>\n",
       "      <td>...</td>\n",
       "      <td>-0.023467</td>\n",
       "      <td>0.004181</td>\n",
       "      <td>-0.013602</td>\n",
       "      <td>-0.000787</td>\n",
       "      <td>0.071888</td>\n",
       "      <td>0.098879</td>\n",
       "      <td>0.073967</td>\n",
       "      <td>0.067909</td>\n",
       "      <td>-0.074631</td>\n",
       "      <td>-0.054332</td>\n",
       "    </tr>\n",
       "    <tr>\n",
       "      <th>...</th>\n",
       "      <td>...</td>\n",
       "      <td>...</td>\n",
       "      <td>...</td>\n",
       "      <td>...</td>\n",
       "      <td>...</td>\n",
       "      <td>...</td>\n",
       "      <td>...</td>\n",
       "      <td>...</td>\n",
       "      <td>...</td>\n",
       "      <td>...</td>\n",
       "      <td>...</td>\n",
       "      <td>...</td>\n",
       "      <td>...</td>\n",
       "      <td>...</td>\n",
       "      <td>...</td>\n",
       "      <td>...</td>\n",
       "      <td>...</td>\n",
       "      <td>...</td>\n",
       "      <td>...</td>\n",
       "      <td>...</td>\n",
       "      <td>...</td>\n",
       "    </tr>\n",
       "    <tr>\n",
       "      <th>250</th>\n",
       "      <td>250</td>\n",
       "      <td>0.003497</td>\n",
       "      <td>0.036404</td>\n",
       "      <td>0.024688</td>\n",
       "      <td>-0.007582</td>\n",
       "      <td>0.022421</td>\n",
       "      <td>-0.000380</td>\n",
       "      <td>-0.021014</td>\n",
       "      <td>0.011878</td>\n",
       "      <td>-0.078967</td>\n",
       "      <td>...</td>\n",
       "      <td>-0.048909</td>\n",
       "      <td>-0.000539</td>\n",
       "      <td>-0.100940</td>\n",
       "      <td>0.003483</td>\n",
       "      <td>0.024241</td>\n",
       "      <td>0.069317</td>\n",
       "      <td>0.049449</td>\n",
       "      <td>0.026771</td>\n",
       "      <td>-0.042987</td>\n",
       "      <td>-0.083949</td>\n",
       "    </tr>\n",
       "    <tr>\n",
       "      <th>251</th>\n",
       "      <td>251</td>\n",
       "      <td>0.190318</td>\n",
       "      <td>0.122490</td>\n",
       "      <td>-0.093898</td>\n",
       "      <td>0.049387</td>\n",
       "      <td>0.826012</td>\n",
       "      <td>1.005122</td>\n",
       "      <td>0.033373</td>\n",
       "      <td>0.202787</td>\n",
       "      <td>-0.037559</td>\n",
       "      <td>...</td>\n",
       "      <td>-0.045987</td>\n",
       "      <td>-0.022061</td>\n",
       "      <td>-0.008386</td>\n",
       "      <td>0.010589</td>\n",
       "      <td>0.297170</td>\n",
       "      <td>0.134925</td>\n",
       "      <td>0.079449</td>\n",
       "      <td>0.028214</td>\n",
       "      <td>-0.158097</td>\n",
       "      <td>-0.043242</td>\n",
       "    </tr>\n",
       "    <tr>\n",
       "      <th>252</th>\n",
       "      <td>252</td>\n",
       "      <td>0.003613</td>\n",
       "      <td>0.037702</td>\n",
       "      <td>0.025814</td>\n",
       "      <td>-0.006197</td>\n",
       "      <td>0.018953</td>\n",
       "      <td>-0.007711</td>\n",
       "      <td>-0.022007</td>\n",
       "      <td>0.007326</td>\n",
       "      <td>-0.080266</td>\n",
       "      <td>...</td>\n",
       "      <td>-0.049501</td>\n",
       "      <td>-0.000065</td>\n",
       "      <td>-0.104618</td>\n",
       "      <td>0.005292</td>\n",
       "      <td>0.022388</td>\n",
       "      <td>0.070164</td>\n",
       "      <td>0.048658</td>\n",
       "      <td>0.025487</td>\n",
       "      <td>-0.041428</td>\n",
       "      <td>-0.085583</td>\n",
       "    </tr>\n",
       "    <tr>\n",
       "      <th>253</th>\n",
       "      <td>253</td>\n",
       "      <td>0.831878</td>\n",
       "      <td>0.382343</td>\n",
       "      <td>-0.240741</td>\n",
       "      <td>0.719158</td>\n",
       "      <td>3.628301</td>\n",
       "      <td>3.030489</td>\n",
       "      <td>0.075802</td>\n",
       "      <td>0.388571</td>\n",
       "      <td>0.012390</td>\n",
       "      <td>...</td>\n",
       "      <td>-0.092884</td>\n",
       "      <td>0.022197</td>\n",
       "      <td>0.038305</td>\n",
       "      <td>0.226697</td>\n",
       "      <td>1.110472</td>\n",
       "      <td>0.430836</td>\n",
       "      <td>0.167732</td>\n",
       "      <td>-0.080689</td>\n",
       "      <td>-0.305039</td>\n",
       "      <td>-0.049541</td>\n",
       "    </tr>\n",
       "    <tr>\n",
       "      <th>254</th>\n",
       "      <td>254</td>\n",
       "      <td>0.008485</td>\n",
       "      <td>0.038611</td>\n",
       "      <td>0.028317</td>\n",
       "      <td>-0.010879</td>\n",
       "      <td>0.086186</td>\n",
       "      <td>0.077784</td>\n",
       "      <td>-0.008735</td>\n",
       "      <td>0.052353</td>\n",
       "      <td>-0.066512</td>\n",
       "      <td>...</td>\n",
       "      <td>-0.032804</td>\n",
       "      <td>0.005724</td>\n",
       "      <td>-0.070032</td>\n",
       "      <td>0.009326</td>\n",
       "      <td>0.056457</td>\n",
       "      <td>0.082571</td>\n",
       "      <td>0.061496</td>\n",
       "      <td>0.030833</td>\n",
       "      <td>-0.053047</td>\n",
       "      <td>-0.069291</td>\n",
       "    </tr>\n",
       "  </tbody>\n",
       "</table>\n",
       "<p>255 rows × 18212 columns</p>\n",
       "</div>"
      ],
      "text/plain": [
       "      id      A1BG  A1BG-AS1       A2M   A2M-AS1     A2MP1    A4GALT  \\\n",
       "0      0  0.001447  0.013505  0.004824 -0.032021  0.083582  0.128954   \n",
       "1      1  0.013177  0.026010  0.013644 -0.033000  0.157669  0.222890   \n",
       "2      2  0.085516  0.077327 -0.047328 -0.089765  0.142285  0.586502   \n",
       "3      3  0.035923  0.085883  0.084219  0.029167  0.195076  0.125732   \n",
       "4      4  0.047844  0.055423 -0.027822 -0.069421  0.087419  0.398065   \n",
       "..   ...       ...       ...       ...       ...       ...       ...   \n",
       "250  250  0.003497  0.036404  0.024688 -0.007582  0.022421 -0.000380   \n",
       "251  251  0.190318  0.122490 -0.093898  0.049387  0.826012  1.005122   \n",
       "252  252  0.003613  0.037702  0.025814 -0.006197  0.018953 -0.007711   \n",
       "253  253  0.831878  0.382343 -0.240741  0.719158  3.628301  3.030489   \n",
       "254  254  0.008485  0.038611  0.028317 -0.010879  0.086186  0.077784   \n",
       "\n",
       "         AAAS      AACS     AAGAB  ...      ZUP1      ZW10    ZWILCH  \\\n",
       "0   -0.003498  0.092185 -0.056060  ... -0.038476 -0.008901 -0.036051   \n",
       "1    0.010644  0.132410 -0.044179  ... -0.016263  0.003355 -0.007608   \n",
       "2    0.024097  0.216156 -0.046466  ...  0.000544  0.009389  0.020725   \n",
       "3    0.004524  0.058783 -0.061987  ...  0.000612  0.043186 -0.070713   \n",
       "4    0.001916  0.146383 -0.055460  ... -0.023467  0.004181 -0.013602   \n",
       "..        ...       ...       ...  ...       ...       ...       ...   \n",
       "250 -0.021014  0.011878 -0.078967  ... -0.048909 -0.000539 -0.100940   \n",
       "251  0.033373  0.202787 -0.037559  ... -0.045987 -0.022061 -0.008386   \n",
       "252 -0.022007  0.007326 -0.080266  ... -0.049501 -0.000065 -0.104618   \n",
       "253  0.075802  0.388571  0.012390  ... -0.092884  0.022197  0.038305   \n",
       "254 -0.008735  0.052353 -0.066512  ... -0.032804  0.005724 -0.070032   \n",
       "\n",
       "        ZWINT      ZXDA      ZXDB      ZXDC    ZYG11B       ZYX     ZZEF1  \n",
       "0   -0.028422  0.056937  0.054373  0.063403  0.049417 -0.070493 -0.055121  \n",
       "1   -0.009777  0.094620  0.080980  0.077129  0.051191 -0.076579 -0.041942  \n",
       "2    0.001437  0.099471  0.123544  0.080025  0.091966 -0.084608 -0.042176  \n",
       "3    0.084657  0.114235  0.154274  0.081944  0.012157 -0.043366 -0.067375  \n",
       "4   -0.000787  0.071888  0.098879  0.073967  0.067909 -0.074631 -0.054332  \n",
       "..        ...       ...       ...       ...       ...       ...       ...  \n",
       "250  0.003483  0.024241  0.069317  0.049449  0.026771 -0.042987 -0.083949  \n",
       "251  0.010589  0.297170  0.134925  0.079449  0.028214 -0.158097 -0.043242  \n",
       "252  0.005292  0.022388  0.070164  0.048658  0.025487 -0.041428 -0.085583  \n",
       "253  0.226697  1.110472  0.430836  0.167732 -0.080689 -0.305039 -0.049541  \n",
       "254  0.009326  0.056457  0.082571  0.061496  0.030833 -0.053047 -0.069291  \n",
       "\n",
       "[255 rows x 18212 columns]"
      ]
     },
     "execution_count": 52,
     "metadata": {},
     "output_type": "execute_result"
    }
   ],
   "source": [
    "submission_df"
   ]
  },
  {
   "cell_type": "code",
   "execution_count": 53,
   "id": "cffed350",
   "metadata": {
    "execution": {
     "iopub.execute_input": "2023-10-15T19:39:26.957042Z",
     "iopub.status.busy": "2023-10-15T19:39:26.956738Z",
     "iopub.status.idle": "2023-10-15T19:39:32.187957Z",
     "shell.execute_reply": "2023-10-15T19:39:32.187015Z"
    },
    "papermill": {
     "duration": 5.263879,
     "end_time": "2023-10-15T19:39:32.190157",
     "exception": false,
     "start_time": "2023-10-15T19:39:26.926278",
     "status": "completed"
    },
    "tags": []
   },
   "outputs": [],
   "source": [
    "submission_df.to_csv(\"submission.csv\", index=False)"
   ]
  },
  {
   "cell_type": "code",
   "execution_count": 54,
   "id": "87549885",
   "metadata": {
    "execution": {
     "iopub.execute_input": "2023-10-15T19:39:32.251148Z",
     "iopub.status.busy": "2023-10-15T19:39:32.250322Z",
     "iopub.status.idle": "2023-10-15T19:39:38.483725Z",
     "shell.execute_reply": "2023-10-15T19:39:38.482553Z"
    },
    "papermill": {
     "duration": 6.26592,
     "end_time": "2023-10-15T19:39:38.486051",
     "exception": false,
     "start_time": "2023-10-15T19:39:32.220131",
     "status": "completed"
    },
    "tags": []
   },
   "outputs": [
    {
     "name": "stdout",
     "output_type": "stream",
     "text": [
      "  adding: kaggle/working/submission.csv (deflated 59%)\r\n"
     ]
    }
   ],
   "source": [
    "!zip submission_preds.zip /kaggle/working/submission.csv"
   ]
  },
  {
   "cell_type": "code",
   "execution_count": null,
   "id": "d4765f17",
   "metadata": {
    "papermill": {
     "duration": 0.029939,
     "end_time": "2023-10-15T19:39:38.546566",
     "exception": false,
     "start_time": "2023-10-15T19:39:38.516627",
     "status": "completed"
    },
    "tags": []
   },
   "outputs": [],
   "source": []
  }
 ],
 "metadata": {
  "kernelspec": {
   "display_name": "Python 3",
   "language": "python",
   "name": "python3"
  },
  "language_info": {
   "codemirror_mode": {
    "name": "ipython",
    "version": 3
   },
   "file_extension": ".py",
   "mimetype": "text/x-python",
   "name": "python",
   "nbconvert_exporter": "python",
   "pygments_lexer": "ipython3",
   "version": "3.10.12"
  },
  "papermill": {
   "default_parameters": {},
   "duration": 152.327365,
   "end_time": "2023-10-15T19:39:41.957442",
   "environment_variables": {},
   "exception": null,
   "input_path": "__notebook__.ipynb",
   "output_path": "__notebook__.ipynb",
   "parameters": {},
   "start_time": "2023-10-15T19:37:09.630077",
   "version": "2.4.0"
  }
 },
 "nbformat": 4,
 "nbformat_minor": 5
}
