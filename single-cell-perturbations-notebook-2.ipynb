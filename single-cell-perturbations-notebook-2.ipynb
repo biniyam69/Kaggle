{
 "cells": [
  {
   "cell_type": "code",
   "execution_count": 1,
   "id": "3e47a912",
   "metadata": {
    "_cell_guid": "b1076dfc-b9ad-4769-8c92-a6c4dae69d19",
    "_uuid": "8f2839f25d086af736a60e9eeb907d3b93b6e0e5",
    "execution": {
     "iopub.execute_input": "2023-10-17T11:34:44.336211Z",
     "iopub.status.busy": "2023-10-17T11:34:44.335910Z",
     "iopub.status.idle": "2023-10-17T11:34:52.779385Z",
     "shell.execute_reply": "2023-10-17T11:34:52.778423Z"
    },
    "papermill": {
     "duration": 8.456367,
     "end_time": "2023-10-17T11:34:52.781448",
     "exception": false,
     "start_time": "2023-10-17T11:34:44.325081",
     "status": "completed"
    },
    "tags": []
   },
   "outputs": [
    {
     "name": "stderr",
     "output_type": "stream",
     "text": [
      "/opt/conda/lib/python3.10/site-packages/scipy/__init__.py:146: UserWarning: A NumPy version >=1.16.5 and <1.23.0 is required for this version of SciPy (detected version 1.23.5\n",
      "  warnings.warn(f\"A NumPy version >={np_minversion} and <{np_maxversion}\"\n"
     ]
    }
   ],
   "source": [
    "import numpy as np \n",
    "import pandas as pd \n",
    "import tensorflow as tf\n",
    "import matplotlib.pyplot as plt"
   ]
  },
  {
   "cell_type": "code",
   "execution_count": 2,
   "id": "444fda30",
   "metadata": {
    "execution": {
     "iopub.execute_input": "2023-10-17T11:34:52.801730Z",
     "iopub.status.busy": "2023-10-17T11:34:52.800426Z",
     "iopub.status.idle": "2023-10-17T11:34:57.328481Z",
     "shell.execute_reply": "2023-10-17T11:34:57.327558Z"
    },
    "papermill": {
     "duration": 4.539823,
     "end_time": "2023-10-17T11:34:57.330597",
     "exception": false,
     "start_time": "2023-10-17T11:34:52.790774",
     "status": "completed"
    },
    "tags": []
   },
   "outputs": [],
   "source": [
    "de_train =   pd.read_parquet(\"/kaggle/input/open-problems-single-cell-perturbations/de_train.parquet\")\n",
    "id_map = pd.read_csv(\"/kaggle/input/open-problems-single-cell-perturbations/id_map.csv\")\n",
    "sample_submission = pd.read_csv(\"/kaggle/input/open-problems-single-cell-perturbations/sample_submission.csv\")"
   ]
  },
  {
   "cell_type": "code",
   "execution_count": 3,
   "id": "bf4c3c45",
   "metadata": {
    "execution": {
     "iopub.execute_input": "2023-10-17T11:34:57.349764Z",
     "iopub.status.busy": "2023-10-17T11:34:57.349462Z",
     "iopub.status.idle": "2023-10-17T11:34:57.380746Z",
     "shell.execute_reply": "2023-10-17T11:34:57.379833Z"
    },
    "papermill": {
     "duration": 0.042909,
     "end_time": "2023-10-17T11:34:57.382571",
     "exception": false,
     "start_time": "2023-10-17T11:34:57.339662",
     "status": "completed"
    },
    "tags": []
   },
   "outputs": [
    {
     "data": {
      "text/html": [
       "<div>\n",
       "<style scoped>\n",
       "    .dataframe tbody tr th:only-of-type {\n",
       "        vertical-align: middle;\n",
       "    }\n",
       "\n",
       "    .dataframe tbody tr th {\n",
       "        vertical-align: top;\n",
       "    }\n",
       "\n",
       "    .dataframe thead th {\n",
       "        text-align: right;\n",
       "    }\n",
       "</style>\n",
       "<table border=\"1\" class=\"dataframe\">\n",
       "  <thead>\n",
       "    <tr style=\"text-align: right;\">\n",
       "      <th></th>\n",
       "      <th>cell_type</th>\n",
       "      <th>sm_name</th>\n",
       "      <th>sm_lincs_id</th>\n",
       "      <th>SMILES</th>\n",
       "      <th>control</th>\n",
       "      <th>A1BG</th>\n",
       "      <th>A1BG-AS1</th>\n",
       "      <th>A2M</th>\n",
       "      <th>A2M-AS1</th>\n",
       "      <th>A2MP1</th>\n",
       "      <th>...</th>\n",
       "      <th>ZUP1</th>\n",
       "      <th>ZW10</th>\n",
       "      <th>ZWILCH</th>\n",
       "      <th>ZWINT</th>\n",
       "      <th>ZXDA</th>\n",
       "      <th>ZXDB</th>\n",
       "      <th>ZXDC</th>\n",
       "      <th>ZYG11B</th>\n",
       "      <th>ZYX</th>\n",
       "      <th>ZZEF1</th>\n",
       "    </tr>\n",
       "  </thead>\n",
       "  <tbody>\n",
       "    <tr>\n",
       "      <th>0</th>\n",
       "      <td>NK cells</td>\n",
       "      <td>Clotrimazole</td>\n",
       "      <td>LSM-5341</td>\n",
       "      <td>Clc1ccccc1C(c1ccccc1)(c1ccccc1)n1ccnc1</td>\n",
       "      <td>False</td>\n",
       "      <td>0.104720</td>\n",
       "      <td>-0.077524</td>\n",
       "      <td>-1.625596</td>\n",
       "      <td>-0.144545</td>\n",
       "      <td>0.143555</td>\n",
       "      <td>...</td>\n",
       "      <td>-0.227781</td>\n",
       "      <td>-0.010752</td>\n",
       "      <td>-0.023881</td>\n",
       "      <td>0.674536</td>\n",
       "      <td>-0.453068</td>\n",
       "      <td>0.005164</td>\n",
       "      <td>-0.094959</td>\n",
       "      <td>0.034127</td>\n",
       "      <td>0.221377</td>\n",
       "      <td>0.368755</td>\n",
       "    </tr>\n",
       "    <tr>\n",
       "      <th>1</th>\n",
       "      <td>T cells CD4+</td>\n",
       "      <td>Clotrimazole</td>\n",
       "      <td>LSM-5341</td>\n",
       "      <td>Clc1ccccc1C(c1ccccc1)(c1ccccc1)n1ccnc1</td>\n",
       "      <td>False</td>\n",
       "      <td>0.915953</td>\n",
       "      <td>-0.884380</td>\n",
       "      <td>0.371834</td>\n",
       "      <td>-0.081677</td>\n",
       "      <td>-0.498266</td>\n",
       "      <td>...</td>\n",
       "      <td>-0.494985</td>\n",
       "      <td>-0.303419</td>\n",
       "      <td>0.304955</td>\n",
       "      <td>-0.333905</td>\n",
       "      <td>-0.315516</td>\n",
       "      <td>-0.369626</td>\n",
       "      <td>-0.095079</td>\n",
       "      <td>0.704780</td>\n",
       "      <td>1.096702</td>\n",
       "      <td>-0.869887</td>\n",
       "    </tr>\n",
       "    <tr>\n",
       "      <th>2</th>\n",
       "      <td>T cells CD8+</td>\n",
       "      <td>Clotrimazole</td>\n",
       "      <td>LSM-5341</td>\n",
       "      <td>Clc1ccccc1C(c1ccccc1)(c1ccccc1)n1ccnc1</td>\n",
       "      <td>False</td>\n",
       "      <td>-0.387721</td>\n",
       "      <td>-0.305378</td>\n",
       "      <td>0.567777</td>\n",
       "      <td>0.303895</td>\n",
       "      <td>-0.022653</td>\n",
       "      <td>...</td>\n",
       "      <td>-0.119422</td>\n",
       "      <td>-0.033608</td>\n",
       "      <td>-0.153123</td>\n",
       "      <td>0.183597</td>\n",
       "      <td>-0.555678</td>\n",
       "      <td>-1.494789</td>\n",
       "      <td>-0.213550</td>\n",
       "      <td>0.415768</td>\n",
       "      <td>0.078439</td>\n",
       "      <td>-0.259365</td>\n",
       "    </tr>\n",
       "    <tr>\n",
       "      <th>3</th>\n",
       "      <td>T regulatory cells</td>\n",
       "      <td>Clotrimazole</td>\n",
       "      <td>LSM-5341</td>\n",
       "      <td>Clc1ccccc1C(c1ccccc1)(c1ccccc1)n1ccnc1</td>\n",
       "      <td>False</td>\n",
       "      <td>0.232893</td>\n",
       "      <td>0.129029</td>\n",
       "      <td>0.336897</td>\n",
       "      <td>0.486946</td>\n",
       "      <td>0.767661</td>\n",
       "      <td>...</td>\n",
       "      <td>0.451679</td>\n",
       "      <td>0.704643</td>\n",
       "      <td>0.015468</td>\n",
       "      <td>-0.103868</td>\n",
       "      <td>0.865027</td>\n",
       "      <td>0.189114</td>\n",
       "      <td>0.224700</td>\n",
       "      <td>-0.048233</td>\n",
       "      <td>0.216139</td>\n",
       "      <td>-0.085024</td>\n",
       "    </tr>\n",
       "    <tr>\n",
       "      <th>4</th>\n",
       "      <td>NK cells</td>\n",
       "      <td>Mometasone Furoate</td>\n",
       "      <td>LSM-3349</td>\n",
       "      <td>C[C@@H]1C[C@H]2[C@@H]3CCC4=CC(=O)C=C[C@]4(C)[C...</td>\n",
       "      <td>False</td>\n",
       "      <td>4.290652</td>\n",
       "      <td>-0.063864</td>\n",
       "      <td>-0.017443</td>\n",
       "      <td>-0.541154</td>\n",
       "      <td>0.570982</td>\n",
       "      <td>...</td>\n",
       "      <td>0.758474</td>\n",
       "      <td>0.510762</td>\n",
       "      <td>0.607401</td>\n",
       "      <td>-0.123059</td>\n",
       "      <td>0.214366</td>\n",
       "      <td>0.487838</td>\n",
       "      <td>-0.819775</td>\n",
       "      <td>0.112365</td>\n",
       "      <td>-0.122193</td>\n",
       "      <td>0.676629</td>\n",
       "    </tr>\n",
       "    <tr>\n",
       "      <th>...</th>\n",
       "      <td>...</td>\n",
       "      <td>...</td>\n",
       "      <td>...</td>\n",
       "      <td>...</td>\n",
       "      <td>...</td>\n",
       "      <td>...</td>\n",
       "      <td>...</td>\n",
       "      <td>...</td>\n",
       "      <td>...</td>\n",
       "      <td>...</td>\n",
       "      <td>...</td>\n",
       "      <td>...</td>\n",
       "      <td>...</td>\n",
       "      <td>...</td>\n",
       "      <td>...</td>\n",
       "      <td>...</td>\n",
       "      <td>...</td>\n",
       "      <td>...</td>\n",
       "      <td>...</td>\n",
       "      <td>...</td>\n",
       "      <td>...</td>\n",
       "    </tr>\n",
       "    <tr>\n",
       "      <th>609</th>\n",
       "      <td>T regulatory cells</td>\n",
       "      <td>Atorvastatin</td>\n",
       "      <td>LSM-5771</td>\n",
       "      <td>CC(C)c1c(C(=O)Nc2ccccc2)c(-c2ccccc2)c(-c2ccc(F...</td>\n",
       "      <td>False</td>\n",
       "      <td>-0.014372</td>\n",
       "      <td>-0.122464</td>\n",
       "      <td>-0.456366</td>\n",
       "      <td>-0.147894</td>\n",
       "      <td>-0.545382</td>\n",
       "      <td>...</td>\n",
       "      <td>-0.549987</td>\n",
       "      <td>-2.200925</td>\n",
       "      <td>0.359806</td>\n",
       "      <td>1.073983</td>\n",
       "      <td>0.356939</td>\n",
       "      <td>-0.029603</td>\n",
       "      <td>-0.528817</td>\n",
       "      <td>0.105138</td>\n",
       "      <td>0.491015</td>\n",
       "      <td>-0.979951</td>\n",
       "    </tr>\n",
       "    <tr>\n",
       "      <th>610</th>\n",
       "      <td>NK cells</td>\n",
       "      <td>Riociguat</td>\n",
       "      <td>LSM-45758</td>\n",
       "      <td>COC(=O)N(C)c1c(N)nc(-c2nn(Cc3ccccc3F)c3ncccc23...</td>\n",
       "      <td>False</td>\n",
       "      <td>-0.455549</td>\n",
       "      <td>0.188181</td>\n",
       "      <td>0.595734</td>\n",
       "      <td>-0.100299</td>\n",
       "      <td>0.786192</td>\n",
       "      <td>...</td>\n",
       "      <td>-1.236905</td>\n",
       "      <td>0.003854</td>\n",
       "      <td>-0.197569</td>\n",
       "      <td>-0.175307</td>\n",
       "      <td>0.101391</td>\n",
       "      <td>1.028394</td>\n",
       "      <td>0.034144</td>\n",
       "      <td>-0.231642</td>\n",
       "      <td>1.023994</td>\n",
       "      <td>-0.064760</td>\n",
       "    </tr>\n",
       "    <tr>\n",
       "      <th>611</th>\n",
       "      <td>T cells CD4+</td>\n",
       "      <td>Riociguat</td>\n",
       "      <td>LSM-45758</td>\n",
       "      <td>COC(=O)N(C)c1c(N)nc(-c2nn(Cc3ccccc3F)c3ncccc23...</td>\n",
       "      <td>False</td>\n",
       "      <td>0.338168</td>\n",
       "      <td>-0.109079</td>\n",
       "      <td>0.270182</td>\n",
       "      <td>-0.436586</td>\n",
       "      <td>-0.069476</td>\n",
       "      <td>...</td>\n",
       "      <td>0.077579</td>\n",
       "      <td>-1.101637</td>\n",
       "      <td>0.457201</td>\n",
       "      <td>0.535184</td>\n",
       "      <td>-0.198404</td>\n",
       "      <td>-0.005004</td>\n",
       "      <td>0.552810</td>\n",
       "      <td>-0.209077</td>\n",
       "      <td>0.389751</td>\n",
       "      <td>-0.337082</td>\n",
       "    </tr>\n",
       "    <tr>\n",
       "      <th>612</th>\n",
       "      <td>T cells CD8+</td>\n",
       "      <td>Riociguat</td>\n",
       "      <td>LSM-45758</td>\n",
       "      <td>COC(=O)N(C)c1c(N)nc(-c2nn(Cc3ccccc3F)c3ncccc23...</td>\n",
       "      <td>False</td>\n",
       "      <td>0.101138</td>\n",
       "      <td>-0.409724</td>\n",
       "      <td>-0.606292</td>\n",
       "      <td>-0.071300</td>\n",
       "      <td>-0.001789</td>\n",
       "      <td>...</td>\n",
       "      <td>0.005951</td>\n",
       "      <td>-0.893093</td>\n",
       "      <td>-1.003029</td>\n",
       "      <td>-0.080367</td>\n",
       "      <td>-0.076604</td>\n",
       "      <td>0.024849</td>\n",
       "      <td>0.012862</td>\n",
       "      <td>-0.029684</td>\n",
       "      <td>0.005506</td>\n",
       "      <td>-1.733112</td>\n",
       "    </tr>\n",
       "    <tr>\n",
       "      <th>613</th>\n",
       "      <td>T regulatory cells</td>\n",
       "      <td>Riociguat</td>\n",
       "      <td>LSM-45758</td>\n",
       "      <td>COC(=O)N(C)c1c(N)nc(-c2nn(Cc3ccccc3F)c3ncccc23...</td>\n",
       "      <td>False</td>\n",
       "      <td>-0.757116</td>\n",
       "      <td>0.085910</td>\n",
       "      <td>-0.730025</td>\n",
       "      <td>-1.367801</td>\n",
       "      <td>-0.695944</td>\n",
       "      <td>...</td>\n",
       "      <td>0.232343</td>\n",
       "      <td>-2.247816</td>\n",
       "      <td>-0.346036</td>\n",
       "      <td>-0.919567</td>\n",
       "      <td>-1.131372</td>\n",
       "      <td>-0.120252</td>\n",
       "      <td>-0.064537</td>\n",
       "      <td>-0.603280</td>\n",
       "      <td>-0.098041</td>\n",
       "      <td>-0.750681</td>\n",
       "    </tr>\n",
       "  </tbody>\n",
       "</table>\n",
       "<p>614 rows × 18216 columns</p>\n",
       "</div>"
      ],
      "text/plain": [
       "              cell_type             sm_name sm_lincs_id  \\\n",
       "0              NK cells        Clotrimazole    LSM-5341   \n",
       "1          T cells CD4+        Clotrimazole    LSM-5341   \n",
       "2          T cells CD8+        Clotrimazole    LSM-5341   \n",
       "3    T regulatory cells        Clotrimazole    LSM-5341   \n",
       "4              NK cells  Mometasone Furoate    LSM-3349   \n",
       "..                  ...                 ...         ...   \n",
       "609  T regulatory cells        Atorvastatin    LSM-5771   \n",
       "610            NK cells           Riociguat   LSM-45758   \n",
       "611        T cells CD4+           Riociguat   LSM-45758   \n",
       "612        T cells CD8+           Riociguat   LSM-45758   \n",
       "613  T regulatory cells           Riociguat   LSM-45758   \n",
       "\n",
       "                                                SMILES  control      A1BG  \\\n",
       "0               Clc1ccccc1C(c1ccccc1)(c1ccccc1)n1ccnc1    False  0.104720   \n",
       "1               Clc1ccccc1C(c1ccccc1)(c1ccccc1)n1ccnc1    False  0.915953   \n",
       "2               Clc1ccccc1C(c1ccccc1)(c1ccccc1)n1ccnc1    False -0.387721   \n",
       "3               Clc1ccccc1C(c1ccccc1)(c1ccccc1)n1ccnc1    False  0.232893   \n",
       "4    C[C@@H]1C[C@H]2[C@@H]3CCC4=CC(=O)C=C[C@]4(C)[C...    False  4.290652   \n",
       "..                                                 ...      ...       ...   \n",
       "609  CC(C)c1c(C(=O)Nc2ccccc2)c(-c2ccccc2)c(-c2ccc(F...    False -0.014372   \n",
       "610  COC(=O)N(C)c1c(N)nc(-c2nn(Cc3ccccc3F)c3ncccc23...    False -0.455549   \n",
       "611  COC(=O)N(C)c1c(N)nc(-c2nn(Cc3ccccc3F)c3ncccc23...    False  0.338168   \n",
       "612  COC(=O)N(C)c1c(N)nc(-c2nn(Cc3ccccc3F)c3ncccc23...    False  0.101138   \n",
       "613  COC(=O)N(C)c1c(N)nc(-c2nn(Cc3ccccc3F)c3ncccc23...    False -0.757116   \n",
       "\n",
       "     A1BG-AS1       A2M   A2M-AS1     A2MP1  ...      ZUP1      ZW10  \\\n",
       "0   -0.077524 -1.625596 -0.144545  0.143555  ... -0.227781 -0.010752   \n",
       "1   -0.884380  0.371834 -0.081677 -0.498266  ... -0.494985 -0.303419   \n",
       "2   -0.305378  0.567777  0.303895 -0.022653  ... -0.119422 -0.033608   \n",
       "3    0.129029  0.336897  0.486946  0.767661  ...  0.451679  0.704643   \n",
       "4   -0.063864 -0.017443 -0.541154  0.570982  ...  0.758474  0.510762   \n",
       "..        ...       ...       ...       ...  ...       ...       ...   \n",
       "609 -0.122464 -0.456366 -0.147894 -0.545382  ... -0.549987 -2.200925   \n",
       "610  0.188181  0.595734 -0.100299  0.786192  ... -1.236905  0.003854   \n",
       "611 -0.109079  0.270182 -0.436586 -0.069476  ...  0.077579 -1.101637   \n",
       "612 -0.409724 -0.606292 -0.071300 -0.001789  ...  0.005951 -0.893093   \n",
       "613  0.085910 -0.730025 -1.367801 -0.695944  ...  0.232343 -2.247816   \n",
       "\n",
       "       ZWILCH     ZWINT      ZXDA      ZXDB      ZXDC    ZYG11B       ZYX  \\\n",
       "0   -0.023881  0.674536 -0.453068  0.005164 -0.094959  0.034127  0.221377   \n",
       "1    0.304955 -0.333905 -0.315516 -0.369626 -0.095079  0.704780  1.096702   \n",
       "2   -0.153123  0.183597 -0.555678 -1.494789 -0.213550  0.415768  0.078439   \n",
       "3    0.015468 -0.103868  0.865027  0.189114  0.224700 -0.048233  0.216139   \n",
       "4    0.607401 -0.123059  0.214366  0.487838 -0.819775  0.112365 -0.122193   \n",
       "..        ...       ...       ...       ...       ...       ...       ...   \n",
       "609  0.359806  1.073983  0.356939 -0.029603 -0.528817  0.105138  0.491015   \n",
       "610 -0.197569 -0.175307  0.101391  1.028394  0.034144 -0.231642  1.023994   \n",
       "611  0.457201  0.535184 -0.198404 -0.005004  0.552810 -0.209077  0.389751   \n",
       "612 -1.003029 -0.080367 -0.076604  0.024849  0.012862 -0.029684  0.005506   \n",
       "613 -0.346036 -0.919567 -1.131372 -0.120252 -0.064537 -0.603280 -0.098041   \n",
       "\n",
       "        ZZEF1  \n",
       "0    0.368755  \n",
       "1   -0.869887  \n",
       "2   -0.259365  \n",
       "3   -0.085024  \n",
       "4    0.676629  \n",
       "..        ...  \n",
       "609 -0.979951  \n",
       "610 -0.064760  \n",
       "611 -0.337082  \n",
       "612 -1.733112  \n",
       "613 -0.750681  \n",
       "\n",
       "[614 rows x 18216 columns]"
      ]
     },
     "execution_count": 3,
     "metadata": {},
     "output_type": "execute_result"
    }
   ],
   "source": [
    "de_train"
   ]
  },
  {
   "cell_type": "code",
   "execution_count": 4,
   "id": "1168edf8",
   "metadata": {
    "execution": {
     "iopub.execute_input": "2023-10-17T11:34:57.402716Z",
     "iopub.status.busy": "2023-10-17T11:34:57.402448Z",
     "iopub.status.idle": "2023-10-17T11:34:57.409882Z",
     "shell.execute_reply": "2023-10-17T11:34:57.409031Z"
    },
    "papermill": {
     "duration": 0.019303,
     "end_time": "2023-10-17T11:34:57.411473",
     "exception": false,
     "start_time": "2023-10-17T11:34:57.392170",
     "status": "completed"
    },
    "tags": []
   },
   "outputs": [
    {
     "data": {
      "text/html": [
       "<div>\n",
       "<style scoped>\n",
       "    .dataframe tbody tr th:only-of-type {\n",
       "        vertical-align: middle;\n",
       "    }\n",
       "\n",
       "    .dataframe tbody tr th {\n",
       "        vertical-align: top;\n",
       "    }\n",
       "\n",
       "    .dataframe thead th {\n",
       "        text-align: right;\n",
       "    }\n",
       "</style>\n",
       "<table border=\"1\" class=\"dataframe\">\n",
       "  <thead>\n",
       "    <tr style=\"text-align: right;\">\n",
       "      <th></th>\n",
       "      <th>id</th>\n",
       "      <th>cell_type</th>\n",
       "      <th>sm_name</th>\n",
       "    </tr>\n",
       "  </thead>\n",
       "  <tbody>\n",
       "    <tr>\n",
       "      <th>0</th>\n",
       "      <td>0</td>\n",
       "      <td>B cells</td>\n",
       "      <td>5-(9-Isopropyl-8-methyl-2-morpholino-9H-purin-...</td>\n",
       "    </tr>\n",
       "    <tr>\n",
       "      <th>1</th>\n",
       "      <td>1</td>\n",
       "      <td>B cells</td>\n",
       "      <td>ABT-199 (GDC-0199)</td>\n",
       "    </tr>\n",
       "    <tr>\n",
       "      <th>2</th>\n",
       "      <td>2</td>\n",
       "      <td>B cells</td>\n",
       "      <td>ABT737</td>\n",
       "    </tr>\n",
       "    <tr>\n",
       "      <th>3</th>\n",
       "      <td>3</td>\n",
       "      <td>B cells</td>\n",
       "      <td>AMD-070 (hydrochloride)</td>\n",
       "    </tr>\n",
       "    <tr>\n",
       "      <th>4</th>\n",
       "      <td>4</td>\n",
       "      <td>B cells</td>\n",
       "      <td>AT 7867</td>\n",
       "    </tr>\n",
       "  </tbody>\n",
       "</table>\n",
       "</div>"
      ],
      "text/plain": [
       "   id cell_type                                            sm_name\n",
       "0   0   B cells  5-(9-Isopropyl-8-methyl-2-morpholino-9H-purin-...\n",
       "1   1   B cells                                 ABT-199 (GDC-0199)\n",
       "2   2   B cells                                             ABT737\n",
       "3   3   B cells                            AMD-070 (hydrochloride)\n",
       "4   4   B cells                                            AT 7867"
      ]
     },
     "execution_count": 4,
     "metadata": {},
     "output_type": "execute_result"
    }
   ],
   "source": [
    "id_map.head()"
   ]
  },
  {
   "cell_type": "code",
   "execution_count": 5,
   "id": "3f4f8990",
   "metadata": {
    "execution": {
     "iopub.execute_input": "2023-10-17T11:34:57.431645Z",
     "iopub.status.busy": "2023-10-17T11:34:57.431191Z",
     "iopub.status.idle": "2023-10-17T11:34:57.455603Z",
     "shell.execute_reply": "2023-10-17T11:34:57.454672Z"
    },
    "papermill": {
     "duration": 0.036043,
     "end_time": "2023-10-17T11:34:57.457211",
     "exception": false,
     "start_time": "2023-10-17T11:34:57.421168",
     "status": "completed"
    },
    "tags": []
   },
   "outputs": [
    {
     "data": {
      "text/html": [
       "<div>\n",
       "<style scoped>\n",
       "    .dataframe tbody tr th:only-of-type {\n",
       "        vertical-align: middle;\n",
       "    }\n",
       "\n",
       "    .dataframe tbody tr th {\n",
       "        vertical-align: top;\n",
       "    }\n",
       "\n",
       "    .dataframe thead th {\n",
       "        text-align: right;\n",
       "    }\n",
       "</style>\n",
       "<table border=\"1\" class=\"dataframe\">\n",
       "  <thead>\n",
       "    <tr style=\"text-align: right;\">\n",
       "      <th></th>\n",
       "      <th>id</th>\n",
       "      <th>A1BG</th>\n",
       "      <th>A1BG-AS1</th>\n",
       "      <th>A2M</th>\n",
       "      <th>A2M-AS1</th>\n",
       "      <th>A2MP1</th>\n",
       "      <th>A4GALT</th>\n",
       "      <th>AAAS</th>\n",
       "      <th>AACS</th>\n",
       "      <th>AAGAB</th>\n",
       "      <th>...</th>\n",
       "      <th>ZUP1</th>\n",
       "      <th>ZW10</th>\n",
       "      <th>ZWILCH</th>\n",
       "      <th>ZWINT</th>\n",
       "      <th>ZXDA</th>\n",
       "      <th>ZXDB</th>\n",
       "      <th>ZXDC</th>\n",
       "      <th>ZYG11B</th>\n",
       "      <th>ZYX</th>\n",
       "      <th>ZZEF1</th>\n",
       "    </tr>\n",
       "  </thead>\n",
       "  <tbody>\n",
       "    <tr>\n",
       "      <th>0</th>\n",
       "      <td>0</td>\n",
       "      <td>0.0</td>\n",
       "      <td>0.0</td>\n",
       "      <td>0.0</td>\n",
       "      <td>0.0</td>\n",
       "      <td>0.0</td>\n",
       "      <td>0.0</td>\n",
       "      <td>0.0</td>\n",
       "      <td>0.0</td>\n",
       "      <td>0.0</td>\n",
       "      <td>...</td>\n",
       "      <td>0.0</td>\n",
       "      <td>0.0</td>\n",
       "      <td>0.0</td>\n",
       "      <td>0.0</td>\n",
       "      <td>0.0</td>\n",
       "      <td>0.0</td>\n",
       "      <td>0.0</td>\n",
       "      <td>0.0</td>\n",
       "      <td>0.0</td>\n",
       "      <td>0.0</td>\n",
       "    </tr>\n",
       "    <tr>\n",
       "      <th>1</th>\n",
       "      <td>1</td>\n",
       "      <td>0.0</td>\n",
       "      <td>0.0</td>\n",
       "      <td>0.0</td>\n",
       "      <td>0.0</td>\n",
       "      <td>0.0</td>\n",
       "      <td>0.0</td>\n",
       "      <td>0.0</td>\n",
       "      <td>0.0</td>\n",
       "      <td>0.0</td>\n",
       "      <td>...</td>\n",
       "      <td>0.0</td>\n",
       "      <td>0.0</td>\n",
       "      <td>0.0</td>\n",
       "      <td>0.0</td>\n",
       "      <td>0.0</td>\n",
       "      <td>0.0</td>\n",
       "      <td>0.0</td>\n",
       "      <td>0.0</td>\n",
       "      <td>0.0</td>\n",
       "      <td>0.0</td>\n",
       "    </tr>\n",
       "    <tr>\n",
       "      <th>2</th>\n",
       "      <td>2</td>\n",
       "      <td>0.0</td>\n",
       "      <td>0.0</td>\n",
       "      <td>0.0</td>\n",
       "      <td>0.0</td>\n",
       "      <td>0.0</td>\n",
       "      <td>0.0</td>\n",
       "      <td>0.0</td>\n",
       "      <td>0.0</td>\n",
       "      <td>0.0</td>\n",
       "      <td>...</td>\n",
       "      <td>0.0</td>\n",
       "      <td>0.0</td>\n",
       "      <td>0.0</td>\n",
       "      <td>0.0</td>\n",
       "      <td>0.0</td>\n",
       "      <td>0.0</td>\n",
       "      <td>0.0</td>\n",
       "      <td>0.0</td>\n",
       "      <td>0.0</td>\n",
       "      <td>0.0</td>\n",
       "    </tr>\n",
       "    <tr>\n",
       "      <th>3</th>\n",
       "      <td>3</td>\n",
       "      <td>0.0</td>\n",
       "      <td>0.0</td>\n",
       "      <td>0.0</td>\n",
       "      <td>0.0</td>\n",
       "      <td>0.0</td>\n",
       "      <td>0.0</td>\n",
       "      <td>0.0</td>\n",
       "      <td>0.0</td>\n",
       "      <td>0.0</td>\n",
       "      <td>...</td>\n",
       "      <td>0.0</td>\n",
       "      <td>0.0</td>\n",
       "      <td>0.0</td>\n",
       "      <td>0.0</td>\n",
       "      <td>0.0</td>\n",
       "      <td>0.0</td>\n",
       "      <td>0.0</td>\n",
       "      <td>0.0</td>\n",
       "      <td>0.0</td>\n",
       "      <td>0.0</td>\n",
       "    </tr>\n",
       "    <tr>\n",
       "      <th>4</th>\n",
       "      <td>4</td>\n",
       "      <td>0.0</td>\n",
       "      <td>0.0</td>\n",
       "      <td>0.0</td>\n",
       "      <td>0.0</td>\n",
       "      <td>0.0</td>\n",
       "      <td>0.0</td>\n",
       "      <td>0.0</td>\n",
       "      <td>0.0</td>\n",
       "      <td>0.0</td>\n",
       "      <td>...</td>\n",
       "      <td>0.0</td>\n",
       "      <td>0.0</td>\n",
       "      <td>0.0</td>\n",
       "      <td>0.0</td>\n",
       "      <td>0.0</td>\n",
       "      <td>0.0</td>\n",
       "      <td>0.0</td>\n",
       "      <td>0.0</td>\n",
       "      <td>0.0</td>\n",
       "      <td>0.0</td>\n",
       "    </tr>\n",
       "  </tbody>\n",
       "</table>\n",
       "<p>5 rows × 18212 columns</p>\n",
       "</div>"
      ],
      "text/plain": [
       "   id  A1BG  A1BG-AS1  A2M  A2M-AS1  A2MP1  A4GALT  AAAS  AACS  AAGAB  ...  \\\n",
       "0   0   0.0       0.0  0.0      0.0    0.0     0.0   0.0   0.0    0.0  ...   \n",
       "1   1   0.0       0.0  0.0      0.0    0.0     0.0   0.0   0.0    0.0  ...   \n",
       "2   2   0.0       0.0  0.0      0.0    0.0     0.0   0.0   0.0    0.0  ...   \n",
       "3   3   0.0       0.0  0.0      0.0    0.0     0.0   0.0   0.0    0.0  ...   \n",
       "4   4   0.0       0.0  0.0      0.0    0.0     0.0   0.0   0.0    0.0  ...   \n",
       "\n",
       "   ZUP1  ZW10  ZWILCH  ZWINT  ZXDA  ZXDB  ZXDC  ZYG11B  ZYX  ZZEF1  \n",
       "0   0.0   0.0     0.0    0.0   0.0   0.0   0.0     0.0  0.0    0.0  \n",
       "1   0.0   0.0     0.0    0.0   0.0   0.0   0.0     0.0  0.0    0.0  \n",
       "2   0.0   0.0     0.0    0.0   0.0   0.0   0.0     0.0  0.0    0.0  \n",
       "3   0.0   0.0     0.0    0.0   0.0   0.0   0.0     0.0  0.0    0.0  \n",
       "4   0.0   0.0     0.0    0.0   0.0   0.0   0.0     0.0  0.0    0.0  \n",
       "\n",
       "[5 rows x 18212 columns]"
      ]
     },
     "execution_count": 5,
     "metadata": {},
     "output_type": "execute_result"
    }
   ],
   "source": [
    "sample_submission.head()"
   ]
  },
  {
   "cell_type": "code",
   "execution_count": 6,
   "id": "d4b7761e",
   "metadata": {
    "execution": {
     "iopub.execute_input": "2023-10-17T11:34:57.477173Z",
     "iopub.status.busy": "2023-10-17T11:34:57.476939Z",
     "iopub.status.idle": "2023-10-17T11:34:57.506959Z",
     "shell.execute_reply": "2023-10-17T11:34:57.506066Z"
    },
    "papermill": {
     "duration": 0.041968,
     "end_time": "2023-10-17T11:34:57.508619",
     "exception": false,
     "start_time": "2023-10-17T11:34:57.466651",
     "status": "completed"
    },
    "tags": []
   },
   "outputs": [
    {
     "data": {
      "text/plain": [
       "cell_type      0\n",
       "sm_name        0\n",
       "sm_lincs_id    0\n",
       "SMILES         0\n",
       "control        0\n",
       "              ..\n",
       "ZXDB           0\n",
       "ZXDC           0\n",
       "ZYG11B         0\n",
       "ZYX            0\n",
       "ZZEF1          0\n",
       "Length: 18216, dtype: int64"
      ]
     },
     "execution_count": 6,
     "metadata": {},
     "output_type": "execute_result"
    }
   ],
   "source": [
    "de_train.isnull().sum()"
   ]
  },
  {
   "cell_type": "code",
   "execution_count": 7,
   "id": "2097df21",
   "metadata": {
    "execution": {
     "iopub.execute_input": "2023-10-17T11:34:57.529397Z",
     "iopub.status.busy": "2023-10-17T11:34:57.528687Z",
     "iopub.status.idle": "2023-10-17T11:34:57.537170Z",
     "shell.execute_reply": "2023-10-17T11:34:57.536303Z"
    },
    "papermill": {
     "duration": 0.020482,
     "end_time": "2023-10-17T11:34:57.538868",
     "exception": false,
     "start_time": "2023-10-17T11:34:57.518386",
     "status": "completed"
    },
    "tags": []
   },
   "outputs": [
    {
     "name": "stdout",
     "output_type": "stream",
     "text": [
      "{146}\n"
     ]
    },
    {
     "data": {
      "text/plain": [
       "(array(['Clotrimazole', 'Mometasone Furoate', 'Idelalisib', 'Vandetanib',\n",
       "        'Bosutinib', 'Ceritinib', 'Lamivudine', 'Crizotinib',\n",
       "        'Cabozantinib', 'Flutamide', 'Dasatinib', 'Selumetinib',\n",
       "        'Trametinib', 'ABT-199 (GDC-0199)', 'Oxybenzone', 'Vorinostat',\n",
       "        'Raloxifene', 'Linagliptin', 'Lapatinib', 'Canertinib',\n",
       "        'Disulfiram', 'Vardenafil', 'Palbociclib', 'Ricolinostat',\n",
       "        'Dabrafenib', 'Proscillaridin A;Proscillaridin-A', 'IN1451',\n",
       "        'Ixabepilone', 'CEP-18770 (Delanzomib)', 'RG7112', 'MK-5108',\n",
       "        'Resminostat', 'IMD-0354', 'Alvocidib', 'LY2090314',\n",
       "        'Methotrexate', 'LDN 193189', 'Tacalcitol', 'Colchicine', 'R428',\n",
       "        'TL_HRAS26', 'BMS-387032', 'CGP 60474', 'TIE2 Kinase Inhibitor',\n",
       "        'PD-0325901', 'Isoniazid', 'GSK-1070916', 'Masitinib',\n",
       "        'Saracatinib', 'CC-401', 'Decitabine', 'Ketoconazole',\n",
       "        'HYDROXYUREA', 'BAY 61-3606', 'Navitoclax', 'Porcn Inhibitor III',\n",
       "        'GW843682X', 'Prednisolone', 'Tamatinib', 'Tosedostat',\n",
       "        'GSK256066', 'MGCD-265', 'AZD-8330', 'RN-486', 'Amiodarone',\n",
       "        'Belinostat', 'RVX-208', 'GO-6976', 'Scriptaid', 'HMN-214',\n",
       "        'SB525334', 'AVL-292', 'BMS-777607', 'AZD4547', 'Foretinib',\n",
       "        'Tivozanib', 'Quizartinib', 'IKK Inhibitor VII', 'UNII-BXU45ZH6LI',\n",
       "        'Chlorpheniramine', 'Tivantinib', 'CEP-37440', 'TPCA-1', 'AZ628',\n",
       "        'OSI-930', 'AZD3514', 'Vanoxerine', 'PF-03814735', 'MLN 2238',\n",
       "        'Dovitinib', 'K-02288', 'Midostaurin', 'I-BET151', 'STK219801',\n",
       "        'PRT-062607', 'AT 7867', 'Sunitinib', 'Penfluridol', 'BMS-536924',\n",
       "        'Perhexiline', 'BI-D1870', 'FK 866', 'Mubritinib (TAK 165)',\n",
       "        'Doxorubicin', 'Pomalidomide', 'Colforsin', 'Phenylbutazone',\n",
       "        'Protriptyline', 'Buspirone', 'Clomipramine', 'Alogliptin',\n",
       "        'Nefazodone', 'ABT737', 'Dactolisib', 'Nilotinib', 'Defactinib',\n",
       "        'PF-04691502', 'GLPG0634', 'Sgc-cbp30', 'BX 912', 'SCH-58261',\n",
       "        'Ruxolitinib', 'BAY 87-2243', 'O-Demethylated Adapalene',\n",
       "        'YK 4-279', 'Ganetespib (STA-9090)', 'SLx-2119',\n",
       "        'Oprozomib (ONX 0912)', 'Desloratadine', 'Pitavastatin Calcium',\n",
       "        'TR-14035', 'AT13387', 'CHIR-99021', 'RG7090',\n",
       "        'AMD-070 (hydrochloride)', 'BMS-265246', 'Tipifarnib', 'Imatinib',\n",
       "        'Topotecan', 'Clemastine',\n",
       "        '5-(9-Isopropyl-8-methyl-2-morpholino-9H-purin-6-yl)pyrimidin-2-amine',\n",
       "        'CGM-097', 'TGX 221', 'Azacitidine', 'Atorvastatin', 'Riociguat'],\n",
       "       dtype=object),\n",
       " None)"
      ]
     },
     "execution_count": 7,
     "metadata": {},
     "output_type": "execute_result"
    }
   ],
   "source": [
    "unique = de_train['sm_name'].unique()\n",
    "unique, print({len(unique)})"
   ]
  },
  {
   "cell_type": "code",
   "execution_count": 8,
   "id": "9a9d4409",
   "metadata": {
    "execution": {
     "iopub.execute_input": "2023-10-17T11:34:57.560549Z",
     "iopub.status.busy": "2023-10-17T11:34:57.559770Z",
     "iopub.status.idle": "2023-10-17T11:34:57.565419Z",
     "shell.execute_reply": "2023-10-17T11:34:57.564577Z"
    },
    "papermill": {
     "duration": 0.018276,
     "end_time": "2023-10-17T11:34:57.567152",
     "exception": false,
     "start_time": "2023-10-17T11:34:57.548876",
     "status": "completed"
    },
    "tags": []
   },
   "outputs": [
    {
     "data": {
      "text/plain": [
       "array(['NK cells', 'T cells CD4+', 'T cells CD8+', 'T regulatory cells',\n",
       "       'B cells', 'Myeloid cells'], dtype=object)"
      ]
     },
     "execution_count": 8,
     "metadata": {},
     "output_type": "execute_result"
    }
   ],
   "source": [
    "de_train['cell_type'].unique()"
   ]
  },
  {
   "cell_type": "code",
   "execution_count": 9,
   "id": "14b36c12",
   "metadata": {
    "execution": {
     "iopub.execute_input": "2023-10-17T11:34:57.587934Z",
     "iopub.status.busy": "2023-10-17T11:34:57.587589Z",
     "iopub.status.idle": "2023-10-17T11:34:57.604723Z",
     "shell.execute_reply": "2023-10-17T11:34:57.603767Z"
    },
    "papermill": {
     "duration": 0.02955,
     "end_time": "2023-10-17T11:34:57.606425",
     "exception": false,
     "start_time": "2023-10-17T11:34:57.576875",
     "status": "completed"
    },
    "tags": []
   },
   "outputs": [
    {
     "data": {
      "text/plain": [
       "<bound method DataFrame.count of               cell_type     sm_name sm_lincs_id  \\\n",
       "104             B cells  Dabrafenib    LSM-6303   \n",
       "105       Myeloid cells  Dabrafenib    LSM-6303   \n",
       "106            NK cells  Dabrafenib    LSM-6303   \n",
       "107        T cells CD4+  Dabrafenib    LSM-6303   \n",
       "108        T cells CD8+  Dabrafenib    LSM-6303   \n",
       "109  T regulatory cells  Dabrafenib    LSM-6303   \n",
       "275             B cells  Belinostat   LSM-43181   \n",
       "276       Myeloid cells  Belinostat   LSM-43181   \n",
       "277            NK cells  Belinostat   LSM-43181   \n",
       "278        T cells CD4+  Belinostat   LSM-43181   \n",
       "279        T cells CD8+  Belinostat   LSM-43181   \n",
       "280  T regulatory cells  Belinostat   LSM-43181   \n",
       "\n",
       "                                                SMILES  control       A1BG  \\\n",
       "104  CC(C)(C)c1nc(-c2cccc(NS(=O)(=O)c3c(F)cccc3F)c2...     True   0.942197   \n",
       "105  CC(C)(C)c1nc(-c2cccc(NS(=O)(=O)c3c(F)cccc3F)c2...     True   0.254567   \n",
       "106  CC(C)(C)c1nc(-c2cccc(NS(=O)(=O)c3c(F)cccc3F)c2...     True  -0.161665   \n",
       "107  CC(C)(C)c1nc(-c2cccc(NS(=O)(=O)c3c(F)cccc3F)c2...     True   0.000443   \n",
       "108  CC(C)(C)c1nc(-c2cccc(NS(=O)(=O)c3c(F)cccc3F)c2...     True   0.103281   \n",
       "109  CC(C)(C)c1nc(-c2cccc(NS(=O)(=O)c3c(F)cccc3F)c2...     True   0.679796   \n",
       "275           O=C(/C=C/c1cccc(S(=O)(=O)Nc2ccccc2)c1)NO     True   2.225073   \n",
       "276           O=C(/C=C/c1cccc(S(=O)(=O)Nc2ccccc2)c1)NO     True   3.519499   \n",
       "277           O=C(/C=C/c1cccc(S(=O)(=O)Nc2ccccc2)c1)NO     True   1.181036   \n",
       "278           O=C(/C=C/c1cccc(S(=O)(=O)Nc2ccccc2)c1)NO     True   0.858771   \n",
       "279           O=C(/C=C/c1cccc(S(=O)(=O)Nc2ccccc2)c1)NO     True  -1.654045   \n",
       "280           O=C(/C=C/c1cccc(S(=O)(=O)Nc2ccccc2)c1)NO     True  22.085428   \n",
       "\n",
       "      A1BG-AS1        A2M    A2M-AS1      A2MP1  ...       ZUP1       ZW10  \\\n",
       "104   0.539713  -0.417087   0.391397   2.049071  ...  -0.094318  -0.043478   \n",
       "105   0.244074 -28.552191  -0.377238  -0.731186  ...   1.771915  -0.085585   \n",
       "106   0.269009  -1.770091  -0.198444   0.954753  ...   0.131425  -1.112697   \n",
       "107   0.750020  -0.151077  -2.733638  -1.073863  ...  -1.032259  -0.571065   \n",
       "108  -0.281974  -0.187118   0.535779   1.201660  ...  -0.288675  -0.156537   \n",
       "109   0.457679   2.576746   2.151973   2.649578  ...  -1.295633   1.393517   \n",
       "275   0.564347  -0.437639  -0.415907   0.307772  ...  10.803264   3.292811   \n",
       "276   6.284255 -24.687990   0.004540  15.109208  ...   0.635599   0.210030   \n",
       "277   3.652341  -7.026508 -17.801989  -0.656651  ...   4.361655   0.558856   \n",
       "278   3.672879  -3.525978 -13.130322  -2.264816  ...   4.859433   4.253850   \n",
       "279  -0.586952  -0.776387   0.844867  -2.313306  ...   1.683870   0.687546   \n",
       "280  14.421991  27.557166  27.603715  35.278040  ...   3.410146  15.959706   \n",
       "\n",
       "        ZWILCH      ZWINT       ZXDA       ZXDB       ZXDC    ZYG11B  \\\n",
       "104  -0.269027   0.484859   0.905045   0.277953   1.126481  0.432023   \n",
       "105   0.010659  -1.890484   1.062484  -0.136040  -0.224016 -1.890099   \n",
       "106  -0.589313  -0.660929   0.016530   0.319136   0.299521 -0.383452   \n",
       "107   0.346539  -0.338557   0.549544  -0.607941  -0.130692 -0.059547   \n",
       "108  -0.555925  -0.564582   0.735246  -0.641172   0.272963 -0.482503   \n",
       "109   0.098008   0.523280   0.871999   2.195867   1.880501  0.489364   \n",
       "275  -0.051246   0.247855  -1.651776  -1.788311  -0.418805  3.396236   \n",
       "276 -21.273505   1.190610  -0.486464  -1.040062  -8.310726  0.612581   \n",
       "277  -0.809408   0.265743  -0.056795  -0.019083  -0.140576  3.909364   \n",
       "278   0.628184   0.332405  -6.780020  -2.497143  -0.868885  3.692675   \n",
       "279  -0.817418  -0.340659  -1.568735  -1.322291   0.231650  1.249664   \n",
       "280  10.649018  17.231287  23.721492  23.089832  10.844942  4.822008   \n",
       "\n",
       "          ZYX     ZZEF1  \n",
       "104 -2.508760 -0.354758  \n",
       "105 -3.105304 -1.155821  \n",
       "106  0.267828 -1.100267  \n",
       "107 -0.169427 -1.992270  \n",
       "108 -0.498744 -0.097232  \n",
       "109 -0.388891 -0.617592  \n",
       "275 -0.567121  0.501423  \n",
       "276  7.826692 -0.917186  \n",
       "277 -1.252862 -1.467913  \n",
       "278  0.128906 -0.583605  \n",
       "279  0.373853  1.635430  \n",
       "280  3.067047  2.149157  \n",
       "\n",
       "[12 rows x 18216 columns]>"
      ]
     },
     "execution_count": 9,
     "metadata": {},
     "output_type": "execute_result"
    }
   ],
   "source": [
    "de_train[de_train[\"control\"] == True].count  "
   ]
  },
  {
   "cell_type": "code",
   "execution_count": 10,
   "id": "a432093b",
   "metadata": {
    "execution": {
     "iopub.execute_input": "2023-10-17T11:34:57.627551Z",
     "iopub.status.busy": "2023-10-17T11:34:57.626789Z",
     "iopub.status.idle": "2023-10-17T11:34:57.670232Z",
     "shell.execute_reply": "2023-10-17T11:34:57.669282Z"
    },
    "papermill": {
     "duration": 0.056188,
     "end_time": "2023-10-17T11:34:57.672443",
     "exception": false,
     "start_time": "2023-10-17T11:34:57.616255",
     "status": "completed"
    },
    "tags": []
   },
   "outputs": [],
   "source": [
    "# shuffle the data\n",
    "de_train = de_train.sample(frac=1.0, random_state=42)"
   ]
  },
  {
   "cell_type": "code",
   "execution_count": 11,
   "id": "70ac352f",
   "metadata": {
    "execution": {
     "iopub.execute_input": "2023-10-17T11:34:57.732972Z",
     "iopub.status.busy": "2023-10-17T11:34:57.732050Z",
     "iopub.status.idle": "2023-10-17T11:34:57.738148Z",
     "shell.execute_reply": "2023-10-17T11:34:57.737231Z"
    },
    "papermill": {
     "duration": 0.057062,
     "end_time": "2023-10-17T11:34:57.739843",
     "exception": false,
     "start_time": "2023-10-17T11:34:57.682781",
     "status": "completed"
    },
    "tags": []
   },
   "outputs": [
    {
     "data": {
      "text/plain": [
       "(614, 18216)"
      ]
     },
     "execution_count": 11,
     "metadata": {},
     "output_type": "execute_result"
    }
   ],
   "source": [
    "de_train.shape"
   ]
  },
  {
   "cell_type": "code",
   "execution_count": 12,
   "id": "cfff0359",
   "metadata": {
    "execution": {
     "iopub.execute_input": "2023-10-17T11:34:57.761751Z",
     "iopub.status.busy": "2023-10-17T11:34:57.761150Z",
     "iopub.status.idle": "2023-10-17T11:34:57.798460Z",
     "shell.execute_reply": "2023-10-17T11:34:57.797575Z"
    },
    "papermill": {
     "duration": 0.050335,
     "end_time": "2023-10-17T11:34:57.800626",
     "exception": false,
     "start_time": "2023-10-17T11:34:57.750291",
     "status": "completed"
    },
    "tags": []
   },
   "outputs": [],
   "source": [
    "# Create features and and labels for reverse model 18211 features and 152 labels for true model\n",
    "features_columns = [\"cell_type\", \"sm_name\"]\n",
    "labels_columns=[\"cell_type\",\"sm_name\",\"sm_lincs_id\",\"SMILES\",\"control\"]\n",
    "labels = de_train.drop(columns=labels_columns)\n",
    "features = pd.DataFrame(de_train, columns=features_columns)"
   ]
  },
  {
   "cell_type": "code",
   "execution_count": 13,
   "id": "597513a4",
   "metadata": {
    "execution": {
     "iopub.execute_input": "2023-10-17T11:34:57.825097Z",
     "iopub.status.busy": "2023-10-17T11:34:57.824213Z",
     "iopub.status.idle": "2023-10-17T11:34:57.833816Z",
     "shell.execute_reply": "2023-10-17T11:34:57.832869Z"
    },
    "papermill": {
     "duration": 0.023805,
     "end_time": "2023-10-17T11:34:57.835461",
     "exception": false,
     "start_time": "2023-10-17T11:34:57.811656",
     "status": "completed"
    },
    "tags": []
   },
   "outputs": [
    {
     "data": {
      "text/html": [
       "<div>\n",
       "<style scoped>\n",
       "    .dataframe tbody tr th:only-of-type {\n",
       "        vertical-align: middle;\n",
       "    }\n",
       "\n",
       "    .dataframe tbody tr th {\n",
       "        vertical-align: top;\n",
       "    }\n",
       "\n",
       "    .dataframe thead th {\n",
       "        text-align: right;\n",
       "    }\n",
       "</style>\n",
       "<table border=\"1\" class=\"dataframe\">\n",
       "  <thead>\n",
       "    <tr style=\"text-align: right;\">\n",
       "      <th></th>\n",
       "      <th>cell_type</th>\n",
       "      <th>sm_name</th>\n",
       "    </tr>\n",
       "  </thead>\n",
       "  <tbody>\n",
       "    <tr>\n",
       "      <th>350</th>\n",
       "      <td>T regulatory cells</td>\n",
       "      <td>TPCA-1</td>\n",
       "    </tr>\n",
       "    <tr>\n",
       "      <th>377</th>\n",
       "      <td>NK cells</td>\n",
       "      <td>Dovitinib</td>\n",
       "    </tr>\n",
       "    <tr>\n",
       "      <th>163</th>\n",
       "      <td>T regulatory cells</td>\n",
       "      <td>Tacalcitol</td>\n",
       "    </tr>\n",
       "    <tr>\n",
       "      <th>609</th>\n",
       "      <td>T regulatory cells</td>\n",
       "      <td>Atorvastatin</td>\n",
       "    </tr>\n",
       "    <tr>\n",
       "      <th>132</th>\n",
       "      <td>T cells CD8+</td>\n",
       "      <td>MK-5108</td>\n",
       "    </tr>\n",
       "    <tr>\n",
       "      <th>...</th>\n",
       "      <td>...</td>\n",
       "      <td>...</td>\n",
       "    </tr>\n",
       "    <tr>\n",
       "      <th>71</th>\n",
       "      <td>T regulatory cells</td>\n",
       "      <td>Raloxifene</td>\n",
       "    </tr>\n",
       "    <tr>\n",
       "      <th>106</th>\n",
       "      <td>NK cells</td>\n",
       "      <td>Dabrafenib</td>\n",
       "    </tr>\n",
       "    <tr>\n",
       "      <th>270</th>\n",
       "      <td>T regulatory cells</td>\n",
       "      <td>RN-486</td>\n",
       "    </tr>\n",
       "    <tr>\n",
       "      <th>435</th>\n",
       "      <td>NK cells</td>\n",
       "      <td>Doxorubicin</td>\n",
       "    </tr>\n",
       "    <tr>\n",
       "      <th>102</th>\n",
       "      <td>T cells CD8+</td>\n",
       "      <td>Ricolinostat</td>\n",
       "    </tr>\n",
       "  </tbody>\n",
       "</table>\n",
       "<p>614 rows × 2 columns</p>\n",
       "</div>"
      ],
      "text/plain": [
       "              cell_type       sm_name\n",
       "350  T regulatory cells        TPCA-1\n",
       "377            NK cells     Dovitinib\n",
       "163  T regulatory cells    Tacalcitol\n",
       "609  T regulatory cells  Atorvastatin\n",
       "132        T cells CD8+       MK-5108\n",
       "..                  ...           ...\n",
       "71   T regulatory cells    Raloxifene\n",
       "106            NK cells    Dabrafenib\n",
       "270  T regulatory cells        RN-486\n",
       "435            NK cells   Doxorubicin\n",
       "102        T cells CD8+  Ricolinostat\n",
       "\n",
       "[614 rows x 2 columns]"
      ]
     },
     "execution_count": 13,
     "metadata": {},
     "output_type": "execute_result"
    }
   ],
   "source": [
    "features"
   ]
  },
  {
   "cell_type": "code",
   "execution_count": 14,
   "id": "068e1c1e",
   "metadata": {
    "execution": {
     "iopub.execute_input": "2023-10-17T11:34:57.856967Z",
     "iopub.status.busy": "2023-10-17T11:34:57.856602Z",
     "iopub.status.idle": "2023-10-17T11:34:57.879623Z",
     "shell.execute_reply": "2023-10-17T11:34:57.878573Z"
    },
    "papermill": {
     "duration": 0.035656,
     "end_time": "2023-10-17T11:34:57.881378",
     "exception": false,
     "start_time": "2023-10-17T11:34:57.845722",
     "status": "completed"
    },
    "tags": []
   },
   "outputs": [
    {
     "data": {
      "text/html": [
       "<div>\n",
       "<style scoped>\n",
       "    .dataframe tbody tr th:only-of-type {\n",
       "        vertical-align: middle;\n",
       "    }\n",
       "\n",
       "    .dataframe tbody tr th {\n",
       "        vertical-align: top;\n",
       "    }\n",
       "\n",
       "    .dataframe thead th {\n",
       "        text-align: right;\n",
       "    }\n",
       "</style>\n",
       "<table border=\"1\" class=\"dataframe\">\n",
       "  <thead>\n",
       "    <tr style=\"text-align: right;\">\n",
       "      <th></th>\n",
       "      <th>A1BG</th>\n",
       "      <th>A1BG-AS1</th>\n",
       "      <th>A2M</th>\n",
       "      <th>A2M-AS1</th>\n",
       "      <th>A2MP1</th>\n",
       "      <th>A4GALT</th>\n",
       "      <th>AAAS</th>\n",
       "      <th>AACS</th>\n",
       "      <th>AAGAB</th>\n",
       "      <th>AAK1</th>\n",
       "      <th>...</th>\n",
       "      <th>ZUP1</th>\n",
       "      <th>ZW10</th>\n",
       "      <th>ZWILCH</th>\n",
       "      <th>ZWINT</th>\n",
       "      <th>ZXDA</th>\n",
       "      <th>ZXDB</th>\n",
       "      <th>ZXDC</th>\n",
       "      <th>ZYG11B</th>\n",
       "      <th>ZYX</th>\n",
       "      <th>ZZEF1</th>\n",
       "    </tr>\n",
       "  </thead>\n",
       "  <tbody>\n",
       "    <tr>\n",
       "      <th>350</th>\n",
       "      <td>2.175274</td>\n",
       "      <td>1.219289</td>\n",
       "      <td>2.396227</td>\n",
       "      <td>2.885988</td>\n",
       "      <td>3.384956</td>\n",
       "      <td>3.267348</td>\n",
       "      <td>0.134622</td>\n",
       "      <td>1.829941</td>\n",
       "      <td>-0.956191</td>\n",
       "      <td>-0.404039</td>\n",
       "      <td>...</td>\n",
       "      <td>-1.062199</td>\n",
       "      <td>1.178715</td>\n",
       "      <td>0.180416</td>\n",
       "      <td>0.755145</td>\n",
       "      <td>1.809688</td>\n",
       "      <td>1.644712</td>\n",
       "      <td>0.701406</td>\n",
       "      <td>0.137341</td>\n",
       "      <td>0.230949</td>\n",
       "      <td>0.179458</td>\n",
       "    </tr>\n",
       "    <tr>\n",
       "      <th>377</th>\n",
       "      <td>0.214531</td>\n",
       "      <td>-0.115171</td>\n",
       "      <td>0.326515</td>\n",
       "      <td>0.032289</td>\n",
       "      <td>0.220971</td>\n",
       "      <td>-0.463554</td>\n",
       "      <td>1.016849</td>\n",
       "      <td>0.153039</td>\n",
       "      <td>0.292684</td>\n",
       "      <td>0.038020</td>\n",
       "      <td>...</td>\n",
       "      <td>0.438939</td>\n",
       "      <td>0.216506</td>\n",
       "      <td>-0.108654</td>\n",
       "      <td>-0.063070</td>\n",
       "      <td>0.006721</td>\n",
       "      <td>-0.593161</td>\n",
       "      <td>-0.044022</td>\n",
       "      <td>0.475729</td>\n",
       "      <td>0.356555</td>\n",
       "      <td>-0.038020</td>\n",
       "    </tr>\n",
       "    <tr>\n",
       "      <th>163</th>\n",
       "      <td>0.391257</td>\n",
       "      <td>-0.052922</td>\n",
       "      <td>0.540292</td>\n",
       "      <td>0.718991</td>\n",
       "      <td>1.083183</td>\n",
       "      <td>1.021599</td>\n",
       "      <td>-0.097250</td>\n",
       "      <td>0.306833</td>\n",
       "      <td>-3.331719</td>\n",
       "      <td>0.235092</td>\n",
       "      <td>...</td>\n",
       "      <td>-1.755527</td>\n",
       "      <td>0.556352</td>\n",
       "      <td>0.089976</td>\n",
       "      <td>-0.000729</td>\n",
       "      <td>0.419802</td>\n",
       "      <td>1.020842</td>\n",
       "      <td>0.367313</td>\n",
       "      <td>0.486345</td>\n",
       "      <td>-0.856723</td>\n",
       "      <td>0.191009</td>\n",
       "    </tr>\n",
       "    <tr>\n",
       "      <th>609</th>\n",
       "      <td>-0.014372</td>\n",
       "      <td>-0.122464</td>\n",
       "      <td>-0.456366</td>\n",
       "      <td>-0.147894</td>\n",
       "      <td>-0.545382</td>\n",
       "      <td>-0.544709</td>\n",
       "      <td>0.282458</td>\n",
       "      <td>-0.431359</td>\n",
       "      <td>-0.364961</td>\n",
       "      <td>0.043123</td>\n",
       "      <td>...</td>\n",
       "      <td>-0.549987</td>\n",
       "      <td>-2.200925</td>\n",
       "      <td>0.359806</td>\n",
       "      <td>1.073983</td>\n",
       "      <td>0.356939</td>\n",
       "      <td>-0.029603</td>\n",
       "      <td>-0.528817</td>\n",
       "      <td>0.105138</td>\n",
       "      <td>0.491015</td>\n",
       "      <td>-0.979951</td>\n",
       "    </tr>\n",
       "    <tr>\n",
       "      <th>132</th>\n",
       "      <td>0.094873</td>\n",
       "      <td>1.067610</td>\n",
       "      <td>-0.745980</td>\n",
       "      <td>1.083842</td>\n",
       "      <td>0.638504</td>\n",
       "      <td>0.307649</td>\n",
       "      <td>-0.038108</td>\n",
       "      <td>0.772186</td>\n",
       "      <td>-0.736735</td>\n",
       "      <td>-0.462323</td>\n",
       "      <td>...</td>\n",
       "      <td>0.279780</td>\n",
       "      <td>0.489431</td>\n",
       "      <td>0.147217</td>\n",
       "      <td>0.292313</td>\n",
       "      <td>0.029266</td>\n",
       "      <td>0.330628</td>\n",
       "      <td>1.038142</td>\n",
       "      <td>-0.194884</td>\n",
       "      <td>1.078132</td>\n",
       "      <td>0.057001</td>\n",
       "    </tr>\n",
       "    <tr>\n",
       "      <th>...</th>\n",
       "      <td>...</td>\n",
       "      <td>...</td>\n",
       "      <td>...</td>\n",
       "      <td>...</td>\n",
       "      <td>...</td>\n",
       "      <td>...</td>\n",
       "      <td>...</td>\n",
       "      <td>...</td>\n",
       "      <td>...</td>\n",
       "      <td>...</td>\n",
       "      <td>...</td>\n",
       "      <td>...</td>\n",
       "      <td>...</td>\n",
       "      <td>...</td>\n",
       "      <td>...</td>\n",
       "      <td>...</td>\n",
       "      <td>...</td>\n",
       "      <td>...</td>\n",
       "      <td>...</td>\n",
       "      <td>...</td>\n",
       "      <td>...</td>\n",
       "    </tr>\n",
       "    <tr>\n",
       "      <th>71</th>\n",
       "      <td>1.080779</td>\n",
       "      <td>0.226991</td>\n",
       "      <td>2.440729</td>\n",
       "      <td>2.581894</td>\n",
       "      <td>1.773980</td>\n",
       "      <td>1.989227</td>\n",
       "      <td>-0.074095</td>\n",
       "      <td>0.906555</td>\n",
       "      <td>2.214564</td>\n",
       "      <td>-0.182784</td>\n",
       "      <td>...</td>\n",
       "      <td>-0.276043</td>\n",
       "      <td>0.768273</td>\n",
       "      <td>1.351487</td>\n",
       "      <td>2.359651</td>\n",
       "      <td>1.470219</td>\n",
       "      <td>0.866639</td>\n",
       "      <td>0.467307</td>\n",
       "      <td>0.663700</td>\n",
       "      <td>-0.122574</td>\n",
       "      <td>-0.315800</td>\n",
       "    </tr>\n",
       "    <tr>\n",
       "      <th>106</th>\n",
       "      <td>-0.161665</td>\n",
       "      <td>0.269009</td>\n",
       "      <td>-1.770091</td>\n",
       "      <td>-0.198444</td>\n",
       "      <td>0.954753</td>\n",
       "      <td>1.155912</td>\n",
       "      <td>-0.312552</td>\n",
       "      <td>0.621897</td>\n",
       "      <td>-0.154055</td>\n",
       "      <td>0.331780</td>\n",
       "      <td>...</td>\n",
       "      <td>0.131425</td>\n",
       "      <td>-1.112697</td>\n",
       "      <td>-0.589313</td>\n",
       "      <td>-0.660929</td>\n",
       "      <td>0.016530</td>\n",
       "      <td>0.319136</td>\n",
       "      <td>0.299521</td>\n",
       "      <td>-0.383452</td>\n",
       "      <td>0.267828</td>\n",
       "      <td>-1.100267</td>\n",
       "    </tr>\n",
       "    <tr>\n",
       "      <th>270</th>\n",
       "      <td>-0.304126</td>\n",
       "      <td>0.443651</td>\n",
       "      <td>0.688265</td>\n",
       "      <td>-0.101457</td>\n",
       "      <td>-0.005912</td>\n",
       "      <td>-0.004914</td>\n",
       "      <td>-0.247434</td>\n",
       "      <td>0.281614</td>\n",
       "      <td>-0.915735</td>\n",
       "      <td>-0.032908</td>\n",
       "      <td>...</td>\n",
       "      <td>-0.855096</td>\n",
       "      <td>-0.499096</td>\n",
       "      <td>-0.211083</td>\n",
       "      <td>-0.495621</td>\n",
       "      <td>-0.233734</td>\n",
       "      <td>1.120530</td>\n",
       "      <td>-0.109096</td>\n",
       "      <td>0.128084</td>\n",
       "      <td>0.313468</td>\n",
       "      <td>-0.512444</td>\n",
       "    </tr>\n",
       "    <tr>\n",
       "      <th>435</th>\n",
       "      <td>0.482294</td>\n",
       "      <td>-1.262924</td>\n",
       "      <td>-0.545405</td>\n",
       "      <td>-0.497739</td>\n",
       "      <td>-0.750201</td>\n",
       "      <td>0.959704</td>\n",
       "      <td>0.527966</td>\n",
       "      <td>1.198200</td>\n",
       "      <td>-0.482740</td>\n",
       "      <td>0.635863</td>\n",
       "      <td>...</td>\n",
       "      <td>0.444958</td>\n",
       "      <td>0.029279</td>\n",
       "      <td>0.337660</td>\n",
       "      <td>0.025025</td>\n",
       "      <td>0.035943</td>\n",
       "      <td>0.691171</td>\n",
       "      <td>0.352091</td>\n",
       "      <td>0.046012</td>\n",
       "      <td>-0.760812</td>\n",
       "      <td>-0.168719</td>\n",
       "    </tr>\n",
       "    <tr>\n",
       "      <th>102</th>\n",
       "      <td>-1.270048</td>\n",
       "      <td>-0.102076</td>\n",
       "      <td>-0.274282</td>\n",
       "      <td>0.357499</td>\n",
       "      <td>-0.756485</td>\n",
       "      <td>-0.668128</td>\n",
       "      <td>-0.157495</td>\n",
       "      <td>-0.001625</td>\n",
       "      <td>-1.435762</td>\n",
       "      <td>0.150410</td>\n",
       "      <td>...</td>\n",
       "      <td>0.307323</td>\n",
       "      <td>-1.183770</td>\n",
       "      <td>-0.541778</td>\n",
       "      <td>-0.433469</td>\n",
       "      <td>-0.310043</td>\n",
       "      <td>-0.515335</td>\n",
       "      <td>0.125768</td>\n",
       "      <td>-0.354120</td>\n",
       "      <td>0.603707</td>\n",
       "      <td>-0.379696</td>\n",
       "    </tr>\n",
       "  </tbody>\n",
       "</table>\n",
       "<p>614 rows × 18211 columns</p>\n",
       "</div>"
      ],
      "text/plain": [
       "         A1BG  A1BG-AS1       A2M   A2M-AS1     A2MP1    A4GALT      AAAS  \\\n",
       "350  2.175274  1.219289  2.396227  2.885988  3.384956  3.267348  0.134622   \n",
       "377  0.214531 -0.115171  0.326515  0.032289  0.220971 -0.463554  1.016849   \n",
       "163  0.391257 -0.052922  0.540292  0.718991  1.083183  1.021599 -0.097250   \n",
       "609 -0.014372 -0.122464 -0.456366 -0.147894 -0.545382 -0.544709  0.282458   \n",
       "132  0.094873  1.067610 -0.745980  1.083842  0.638504  0.307649 -0.038108   \n",
       "..        ...       ...       ...       ...       ...       ...       ...   \n",
       "71   1.080779  0.226991  2.440729  2.581894  1.773980  1.989227 -0.074095   \n",
       "106 -0.161665  0.269009 -1.770091 -0.198444  0.954753  1.155912 -0.312552   \n",
       "270 -0.304126  0.443651  0.688265 -0.101457 -0.005912 -0.004914 -0.247434   \n",
       "435  0.482294 -1.262924 -0.545405 -0.497739 -0.750201  0.959704  0.527966   \n",
       "102 -1.270048 -0.102076 -0.274282  0.357499 -0.756485 -0.668128 -0.157495   \n",
       "\n",
       "         AACS     AAGAB      AAK1  ...      ZUP1      ZW10    ZWILCH  \\\n",
       "350  1.829941 -0.956191 -0.404039  ... -1.062199  1.178715  0.180416   \n",
       "377  0.153039  0.292684  0.038020  ...  0.438939  0.216506 -0.108654   \n",
       "163  0.306833 -3.331719  0.235092  ... -1.755527  0.556352  0.089976   \n",
       "609 -0.431359 -0.364961  0.043123  ... -0.549987 -2.200925  0.359806   \n",
       "132  0.772186 -0.736735 -0.462323  ...  0.279780  0.489431  0.147217   \n",
       "..        ...       ...       ...  ...       ...       ...       ...   \n",
       "71   0.906555  2.214564 -0.182784  ... -0.276043  0.768273  1.351487   \n",
       "106  0.621897 -0.154055  0.331780  ...  0.131425 -1.112697 -0.589313   \n",
       "270  0.281614 -0.915735 -0.032908  ... -0.855096 -0.499096 -0.211083   \n",
       "435  1.198200 -0.482740  0.635863  ...  0.444958  0.029279  0.337660   \n",
       "102 -0.001625 -1.435762  0.150410  ...  0.307323 -1.183770 -0.541778   \n",
       "\n",
       "        ZWINT      ZXDA      ZXDB      ZXDC    ZYG11B       ZYX     ZZEF1  \n",
       "350  0.755145  1.809688  1.644712  0.701406  0.137341  0.230949  0.179458  \n",
       "377 -0.063070  0.006721 -0.593161 -0.044022  0.475729  0.356555 -0.038020  \n",
       "163 -0.000729  0.419802  1.020842  0.367313  0.486345 -0.856723  0.191009  \n",
       "609  1.073983  0.356939 -0.029603 -0.528817  0.105138  0.491015 -0.979951  \n",
       "132  0.292313  0.029266  0.330628  1.038142 -0.194884  1.078132  0.057001  \n",
       "..        ...       ...       ...       ...       ...       ...       ...  \n",
       "71   2.359651  1.470219  0.866639  0.467307  0.663700 -0.122574 -0.315800  \n",
       "106 -0.660929  0.016530  0.319136  0.299521 -0.383452  0.267828 -1.100267  \n",
       "270 -0.495621 -0.233734  1.120530 -0.109096  0.128084  0.313468 -0.512444  \n",
       "435  0.025025  0.035943  0.691171  0.352091  0.046012 -0.760812 -0.168719  \n",
       "102 -0.433469 -0.310043 -0.515335  0.125768 -0.354120  0.603707 -0.379696  \n",
       "\n",
       "[614 rows x 18211 columns]"
      ]
     },
     "execution_count": 14,
     "metadata": {},
     "output_type": "execute_result"
    }
   ],
   "source": [
    "labels"
   ]
  },
  {
   "cell_type": "code",
   "execution_count": 15,
   "id": "d3ff0cff",
   "metadata": {
    "execution": {
     "iopub.execute_input": "2023-10-17T11:34:57.903900Z",
     "iopub.status.busy": "2023-10-17T11:34:57.903165Z",
     "iopub.status.idle": "2023-10-17T11:34:57.908048Z",
     "shell.execute_reply": "2023-10-17T11:34:57.907191Z"
    },
    "papermill": {
     "duration": 0.017872,
     "end_time": "2023-10-17T11:34:57.909748",
     "exception": false,
     "start_time": "2023-10-17T11:34:57.891876",
     "status": "completed"
    },
    "tags": []
   },
   "outputs": [],
   "source": [
    "# Get test data \n",
    "test_data = pd.DataFrame(id_map, columns=features_columns)"
   ]
  },
  {
   "cell_type": "code",
   "execution_count": 16,
   "id": "5f1085bf",
   "metadata": {
    "execution": {
     "iopub.execute_input": "2023-10-17T11:34:57.931943Z",
     "iopub.status.busy": "2023-10-17T11:34:57.931599Z",
     "iopub.status.idle": "2023-10-17T11:34:57.940454Z",
     "shell.execute_reply": "2023-10-17T11:34:57.939579Z"
    },
    "papermill": {
     "duration": 0.021736,
     "end_time": "2023-10-17T11:34:57.942155",
     "exception": false,
     "start_time": "2023-10-17T11:34:57.920419",
     "status": "completed"
    },
    "tags": []
   },
   "outputs": [
    {
     "data": {
      "text/html": [
       "<div>\n",
       "<style scoped>\n",
       "    .dataframe tbody tr th:only-of-type {\n",
       "        vertical-align: middle;\n",
       "    }\n",
       "\n",
       "    .dataframe tbody tr th {\n",
       "        vertical-align: top;\n",
       "    }\n",
       "\n",
       "    .dataframe thead th {\n",
       "        text-align: right;\n",
       "    }\n",
       "</style>\n",
       "<table border=\"1\" class=\"dataframe\">\n",
       "  <thead>\n",
       "    <tr style=\"text-align: right;\">\n",
       "      <th></th>\n",
       "      <th>cell_type</th>\n",
       "      <th>sm_name</th>\n",
       "    </tr>\n",
       "  </thead>\n",
       "  <tbody>\n",
       "    <tr>\n",
       "      <th>0</th>\n",
       "      <td>B cells</td>\n",
       "      <td>5-(9-Isopropyl-8-methyl-2-morpholino-9H-purin-...</td>\n",
       "    </tr>\n",
       "    <tr>\n",
       "      <th>1</th>\n",
       "      <td>B cells</td>\n",
       "      <td>ABT-199 (GDC-0199)</td>\n",
       "    </tr>\n",
       "    <tr>\n",
       "      <th>2</th>\n",
       "      <td>B cells</td>\n",
       "      <td>ABT737</td>\n",
       "    </tr>\n",
       "    <tr>\n",
       "      <th>3</th>\n",
       "      <td>B cells</td>\n",
       "      <td>AMD-070 (hydrochloride)</td>\n",
       "    </tr>\n",
       "    <tr>\n",
       "      <th>4</th>\n",
       "      <td>B cells</td>\n",
       "      <td>AT 7867</td>\n",
       "    </tr>\n",
       "    <tr>\n",
       "      <th>...</th>\n",
       "      <td>...</td>\n",
       "      <td>...</td>\n",
       "    </tr>\n",
       "    <tr>\n",
       "      <th>250</th>\n",
       "      <td>Myeloid cells</td>\n",
       "      <td>Vandetanib</td>\n",
       "    </tr>\n",
       "    <tr>\n",
       "      <th>251</th>\n",
       "      <td>Myeloid cells</td>\n",
       "      <td>Vanoxerine</td>\n",
       "    </tr>\n",
       "    <tr>\n",
       "      <th>252</th>\n",
       "      <td>Myeloid cells</td>\n",
       "      <td>Vardenafil</td>\n",
       "    </tr>\n",
       "    <tr>\n",
       "      <th>253</th>\n",
       "      <td>Myeloid cells</td>\n",
       "      <td>Vorinostat</td>\n",
       "    </tr>\n",
       "    <tr>\n",
       "      <th>254</th>\n",
       "      <td>Myeloid cells</td>\n",
       "      <td>YK 4-279</td>\n",
       "    </tr>\n",
       "  </tbody>\n",
       "</table>\n",
       "<p>255 rows × 2 columns</p>\n",
       "</div>"
      ],
      "text/plain": [
       "         cell_type                                            sm_name\n",
       "0          B cells  5-(9-Isopropyl-8-methyl-2-morpholino-9H-purin-...\n",
       "1          B cells                                 ABT-199 (GDC-0199)\n",
       "2          B cells                                             ABT737\n",
       "3          B cells                            AMD-070 (hydrochloride)\n",
       "4          B cells                                            AT 7867\n",
       "..             ...                                                ...\n",
       "250  Myeloid cells                                         Vandetanib\n",
       "251  Myeloid cells                                         Vanoxerine\n",
       "252  Myeloid cells                                         Vardenafil\n",
       "253  Myeloid cells                                         Vorinostat\n",
       "254  Myeloid cells                                           YK 4-279\n",
       "\n",
       "[255 rows x 2 columns]"
      ]
     },
     "execution_count": 16,
     "metadata": {},
     "output_type": "execute_result"
    }
   ],
   "source": [
    "test_data"
   ]
  },
  {
   "cell_type": "markdown",
   "id": "268e14d0",
   "metadata": {
    "papermill": {
     "duration": 0.011107,
     "end_time": "2023-10-17T11:34:57.963971",
     "exception": false,
     "start_time": "2023-10-17T11:34:57.952864",
     "status": "completed"
    },
    "tags": []
   },
   "source": [
    "# Preprocess Data"
   ]
  },
  {
   "cell_type": "code",
   "execution_count": 17,
   "id": "744a06e8",
   "metadata": {
    "execution": {
     "iopub.execute_input": "2023-10-17T11:34:57.986768Z",
     "iopub.status.busy": "2023-10-17T11:34:57.986011Z",
     "iopub.status.idle": "2023-10-17T11:34:58.585373Z",
     "shell.execute_reply": "2023-10-17T11:34:58.584450Z"
    },
    "papermill": {
     "duration": 0.613001,
     "end_time": "2023-10-17T11:34:58.587601",
     "exception": false,
     "start_time": "2023-10-17T11:34:57.974600",
     "status": "completed"
    },
    "tags": []
   },
   "outputs": [],
   "source": [
    "from sklearn.preprocessing import OneHotEncoder\n",
    "\n",
    "# Create an instance of the encoder\n",
    "encoder = OneHotEncoder()\n",
    "\n",
    "# Fit the encoder on features\n",
    "encoder.fit(features)\n",
    "\n",
    "# Transform the features into one-hot encoded format\n",
    "one_hot_encode_features = encoder.transform(features)\n",
    "\n",
    "# Transform the test data(id_map)\n",
    "one_hot_test = encoder.transform(test_data)"
   ]
  },
  {
   "cell_type": "code",
   "execution_count": 18,
   "id": "a42e8279",
   "metadata": {
    "execution": {
     "iopub.execute_input": "2023-10-17T11:34:58.611171Z",
     "iopub.status.busy": "2023-10-17T11:34:58.610750Z",
     "iopub.status.idle": "2023-10-17T11:34:58.619028Z",
     "shell.execute_reply": "2023-10-17T11:34:58.618087Z"
    },
    "papermill": {
     "duration": 0.021839,
     "end_time": "2023-10-17T11:34:58.620722",
     "exception": false,
     "start_time": "2023-10-17T11:34:58.598883",
     "status": "completed"
    },
    "tags": []
   },
   "outputs": [
    {
     "data": {
      "text/plain": [
       "((614, 152), (255, 152))"
      ]
     },
     "execution_count": 18,
     "metadata": {},
     "output_type": "execute_result"
    }
   ],
   "source": [
    "one_hot_encode_features.toarray().shape, one_hot_test.toarray().shape"
   ]
  },
  {
   "cell_type": "code",
   "execution_count": 19,
   "id": "0f9aa9b4",
   "metadata": {
    "execution": {
     "iopub.execute_input": "2023-10-17T11:34:58.643412Z",
     "iopub.status.busy": "2023-10-17T11:34:58.643145Z",
     "iopub.status.idle": "2023-10-17T11:34:58.650051Z",
     "shell.execute_reply": "2023-10-17T11:34:58.649262Z"
    },
    "papermill": {
     "duration": 0.020237,
     "end_time": "2023-10-17T11:34:58.651736",
     "exception": false,
     "start_time": "2023-10-17T11:34:58.631499",
     "status": "completed"
    },
    "tags": []
   },
   "outputs": [
    {
     "data": {
      "text/plain": [
       "array([0., 0., 0., 0., 0., 1., 0., 0., 0., 0., 0., 0., 0., 0., 0., 0., 0.,\n",
       "       0., 0., 0., 0., 0., 0., 0., 0., 0., 0., 0., 0., 0., 0., 0., 0., 0.,\n",
       "       0., 0., 0., 0., 0., 0., 0., 0., 0., 0., 0., 0., 0., 0., 0., 0., 0.,\n",
       "       0., 0., 0., 0., 0., 0., 0., 0., 0., 0., 0., 0., 0., 0., 0., 0., 0.,\n",
       "       0., 0., 0., 0., 0., 0., 0., 0., 0., 0., 0., 0., 0., 0., 0., 0., 0.,\n",
       "       0., 0., 0., 0., 0., 0., 0., 0., 0., 0., 0., 0., 0., 0., 0., 0., 0.,\n",
       "       0., 0., 0., 0., 0., 0., 0., 0., 0., 0., 0., 0., 0., 0., 0., 0., 0.,\n",
       "       0., 0., 0., 0., 0., 0., 0., 0., 0., 0., 0., 0., 0., 0., 0., 0., 0.,\n",
       "       1., 0., 0., 0., 0., 0., 0., 0., 0., 0., 0., 0., 0., 0., 0., 0.])"
      ]
     },
     "execution_count": 19,
     "metadata": {},
     "output_type": "execute_result"
    }
   ],
   "source": [
    "one_hot_encode_features.toarray()[0]"
   ]
  },
  {
   "cell_type": "markdown",
   "id": "b8c60587",
   "metadata": {
    "papermill": {
     "duration": 0.010667,
     "end_time": "2023-10-17T11:34:58.673163",
     "exception": false,
     "start_time": "2023-10-17T11:34:58.662496",
     "status": "completed"
    },
    "tags": []
   },
   "source": [
    "# SPLIT "
   ]
  },
  {
   "cell_type": "code",
   "execution_count": 20,
   "id": "b1bd4951",
   "metadata": {
    "execution": {
     "iopub.execute_input": "2023-10-17T11:34:58.696895Z",
     "iopub.status.busy": "2023-10-17T11:34:58.696305Z",
     "iopub.status.idle": "2023-10-17T11:34:58.857825Z",
     "shell.execute_reply": "2023-10-17T11:34:58.856765Z"
    },
    "papermill": {
     "duration": 0.175441,
     "end_time": "2023-10-17T11:34:58.860018",
     "exception": false,
     "start_time": "2023-10-17T11:34:58.684577",
     "status": "completed"
    },
    "tags": []
   },
   "outputs": [],
   "source": [
    "from sklearn.model_selection import train_test_split\n",
    "\n",
    "X_train, X_temp, y_train, y_temp = train_test_split(one_hot_encode_features, labels.values, test_size=0.3, shuffle=False)\n",
    "X_val, X_test, y_val, y_test = train_test_split(X_temp, y_temp, test_size=0.5, shuffle=False)"
   ]
  },
  {
   "cell_type": "code",
   "execution_count": 21,
   "id": "7211b025",
   "metadata": {
    "execution": {
     "iopub.execute_input": "2023-10-17T11:34:58.884130Z",
     "iopub.status.busy": "2023-10-17T11:34:58.883341Z",
     "iopub.status.idle": "2023-10-17T11:34:58.889436Z",
     "shell.execute_reply": "2023-10-17T11:34:58.888470Z"
    },
    "papermill": {
     "duration": 0.019673,
     "end_time": "2023-10-17T11:34:58.891083",
     "exception": false,
     "start_time": "2023-10-17T11:34:58.871410",
     "status": "completed"
    },
    "tags": []
   },
   "outputs": [
    {
     "name": "stdout",
     "output_type": "stream",
     "text": [
      "X_train shape: (429, 152)\n",
      "X_val shape: (92, 152)\n",
      "X_test shape: (93, 152)\n",
      "y_train shape: (429, 18211)\n",
      "y_val shape: (92, 18211)\n",
      "y_test shape: (93, 18211)\n"
     ]
    }
   ],
   "source": [
    "# Printing the shapes of the data splits\n",
    "print(\"X_train shape:\", X_train.shape)\n",
    "print(\"X_val shape:\", X_val.shape)\n",
    "print(\"X_test shape:\", X_test.shape)\n",
    "print(\"y_train shape:\", y_train.shape)\n",
    "print(\"y_val shape:\", y_val.shape)\n",
    "print(\"y_test shape:\", y_test.shape)"
   ]
  },
  {
   "cell_type": "code",
   "execution_count": 22,
   "id": "31f06ca1",
   "metadata": {
    "execution": {
     "iopub.execute_input": "2023-10-17T11:34:58.914408Z",
     "iopub.status.busy": "2023-10-17T11:34:58.913898Z",
     "iopub.status.idle": "2023-10-17T11:34:58.918747Z",
     "shell.execute_reply": "2023-10-17T11:34:58.917933Z"
    },
    "papermill": {
     "duration": 0.018647,
     "end_time": "2023-10-17T11:34:58.920601",
     "exception": false,
     "start_time": "2023-10-17T11:34:58.901954",
     "status": "completed"
    },
    "tags": []
   },
   "outputs": [
    {
     "name": "stdout",
     "output_type": "stream",
     "text": [
      "full_features shape:  (614, 152)\n",
      "full labels shape:  (614, 18211)\n"
     ]
    }
   ],
   "source": [
    "full_features = one_hot_encode_features.toarray()\n",
    "full_labels = labels.values\n",
    "\n",
    "print(\"full_features shape: \", full_features.shape)\n",
    "print(\"full labels shape: \", full_labels.shape)"
   ]
  },
  {
   "cell_type": "markdown",
   "id": "fa75e30a",
   "metadata": {
    "papermill": {
     "duration": 0.010686,
     "end_time": "2023-10-17T11:34:58.942009",
     "exception": false,
     "start_time": "2023-10-17T11:34:58.931323",
     "status": "completed"
    },
    "tags": []
   },
   "source": [
    "# Auxillary Functions"
   ]
  },
  {
   "cell_type": "code",
   "execution_count": 23,
   "id": "79067e97",
   "metadata": {
    "execution": {
     "iopub.execute_input": "2023-10-17T11:34:58.965186Z",
     "iopub.status.busy": "2023-10-17T11:34:58.964622Z",
     "iopub.status.idle": "2023-10-17T11:34:58.970406Z",
     "shell.execute_reply": "2023-10-17T11:34:58.969664Z"
    },
    "papermill": {
     "duration": 0.019174,
     "end_time": "2023-10-17T11:34:58.972072",
     "exception": false,
     "start_time": "2023-10-17T11:34:58.952898",
     "status": "completed"
    },
    "tags": []
   },
   "outputs": [],
   "source": [
    "from tensorflow.keras.callbacks import ModelCheckpoint\n",
    "\n",
    "def create_model_checkpoint(filepath, monitor='val_mae', save_best_only=True,\n",
    "                           save_weights_only=True,mode='auto',verbose=0):\n",
    "    \n",
    "    '''\n",
    "    Model checkpoint to save the best model weights during training\n",
    "    '''\n",
    "    \n",
    "    checkpoint = ModelCheckpoint(\n",
    "        filepath=filepath,\n",
    "        monitor=monitor,\n",
    "        save_best_only=save_best_only,\n",
    "        save_weights_only=save_weights_only,\n",
    "        mode=mode,\n",
    "        verbose=verbose)\n",
    "    \n",
    "    \n",
    "    return checkpoint"
   ]
  },
  {
   "cell_type": "code",
   "execution_count": 24,
   "id": "981c8efc",
   "metadata": {
    "execution": {
     "iopub.execute_input": "2023-10-17T11:34:58.995281Z",
     "iopub.status.busy": "2023-10-17T11:34:58.994616Z",
     "iopub.status.idle": "2023-10-17T11:34:59.001569Z",
     "shell.execute_reply": "2023-10-17T11:34:59.000781Z"
    },
    "papermill": {
     "duration": 0.020258,
     "end_time": "2023-10-17T11:34:59.003178",
     "exception": false,
     "start_time": "2023-10-17T11:34:58.982920",
     "status": "completed"
    },
    "tags": []
   },
   "outputs": [],
   "source": [
    "def plot_training_history(history, metrics):\n",
    "    \"\"\"\n",
    "    Plot training history curves for loss and evaluation metrics on the same line.\n",
    "\n",
    "    Args:\n",
    "        history (keras.callbacks.History): Training history object.\n",
    "        metrics (list): List of metric names to plot.\n",
    "\n",
    "    Returns:\n",
    "        None\n",
    "    \"\"\"\n",
    "    loss = history.history['loss']\n",
    "    val_loss = history.history['val_loss']\n",
    "\n",
    "    epochs = range(len(loss))\n",
    "\n",
    "    plt.figure(figsize=(12, 6))\n",
    "\n",
    "    # Plot loss\n",
    "    plt.subplot(1, 2, 1)\n",
    "    plt.plot(epochs, loss, label='Training Loss', color=\"blue\")\n",
    "    plt.plot(epochs, val_loss, label='Validation Loss', color=\"red\")\n",
    "    plt.title('Loss')\n",
    "    plt.xlabel('Epochs')\n",
    "    plt.legend()\n",
    "\n",
    "    # Plot specified evaluation metrics on the same line\n",
    "    for metric in metrics:\n",
    "        train_metric_name = f'Training {metric.capitalize()}'\n",
    "        val_metric_name = f'Validation {metric.capitalize()}'\n",
    "        train_metric = history.history[metric]\n",
    "        val_metric = history.history['val_' + metric]\n",
    "\n",
    "        plt.subplot(1, 2, 2)\n",
    "        plt.plot(epochs, train_metric, label=train_metric_name, color=\"green\")\n",
    "        plt.plot(epochs, val_metric, label=val_metric_name, color=\"orange\")\n",
    "\n",
    "    plt.title('Metrics')\n",
    "    plt.xlabel('Epochs')\n",
    "    plt.legend(loc='upper right')\n",
    "\n",
    "    plt.tight_layout()\n",
    "    plt.show()\n"
   ]
  },
  {
   "cell_type": "code",
   "execution_count": 25,
   "id": "aa53601d",
   "metadata": {
    "execution": {
     "iopub.execute_input": "2023-10-17T11:34:59.026413Z",
     "iopub.status.busy": "2023-10-17T11:34:59.025813Z",
     "iopub.status.idle": "2023-10-17T11:34:59.030813Z",
     "shell.execute_reply": "2023-10-17T11:34:59.029935Z"
    },
    "papermill": {
     "duration": 0.018296,
     "end_time": "2023-10-17T11:34:59.032376",
     "exception": false,
     "start_time": "2023-10-17T11:34:59.014080",
     "status": "completed"
    },
    "tags": []
   },
   "outputs": [],
   "source": [
    "from sklearn.metrics import mean_absolute_error\n",
    "\n",
    "def calculate_mae_and_mrrmse(model, data, y_true):\n",
    "    \"\"\"\n",
    "    Calculate Mean Absolute Error (MAE) and Mean Rowwise Root Mean Squared Error (MRRMSE).\n",
    "\n",
    "    Parameters:\n",
    "    - model: The trained  model.\n",
    "    - data: The input data for prediction.\n",
    "    - y_true: The true target values.\n",
    "    - scaler: The scaler used for data normalization.\n",
    "\n",
    "    Returns:\n",
    "    - None\n",
    "    \"\"\"\n",
    "    #Predict \n",
    "    y_pred_original = model.predict(data, batch_size=1)\n",
    "    \n",
    "    #Calculate mean absolute error \n",
    "    \n",
    "    mae = mean_absolute_error(y_true, y_pred_original)\n",
    "    \n",
    "    #Calculate Mean Rowwise Mean Root Mean Squared Error\n",
    "    \n",
    "    rowwise_rmse = np.sqrt(np.mean(np.square(y_true - y_pred_original), axis=1))\n",
    "    mrrmse_score = np.mean(rowwise_rmse)\n",
    "    \n",
    "    # Print the results\n",
    "    print(f\"Mean Absolute Error (MAE): {mae}\")\n",
    "    print(f\"Mean Rowwise Root Mean Squared Error (MRRMSE): {mrrmse_score}\")"
   ]
  },
  {
   "cell_type": "code",
   "execution_count": 26,
   "id": "4ae4b65b",
   "metadata": {
    "execution": {
     "iopub.execute_input": "2023-10-17T11:34:59.055280Z",
     "iopub.status.busy": "2023-10-17T11:34:59.054774Z",
     "iopub.status.idle": "2023-10-17T11:34:59.059273Z",
     "shell.execute_reply": "2023-10-17T11:34:59.058410Z"
    },
    "papermill": {
     "duration": 0.01771,
     "end_time": "2023-10-17T11:34:59.060863",
     "exception": false,
     "start_time": "2023-10-17T11:34:59.043153",
     "status": "completed"
    },
    "tags": []
   },
   "outputs": [],
   "source": [
    "def mean_rowwise_rmse_loss(y_true, y_pred):\n",
    "    \"\"\"\n",
    "    Custom loss function to calculate the Mean Rowwise Root Mean Squared Error (RMSE) loss.\n",
    "\n",
    "    Parameters:\n",
    "    - y_true: The true target values.\n",
    "    - y_pred: The predicted values.\n",
    "\n",
    "    Returns:\n",
    "    - Mean Rowwise RMSE loss as a scalar tensor.\n",
    "    \"\"\"\n",
    "    # Calculate RMSE for each row\n",
    "    rmse_per_row = tf.sqrt(tf.reduce_mean(tf.square(y_true - y_pred), axis=1))\n",
    "    # Calculate the mean of RMSE values across all rows\n",
    "    mean_rmse = tf.reduce_mean(rmse_per_row)\n",
    "    \n",
    "    return mean_rmse"
   ]
  },
  {
   "cell_type": "code",
   "execution_count": 27,
   "id": "090ffe57",
   "metadata": {
    "execution": {
     "iopub.execute_input": "2023-10-17T11:34:59.083634Z",
     "iopub.status.busy": "2023-10-17T11:34:59.083045Z",
     "iopub.status.idle": "2023-10-17T11:34:59.087589Z",
     "shell.execute_reply": "2023-10-17T11:34:59.086656Z"
    },
    "papermill": {
     "duration": 0.017665,
     "end_time": "2023-10-17T11:34:59.089250",
     "exception": false,
     "start_time": "2023-10-17T11:34:59.071585",
     "status": "completed"
    },
    "tags": []
   },
   "outputs": [],
   "source": [
    "def custom_mean_rowwise_rmse(y_true, y_pred):\n",
    "    \"\"\"\n",
    "    Custom metric to calculate the Mean Rowwise Root Mean Squared Error (RMSE).\n",
    "\n",
    "    Parameters:\n",
    "    - y_true: The true target values.\n",
    "    - y_pred: The predicted values.\n",
    "\n",
    "    Returns:\n",
    "    - Mean Rowwise RMSE as a scalar tensor.\n",
    "    \"\"\"\n",
    "    # Calculate RMSE for each row\n",
    "    rmse_per_row = tf.sqrt(tf.reduce_mean(tf.square(y_true - y_pred), axis=1))\n",
    "    # Calculate the mean of RMSE values across all rows\n",
    "    mean_rmse = tf.reduce_mean(rmse_per_row)\n",
    "    \n",
    "    return mean_rmse"
   ]
  },
  {
   "cell_type": "markdown",
   "id": "c15dd9ed",
   "metadata": {
    "papermill": {
     "duration": 0.010738,
     "end_time": "2023-10-17T11:34:59.110772",
     "exception": false,
     "start_time": "2023-10-17T11:34:59.100034",
     "status": "completed"
    },
    "tags": []
   },
   "source": [
    "# Building the model now!"
   ]
  },
  {
   "cell_type": "code",
   "execution_count": 28,
   "id": "54b560ef",
   "metadata": {
    "execution": {
     "iopub.execute_input": "2023-10-17T11:34:59.134235Z",
     "iopub.status.busy": "2023-10-17T11:34:59.133474Z",
     "iopub.status.idle": "2023-10-17T11:34:59.138612Z",
     "shell.execute_reply": "2023-10-17T11:34:59.137852Z"
    },
    "papermill": {
     "duration": 0.018492,
     "end_time": "2023-10-17T11:34:59.140287",
     "exception": false,
     "start_time": "2023-10-17T11:34:59.121795",
     "status": "completed"
    },
    "tags": []
   },
   "outputs": [],
   "source": [
    "from tensorflow.keras.layers import Dense, BatchNormalization, Activation, Dropout\n",
    "from tensorflow.keras.models import Sequential"
   ]
  },
  {
   "cell_type": "markdown",
   "id": "42a44096",
   "metadata": {
    "papermill": {
     "duration": 0.010722,
     "end_time": "2023-10-17T11:34:59.162153",
     "exception": false,
     "start_time": "2023-10-17T11:34:59.151431",
     "status": "completed"
    },
    "tags": []
   },
   "source": [
    "I start from two Dense layers "
   ]
  },
  {
   "cell_type": "code",
   "execution_count": 29,
   "id": "2314391c",
   "metadata": {
    "execution": {
     "iopub.execute_input": "2023-10-17T11:34:59.185413Z",
     "iopub.status.busy": "2023-10-17T11:34:59.185182Z",
     "iopub.status.idle": "2023-10-17T11:35:22.897046Z",
     "shell.execute_reply": "2023-10-17T11:35:22.896047Z"
    },
    "papermill": {
     "duration": 23.726003,
     "end_time": "2023-10-17T11:35:22.899117",
     "exception": false,
     "start_time": "2023-10-17T11:34:59.173114",
     "status": "completed"
    },
    "tags": []
   },
   "outputs": [
    {
     "name": "stdout",
     "output_type": "stream",
     "text": [
      "Epoch 1/10\n",
      "14/14 [==============================] - 6s 133ms/step - loss: 1.3332 - custom_mean_rowwise_rmse: 1.3219 - val_loss: 1.1626 - val_custom_mean_rowwise_rmse: 1.1626\n",
      "Epoch 2/10\n",
      "14/14 [==============================] - 1s 55ms/step - loss: 1.3165 - custom_mean_rowwise_rmse: 1.3047 - val_loss: 1.1425 - val_custom_mean_rowwise_rmse: 1.1423\n",
      "Epoch 3/10\n",
      "14/14 [==============================] - 1s 69ms/step - loss: 1.3026 - custom_mean_rowwise_rmse: 1.3313 - val_loss: 1.1297 - val_custom_mean_rowwise_rmse: 1.1294\n",
      "Epoch 4/10\n",
      "14/14 [==============================] - 1s 43ms/step - loss: 1.2909 - custom_mean_rowwise_rmse: 1.2721 - val_loss: 1.1240 - val_custom_mean_rowwise_rmse: 1.1238\n",
      "Epoch 5/10\n",
      "14/14 [==============================] - 1s 40ms/step - loss: 1.2806 - custom_mean_rowwise_rmse: 1.3237 - val_loss: 1.1178 - val_custom_mean_rowwise_rmse: 1.1176\n",
      "Epoch 6/10\n",
      "14/14 [==============================] - 1s 40ms/step - loss: 1.2684 - custom_mean_rowwise_rmse: 1.2596 - val_loss: 1.1099 - val_custom_mean_rowwise_rmse: 1.1097\n",
      "Epoch 7/10\n",
      "14/14 [==============================] - 1s 44ms/step - loss: 1.2550 - custom_mean_rowwise_rmse: 1.2760 - val_loss: 1.1042 - val_custom_mean_rowwise_rmse: 1.1040\n",
      "Epoch 8/10\n",
      "14/14 [==============================] - 1s 50ms/step - loss: 1.2416 - custom_mean_rowwise_rmse: 1.2337 - val_loss: 1.1009 - val_custom_mean_rowwise_rmse: 1.1008\n",
      "Epoch 9/10\n",
      "14/14 [==============================] - 2s 121ms/step - loss: 1.2292 - custom_mean_rowwise_rmse: 1.2326 - val_loss: 1.0977 - val_custom_mean_rowwise_rmse: 1.0976\n",
      "Epoch 10/10\n",
      "14/14 [==============================] - 0s 29ms/step - loss: 1.2170 - custom_mean_rowwise_rmse: 1.2285 - val_loss: 1.0958 - val_custom_mean_rowwise_rmse: 1.0956\n"
     ]
    }
   ],
   "source": [
    "tf.random.set_seed(42)\n",
    "\n",
    "model_0 = Sequential([\n",
    "        Dense(512, activation='tanh'),\n",
    "        Dense(18211, activation='linear')\n",
    "])\n",
    "\n",
    "model_0.compile(loss=mean_rowwise_rmse_loss,\n",
    "               optimizer=tf.keras.optimizers.Adam(),\n",
    "               metrics=[custom_mean_rowwise_rmse])\n",
    "\n",
    "history_0 = model_0.fit(X_train, y_train,\n",
    "                       epochs=10,\n",
    "                       validation_data=(X_val, y_val),\n",
    "                       batch_size=32,\n",
    "                       callbacks=[create_model_checkpoint('model_0', monitor='val_custom_mean_rowwise_rmse')])"
   ]
  },
  {
   "cell_type": "code",
   "execution_count": 30,
   "id": "2210dbc0",
   "metadata": {
    "execution": {
     "iopub.execute_input": "2023-10-17T11:35:22.927469Z",
     "iopub.status.busy": "2023-10-17T11:35:22.927193Z",
     "iopub.status.idle": "2023-10-17T11:35:23.497743Z",
     "shell.execute_reply": "2023-10-17T11:35:23.496593Z"
    },
    "papermill": {
     "duration": 0.586706,
     "end_time": "2023-10-17T11:35:23.499611",
     "exception": false,
     "start_time": "2023-10-17T11:35:22.912905",
     "status": "completed"
    },
    "tags": []
   },
   "outputs": [
    {
     "name": "stdout",
     "output_type": "stream",
     "text": [
      "93/93 [==============================] - 0s 2ms/step\n",
      "Mean Absolute Error (MAE): 0.7210199395976963\n",
      "Mean Rowwise Root Mean Squared Error (MRRMSE): 1.0683943064922592\n"
     ]
    }
   ],
   "source": [
    "model_0.load_weights(\"model_0\")\n",
    "calculate_mae_and_mrrmse(model=model_0, data=X_test, y_true=y_test)"
   ]
  },
  {
   "cell_type": "code",
   "execution_count": 31,
   "id": "e23b2597",
   "metadata": {
    "execution": {
     "iopub.execute_input": "2023-10-17T11:35:23.528142Z",
     "iopub.status.busy": "2023-10-17T11:35:23.527854Z",
     "iopub.status.idle": "2023-10-17T11:35:25.049060Z",
     "shell.execute_reply": "2023-10-17T11:35:25.047957Z"
    },
    "papermill": {
     "duration": 1.537714,
     "end_time": "2023-10-17T11:35:25.051175",
     "exception": false,
     "start_time": "2023-10-17T11:35:23.513461",
     "status": "completed"
    },
    "tags": []
   },
   "outputs": [
    {
     "name": "stdout",
     "output_type": "stream",
     "text": [
      "614/614 [==============================] - 1s 1ms/step\n",
      "Mean Absolute Error (MAE): 0.7750069600804632\n",
      "Mean Rowwise Root Mean Squared Error (MRRMSE): 1.1700510545189629\n"
     ]
    }
   ],
   "source": [
    "# Model performance on full data \n",
    "calculate_mae_and_mrrmse(model=model_0, data=full_features, y_true=full_labels)"
   ]
  },
  {
   "cell_type": "code",
   "execution_count": 32,
   "id": "9e3dc521",
   "metadata": {
    "execution": {
     "iopub.execute_input": "2023-10-17T11:35:25.087348Z",
     "iopub.status.busy": "2023-10-17T11:35:25.087054Z",
     "iopub.status.idle": "2023-10-17T11:35:25.627627Z",
     "shell.execute_reply": "2023-10-17T11:35:25.626751Z"
    },
    "papermill": {
     "duration": 0.561365,
     "end_time": "2023-10-17T11:35:25.629693",
     "exception": false,
     "start_time": "2023-10-17T11:35:25.068328",
     "status": "completed"
    },
    "tags": []
   },
   "outputs": [
    {
     "data": {
      "image/png": "[encoded data removed]",
      "text/plain": [
       "<Figure size 1200x600 with 2 Axes>"
      ]
     },
     "metadata": {},
     "output_type": "display_data"
    }
   ],
   "source": [
    "plot_training_history(history_0, metrics=[\"custom_mean_rowwise_rmse\"])"
   ]
  },
  {
   "cell_type": "markdown",
   "id": "aa9eca07",
   "metadata": {
    "papermill": {
     "duration": 0.014443,
     "end_time": "2023-10-17T11:35:25.659231",
     "exception": false,
     "start_time": "2023-10-17T11:35:25.644788",
     "status": "completed"
    },
    "tags": []
   },
   "source": [
    "Model is not learning shit and it is underfitting XD\n",
    "\n",
    "Let me try giving it some more neurons and maybe switch up the learning rate."
   ]
  },
  {
   "cell_type": "code",
   "execution_count": 33,
   "id": "5b4e7040",
   "metadata": {
    "execution": {
     "iopub.execute_input": "2023-10-17T11:35:25.689558Z",
     "iopub.status.busy": "2023-10-17T11:35:25.689253Z",
     "iopub.status.idle": "2023-10-17T11:35:33.775657Z",
     "shell.execute_reply": "2023-10-17T11:35:33.774718Z"
    },
    "papermill": {
     "duration": 8.103972,
     "end_time": "2023-10-17T11:35:33.777779",
     "exception": false,
     "start_time": "2023-10-17T11:35:25.673807",
     "status": "completed"
    },
    "tags": []
   },
   "outputs": [
    {
     "name": "stdout",
     "output_type": "stream",
     "text": [
      "Epoch 1/30\n",
      "Epoch 2/30\n",
      "Epoch 3/30\n",
      "Epoch 4/30\n",
      "Epoch 5/30\n",
      "Epoch 6/30\n",
      "Epoch 7/30\n",
      "Epoch 8/30\n",
      "Epoch 9/30\n",
      "Epoch 10/30\n",
      "Epoch 11/30\n",
      "Epoch 12/30\n",
      "Epoch 13/30\n",
      "Epoch 14/30\n",
      "Epoch 15/30\n",
      "Epoch 16/30\n",
      "Epoch 17/30\n",
      "Epoch 18/30\n",
      "Epoch 19/30\n",
      "Epoch 20/30\n",
      "Epoch 21/30\n",
      "Epoch 22/30\n",
      "Epoch 23/30\n",
      "Epoch 24/30\n",
      "Epoch 25/30\n",
      "Epoch 26/30\n",
      "Epoch 27/30\n",
      "Epoch 28/30\n",
      "Epoch 29/30\n",
      "Epoch 30/30\n"
     ]
    }
   ],
   "source": [
    "tf.random.set_seed(42)\n",
    "\n",
    "model_1 = Sequential([\n",
    "        Dense(1024, activation='tanh'),\n",
    "        Dense(512, activation='tanh'),\n",
    "        Dense(18211, activation='linear')\n",
    "])\n",
    "\n",
    "model_1.compile(loss=mean_rowwise_rmse_loss,\n",
    "               optimizer=tf.keras.optimizers.Adam(),\n",
    "               metrics=[custom_mean_rowwise_rmse])\n",
    "\n",
    "history_1 = model_1.fit(X_train, y_train,\n",
    "           epochs=30,\n",
    "           validation_data=(X_val, y_val),\n",
    "           verbose=100,\n",
    "           callbacks=[create_model_checkpoint('model_1', monitor='val_mean_rowwise_rmse')])"
   ]
  },
  {
   "cell_type": "code",
   "execution_count": 34,
   "id": "079bcc25",
   "metadata": {
    "execution": {
     "iopub.execute_input": "2023-10-17T11:35:33.811629Z",
     "iopub.status.busy": "2023-10-17T11:35:33.811305Z",
     "iopub.status.idle": "2023-10-17T11:35:34.146723Z",
     "shell.execute_reply": "2023-10-17T11:35:34.145712Z"
    },
    "papermill": {
     "duration": 0.354072,
     "end_time": "2023-10-17T11:35:34.148506",
     "exception": false,
     "start_time": "2023-10-17T11:35:33.794434",
     "status": "completed"
    },
    "tags": []
   },
   "outputs": [
    {
     "name": "stdout",
     "output_type": "stream",
     "text": [
      "93/93 [==============================] - 0s 2ms/step\n",
      "Mean Absolute Error (MAE): 0.7263997793611672\n",
      "Mean Rowwise Root Mean Squared Error (MRRMSE): 1.044834565653364\n"
     ]
    }
   ],
   "source": [
    "# model_1.load_weights(\"model_1\")\n",
    "calculate_mae_and_mrrmse(model=model_1, data=X_test, y_true=y_test)"
   ]
  },
  {
   "cell_type": "code",
   "execution_count": 35,
   "id": "b64ede4e",
   "metadata": {
    "execution": {
     "iopub.execute_input": "2023-10-17T11:35:34.183373Z",
     "iopub.status.busy": "2023-10-17T11:35:34.183087Z",
     "iopub.status.idle": "2023-10-17T11:35:35.679550Z",
     "shell.execute_reply": "2023-10-17T11:35:35.678385Z"
    },
    "papermill": {
     "duration": 1.51559,
     "end_time": "2023-10-17T11:35:35.681387",
     "exception": false,
     "start_time": "2023-10-17T11:35:34.165797",
     "status": "completed"
    },
    "tags": []
   },
   "outputs": [
    {
     "name": "stdout",
     "output_type": "stream",
     "text": [
      "614/614 [==============================] - 1s 1ms/step\n",
      "Mean Absolute Error (MAE): 0.7111955836086448\n",
      "Mean Rowwise Root Mean Squared Error (MRRMSE): 1.0271476861560316\n"
     ]
    }
   ],
   "source": [
    "calculate_mae_and_mrrmse(model=model_1, data=full_features, y_true=full_labels)"
   ]
  },
  {
   "cell_type": "code",
   "execution_count": 36,
   "id": "526c64c4",
   "metadata": {
    "execution": {
     "iopub.execute_input": "2023-10-17T11:35:35.717860Z",
     "iopub.status.busy": "2023-10-17T11:35:35.716906Z",
     "iopub.status.idle": "2023-10-17T11:35:36.209158Z",
     "shell.execute_reply": "2023-10-17T11:35:36.208275Z"
    },
    "papermill": {
     "duration": 0.512162,
     "end_time": "2023-10-17T11:35:36.211313",
     "exception": false,
     "start_time": "2023-10-17T11:35:35.699151",
     "status": "completed"
    },
    "tags": []
   },
   "outputs": [
    {
     "data": {
      "image/png": "[encoded data removed]",
      "text/plain": [
       "<Figure size 1200x600 with 2 Axes>"
      ]
     },
     "metadata": {},
     "output_type": "display_data"
    }
   ],
   "source": [
    "plot_training_history(history_1, metrics=['custom_mean_rowwise_rmse'])"
   ]
  },
  {
   "cell_type": "markdown",
   "id": "2ad1df06",
   "metadata": {
    "papermill": {
     "duration": 0.018295,
     "end_time": "2023-10-17T11:35:36.249206",
     "exception": false,
     "start_time": "2023-10-17T11:35:36.230911",
     "status": "completed"
    },
    "tags": []
   },
   "source": [
    "Still bad! Improvable, by adding more neurons and trying different activations"
   ]
  },
  {
   "cell_type": "code",
   "execution_count": 37,
   "id": "f1e7c446",
   "metadata": {
    "execution": {
     "iopub.execute_input": "2023-10-17T11:35:36.286440Z",
     "iopub.status.busy": "2023-10-17T11:35:36.286127Z",
     "iopub.status.idle": "2023-10-17T11:35:50.464837Z",
     "shell.execute_reply": "2023-10-17T11:35:50.463781Z"
    },
    "papermill": {
     "duration": 14.200113,
     "end_time": "2023-10-17T11:35:50.467369",
     "exception": false,
     "start_time": "2023-10-17T11:35:36.267256",
     "status": "completed"
    },
    "tags": []
   },
   "outputs": [
    {
     "name": "stdout",
     "output_type": "stream",
     "text": [
      "Epoch 1/30\n",
      "Epoch 2/30\n",
      "Epoch 3/30\n",
      "Epoch 4/30\n",
      "Epoch 5/30\n",
      "Epoch 6/30\n",
      "Epoch 7/30\n",
      "Epoch 8/30\n",
      "Epoch 9/30\n",
      "Epoch 10/30\n",
      "Epoch 11/30\n",
      "Epoch 12/30\n",
      "Epoch 13/30\n",
      "Epoch 14/30\n",
      "Epoch 15/30\n",
      "Epoch 16/30\n",
      "Epoch 17/30\n",
      "Epoch 18/30\n",
      "Epoch 19/30\n",
      "Epoch 20/30\n",
      "Epoch 21/30\n",
      "Epoch 22/30\n",
      "Epoch 23/30\n",
      "Epoch 24/30\n",
      "Epoch 25/30\n",
      "Epoch 26/30\n",
      "Epoch 27/30\n",
      "Epoch 28/30\n",
      "Epoch 29/30\n",
      "Epoch 30/30\n"
     ]
    }
   ],
   "source": [
    "tf.random.set_seed(42)\n",
    "\n",
    "model_2 = Sequential([\n",
    "        Dense(1024, activation='relu'),\n",
    "        BatchNormalization(),\n",
    "        Activation('relu'),\n",
    "        Dropout(0.2),\n",
    "        Dense(512, activation='relu'),\n",
    "        Dropout(0.2),\n",
    "        BatchNormalization(),\n",
    "        Dense(256, activation='relu'),\n",
    "        Dropout(0.2),\n",
    "        Dense(128, activation='relu'),\n",
    "        Dropout(0.2),\n",
    "        Dense(18211, activation='linear')\n",
    "])\n",
    "\n",
    "model_2.compile(loss='mae',\n",
    "               optimizer=tf.keras.optimizers.Adam(learning_rate=0.0001),\n",
    "               metrics=['mae'])\n",
    "\n",
    "history_2 = model_2.fit(X_train, y_train,\n",
    "           epochs=30,\n",
    "           validation_data=(X_val, y_val),\n",
    "           verbose=100,\n",
    "           callbacks=[create_model_checkpoint('model_2', monitor='val_mae')])"
   ]
  },
  {
   "cell_type": "code",
   "execution_count": 38,
   "id": "89890ef2",
   "metadata": {
    "execution": {
     "iopub.execute_input": "2023-10-17T11:35:50.512015Z",
     "iopub.status.busy": "2023-10-17T11:35:50.511039Z",
     "iopub.status.idle": "2023-10-17T11:35:50.912794Z",
     "shell.execute_reply": "2023-10-17T11:35:50.911422Z"
    },
    "papermill": {
     "duration": 0.425626,
     "end_time": "2023-10-17T11:35:50.914892",
     "exception": false,
     "start_time": "2023-10-17T11:35:50.489266",
     "status": "completed"
    },
    "tags": []
   },
   "outputs": [
    {
     "name": "stdout",
     "output_type": "stream",
     "text": [
      "93/93 [==============================] - 0s 2ms/step\n",
      "Mean Absolute Error (MAE): 0.7446103902798595\n",
      "Mean Rowwise Root Mean Squared Error (MRRMSE): 1.1264384361457167\n"
     ]
    }
   ],
   "source": [
    "calculate_mae_and_mrrmse(model=model_2, data=X_test, y_true=y_test)"
   ]
  },
  {
   "cell_type": "code",
   "execution_count": 39,
   "id": "be3ed4d6",
   "metadata": {
    "execution": {
     "iopub.execute_input": "2023-10-17T11:35:50.968227Z",
     "iopub.status.busy": "2023-10-17T11:35:50.967892Z",
     "iopub.status.idle": "2023-10-17T11:35:52.691380Z",
     "shell.execute_reply": "2023-10-17T11:35:52.689904Z"
    },
    "papermill": {
     "duration": 1.755711,
     "end_time": "2023-10-17T11:35:52.693195",
     "exception": false,
     "start_time": "2023-10-17T11:35:50.937484",
     "status": "completed"
    },
    "tags": []
   },
   "outputs": [
    {
     "name": "stdout",
     "output_type": "stream",
     "text": [
      "614/614 [==============================] - 1s 2ms/step\n",
      "Mean Absolute Error (MAE): 0.7889952277318519\n",
      "Mean Rowwise Root Mean Squared Error (MRRMSE): 1.2126959032884554\n"
     ]
    }
   ],
   "source": [
    "calculate_mae_and_mrrmse(model=model_2, data=full_features, y_true=full_labels)"
   ]
  },
  {
   "cell_type": "code",
   "execution_count": 40,
   "id": "16537404",
   "metadata": {
    "execution": {
     "iopub.execute_input": "2023-10-17T11:35:52.736013Z",
     "iopub.status.busy": "2023-10-17T11:35:52.735424Z",
     "iopub.status.idle": "2023-10-17T11:35:53.201690Z",
     "shell.execute_reply": "2023-10-17T11:35:53.200817Z"
    },
    "papermill": {
     "duration": 0.489887,
     "end_time": "2023-10-17T11:35:53.203893",
     "exception": false,
     "start_time": "2023-10-17T11:35:52.714006",
     "status": "completed"
    },
    "tags": []
   },
   "outputs": [
    {
     "data": {
      "image/png": "[encoded data removed]",
      "text/plain": [
       "<Figure size 1200x600 with 2 Axes>"
      ]
     },
     "metadata": {},
     "output_type": "display_data"
    }
   ],
   "source": [
    "#  Visualize the learning from our helper functions\n",
    "plot_training_history(history_2, metrics=[\"mae\"])"
   ]
  },
  {
   "cell_type": "code",
   "execution_count": 41,
   "id": "2ddf0228",
   "metadata": {
    "execution": {
     "iopub.execute_input": "2023-10-17T11:35:53.248458Z",
     "iopub.status.busy": "2023-10-17T11:35:53.248188Z",
     "iopub.status.idle": "2023-10-17T11:36:16.938779Z",
     "shell.execute_reply": "2023-10-17T11:36:16.937869Z"
    },
    "papermill": {
     "duration": 23.714897,
     "end_time": "2023-10-17T11:36:16.941082",
     "exception": false,
     "start_time": "2023-10-17T11:35:53.226185",
     "status": "completed"
    },
    "tags": []
   },
   "outputs": [
    {
     "name": "stdout",
     "output_type": "stream",
     "text": [
      "Epoch 1/25\n",
      "14/14 [==============================] - 4s 113ms/step - loss: 0.8755 - custom_mean_rowwise_rmse: 1.3198 - val_loss: 0.7600 - val_custom_mean_rowwise_rmse: 1.1731\n",
      "Epoch 2/25\n",
      "14/14 [==============================] - 1s 64ms/step - loss: 0.8451 - custom_mean_rowwise_rmse: 1.2795 - val_loss: 0.7586 - val_custom_mean_rowwise_rmse: 1.1711\n",
      "Epoch 3/25\n",
      "14/14 [==============================] - 1s 73ms/step - loss: 0.8353 - custom_mean_rowwise_rmse: 1.2888 - val_loss: 0.7583 - val_custom_mean_rowwise_rmse: 1.1707\n",
      "Epoch 4/25\n",
      "14/14 [==============================] - 2s 112ms/step - loss: 0.7700 - custom_mean_rowwise_rmse: 1.1769 - val_loss: 0.7544 - val_custom_mean_rowwise_rmse: 1.1655\n",
      "Epoch 5/25\n",
      "14/14 [==============================] - 0s 7ms/step - loss: 0.7142 - custom_mean_rowwise_rmse: 1.1395 - val_loss: 0.7581 - val_custom_mean_rowwise_rmse: 1.1699\n",
      "Epoch 6/25\n",
      "14/14 [==============================] - 0s 7ms/step - loss: 0.7133 - custom_mean_rowwise_rmse: 1.1023 - val_loss: 0.7556 - val_custom_mean_rowwise_rmse: 1.1660\n",
      "Epoch 7/25\n",
      "14/14 [==============================] - 1s 53ms/step - loss: 0.6851 - custom_mean_rowwise_rmse: 1.0994 - val_loss: 0.7506 - val_custom_mean_rowwise_rmse: 1.1594\n",
      "Epoch 8/25\n",
      "14/14 [==============================] - 0s 8ms/step - loss: 0.6528 - custom_mean_rowwise_rmse: 1.0318 - val_loss: 0.7524 - val_custom_mean_rowwise_rmse: 1.1633\n",
      "Epoch 9/25\n",
      "14/14 [==============================] - 0s 8ms/step - loss: 0.6302 - custom_mean_rowwise_rmse: 1.0075 - val_loss: 0.7523 - val_custom_mean_rowwise_rmse: 1.1626\n",
      "Epoch 10/25\n",
      "14/14 [==============================] - 1s 50ms/step - loss: 0.6299 - custom_mean_rowwise_rmse: 0.9994 - val_loss: 0.7447 - val_custom_mean_rowwise_rmse: 1.1526\n",
      "Epoch 11/25\n",
      "14/14 [==============================] - 1s 47ms/step - loss: 0.6462 - custom_mean_rowwise_rmse: 1.0128 - val_loss: 0.7448 - val_custom_mean_rowwise_rmse: 1.1515\n",
      "Epoch 12/25\n",
      "14/14 [==============================] - 0s 7ms/step - loss: 0.6335 - custom_mean_rowwise_rmse: 1.0196 - val_loss: 0.7477 - val_custom_mean_rowwise_rmse: 1.1565\n",
      "Epoch 13/25\n",
      "14/14 [==============================] - 1s 57ms/step - loss: 0.6019 - custom_mean_rowwise_rmse: 0.9753 - val_loss: 0.7392 - val_custom_mean_rowwise_rmse: 1.1442\n",
      "Epoch 14/25\n",
      "14/14 [==============================] - 2s 171ms/step - loss: 0.6076 - custom_mean_rowwise_rmse: 1.0171 - val_loss: 0.7368 - val_custom_mean_rowwise_rmse: 1.1437\n",
      "Epoch 15/25\n",
      "14/14 [==============================] - 0s 8ms/step - loss: 0.5950 - custom_mean_rowwise_rmse: 0.9561 - val_loss: 0.7421 - val_custom_mean_rowwise_rmse: 1.1497\n",
      "Epoch 16/25\n",
      "14/14 [==============================] - 0s 8ms/step - loss: 0.6184 - custom_mean_rowwise_rmse: 0.9761 - val_loss: 0.7455 - val_custom_mean_rowwise_rmse: 1.1532\n",
      "Epoch 17/25\n",
      "14/14 [==============================] - 1s 53ms/step - loss: 0.5942 - custom_mean_rowwise_rmse: 0.9556 - val_loss: 0.7367 - val_custom_mean_rowwise_rmse: 1.1422\n",
      "Epoch 18/25\n",
      "14/14 [==============================] - 1s 44ms/step - loss: 0.5869 - custom_mean_rowwise_rmse: 0.9697 - val_loss: 0.7354 - val_custom_mean_rowwise_rmse: 1.1399\n",
      "Epoch 19/25\n",
      "14/14 [==============================] - 1s 51ms/step - loss: 0.5610 - custom_mean_rowwise_rmse: 0.9045 - val_loss: 0.7278 - val_custom_mean_rowwise_rmse: 1.1315\n",
      "Epoch 20/25\n",
      "14/14 [==============================] - 0s 7ms/step - loss: 0.5747 - custom_mean_rowwise_rmse: 0.9202 - val_loss: 0.7314 - val_custom_mean_rowwise_rmse: 1.1345\n",
      "Epoch 21/25\n",
      "14/14 [==============================] - 3s 212ms/step - loss: 0.5509 - custom_mean_rowwise_rmse: 0.9005 - val_loss: 0.7277 - val_custom_mean_rowwise_rmse: 1.1303\n",
      "Epoch 22/25\n",
      "14/14 [==============================] - 1s 48ms/step - loss: 0.5802 - custom_mean_rowwise_rmse: 0.9415 - val_loss: 0.7093 - val_custom_mean_rowwise_rmse: 1.1076\n",
      "Epoch 23/25\n",
      "14/14 [==============================] - 0s 8ms/step - loss: 0.5456 - custom_mean_rowwise_rmse: 0.8788 - val_loss: 0.7290 - val_custom_mean_rowwise_rmse: 1.1289\n",
      "Epoch 24/25\n",
      "14/14 [==============================] - 0s 8ms/step - loss: 0.5582 - custom_mean_rowwise_rmse: 0.8950 - val_loss: 0.7217 - val_custom_mean_rowwise_rmse: 1.1183\n",
      "Epoch 25/25\n",
      "14/14 [==============================] - 1s 64ms/step - loss: 0.5172 - custom_mean_rowwise_rmse: 0.8559 - val_loss: 0.7073 - val_custom_mean_rowwise_rmse: 1.1015\n"
     ]
    }
   ],
   "source": [
    "tf.random.set_seed(42)\n",
    "\n",
    "# clone model 2\n",
    "model_3 = Sequential([ \n",
    "    Dense(2048),\n",
    "    BatchNormalization(),\n",
    "    Activation(\"relu\"),\n",
    "    Dense(1024, activation=\"relu\"),\n",
    "    Dense(512, activation=\"relu\"),\n",
    "    Dense(18211,activation= \"linear\")\n",
    "])\n",
    "\n",
    "model_3.compile(loss=\"mae\", \n",
    "                optimizer=tf.keras.optimizers.Adam(learning_rate=0.0027),\n",
    "                metrics=[custom_mean_rowwise_rmse])\n",
    "\n",
    "history_3 = model_3.fit(X_train, y_train,\n",
    "                       epochs=25,\n",
    "                       validation_data=(X_val,y_val),\n",
    "                       callbacks=[create_model_checkpoint(\"model_3\", monitor=\"val_custom_mean_rowwise_rmse\")])"
   ]
  },
  {
   "cell_type": "markdown",
   "id": "e35bb7de",
   "metadata": {
    "papermill": {
     "duration": 0.025626,
     "end_time": "2023-10-17T11:36:16.993325",
     "exception": false,
     "start_time": "2023-10-17T11:36:16.967699",
     "status": "completed"
    },
    "tags": []
   },
   "source": [
    "I really dont know what I am doing wrong at this point but let's just proceed!"
   ]
  },
  {
   "cell_type": "code",
   "execution_count": 42,
   "id": "0b4859f2",
   "metadata": {
    "execution": {
     "iopub.execute_input": "2023-10-17T11:36:17.045310Z",
     "iopub.status.busy": "2023-10-17T11:36:17.044994Z",
     "iopub.status.idle": "2023-10-17T11:36:17.539634Z",
     "shell.execute_reply": "2023-10-17T11:36:17.538702Z"
    },
    "papermill": {
     "duration": 0.523012,
     "end_time": "2023-10-17T11:36:17.541501",
     "exception": false,
     "start_time": "2023-10-17T11:36:17.018489",
     "status": "completed"
    },
    "tags": []
   },
   "outputs": [
    {
     "name": "stdout",
     "output_type": "stream",
     "text": [
      "93/93 [==============================] - 0s 2ms/step\n",
      "Mean Absolute Error (MAE): 0.7016921099083961\n",
      "Mean Rowwise Root Mean Squared Error (MRRMSE): 1.0698954423925844\n"
     ]
    }
   ],
   "source": [
    "model_3.load_weights(\"model_3\")\n",
    "calculate_mae_and_mrrmse(model=model_3, data=X_test, y_true=y_test)"
   ]
  },
  {
   "cell_type": "code",
   "execution_count": 43,
   "id": "1b9cea46",
   "metadata": {
    "execution": {
     "iopub.execute_input": "2023-10-17T11:36:17.605682Z",
     "iopub.status.busy": "2023-10-17T11:36:17.605304Z",
     "iopub.status.idle": "2023-10-17T11:36:19.369641Z",
     "shell.execute_reply": "2023-10-17T11:36:19.368182Z"
    },
    "papermill": {
     "duration": 1.800548,
     "end_time": "2023-10-17T11:36:19.371583",
     "exception": false,
     "start_time": "2023-10-17T11:36:17.571035",
     "status": "completed"
    },
    "tags": []
   },
   "outputs": [
    {
     "name": "stdout",
     "output_type": "stream",
     "text": [
      "614/614 [==============================] - 1s 2ms/step\n",
      "Mean Absolute Error (MAE): 0.6937555122147301\n",
      "Mean Rowwise Root Mean Squared Error (MRRMSE): 1.0864006255392211\n"
     ]
    }
   ],
   "source": [
    "calculate_mae_and_mrrmse(model=model_3, data=full_features, y_true=full_labels)"
   ]
  },
  {
   "cell_type": "code",
   "execution_count": 44,
   "id": "35252a18",
   "metadata": {
    "execution": {
     "iopub.execute_input": "2023-10-17T11:36:19.426928Z",
     "iopub.status.busy": "2023-10-17T11:36:19.426617Z",
     "iopub.status.idle": "2023-10-17T11:36:19.924171Z",
     "shell.execute_reply": "2023-10-17T11:36:19.923291Z"
    },
    "papermill": {
     "duration": 0.527365,
     "end_time": "2023-10-17T11:36:19.926293",
     "exception": false,
     "start_time": "2023-10-17T11:36:19.398928",
     "status": "completed"
    },
    "tags": []
   },
   "outputs": [
    {
     "data": {
      "image/png": "[encoded data removed]",
      "text/plain": [
       "<Figure size 1200x600 with 2 Axes>"
      ]
     },
     "metadata": {},
     "output_type": "display_data"
    }
   ],
   "source": [
    "plot_training_history(history_3, metrics=[\"custom_mean_rowwise_rmse\"])"
   ]
  },
  {
   "cell_type": "markdown",
   "id": "a1900b65",
   "metadata": {
    "papermill": {
     "duration": 0.027224,
     "end_time": "2023-10-17T11:36:19.981627",
     "exception": false,
     "start_time": "2023-10-17T11:36:19.954403",
     "status": "completed"
    },
    "tags": []
   },
   "source": [
    "Random but let me now try K-fold validation on the data"
   ]
  },
  {
   "cell_type": "code",
   "execution_count": 45,
   "id": "5dfbb7dc",
   "metadata": {
    "execution": {
     "iopub.execute_input": "2023-10-17T11:36:20.037819Z",
     "iopub.status.busy": "2023-10-17T11:36:20.037229Z",
     "iopub.status.idle": "2023-10-17T11:36:20.083683Z",
     "shell.execute_reply": "2023-10-17T11:36:20.082818Z"
    },
    "papermill": {
     "duration": 0.076689,
     "end_time": "2023-10-17T11:36:20.085547",
     "exception": false,
     "start_time": "2023-10-17T11:36:20.008858",
     "status": "completed"
    },
    "tags": []
   },
   "outputs": [],
   "source": [
    "tf.random.set_seed(42)\n",
    "\n",
    "\n",
    "model_4 = Sequential([ \n",
    "    Dense(2048),\n",
    "    BatchNormalization(),\n",
    "    Activation(\"relu\"),\n",
    "    Dropout(0.01),\n",
    "    Dense(1024, activation=\"relu\"),\n",
    "    Dropout(0.1),\n",
    "    Dense(512, activation=\"relu\"),\n",
    "    Dense(18211,activation= \"linear\")\n",
    "])\n",
    "\n",
    "model_4.compile(loss=\"mae\", \n",
    "                optimizer=tf.keras.optimizers.Adam(),\n",
    "                metrics=[custom_mean_rowwise_rmse])"
   ]
  },
  {
   "cell_type": "code",
   "execution_count": 46,
   "id": "581c8bc8",
   "metadata": {
    "execution": {
     "iopub.execute_input": "2023-10-17T11:36:20.142380Z",
     "iopub.status.busy": "2023-10-17T11:36:20.142088Z",
     "iopub.status.idle": "2023-10-17T11:37:09.391485Z",
     "shell.execute_reply": "2023-10-17T11:37:09.390273Z"
    },
    "papermill": {
     "duration": 49.280065,
     "end_time": "2023-10-17T11:37:09.393447",
     "exception": false,
     "start_time": "2023-10-17T11:36:20.113382",
     "status": "completed"
    },
    "tags": []
   },
   "outputs": [
    {
     "name": "stdout",
     "output_type": "stream",
     "text": [
      "2/2 [==============================] - 0s 3ms/step\n",
      "2/2 [==============================] - 0s 3ms/step\n",
      "2/2 [==============================] - 0s 3ms/step\n",
      "2/2 [==============================] - 0s 3ms/step\n",
      "2/2 [==============================] - 0s 4ms/step\n",
      "2/2 [==============================] - 0s 3ms/step\n",
      "2/2 [==============================] - 0s 3ms/step\n",
      "2/2 [==============================] - 0s 9ms/step\n",
      "2/2 [==============================] - 0s 3ms/step\n",
      "2/2 [==============================] - 0s 3ms/step\n",
      "Average MAE across 10 folds: 0.4354 \n",
      "Average MRRMSE across 10 folds: 0.6619\n"
     ]
    }
   ],
   "source": [
    "from sklearn.model_selection import KFold\n",
    "\n",
    "# Define the number of folds (K)\n",
    "num_folds = 10\n",
    "\n",
    "# Initialize lists to store the model's performance scores\n",
    "mae_scores = []\n",
    "mrrmse_scores = []\n",
    "\n",
    "# Initialize the KFold object\n",
    "kf = KFold(n_splits=num_folds, shuffle=True, random_state=51)\n",
    "\n",
    "# Loop through the K folds\n",
    "for train_index, val_index in kf.split(full_features):\n",
    "    # Convert indices to integers and split the data\n",
    "    train_index = train_index.astype(int)\n",
    "    val_index = val_index.astype(int)\n",
    "    X_train_, X_val_ = full_features[train_index], full_features[val_index]\n",
    "    y_train_, y_val_ = full_labels[train_index], full_labels[val_index]\n",
    "\n",
    "    # Train the model on X_train and y_train\n",
    "    model_4.fit(X_train_, y_train_, epochs=50, verbose=0)\n",
    "\n",
    "    # Make predictions on the validation set\n",
    "    y_preds = model_4.predict(X_val_)\n",
    "\n",
    "    # Calculate the Mean Absolute Error (MAE)\n",
    "    mae = mean_absolute_error(y_val_, y_preds)\n",
    "    mae_scores.append(mae)\n",
    "\n",
    "    # Calculate the Mean Rowwise Root Mean Square Error (MRRMSE)\n",
    "    rowwise_rmse = np.sqrt(np.mean(np.square(y_val_ - y_preds), axis=1))\n",
    "    mrrmse_score = np.mean(rowwise_rmse)\n",
    "    mrrmse_scores.append(mrrmse_score)\n",
    "\n",
    "# Calculate the mean and standard deviation of MAE and MRRMSE scores\n",
    "mean_mae = np.mean(mae_scores)\n",
    "mean_mrrmse = np.mean(mrrmse_scores)\n",
    "\n",
    "# Print the results\n",
    "print(f'Average MAE across {num_folds} folds: {mean_mae:.4f} ')\n",
    "print(f'Average MRRMSE across {num_folds} folds: {mean_mrrmse:.4f}')"
   ]
  },
  {
   "cell_type": "markdown",
   "id": "2ba4b2ce",
   "metadata": {
    "papermill": {
     "duration": 0.028195,
     "end_time": "2023-10-17T11:37:09.451004",
     "exception": false,
     "start_time": "2023-10-17T11:37:09.422809",
     "status": "completed"
    },
    "tags": []
   },
   "source": [
    "Okay this is cool!"
   ]
  },
  {
   "cell_type": "markdown",
   "id": "13b2b804",
   "metadata": {
    "papermill": {
     "duration": 0.028246,
     "end_time": "2023-10-17T11:37:09.507290",
     "exception": false,
     "start_time": "2023-10-17T11:37:09.479044",
     "status": "completed"
    },
    "tags": []
   },
   "source": [
    "Now predict!"
   ]
  },
  {
   "cell_type": "code",
   "execution_count": 47,
   "id": "ae40a8a6",
   "metadata": {
    "execution": {
     "iopub.execute_input": "2023-10-17T11:37:09.568157Z",
     "iopub.status.busy": "2023-10-17T11:37:09.567257Z",
     "iopub.status.idle": "2023-10-17T11:37:10.120210Z",
     "shell.execute_reply": "2023-10-17T11:37:10.119294Z"
    },
    "papermill": {
     "duration": 0.585381,
     "end_time": "2023-10-17T11:37:10.122208",
     "exception": false,
     "start_time": "2023-10-17T11:37:09.536827",
     "status": "completed"
    },
    "tags": []
   },
   "outputs": [
    {
     "name": "stdout",
     "output_type": "stream",
     "text": [
      "255/255 [==============================] - 0s 1ms/step\n"
     ]
    }
   ],
   "source": [
    "preds = model_4.predict(one_hot_test.toarray(), batch_size=1)"
   ]
  },
  {
   "cell_type": "code",
   "execution_count": 48,
   "id": "75fc6b93",
   "metadata": {
    "execution": {
     "iopub.execute_input": "2023-10-17T11:37:10.182443Z",
     "iopub.status.busy": "2023-10-17T11:37:10.182174Z",
     "iopub.status.idle": "2023-10-17T11:37:10.187418Z",
     "shell.execute_reply": "2023-10-17T11:37:10.186613Z"
    },
    "papermill": {
     "duration": 0.036882,
     "end_time": "2023-10-17T11:37:10.189163",
     "exception": false,
     "start_time": "2023-10-17T11:37:10.152281",
     "status": "completed"
    },
    "tags": []
   },
   "outputs": [
    {
     "data": {
      "text/plain": [
       "(255, 18211)"
      ]
     },
     "execution_count": 48,
     "metadata": {},
     "output_type": "execute_result"
    }
   ],
   "source": [
    "preds.shape"
   ]
  },
  {
   "cell_type": "code",
   "execution_count": 49,
   "id": "8da2e330",
   "metadata": {
    "execution": {
     "iopub.execute_input": "2023-10-17T11:37:10.248642Z",
     "iopub.status.busy": "2023-10-17T11:37:10.247848Z",
     "iopub.status.idle": "2023-10-17T11:37:10.252869Z",
     "shell.execute_reply": "2023-10-17T11:37:10.252057Z"
    },
    "papermill": {
     "duration": 0.036642,
     "end_time": "2023-10-17T11:37:10.254445",
     "exception": false,
     "start_time": "2023-10-17T11:37:10.217803",
     "status": "completed"
    },
    "tags": []
   },
   "outputs": [],
   "source": [
    "sample_columns = sample_submission.columns\n",
    "sample_columns= sample_columns[1:]\n",
    "submission_df = pd.DataFrame(preds, columns=sample_columns)"
   ]
  },
  {
   "cell_type": "code",
   "execution_count": 50,
   "id": "ec064bd2",
   "metadata": {
    "execution": {
     "iopub.execute_input": "2023-10-17T11:37:10.314871Z",
     "iopub.status.busy": "2023-10-17T11:37:10.314549Z",
     "iopub.status.idle": "2023-10-17T11:37:10.321542Z",
     "shell.execute_reply": "2023-10-17T11:37:10.320709Z"
    },
    "papermill": {
     "duration": 0.040537,
     "end_time": "2023-10-17T11:37:10.323289",
     "exception": false,
     "start_time": "2023-10-17T11:37:10.282752",
     "status": "completed"
    },
    "tags": []
   },
   "outputs": [],
   "source": [
    "submission_df.insert(0, 'id', range(255))"
   ]
  },
  {
   "cell_type": "code",
   "execution_count": 51,
   "id": "3bb2c826",
   "metadata": {
    "execution": {
     "iopub.execute_input": "2023-10-17T11:37:10.382304Z",
     "iopub.status.busy": "2023-10-17T11:37:10.381978Z",
     "iopub.status.idle": "2023-10-17T11:37:10.412464Z",
     "shell.execute_reply": "2023-10-17T11:37:10.411561Z"
    },
    "papermill": {
     "duration": 0.062119,
     "end_time": "2023-10-17T11:37:10.414211",
     "exception": false,
     "start_time": "2023-10-17T11:37:10.352092",
     "status": "completed"
    },
    "tags": []
   },
   "outputs": [
    {
     "data": {
      "text/html": [
       "<div>\n",
       "<style scoped>\n",
       "    .dataframe tbody tr th:only-of-type {\n",
       "        vertical-align: middle;\n",
       "    }\n",
       "\n",
       "    .dataframe tbody tr th {\n",
       "        vertical-align: top;\n",
       "    }\n",
       "\n",
       "    .dataframe thead th {\n",
       "        text-align: right;\n",
       "    }\n",
       "</style>\n",
       "<table border=\"1\" class=\"dataframe\">\n",
       "  <thead>\n",
       "    <tr style=\"text-align: right;\">\n",
       "      <th></th>\n",
       "      <th>id</th>\n",
       "      <th>A1BG</th>\n",
       "      <th>A1BG-AS1</th>\n",
       "      <th>A2M</th>\n",
       "      <th>A2M-AS1</th>\n",
       "      <th>A2MP1</th>\n",
       "      <th>A4GALT</th>\n",
       "      <th>AAAS</th>\n",
       "      <th>AACS</th>\n",
       "      <th>AAGAB</th>\n",
       "      <th>...</th>\n",
       "      <th>ZUP1</th>\n",
       "      <th>ZW10</th>\n",
       "      <th>ZWILCH</th>\n",
       "      <th>ZWINT</th>\n",
       "      <th>ZXDA</th>\n",
       "      <th>ZXDB</th>\n",
       "      <th>ZXDC</th>\n",
       "      <th>ZYG11B</th>\n",
       "      <th>ZYX</th>\n",
       "      <th>ZZEF1</th>\n",
       "    </tr>\n",
       "  </thead>\n",
       "  <tbody>\n",
       "    <tr>\n",
       "      <th>0</th>\n",
       "      <td>0</td>\n",
       "      <td>0.0</td>\n",
       "      <td>0.0</td>\n",
       "      <td>0.0</td>\n",
       "      <td>0.0</td>\n",
       "      <td>0.0</td>\n",
       "      <td>0.0</td>\n",
       "      <td>0.0</td>\n",
       "      <td>0.0</td>\n",
       "      <td>0.0</td>\n",
       "      <td>...</td>\n",
       "      <td>0.0</td>\n",
       "      <td>0.0</td>\n",
       "      <td>0.0</td>\n",
       "      <td>0.0</td>\n",
       "      <td>0.0</td>\n",
       "      <td>0.0</td>\n",
       "      <td>0.0</td>\n",
       "      <td>0.0</td>\n",
       "      <td>0.0</td>\n",
       "      <td>0.0</td>\n",
       "    </tr>\n",
       "    <tr>\n",
       "      <th>1</th>\n",
       "      <td>1</td>\n",
       "      <td>0.0</td>\n",
       "      <td>0.0</td>\n",
       "      <td>0.0</td>\n",
       "      <td>0.0</td>\n",
       "      <td>0.0</td>\n",
       "      <td>0.0</td>\n",
       "      <td>0.0</td>\n",
       "      <td>0.0</td>\n",
       "      <td>0.0</td>\n",
       "      <td>...</td>\n",
       "      <td>0.0</td>\n",
       "      <td>0.0</td>\n",
       "      <td>0.0</td>\n",
       "      <td>0.0</td>\n",
       "      <td>0.0</td>\n",
       "      <td>0.0</td>\n",
       "      <td>0.0</td>\n",
       "      <td>0.0</td>\n",
       "      <td>0.0</td>\n",
       "      <td>0.0</td>\n",
       "    </tr>\n",
       "    <tr>\n",
       "      <th>2</th>\n",
       "      <td>2</td>\n",
       "      <td>0.0</td>\n",
       "      <td>0.0</td>\n",
       "      <td>0.0</td>\n",
       "      <td>0.0</td>\n",
       "      <td>0.0</td>\n",
       "      <td>0.0</td>\n",
       "      <td>0.0</td>\n",
       "      <td>0.0</td>\n",
       "      <td>0.0</td>\n",
       "      <td>...</td>\n",
       "      <td>0.0</td>\n",
       "      <td>0.0</td>\n",
       "      <td>0.0</td>\n",
       "      <td>0.0</td>\n",
       "      <td>0.0</td>\n",
       "      <td>0.0</td>\n",
       "      <td>0.0</td>\n",
       "      <td>0.0</td>\n",
       "      <td>0.0</td>\n",
       "      <td>0.0</td>\n",
       "    </tr>\n",
       "    <tr>\n",
       "      <th>3</th>\n",
       "      <td>3</td>\n",
       "      <td>0.0</td>\n",
       "      <td>0.0</td>\n",
       "      <td>0.0</td>\n",
       "      <td>0.0</td>\n",
       "      <td>0.0</td>\n",
       "      <td>0.0</td>\n",
       "      <td>0.0</td>\n",
       "      <td>0.0</td>\n",
       "      <td>0.0</td>\n",
       "      <td>...</td>\n",
       "      <td>0.0</td>\n",
       "      <td>0.0</td>\n",
       "      <td>0.0</td>\n",
       "      <td>0.0</td>\n",
       "      <td>0.0</td>\n",
       "      <td>0.0</td>\n",
       "      <td>0.0</td>\n",
       "      <td>0.0</td>\n",
       "      <td>0.0</td>\n",
       "      <td>0.0</td>\n",
       "    </tr>\n",
       "    <tr>\n",
       "      <th>4</th>\n",
       "      <td>4</td>\n",
       "      <td>0.0</td>\n",
       "      <td>0.0</td>\n",
       "      <td>0.0</td>\n",
       "      <td>0.0</td>\n",
       "      <td>0.0</td>\n",
       "      <td>0.0</td>\n",
       "      <td>0.0</td>\n",
       "      <td>0.0</td>\n",
       "      <td>0.0</td>\n",
       "      <td>...</td>\n",
       "      <td>0.0</td>\n",
       "      <td>0.0</td>\n",
       "      <td>0.0</td>\n",
       "      <td>0.0</td>\n",
       "      <td>0.0</td>\n",
       "      <td>0.0</td>\n",
       "      <td>0.0</td>\n",
       "      <td>0.0</td>\n",
       "      <td>0.0</td>\n",
       "      <td>0.0</td>\n",
       "    </tr>\n",
       "    <tr>\n",
       "      <th>...</th>\n",
       "      <td>...</td>\n",
       "      <td>...</td>\n",
       "      <td>...</td>\n",
       "      <td>...</td>\n",
       "      <td>...</td>\n",
       "      <td>...</td>\n",
       "      <td>...</td>\n",
       "      <td>...</td>\n",
       "      <td>...</td>\n",
       "      <td>...</td>\n",
       "      <td>...</td>\n",
       "      <td>...</td>\n",
       "      <td>...</td>\n",
       "      <td>...</td>\n",
       "      <td>...</td>\n",
       "      <td>...</td>\n",
       "      <td>...</td>\n",
       "      <td>...</td>\n",
       "      <td>...</td>\n",
       "      <td>...</td>\n",
       "      <td>...</td>\n",
       "    </tr>\n",
       "    <tr>\n",
       "      <th>250</th>\n",
       "      <td>250</td>\n",
       "      <td>0.0</td>\n",
       "      <td>0.0</td>\n",
       "      <td>0.0</td>\n",
       "      <td>0.0</td>\n",
       "      <td>0.0</td>\n",
       "      <td>0.0</td>\n",
       "      <td>0.0</td>\n",
       "      <td>0.0</td>\n",
       "      <td>0.0</td>\n",
       "      <td>...</td>\n",
       "      <td>0.0</td>\n",
       "      <td>0.0</td>\n",
       "      <td>0.0</td>\n",
       "      <td>0.0</td>\n",
       "      <td>0.0</td>\n",
       "      <td>0.0</td>\n",
       "      <td>0.0</td>\n",
       "      <td>0.0</td>\n",
       "      <td>0.0</td>\n",
       "      <td>0.0</td>\n",
       "    </tr>\n",
       "    <tr>\n",
       "      <th>251</th>\n",
       "      <td>251</td>\n",
       "      <td>0.0</td>\n",
       "      <td>0.0</td>\n",
       "      <td>0.0</td>\n",
       "      <td>0.0</td>\n",
       "      <td>0.0</td>\n",
       "      <td>0.0</td>\n",
       "      <td>0.0</td>\n",
       "      <td>0.0</td>\n",
       "      <td>0.0</td>\n",
       "      <td>...</td>\n",
       "      <td>0.0</td>\n",
       "      <td>0.0</td>\n",
       "      <td>0.0</td>\n",
       "      <td>0.0</td>\n",
       "      <td>0.0</td>\n",
       "      <td>0.0</td>\n",
       "      <td>0.0</td>\n",
       "      <td>0.0</td>\n",
       "      <td>0.0</td>\n",
       "      <td>0.0</td>\n",
       "    </tr>\n",
       "    <tr>\n",
       "      <th>252</th>\n",
       "      <td>252</td>\n",
       "      <td>0.0</td>\n",
       "      <td>0.0</td>\n",
       "      <td>0.0</td>\n",
       "      <td>0.0</td>\n",
       "      <td>0.0</td>\n",
       "      <td>0.0</td>\n",
       "      <td>0.0</td>\n",
       "      <td>0.0</td>\n",
       "      <td>0.0</td>\n",
       "      <td>...</td>\n",
       "      <td>0.0</td>\n",
       "      <td>0.0</td>\n",
       "      <td>0.0</td>\n",
       "      <td>0.0</td>\n",
       "      <td>0.0</td>\n",
       "      <td>0.0</td>\n",
       "      <td>0.0</td>\n",
       "      <td>0.0</td>\n",
       "      <td>0.0</td>\n",
       "      <td>0.0</td>\n",
       "    </tr>\n",
       "    <tr>\n",
       "      <th>253</th>\n",
       "      <td>253</td>\n",
       "      <td>0.0</td>\n",
       "      <td>0.0</td>\n",
       "      <td>0.0</td>\n",
       "      <td>0.0</td>\n",
       "      <td>0.0</td>\n",
       "      <td>0.0</td>\n",
       "      <td>0.0</td>\n",
       "      <td>0.0</td>\n",
       "      <td>0.0</td>\n",
       "      <td>...</td>\n",
       "      <td>0.0</td>\n",
       "      <td>0.0</td>\n",
       "      <td>0.0</td>\n",
       "      <td>0.0</td>\n",
       "      <td>0.0</td>\n",
       "      <td>0.0</td>\n",
       "      <td>0.0</td>\n",
       "      <td>0.0</td>\n",
       "      <td>0.0</td>\n",
       "      <td>0.0</td>\n",
       "    </tr>\n",
       "    <tr>\n",
       "      <th>254</th>\n",
       "      <td>254</td>\n",
       "      <td>0.0</td>\n",
       "      <td>0.0</td>\n",
       "      <td>0.0</td>\n",
       "      <td>0.0</td>\n",
       "      <td>0.0</td>\n",
       "      <td>0.0</td>\n",
       "      <td>0.0</td>\n",
       "      <td>0.0</td>\n",
       "      <td>0.0</td>\n",
       "      <td>...</td>\n",
       "      <td>0.0</td>\n",
       "      <td>0.0</td>\n",
       "      <td>0.0</td>\n",
       "      <td>0.0</td>\n",
       "      <td>0.0</td>\n",
       "      <td>0.0</td>\n",
       "      <td>0.0</td>\n",
       "      <td>0.0</td>\n",
       "      <td>0.0</td>\n",
       "      <td>0.0</td>\n",
       "    </tr>\n",
       "  </tbody>\n",
       "</table>\n",
       "<p>255 rows × 18212 columns</p>\n",
       "</div>"
      ],
      "text/plain": [
       "      id  A1BG  A1BG-AS1  A2M  A2M-AS1  A2MP1  A4GALT  AAAS  AACS  AAGAB  ...  \\\n",
       "0      0   0.0       0.0  0.0      0.0    0.0     0.0   0.0   0.0    0.0  ...   \n",
       "1      1   0.0       0.0  0.0      0.0    0.0     0.0   0.0   0.0    0.0  ...   \n",
       "2      2   0.0       0.0  0.0      0.0    0.0     0.0   0.0   0.0    0.0  ...   \n",
       "3      3   0.0       0.0  0.0      0.0    0.0     0.0   0.0   0.0    0.0  ...   \n",
       "4      4   0.0       0.0  0.0      0.0    0.0     0.0   0.0   0.0    0.0  ...   \n",
       "..   ...   ...       ...  ...      ...    ...     ...   ...   ...    ...  ...   \n",
       "250  250   0.0       0.0  0.0      0.0    0.0     0.0   0.0   0.0    0.0  ...   \n",
       "251  251   0.0       0.0  0.0      0.0    0.0     0.0   0.0   0.0    0.0  ...   \n",
       "252  252   0.0       0.0  0.0      0.0    0.0     0.0   0.0   0.0    0.0  ...   \n",
       "253  253   0.0       0.0  0.0      0.0    0.0     0.0   0.0   0.0    0.0  ...   \n",
       "254  254   0.0       0.0  0.0      0.0    0.0     0.0   0.0   0.0    0.0  ...   \n",
       "\n",
       "     ZUP1  ZW10  ZWILCH  ZWINT  ZXDA  ZXDB  ZXDC  ZYG11B  ZYX  ZZEF1  \n",
       "0     0.0   0.0     0.0    0.0   0.0   0.0   0.0     0.0  0.0    0.0  \n",
       "1     0.0   0.0     0.0    0.0   0.0   0.0   0.0     0.0  0.0    0.0  \n",
       "2     0.0   0.0     0.0    0.0   0.0   0.0   0.0     0.0  0.0    0.0  \n",
       "3     0.0   0.0     0.0    0.0   0.0   0.0   0.0     0.0  0.0    0.0  \n",
       "4     0.0   0.0     0.0    0.0   0.0   0.0   0.0     0.0  0.0    0.0  \n",
       "..    ...   ...     ...    ...   ...   ...   ...     ...  ...    ...  \n",
       "250   0.0   0.0     0.0    0.0   0.0   0.0   0.0     0.0  0.0    0.0  \n",
       "251   0.0   0.0     0.0    0.0   0.0   0.0   0.0     0.0  0.0    0.0  \n",
       "252   0.0   0.0     0.0    0.0   0.0   0.0   0.0     0.0  0.0    0.0  \n",
       "253   0.0   0.0     0.0    0.0   0.0   0.0   0.0     0.0  0.0    0.0  \n",
       "254   0.0   0.0     0.0    0.0   0.0   0.0   0.0     0.0  0.0    0.0  \n",
       "\n",
       "[255 rows x 18212 columns]"
      ]
     },
     "execution_count": 51,
     "metadata": {},
     "output_type": "execute_result"
    }
   ],
   "source": [
    "sample_submission"
   ]
  },
  {
   "cell_type": "code",
   "execution_count": 52,
   "id": "b4c29148",
   "metadata": {
    "execution": {
     "iopub.execute_input": "2023-10-17T11:37:10.474617Z",
     "iopub.status.busy": "2023-10-17T11:37:10.473808Z",
     "iopub.status.idle": "2023-10-17T11:37:10.496406Z",
     "shell.execute_reply": "2023-10-17T11:37:10.495492Z"
    },
    "papermill": {
     "duration": 0.054753,
     "end_time": "2023-10-17T11:37:10.498238",
     "exception": false,
     "start_time": "2023-10-17T11:37:10.443485",
     "status": "completed"
    },
    "tags": []
   },
   "outputs": [
    {
     "data": {
      "text/html": [
       "<div>\n",
       "<style scoped>\n",
       "    .dataframe tbody tr th:only-of-type {\n",
       "        vertical-align: middle;\n",
       "    }\n",
       "\n",
       "    .dataframe tbody tr th {\n",
       "        vertical-align: top;\n",
       "    }\n",
       "\n",
       "    .dataframe thead th {\n",
       "        text-align: right;\n",
       "    }\n",
       "</style>\n",
       "<table border=\"1\" class=\"dataframe\">\n",
       "  <thead>\n",
       "    <tr style=\"text-align: right;\">\n",
       "      <th></th>\n",
       "      <th>id</th>\n",
       "      <th>A1BG</th>\n",
       "      <th>A1BG-AS1</th>\n",
       "      <th>A2M</th>\n",
       "      <th>A2M-AS1</th>\n",
       "      <th>A2MP1</th>\n",
       "      <th>A4GALT</th>\n",
       "      <th>AAAS</th>\n",
       "      <th>AACS</th>\n",
       "      <th>AAGAB</th>\n",
       "      <th>...</th>\n",
       "      <th>ZUP1</th>\n",
       "      <th>ZW10</th>\n",
       "      <th>ZWILCH</th>\n",
       "      <th>ZWINT</th>\n",
       "      <th>ZXDA</th>\n",
       "      <th>ZXDB</th>\n",
       "      <th>ZXDC</th>\n",
       "      <th>ZYG11B</th>\n",
       "      <th>ZYX</th>\n",
       "      <th>ZZEF1</th>\n",
       "    </tr>\n",
       "  </thead>\n",
       "  <tbody>\n",
       "    <tr>\n",
       "      <th>0</th>\n",
       "      <td>0</td>\n",
       "      <td>0.378104</td>\n",
       "      <td>0.232901</td>\n",
       "      <td>0.420680</td>\n",
       "      <td>0.658075</td>\n",
       "      <td>0.616343</td>\n",
       "      <td>0.077599</td>\n",
       "      <td>-0.043057</td>\n",
       "      <td>0.382574</td>\n",
       "      <td>-0.437505</td>\n",
       "      <td>...</td>\n",
       "      <td>-0.446626</td>\n",
       "      <td>-0.672747</td>\n",
       "      <td>-0.320242</td>\n",
       "      <td>0.057376</td>\n",
       "      <td>0.097012</td>\n",
       "      <td>0.465451</td>\n",
       "      <td>0.395391</td>\n",
       "      <td>-0.181147</td>\n",
       "      <td>-0.416701</td>\n",
       "      <td>-0.288787</td>\n",
       "    </tr>\n",
       "    <tr>\n",
       "      <th>1</th>\n",
       "      <td>1</td>\n",
       "      <td>-0.157644</td>\n",
       "      <td>0.191005</td>\n",
       "      <td>0.088178</td>\n",
       "      <td>-0.122980</td>\n",
       "      <td>0.344602</td>\n",
       "      <td>0.338661</td>\n",
       "      <td>0.007687</td>\n",
       "      <td>0.281311</td>\n",
       "      <td>0.021366</td>\n",
       "      <td>...</td>\n",
       "      <td>0.021453</td>\n",
       "      <td>-0.060572</td>\n",
       "      <td>-0.028569</td>\n",
       "      <td>0.386245</td>\n",
       "      <td>0.133371</td>\n",
       "      <td>0.421965</td>\n",
       "      <td>0.073521</td>\n",
       "      <td>-0.044356</td>\n",
       "      <td>-0.195969</td>\n",
       "      <td>-0.325115</td>\n",
       "    </tr>\n",
       "    <tr>\n",
       "      <th>2</th>\n",
       "      <td>2</td>\n",
       "      <td>0.264112</td>\n",
       "      <td>-0.033525</td>\n",
       "      <td>0.059132</td>\n",
       "      <td>0.071405</td>\n",
       "      <td>1.084483</td>\n",
       "      <td>0.707760</td>\n",
       "      <td>0.288914</td>\n",
       "      <td>0.475884</td>\n",
       "      <td>0.353035</td>\n",
       "      <td>...</td>\n",
       "      <td>0.350142</td>\n",
       "      <td>0.076340</td>\n",
       "      <td>0.328603</td>\n",
       "      <td>0.611753</td>\n",
       "      <td>0.293499</td>\n",
       "      <td>0.624696</td>\n",
       "      <td>0.629118</td>\n",
       "      <td>0.413509</td>\n",
       "      <td>-0.151364</td>\n",
       "      <td>0.184253</td>\n",
       "    </tr>\n",
       "    <tr>\n",
       "      <th>3</th>\n",
       "      <td>3</td>\n",
       "      <td>-0.101726</td>\n",
       "      <td>0.031811</td>\n",
       "      <td>0.338943</td>\n",
       "      <td>0.317277</td>\n",
       "      <td>0.368774</td>\n",
       "      <td>0.436427</td>\n",
       "      <td>-0.194624</td>\n",
       "      <td>0.298777</td>\n",
       "      <td>-0.013417</td>\n",
       "      <td>...</td>\n",
       "      <td>-0.220944</td>\n",
       "      <td>-0.067998</td>\n",
       "      <td>-0.235572</td>\n",
       "      <td>0.092713</td>\n",
       "      <td>0.174477</td>\n",
       "      <td>0.315335</td>\n",
       "      <td>0.648552</td>\n",
       "      <td>-0.156143</td>\n",
       "      <td>-0.114357</td>\n",
       "      <td>-0.204256</td>\n",
       "    </tr>\n",
       "    <tr>\n",
       "      <th>4</th>\n",
       "      <td>4</td>\n",
       "      <td>0.477778</td>\n",
       "      <td>-0.156412</td>\n",
       "      <td>0.031788</td>\n",
       "      <td>0.413898</td>\n",
       "      <td>0.759209</td>\n",
       "      <td>0.377844</td>\n",
       "      <td>-0.049362</td>\n",
       "      <td>0.442162</td>\n",
       "      <td>0.313319</td>\n",
       "      <td>...</td>\n",
       "      <td>-0.350578</td>\n",
       "      <td>-0.129677</td>\n",
       "      <td>0.208891</td>\n",
       "      <td>0.336200</td>\n",
       "      <td>0.043799</td>\n",
       "      <td>1.188364</td>\n",
       "      <td>0.439179</td>\n",
       "      <td>0.776865</td>\n",
       "      <td>-0.329679</td>\n",
       "      <td>0.355072</td>\n",
       "    </tr>\n",
       "    <tr>\n",
       "      <th>...</th>\n",
       "      <td>...</td>\n",
       "      <td>...</td>\n",
       "      <td>...</td>\n",
       "      <td>...</td>\n",
       "      <td>...</td>\n",
       "      <td>...</td>\n",
       "      <td>...</td>\n",
       "      <td>...</td>\n",
       "      <td>...</td>\n",
       "      <td>...</td>\n",
       "      <td>...</td>\n",
       "      <td>...</td>\n",
       "      <td>...</td>\n",
       "      <td>...</td>\n",
       "      <td>...</td>\n",
       "      <td>...</td>\n",
       "      <td>...</td>\n",
       "      <td>...</td>\n",
       "      <td>...</td>\n",
       "      <td>...</td>\n",
       "      <td>...</td>\n",
       "    </tr>\n",
       "    <tr>\n",
       "      <th>250</th>\n",
       "      <td>250</td>\n",
       "      <td>0.145811</td>\n",
       "      <td>0.038517</td>\n",
       "      <td>0.108210</td>\n",
       "      <td>-0.040983</td>\n",
       "      <td>0.501567</td>\n",
       "      <td>0.218429</td>\n",
       "      <td>0.312009</td>\n",
       "      <td>0.664530</td>\n",
       "      <td>0.173035</td>\n",
       "      <td>...</td>\n",
       "      <td>-0.029765</td>\n",
       "      <td>-0.579692</td>\n",
       "      <td>-0.768803</td>\n",
       "      <td>-0.212570</td>\n",
       "      <td>0.023363</td>\n",
       "      <td>-0.114804</td>\n",
       "      <td>-0.411990</td>\n",
       "      <td>-0.157746</td>\n",
       "      <td>-1.124115</td>\n",
       "      <td>-0.524361</td>\n",
       "    </tr>\n",
       "    <tr>\n",
       "      <th>251</th>\n",
       "      <td>251</td>\n",
       "      <td>0.598693</td>\n",
       "      <td>-0.004134</td>\n",
       "      <td>0.214585</td>\n",
       "      <td>-0.012569</td>\n",
       "      <td>1.861165</td>\n",
       "      <td>0.879924</td>\n",
       "      <td>0.298171</td>\n",
       "      <td>0.374140</td>\n",
       "      <td>0.244948</td>\n",
       "      <td>...</td>\n",
       "      <td>-0.521130</td>\n",
       "      <td>-0.103250</td>\n",
       "      <td>-0.107550</td>\n",
       "      <td>-0.161564</td>\n",
       "      <td>0.365082</td>\n",
       "      <td>0.127279</td>\n",
       "      <td>-0.181509</td>\n",
       "      <td>-0.478520</td>\n",
       "      <td>-0.497164</td>\n",
       "      <td>-0.034026</td>\n",
       "    </tr>\n",
       "    <tr>\n",
       "      <th>252</th>\n",
       "      <td>252</td>\n",
       "      <td>0.315442</td>\n",
       "      <td>-0.010127</td>\n",
       "      <td>-0.522027</td>\n",
       "      <td>-0.102644</td>\n",
       "      <td>0.426235</td>\n",
       "      <td>0.060751</td>\n",
       "      <td>0.207609</td>\n",
       "      <td>0.574813</td>\n",
       "      <td>0.284629</td>\n",
       "      <td>...</td>\n",
       "      <td>-0.363349</td>\n",
       "      <td>-0.262244</td>\n",
       "      <td>-0.190920</td>\n",
       "      <td>-0.069522</td>\n",
       "      <td>0.241627</td>\n",
       "      <td>0.037076</td>\n",
       "      <td>-0.097347</td>\n",
       "      <td>0.147342</td>\n",
       "      <td>-0.507750</td>\n",
       "      <td>-0.147973</td>\n",
       "    </tr>\n",
       "    <tr>\n",
       "      <th>253</th>\n",
       "      <td>253</td>\n",
       "      <td>1.746401</td>\n",
       "      <td>1.273022</td>\n",
       "      <td>-5.314059</td>\n",
       "      <td>0.993781</td>\n",
       "      <td>6.700181</td>\n",
       "      <td>5.334512</td>\n",
       "      <td>0.703232</td>\n",
       "      <td>-0.623520</td>\n",
       "      <td>-0.170401</td>\n",
       "      <td>...</td>\n",
       "      <td>0.301507</td>\n",
       "      <td>-0.306210</td>\n",
       "      <td>-5.746312</td>\n",
       "      <td>-1.131348</td>\n",
       "      <td>0.800452</td>\n",
       "      <td>-0.588035</td>\n",
       "      <td>-2.542328</td>\n",
       "      <td>0.034790</td>\n",
       "      <td>0.661251</td>\n",
       "      <td>0.239777</td>\n",
       "    </tr>\n",
       "    <tr>\n",
       "      <th>254</th>\n",
       "      <td>254</td>\n",
       "      <td>0.316249</td>\n",
       "      <td>-0.011275</td>\n",
       "      <td>-3.087459</td>\n",
       "      <td>-0.232944</td>\n",
       "      <td>0.134789</td>\n",
       "      <td>-0.288791</td>\n",
       "      <td>-0.065819</td>\n",
       "      <td>0.323165</td>\n",
       "      <td>0.414524</td>\n",
       "      <td>...</td>\n",
       "      <td>-0.015256</td>\n",
       "      <td>0.080297</td>\n",
       "      <td>-0.071286</td>\n",
       "      <td>-0.062058</td>\n",
       "      <td>0.264338</td>\n",
       "      <td>0.030621</td>\n",
       "      <td>0.008164</td>\n",
       "      <td>-0.163244</td>\n",
       "      <td>-0.567426</td>\n",
       "      <td>0.045238</td>\n",
       "    </tr>\n",
       "  </tbody>\n",
       "</table>\n",
       "<p>255 rows × 18212 columns</p>\n",
       "</div>"
      ],
      "text/plain": [
       "      id      A1BG  A1BG-AS1       A2M   A2M-AS1     A2MP1    A4GALT  \\\n",
       "0      0  0.378104  0.232901  0.420680  0.658075  0.616343  0.077599   \n",
       "1      1 -0.157644  0.191005  0.088178 -0.122980  0.344602  0.338661   \n",
       "2      2  0.264112 -0.033525  0.059132  0.071405  1.084483  0.707760   \n",
       "3      3 -0.101726  0.031811  0.338943  0.317277  0.368774  0.436427   \n",
       "4      4  0.477778 -0.156412  0.031788  0.413898  0.759209  0.377844   \n",
       "..   ...       ...       ...       ...       ...       ...       ...   \n",
       "250  250  0.145811  0.038517  0.108210 -0.040983  0.501567  0.218429   \n",
       "251  251  0.598693 -0.004134  0.214585 -0.012569  1.861165  0.879924   \n",
       "252  252  0.315442 -0.010127 -0.522027 -0.102644  0.426235  0.060751   \n",
       "253  253  1.746401  1.273022 -5.314059  0.993781  6.700181  5.334512   \n",
       "254  254  0.316249 -0.011275 -3.087459 -0.232944  0.134789 -0.288791   \n",
       "\n",
       "         AAAS      AACS     AAGAB  ...      ZUP1      ZW10    ZWILCH  \\\n",
       "0   -0.043057  0.382574 -0.437505  ... -0.446626 -0.672747 -0.320242   \n",
       "1    0.007687  0.281311  0.021366  ...  0.021453 -0.060572 -0.028569   \n",
       "2    0.288914  0.475884  0.353035  ...  0.350142  0.076340  0.328603   \n",
       "3   -0.194624  0.298777 -0.013417  ... -0.220944 -0.067998 -0.235572   \n",
       "4   -0.049362  0.442162  0.313319  ... -0.350578 -0.129677  0.208891   \n",
       "..        ...       ...       ...  ...       ...       ...       ...   \n",
       "250  0.312009  0.664530  0.173035  ... -0.029765 -0.579692 -0.768803   \n",
       "251  0.298171  0.374140  0.244948  ... -0.521130 -0.103250 -0.107550   \n",
       "252  0.207609  0.574813  0.284629  ... -0.363349 -0.262244 -0.190920   \n",
       "253  0.703232 -0.623520 -0.170401  ...  0.301507 -0.306210 -5.746312   \n",
       "254 -0.065819  0.323165  0.414524  ... -0.015256  0.080297 -0.071286   \n",
       "\n",
       "        ZWINT      ZXDA      ZXDB      ZXDC    ZYG11B       ZYX     ZZEF1  \n",
       "0    0.057376  0.097012  0.465451  0.395391 -0.181147 -0.416701 -0.288787  \n",
       "1    0.386245  0.133371  0.421965  0.073521 -0.044356 -0.195969 -0.325115  \n",
       "2    0.611753  0.293499  0.624696  0.629118  0.413509 -0.151364  0.184253  \n",
       "3    0.092713  0.174477  0.315335  0.648552 -0.156143 -0.114357 -0.204256  \n",
       "4    0.336200  0.043799  1.188364  0.439179  0.776865 -0.329679  0.355072  \n",
       "..        ...       ...       ...       ...       ...       ...       ...  \n",
       "250 -0.212570  0.023363 -0.114804 -0.411990 -0.157746 -1.124115 -0.524361  \n",
       "251 -0.161564  0.365082  0.127279 -0.181509 -0.478520 -0.497164 -0.034026  \n",
       "252 -0.069522  0.241627  0.037076 -0.097347  0.147342 -0.507750 -0.147973  \n",
       "253 -1.131348  0.800452 -0.588035 -2.542328  0.034790  0.661251  0.239777  \n",
       "254 -0.062058  0.264338  0.030621  0.008164 -0.163244 -0.567426  0.045238  \n",
       "\n",
       "[255 rows x 18212 columns]"
      ]
     },
     "execution_count": 52,
     "metadata": {},
     "output_type": "execute_result"
    }
   ],
   "source": [
    "submission_df"
   ]
  },
  {
   "cell_type": "code",
   "execution_count": 53,
   "id": "bfd67ffa",
   "metadata": {
    "execution": {
     "iopub.execute_input": "2023-10-17T11:37:10.559421Z",
     "iopub.status.busy": "2023-10-17T11:37:10.558850Z",
     "iopub.status.idle": "2023-10-17T11:37:16.453141Z",
     "shell.execute_reply": "2023-10-17T11:37:16.452144Z"
    },
    "papermill": {
     "duration": 5.927824,
     "end_time": "2023-10-17T11:37:16.455495",
     "exception": false,
     "start_time": "2023-10-17T11:37:10.527671",
     "status": "completed"
    },
    "tags": []
   },
   "outputs": [],
   "source": [
    "submission_df.to_csv(\"submission.csv\", index=False)"
   ]
  },
  {
   "cell_type": "code",
   "execution_count": 54,
   "id": "84311ec8",
   "metadata": {
    "execution": {
     "iopub.execute_input": "2023-10-17T11:37:16.518893Z",
     "iopub.status.busy": "2023-10-17T11:37:16.518300Z",
     "iopub.status.idle": "2023-10-17T11:37:22.927565Z",
     "shell.execute_reply": "2023-10-17T11:37:22.926383Z"
    },
    "papermill": {
     "duration": 6.442803,
     "end_time": "2023-10-17T11:37:22.929896",
     "exception": false,
     "start_time": "2023-10-17T11:37:16.487093",
     "status": "completed"
    },
    "tags": []
   },
   "outputs": [
    {
     "name": "stdout",
     "output_type": "stream",
     "text": [
      "  adding: kaggle/working/submission.csv (deflated 57%)\r\n"
     ]
    }
   ],
   "source": [
    "!zip submission_preds.zip /kaggle/working/submission.csv"
   ]
  },
  {
   "cell_type": "code",
   "execution_count": null,
   "id": "02d01da5",
   "metadata": {
    "papermill": {
     "duration": 0.029835,
     "end_time": "2023-10-17T11:37:22.990072",
     "exception": false,
     "start_time": "2023-10-17T11:37:22.960237",
     "status": "completed"
    },
    "tags": []
   },
   "outputs": [],
   "source": []
  }
 ],
 "metadata": {
  "kernelspec": {
   "display_name": "Python 3",
   "language": "python",
   "name": "python3"
  },
  "language_info": {
   "codemirror_mode": {
    "name": "ipython",
    "version": 3
   },
   "file_extension": ".py",
   "mimetype": "text/x-python",
   "name": "python",
   "nbconvert_exporter": "python",
   "pygments_lexer": "ipython3",
   "version": "3.10.12"
  },
  "papermill": {
   "default_parameters": {},
   "duration": 165.48377,
   "end_time": "2023-10-17T11:37:26.813567",
   "environment_variables": {},
   "exception": null,
   "input_path": "__notebook__.ipynb",
   "output_path": "__notebook__.ipynb",
   "parameters": {},
   "start_time": "2023-10-17T11:34:41.329797",
   "version": "2.4.0"
  }
 },
 "nbformat": 4,
 "nbformat_minor": 5
}
