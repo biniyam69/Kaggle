{
 "cells": [
  {
   "cell_type": "markdown",
   "id": "23a1cfe6",
   "metadata": {
    "_cell_guid": "b1076dfc-b9ad-4769-8c92-a6c4dae69d19",
    "_uuid": "8f2839f25d086af736a60e9eeb907d3b93b6e0e5",
    "papermill": {
     "duration": 0.009943,
     "end_time": "2023-10-14T14:47:01.254120",
     "exception": false,
     "start_time": "2023-10-14T14:47:01.244177",
     "status": "completed"
    },
    "tags": []
   },
   "source": [
    "# Neural Network Regression  \n",
    "In this notebook the goal is to levarge the power of neural networks and get lowest MRRMSE(Mean Rowwise Root Mean Sqared Error)"
   ]
  },
  {
   "cell_type": "code",
   "execution_count": 1,
   "id": "d6abaf01",
   "metadata": {
    "execution": {
     "iopub.execute_input": "2023-10-14T14:47:01.274843Z",
     "iopub.status.busy": "2023-10-14T14:47:01.274540Z",
     "iopub.status.idle": "2023-10-14T14:47:09.165999Z",
     "shell.execute_reply": "2023-10-14T14:47:09.165044Z"
    },
    "papermill": {
     "duration": 7.904364,
     "end_time": "2023-10-14T14:47:09.168138",
     "exception": false,
     "start_time": "2023-10-14T14:47:01.263774",
     "status": "completed"
    },
    "tags": []
   },
   "outputs": [
    {
     "name": "stderr",
     "output_type": "stream",
     "text": [
      "/opt/conda/lib/python3.10/site-packages/scipy/__init__.py:146: UserWarning: A NumPy version >=1.16.5 and <1.23.0 is required for this version of SciPy (detected version 1.23.5\n",
      "  warnings.warn(f\"A NumPy version >={np_minversion} and <{np_maxversion}\"\n"
     ]
    }
   ],
   "source": [
    "import pandas as pd\n",
    "import tensorflow as tf\n",
    "import numpy as np\n",
    "import matplotlib.pyplot as plt"
   ]
  },
  {
   "cell_type": "markdown",
   "id": "fbd4de16",
   "metadata": {
    "papermill": {
     "duration": 0.009515,
     "end_time": "2023-10-14T14:47:09.187849",
     "exception": false,
     "start_time": "2023-10-14T14:47:09.178334",
     "status": "completed"
    },
    "tags": []
   },
   "source": [
    "# Read data "
   ]
  },
  {
   "cell_type": "code",
   "execution_count": 2,
   "id": "b2a6d883",
   "metadata": {
    "execution": {
     "iopub.execute_input": "2023-10-14T14:47:09.208864Z",
     "iopub.status.busy": "2023-10-14T14:47:09.207947Z",
     "iopub.status.idle": "2023-10-14T14:47:13.673445Z",
     "shell.execute_reply": "2023-10-14T14:47:13.672459Z"
    },
    "papermill": {
     "duration": 4.478159,
     "end_time": "2023-10-14T14:47:13.675638",
     "exception": false,
     "start_time": "2023-10-14T14:47:09.197479",
     "status": "completed"
    },
    "tags": []
   },
   "outputs": [],
   "source": [
    "de_train =   pd.read_parquet(\"/kaggle/input/open-problems-single-cell-perturbations/de_train.parquet\")\n",
    "id_map = pd.read_csv(\"/kaggle/input/open-problems-single-cell-perturbations/id_map.csv\")\n",
    "sample_submission = pd.read_csv(\"/kaggle/input/open-problems-single-cell-perturbations/sample_submission.csv\")"
   ]
  },
  {
   "cell_type": "markdown",
   "id": "27210b77",
   "metadata": {
    "papermill": {
     "duration": 0.009688,
     "end_time": "2023-10-14T14:47:13.695545",
     "exception": false,
     "start_time": "2023-10-14T14:47:13.685857",
     "status": "completed"
    },
    "tags": []
   },
   "source": [
    "# Become one with data"
   ]
  },
  {
   "cell_type": "code",
   "execution_count": 3,
   "id": "5ce313ef",
   "metadata": {
    "execution": {
     "iopub.execute_input": "2023-10-14T14:47:13.715689Z",
     "iopub.status.busy": "2023-10-14T14:47:13.715395Z",
     "iopub.status.idle": "2023-10-14T14:47:13.746254Z",
     "shell.execute_reply": "2023-10-14T14:47:13.745399Z"
    },
    "papermill": {
     "duration": 0.042909,
     "end_time": "2023-10-14T14:47:13.747950",
     "exception": false,
     "start_time": "2023-10-14T14:47:13.705041",
     "status": "completed"
    },
    "tags": []
   },
   "outputs": [
    {
     "data": {
      "text/html": [
       "<div>\n",
       "<style scoped>\n",
       "    .dataframe tbody tr th:only-of-type {\n",
       "        vertical-align: middle;\n",
       "    }\n",
       "\n",
       "    .dataframe tbody tr th {\n",
       "        vertical-align: top;\n",
       "    }\n",
       "\n",
       "    .dataframe thead th {\n",
       "        text-align: right;\n",
       "    }\n",
       "</style>\n",
       "<table border=\"1\" class=\"dataframe\">\n",
       "  <thead>\n",
       "    <tr style=\"text-align: right;\">\n",
       "      <th></th>\n",
       "      <th>cell_type</th>\n",
       "      <th>sm_name</th>\n",
       "      <th>sm_lincs_id</th>\n",
       "      <th>SMILES</th>\n",
       "      <th>control</th>\n",
       "      <th>A1BG</th>\n",
       "      <th>A1BG-AS1</th>\n",
       "      <th>A2M</th>\n",
       "      <th>A2M-AS1</th>\n",
       "      <th>A2MP1</th>\n",
       "      <th>...</th>\n",
       "      <th>ZUP1</th>\n",
       "      <th>ZW10</th>\n",
       "      <th>ZWILCH</th>\n",
       "      <th>ZWINT</th>\n",
       "      <th>ZXDA</th>\n",
       "      <th>ZXDB</th>\n",
       "      <th>ZXDC</th>\n",
       "      <th>ZYG11B</th>\n",
       "      <th>ZYX</th>\n",
       "      <th>ZZEF1</th>\n",
       "    </tr>\n",
       "  </thead>\n",
       "  <tbody>\n",
       "    <tr>\n",
       "      <th>0</th>\n",
       "      <td>NK cells</td>\n",
       "      <td>Clotrimazole</td>\n",
       "      <td>LSM-5341</td>\n",
       "      <td>Clc1ccccc1C(c1ccccc1)(c1ccccc1)n1ccnc1</td>\n",
       "      <td>False</td>\n",
       "      <td>0.104720</td>\n",
       "      <td>-0.077524</td>\n",
       "      <td>-1.625596</td>\n",
       "      <td>-0.144545</td>\n",
       "      <td>0.143555</td>\n",
       "      <td>...</td>\n",
       "      <td>-0.227781</td>\n",
       "      <td>-0.010752</td>\n",
       "      <td>-0.023881</td>\n",
       "      <td>0.674536</td>\n",
       "      <td>-0.453068</td>\n",
       "      <td>0.005164</td>\n",
       "      <td>-0.094959</td>\n",
       "      <td>0.034127</td>\n",
       "      <td>0.221377</td>\n",
       "      <td>0.368755</td>\n",
       "    </tr>\n",
       "    <tr>\n",
       "      <th>1</th>\n",
       "      <td>T cells CD4+</td>\n",
       "      <td>Clotrimazole</td>\n",
       "      <td>LSM-5341</td>\n",
       "      <td>Clc1ccccc1C(c1ccccc1)(c1ccccc1)n1ccnc1</td>\n",
       "      <td>False</td>\n",
       "      <td>0.915953</td>\n",
       "      <td>-0.884380</td>\n",
       "      <td>0.371834</td>\n",
       "      <td>-0.081677</td>\n",
       "      <td>-0.498266</td>\n",
       "      <td>...</td>\n",
       "      <td>-0.494985</td>\n",
       "      <td>-0.303419</td>\n",
       "      <td>0.304955</td>\n",
       "      <td>-0.333905</td>\n",
       "      <td>-0.315516</td>\n",
       "      <td>-0.369626</td>\n",
       "      <td>-0.095079</td>\n",
       "      <td>0.704780</td>\n",
       "      <td>1.096702</td>\n",
       "      <td>-0.869887</td>\n",
       "    </tr>\n",
       "    <tr>\n",
       "      <th>2</th>\n",
       "      <td>T cells CD8+</td>\n",
       "      <td>Clotrimazole</td>\n",
       "      <td>LSM-5341</td>\n",
       "      <td>Clc1ccccc1C(c1ccccc1)(c1ccccc1)n1ccnc1</td>\n",
       "      <td>False</td>\n",
       "      <td>-0.387721</td>\n",
       "      <td>-0.305378</td>\n",
       "      <td>0.567777</td>\n",
       "      <td>0.303895</td>\n",
       "      <td>-0.022653</td>\n",
       "      <td>...</td>\n",
       "      <td>-0.119422</td>\n",
       "      <td>-0.033608</td>\n",
       "      <td>-0.153123</td>\n",
       "      <td>0.183597</td>\n",
       "      <td>-0.555678</td>\n",
       "      <td>-1.494789</td>\n",
       "      <td>-0.213550</td>\n",
       "      <td>0.415768</td>\n",
       "      <td>0.078439</td>\n",
       "      <td>-0.259365</td>\n",
       "    </tr>\n",
       "    <tr>\n",
       "      <th>3</th>\n",
       "      <td>T regulatory cells</td>\n",
       "      <td>Clotrimazole</td>\n",
       "      <td>LSM-5341</td>\n",
       "      <td>Clc1ccccc1C(c1ccccc1)(c1ccccc1)n1ccnc1</td>\n",
       "      <td>False</td>\n",
       "      <td>0.232893</td>\n",
       "      <td>0.129029</td>\n",
       "      <td>0.336897</td>\n",
       "      <td>0.486946</td>\n",
       "      <td>0.767661</td>\n",
       "      <td>...</td>\n",
       "      <td>0.451679</td>\n",
       "      <td>0.704643</td>\n",
       "      <td>0.015468</td>\n",
       "      <td>-0.103868</td>\n",
       "      <td>0.865027</td>\n",
       "      <td>0.189114</td>\n",
       "      <td>0.224700</td>\n",
       "      <td>-0.048233</td>\n",
       "      <td>0.216139</td>\n",
       "      <td>-0.085024</td>\n",
       "    </tr>\n",
       "    <tr>\n",
       "      <th>4</th>\n",
       "      <td>NK cells</td>\n",
       "      <td>Mometasone Furoate</td>\n",
       "      <td>LSM-3349</td>\n",
       "      <td>C[C@@H]1C[C@H]2[C@@H]3CCC4=CC(=O)C=C[C@]4(C)[C...</td>\n",
       "      <td>False</td>\n",
       "      <td>4.290652</td>\n",
       "      <td>-0.063864</td>\n",
       "      <td>-0.017443</td>\n",
       "      <td>-0.541154</td>\n",
       "      <td>0.570982</td>\n",
       "      <td>...</td>\n",
       "      <td>0.758474</td>\n",
       "      <td>0.510762</td>\n",
       "      <td>0.607401</td>\n",
       "      <td>-0.123059</td>\n",
       "      <td>0.214366</td>\n",
       "      <td>0.487838</td>\n",
       "      <td>-0.819775</td>\n",
       "      <td>0.112365</td>\n",
       "      <td>-0.122193</td>\n",
       "      <td>0.676629</td>\n",
       "    </tr>\n",
       "    <tr>\n",
       "      <th>...</th>\n",
       "      <td>...</td>\n",
       "      <td>...</td>\n",
       "      <td>...</td>\n",
       "      <td>...</td>\n",
       "      <td>...</td>\n",
       "      <td>...</td>\n",
       "      <td>...</td>\n",
       "      <td>...</td>\n",
       "      <td>...</td>\n",
       "      <td>...</td>\n",
       "      <td>...</td>\n",
       "      <td>...</td>\n",
       "      <td>...</td>\n",
       "      <td>...</td>\n",
       "      <td>...</td>\n",
       "      <td>...</td>\n",
       "      <td>...</td>\n",
       "      <td>...</td>\n",
       "      <td>...</td>\n",
       "      <td>...</td>\n",
       "      <td>...</td>\n",
       "    </tr>\n",
       "    <tr>\n",
       "      <th>609</th>\n",
       "      <td>T regulatory cells</td>\n",
       "      <td>Atorvastatin</td>\n",
       "      <td>LSM-5771</td>\n",
       "      <td>CC(C)c1c(C(=O)Nc2ccccc2)c(-c2ccccc2)c(-c2ccc(F...</td>\n",
       "      <td>False</td>\n",
       "      <td>-0.014372</td>\n",
       "      <td>-0.122464</td>\n",
       "      <td>-0.456366</td>\n",
       "      <td>-0.147894</td>\n",
       "      <td>-0.545382</td>\n",
       "      <td>...</td>\n",
       "      <td>-0.549987</td>\n",
       "      <td>-2.200925</td>\n",
       "      <td>0.359806</td>\n",
       "      <td>1.073983</td>\n",
       "      <td>0.356939</td>\n",
       "      <td>-0.029603</td>\n",
       "      <td>-0.528817</td>\n",
       "      <td>0.105138</td>\n",
       "      <td>0.491015</td>\n",
       "      <td>-0.979951</td>\n",
       "    </tr>\n",
       "    <tr>\n",
       "      <th>610</th>\n",
       "      <td>NK cells</td>\n",
       "      <td>Riociguat</td>\n",
       "      <td>LSM-45758</td>\n",
       "      <td>COC(=O)N(C)c1c(N)nc(-c2nn(Cc3ccccc3F)c3ncccc23...</td>\n",
       "      <td>False</td>\n",
       "      <td>-0.455549</td>\n",
       "      <td>0.188181</td>\n",
       "      <td>0.595734</td>\n",
       "      <td>-0.100299</td>\n",
       "      <td>0.786192</td>\n",
       "      <td>...</td>\n",
       "      <td>-1.236905</td>\n",
       "      <td>0.003854</td>\n",
       "      <td>-0.197569</td>\n",
       "      <td>-0.175307</td>\n",
       "      <td>0.101391</td>\n",
       "      <td>1.028394</td>\n",
       "      <td>0.034144</td>\n",
       "      <td>-0.231642</td>\n",
       "      <td>1.023994</td>\n",
       "      <td>-0.064760</td>\n",
       "    </tr>\n",
       "    <tr>\n",
       "      <th>611</th>\n",
       "      <td>T cells CD4+</td>\n",
       "      <td>Riociguat</td>\n",
       "      <td>LSM-45758</td>\n",
       "      <td>COC(=O)N(C)c1c(N)nc(-c2nn(Cc3ccccc3F)c3ncccc23...</td>\n",
       "      <td>False</td>\n",
       "      <td>0.338168</td>\n",
       "      <td>-0.109079</td>\n",
       "      <td>0.270182</td>\n",
       "      <td>-0.436586</td>\n",
       "      <td>-0.069476</td>\n",
       "      <td>...</td>\n",
       "      <td>0.077579</td>\n",
       "      <td>-1.101637</td>\n",
       "      <td>0.457201</td>\n",
       "      <td>0.535184</td>\n",
       "      <td>-0.198404</td>\n",
       "      <td>-0.005004</td>\n",
       "      <td>0.552810</td>\n",
       "      <td>-0.209077</td>\n",
       "      <td>0.389751</td>\n",
       "      <td>-0.337082</td>\n",
       "    </tr>\n",
       "    <tr>\n",
       "      <th>612</th>\n",
       "      <td>T cells CD8+</td>\n",
       "      <td>Riociguat</td>\n",
       "      <td>LSM-45758</td>\n",
       "      <td>COC(=O)N(C)c1c(N)nc(-c2nn(Cc3ccccc3F)c3ncccc23...</td>\n",
       "      <td>False</td>\n",
       "      <td>0.101138</td>\n",
       "      <td>-0.409724</td>\n",
       "      <td>-0.606292</td>\n",
       "      <td>-0.071300</td>\n",
       "      <td>-0.001789</td>\n",
       "      <td>...</td>\n",
       "      <td>0.005951</td>\n",
       "      <td>-0.893093</td>\n",
       "      <td>-1.003029</td>\n",
       "      <td>-0.080367</td>\n",
       "      <td>-0.076604</td>\n",
       "      <td>0.024849</td>\n",
       "      <td>0.012862</td>\n",
       "      <td>-0.029684</td>\n",
       "      <td>0.005506</td>\n",
       "      <td>-1.733112</td>\n",
       "    </tr>\n",
       "    <tr>\n",
       "      <th>613</th>\n",
       "      <td>T regulatory cells</td>\n",
       "      <td>Riociguat</td>\n",
       "      <td>LSM-45758</td>\n",
       "      <td>COC(=O)N(C)c1c(N)nc(-c2nn(Cc3ccccc3F)c3ncccc23...</td>\n",
       "      <td>False</td>\n",
       "      <td>-0.757116</td>\n",
       "      <td>0.085910</td>\n",
       "      <td>-0.730025</td>\n",
       "      <td>-1.367801</td>\n",
       "      <td>-0.695944</td>\n",
       "      <td>...</td>\n",
       "      <td>0.232343</td>\n",
       "      <td>-2.247816</td>\n",
       "      <td>-0.346036</td>\n",
       "      <td>-0.919567</td>\n",
       "      <td>-1.131372</td>\n",
       "      <td>-0.120252</td>\n",
       "      <td>-0.064537</td>\n",
       "      <td>-0.603280</td>\n",
       "      <td>-0.098041</td>\n",
       "      <td>-0.750681</td>\n",
       "    </tr>\n",
       "  </tbody>\n",
       "</table>\n",
       "<p>614 rows × 18216 columns</p>\n",
       "</div>"
      ],
      "text/plain": [
       "              cell_type             sm_name sm_lincs_id  \\\n",
       "0              NK cells        Clotrimazole    LSM-5341   \n",
       "1          T cells CD4+        Clotrimazole    LSM-5341   \n",
       "2          T cells CD8+        Clotrimazole    LSM-5341   \n",
       "3    T regulatory cells        Clotrimazole    LSM-5341   \n",
       "4              NK cells  Mometasone Furoate    LSM-3349   \n",
       "..                  ...                 ...         ...   \n",
       "609  T regulatory cells        Atorvastatin    LSM-5771   \n",
       "610            NK cells           Riociguat   LSM-45758   \n",
       "611        T cells CD4+           Riociguat   LSM-45758   \n",
       "612        T cells CD8+           Riociguat   LSM-45758   \n",
       "613  T regulatory cells           Riociguat   LSM-45758   \n",
       "\n",
       "                                                SMILES  control      A1BG  \\\n",
       "0               Clc1ccccc1C(c1ccccc1)(c1ccccc1)n1ccnc1    False  0.104720   \n",
       "1               Clc1ccccc1C(c1ccccc1)(c1ccccc1)n1ccnc1    False  0.915953   \n",
       "2               Clc1ccccc1C(c1ccccc1)(c1ccccc1)n1ccnc1    False -0.387721   \n",
       "3               Clc1ccccc1C(c1ccccc1)(c1ccccc1)n1ccnc1    False  0.232893   \n",
       "4    C[C@@H]1C[C@H]2[C@@H]3CCC4=CC(=O)C=C[C@]4(C)[C...    False  4.290652   \n",
       "..                                                 ...      ...       ...   \n",
       "609  CC(C)c1c(C(=O)Nc2ccccc2)c(-c2ccccc2)c(-c2ccc(F...    False -0.014372   \n",
       "610  COC(=O)N(C)c1c(N)nc(-c2nn(Cc3ccccc3F)c3ncccc23...    False -0.455549   \n",
       "611  COC(=O)N(C)c1c(N)nc(-c2nn(Cc3ccccc3F)c3ncccc23...    False  0.338168   \n",
       "612  COC(=O)N(C)c1c(N)nc(-c2nn(Cc3ccccc3F)c3ncccc23...    False  0.101138   \n",
       "613  COC(=O)N(C)c1c(N)nc(-c2nn(Cc3ccccc3F)c3ncccc23...    False -0.757116   \n",
       "\n",
       "     A1BG-AS1       A2M   A2M-AS1     A2MP1  ...      ZUP1      ZW10  \\\n",
       "0   -0.077524 -1.625596 -0.144545  0.143555  ... -0.227781 -0.010752   \n",
       "1   -0.884380  0.371834 -0.081677 -0.498266  ... -0.494985 -0.303419   \n",
       "2   -0.305378  0.567777  0.303895 -0.022653  ... -0.119422 -0.033608   \n",
       "3    0.129029  0.336897  0.486946  0.767661  ...  0.451679  0.704643   \n",
       "4   -0.063864 -0.017443 -0.541154  0.570982  ...  0.758474  0.510762   \n",
       "..        ...       ...       ...       ...  ...       ...       ...   \n",
       "609 -0.122464 -0.456366 -0.147894 -0.545382  ... -0.549987 -2.200925   \n",
       "610  0.188181  0.595734 -0.100299  0.786192  ... -1.236905  0.003854   \n",
       "611 -0.109079  0.270182 -0.436586 -0.069476  ...  0.077579 -1.101637   \n",
       "612 -0.409724 -0.606292 -0.071300 -0.001789  ...  0.005951 -0.893093   \n",
       "613  0.085910 -0.730025 -1.367801 -0.695944  ...  0.232343 -2.247816   \n",
       "\n",
       "       ZWILCH     ZWINT      ZXDA      ZXDB      ZXDC    ZYG11B       ZYX  \\\n",
       "0   -0.023881  0.674536 -0.453068  0.005164 -0.094959  0.034127  0.221377   \n",
       "1    0.304955 -0.333905 -0.315516 -0.369626 -0.095079  0.704780  1.096702   \n",
       "2   -0.153123  0.183597 -0.555678 -1.494789 -0.213550  0.415768  0.078439   \n",
       "3    0.015468 -0.103868  0.865027  0.189114  0.224700 -0.048233  0.216139   \n",
       "4    0.607401 -0.123059  0.214366  0.487838 -0.819775  0.112365 -0.122193   \n",
       "..        ...       ...       ...       ...       ...       ...       ...   \n",
       "609  0.359806  1.073983  0.356939 -0.029603 -0.528817  0.105138  0.491015   \n",
       "610 -0.197569 -0.175307  0.101391  1.028394  0.034144 -0.231642  1.023994   \n",
       "611  0.457201  0.535184 -0.198404 -0.005004  0.552810 -0.209077  0.389751   \n",
       "612 -1.003029 -0.080367 -0.076604  0.024849  0.012862 -0.029684  0.005506   \n",
       "613 -0.346036 -0.919567 -1.131372 -0.120252 -0.064537 -0.603280 -0.098041   \n",
       "\n",
       "        ZZEF1  \n",
       "0    0.368755  \n",
       "1   -0.869887  \n",
       "2   -0.259365  \n",
       "3   -0.085024  \n",
       "4    0.676629  \n",
       "..        ...  \n",
       "609 -0.979951  \n",
       "610 -0.064760  \n",
       "611 -0.337082  \n",
       "612 -1.733112  \n",
       "613 -0.750681  \n",
       "\n",
       "[614 rows x 18216 columns]"
      ]
     },
     "execution_count": 3,
     "metadata": {},
     "output_type": "execute_result"
    }
   ],
   "source": [
    "de_train"
   ]
  },
  {
   "cell_type": "code",
   "execution_count": 4,
   "id": "508da8be",
   "metadata": {
    "execution": {
     "iopub.execute_input": "2023-10-14T14:47:13.769329Z",
     "iopub.status.busy": "2023-10-14T14:47:13.768773Z",
     "iopub.status.idle": "2023-10-14T14:47:13.776987Z",
     "shell.execute_reply": "2023-10-14T14:47:13.776159Z"
    },
    "papermill": {
     "duration": 0.020692,
     "end_time": "2023-10-14T14:47:13.778731",
     "exception": false,
     "start_time": "2023-10-14T14:47:13.758039",
     "status": "completed"
    },
    "tags": []
   },
   "outputs": [
    {
     "data": {
      "text/html": [
       "<div>\n",
       "<style scoped>\n",
       "    .dataframe tbody tr th:only-of-type {\n",
       "        vertical-align: middle;\n",
       "    }\n",
       "\n",
       "    .dataframe tbody tr th {\n",
       "        vertical-align: top;\n",
       "    }\n",
       "\n",
       "    .dataframe thead th {\n",
       "        text-align: right;\n",
       "    }\n",
       "</style>\n",
       "<table border=\"1\" class=\"dataframe\">\n",
       "  <thead>\n",
       "    <tr style=\"text-align: right;\">\n",
       "      <th></th>\n",
       "      <th>id</th>\n",
       "      <th>cell_type</th>\n",
       "      <th>sm_name</th>\n",
       "    </tr>\n",
       "  </thead>\n",
       "  <tbody>\n",
       "    <tr>\n",
       "      <th>0</th>\n",
       "      <td>0</td>\n",
       "      <td>B cells</td>\n",
       "      <td>5-(9-Isopropyl-8-methyl-2-morpholino-9H-purin-...</td>\n",
       "    </tr>\n",
       "    <tr>\n",
       "      <th>1</th>\n",
       "      <td>1</td>\n",
       "      <td>B cells</td>\n",
       "      <td>ABT-199 (GDC-0199)</td>\n",
       "    </tr>\n",
       "    <tr>\n",
       "      <th>2</th>\n",
       "      <td>2</td>\n",
       "      <td>B cells</td>\n",
       "      <td>ABT737</td>\n",
       "    </tr>\n",
       "    <tr>\n",
       "      <th>3</th>\n",
       "      <td>3</td>\n",
       "      <td>B cells</td>\n",
       "      <td>AMD-070 (hydrochloride)</td>\n",
       "    </tr>\n",
       "    <tr>\n",
       "      <th>4</th>\n",
       "      <td>4</td>\n",
       "      <td>B cells</td>\n",
       "      <td>AT 7867</td>\n",
       "    </tr>\n",
       "  </tbody>\n",
       "</table>\n",
       "</div>"
      ],
      "text/plain": [
       "   id cell_type                                            sm_name\n",
       "0   0   B cells  5-(9-Isopropyl-8-methyl-2-morpholino-9H-purin-...\n",
       "1   1   B cells                                 ABT-199 (GDC-0199)\n",
       "2   2   B cells                                             ABT737\n",
       "3   3   B cells                            AMD-070 (hydrochloride)\n",
       "4   4   B cells                                            AT 7867"
      ]
     },
     "execution_count": 4,
     "metadata": {},
     "output_type": "execute_result"
    }
   ],
   "source": [
    "id_map.head()"
   ]
  },
  {
   "cell_type": "code",
   "execution_count": 5,
   "id": "e782b5cb",
   "metadata": {
    "execution": {
     "iopub.execute_input": "2023-10-14T14:47:13.800499Z",
     "iopub.status.busy": "2023-10-14T14:47:13.799767Z",
     "iopub.status.idle": "2023-10-14T14:47:13.832713Z",
     "shell.execute_reply": "2023-10-14T14:47:13.831752Z"
    },
    "papermill": {
     "duration": 0.045786,
     "end_time": "2023-10-14T14:47:13.834481",
     "exception": false,
     "start_time": "2023-10-14T14:47:13.788695",
     "status": "completed"
    },
    "tags": []
   },
   "outputs": [
    {
     "data": {
      "text/plain": [
       "cell_type      0\n",
       "sm_name        0\n",
       "sm_lincs_id    0\n",
       "SMILES         0\n",
       "control        0\n",
       "              ..\n",
       "ZXDB           0\n",
       "ZXDC           0\n",
       "ZYG11B         0\n",
       "ZYX            0\n",
       "ZZEF1          0\n",
       "Length: 18216, dtype: int64"
      ]
     },
     "execution_count": 5,
     "metadata": {},
     "output_type": "execute_result"
    }
   ],
   "source": [
    "de_train.isnull().sum()"
   ]
  },
  {
   "cell_type": "code",
   "execution_count": 6,
   "id": "9b518257",
   "metadata": {
    "execution": {
     "iopub.execute_input": "2023-10-14T14:47:13.856296Z",
     "iopub.status.busy": "2023-10-14T14:47:13.855475Z",
     "iopub.status.idle": "2023-10-14T14:47:13.864169Z",
     "shell.execute_reply": "2023-10-14T14:47:13.863325Z"
    },
    "papermill": {
     "duration": 0.021202,
     "end_time": "2023-10-14T14:47:13.865855",
     "exception": false,
     "start_time": "2023-10-14T14:47:13.844653",
     "status": "completed"
    },
    "tags": []
   },
   "outputs": [
    {
     "name": "stdout",
     "output_type": "stream",
     "text": [
      "Count 146\n"
     ]
    },
    {
     "data": {
      "text/plain": [
       "(array(['Clotrimazole', 'Mometasone Furoate', 'Idelalisib', 'Vandetanib',\n",
       "        'Bosutinib', 'Ceritinib', 'Lamivudine', 'Crizotinib',\n",
       "        'Cabozantinib', 'Flutamide', 'Dasatinib', 'Selumetinib',\n",
       "        'Trametinib', 'ABT-199 (GDC-0199)', 'Oxybenzone', 'Vorinostat',\n",
       "        'Raloxifene', 'Linagliptin', 'Lapatinib', 'Canertinib',\n",
       "        'Disulfiram', 'Vardenafil', 'Palbociclib', 'Ricolinostat',\n",
       "        'Dabrafenib', 'Proscillaridin A;Proscillaridin-A', 'IN1451',\n",
       "        'Ixabepilone', 'CEP-18770 (Delanzomib)', 'RG7112', 'MK-5108',\n",
       "        'Resminostat', 'IMD-0354', 'Alvocidib', 'LY2090314',\n",
       "        'Methotrexate', 'LDN 193189', 'Tacalcitol', 'Colchicine', 'R428',\n",
       "        'TL_HRAS26', 'BMS-387032', 'CGP 60474', 'TIE2 Kinase Inhibitor',\n",
       "        'PD-0325901', 'Isoniazid', 'GSK-1070916', 'Masitinib',\n",
       "        'Saracatinib', 'CC-401', 'Decitabine', 'Ketoconazole',\n",
       "        'HYDROXYUREA', 'BAY 61-3606', 'Navitoclax', 'Porcn Inhibitor III',\n",
       "        'GW843682X', 'Prednisolone', 'Tamatinib', 'Tosedostat',\n",
       "        'GSK256066', 'MGCD-265', 'AZD-8330', 'RN-486', 'Amiodarone',\n",
       "        'Belinostat', 'RVX-208', 'GO-6976', 'Scriptaid', 'HMN-214',\n",
       "        'SB525334', 'AVL-292', 'BMS-777607', 'AZD4547', 'Foretinib',\n",
       "        'Tivozanib', 'Quizartinib', 'IKK Inhibitor VII', 'UNII-BXU45ZH6LI',\n",
       "        'Chlorpheniramine', 'Tivantinib', 'CEP-37440', 'TPCA-1', 'AZ628',\n",
       "        'OSI-930', 'AZD3514', 'Vanoxerine', 'PF-03814735', 'MLN 2238',\n",
       "        'Dovitinib', 'K-02288', 'Midostaurin', 'I-BET151', 'STK219801',\n",
       "        'PRT-062607', 'AT 7867', 'Sunitinib', 'Penfluridol', 'BMS-536924',\n",
       "        'Perhexiline', 'BI-D1870', 'FK 866', 'Mubritinib (TAK 165)',\n",
       "        'Doxorubicin', 'Pomalidomide', 'Colforsin', 'Phenylbutazone',\n",
       "        'Protriptyline', 'Buspirone', 'Clomipramine', 'Alogliptin',\n",
       "        'Nefazodone', 'ABT737', 'Dactolisib', 'Nilotinib', 'Defactinib',\n",
       "        'PF-04691502', 'GLPG0634', 'Sgc-cbp30', 'BX 912', 'SCH-58261',\n",
       "        'Ruxolitinib', 'BAY 87-2243', 'O-Demethylated Adapalene',\n",
       "        'YK 4-279', 'Ganetespib (STA-9090)', 'SLx-2119',\n",
       "        'Oprozomib (ONX 0912)', 'Desloratadine', 'Pitavastatin Calcium',\n",
       "        'TR-14035', 'AT13387', 'CHIR-99021', 'RG7090',\n",
       "        'AMD-070 (hydrochloride)', 'BMS-265246', 'Tipifarnib', 'Imatinib',\n",
       "        'Topotecan', 'Clemastine',\n",
       "        '5-(9-Isopropyl-8-methyl-2-morpholino-9H-purin-6-yl)pyrimidin-2-amine',\n",
       "        'CGM-097', 'TGX 221', 'Azacitidine', 'Atorvastatin', 'Riociguat'],\n",
       "       dtype=object),\n",
       " None)"
      ]
     },
     "execution_count": 6,
     "metadata": {},
     "output_type": "execute_result"
    }
   ],
   "source": [
    "unique= de_train['sm_name'].unique()\n",
    "unique, print(f\"Count {len(unique)}\")"
   ]
  },
  {
   "cell_type": "code",
   "execution_count": 7,
   "id": "8f3efe77",
   "metadata": {
    "execution": {
     "iopub.execute_input": "2023-10-14T14:47:13.888287Z",
     "iopub.status.busy": "2023-10-14T14:47:13.887582Z",
     "iopub.status.idle": "2023-10-14T14:47:13.893540Z",
     "shell.execute_reply": "2023-10-14T14:47:13.892686Z"
    },
    "papermill": {
     "duration": 0.019214,
     "end_time": "2023-10-14T14:47:13.895159",
     "exception": false,
     "start_time": "2023-10-14T14:47:13.875945",
     "status": "completed"
    },
    "tags": []
   },
   "outputs": [
    {
     "data": {
      "text/plain": [
       "array(['NK cells', 'T cells CD4+', 'T cells CD8+', 'T regulatory cells',\n",
       "       'B cells', 'Myeloid cells'], dtype=object)"
      ]
     },
     "execution_count": 7,
     "metadata": {},
     "output_type": "execute_result"
    }
   ],
   "source": [
    "de_train['cell_type'].unique()"
   ]
  },
  {
   "cell_type": "code",
   "execution_count": 8,
   "id": "c3ecef80",
   "metadata": {
    "execution": {
     "iopub.execute_input": "2023-10-14T14:47:13.959641Z",
     "iopub.status.busy": "2023-10-14T14:47:13.958782Z",
     "iopub.status.idle": "2023-10-14T14:47:13.976548Z",
     "shell.execute_reply": "2023-10-14T14:47:13.975637Z"
    },
    "papermill": {
     "duration": 0.072902,
     "end_time": "2023-10-14T14:47:13.978251",
     "exception": false,
     "start_time": "2023-10-14T14:47:13.905349",
     "status": "completed"
    },
    "tags": []
   },
   "outputs": [
    {
     "data": {
      "text/plain": [
       "<bound method DataFrame.count of               cell_type     sm_name sm_lincs_id  \\\n",
       "104             B cells  Dabrafenib    LSM-6303   \n",
       "105       Myeloid cells  Dabrafenib    LSM-6303   \n",
       "106            NK cells  Dabrafenib    LSM-6303   \n",
       "107        T cells CD4+  Dabrafenib    LSM-6303   \n",
       "108        T cells CD8+  Dabrafenib    LSM-6303   \n",
       "109  T regulatory cells  Dabrafenib    LSM-6303   \n",
       "275             B cells  Belinostat   LSM-43181   \n",
       "276       Myeloid cells  Belinostat   LSM-43181   \n",
       "277            NK cells  Belinostat   LSM-43181   \n",
       "278        T cells CD4+  Belinostat   LSM-43181   \n",
       "279        T cells CD8+  Belinostat   LSM-43181   \n",
       "280  T regulatory cells  Belinostat   LSM-43181   \n",
       "\n",
       "                                                SMILES  control       A1BG  \\\n",
       "104  CC(C)(C)c1nc(-c2cccc(NS(=O)(=O)c3c(F)cccc3F)c2...     True   0.942197   \n",
       "105  CC(C)(C)c1nc(-c2cccc(NS(=O)(=O)c3c(F)cccc3F)c2...     True   0.254567   \n",
       "106  CC(C)(C)c1nc(-c2cccc(NS(=O)(=O)c3c(F)cccc3F)c2...     True  -0.161665   \n",
       "107  CC(C)(C)c1nc(-c2cccc(NS(=O)(=O)c3c(F)cccc3F)c2...     True   0.000443   \n",
       "108  CC(C)(C)c1nc(-c2cccc(NS(=O)(=O)c3c(F)cccc3F)c2...     True   0.103281   \n",
       "109  CC(C)(C)c1nc(-c2cccc(NS(=O)(=O)c3c(F)cccc3F)c2...     True   0.679796   \n",
       "275           O=C(/C=C/c1cccc(S(=O)(=O)Nc2ccccc2)c1)NO     True   2.225073   \n",
       "276           O=C(/C=C/c1cccc(S(=O)(=O)Nc2ccccc2)c1)NO     True   3.519499   \n",
       "277           O=C(/C=C/c1cccc(S(=O)(=O)Nc2ccccc2)c1)NO     True   1.181036   \n",
       "278           O=C(/C=C/c1cccc(S(=O)(=O)Nc2ccccc2)c1)NO     True   0.858771   \n",
       "279           O=C(/C=C/c1cccc(S(=O)(=O)Nc2ccccc2)c1)NO     True  -1.654045   \n",
       "280           O=C(/C=C/c1cccc(S(=O)(=O)Nc2ccccc2)c1)NO     True  22.085428   \n",
       "\n",
       "      A1BG-AS1        A2M    A2M-AS1      A2MP1  ...       ZUP1       ZW10  \\\n",
       "104   0.539713  -0.417087   0.391397   2.049071  ...  -0.094318  -0.043478   \n",
       "105   0.244074 -28.552191  -0.377238  -0.731186  ...   1.771915  -0.085585   \n",
       "106   0.269009  -1.770091  -0.198444   0.954753  ...   0.131425  -1.112697   \n",
       "107   0.750020  -0.151077  -2.733638  -1.073863  ...  -1.032259  -0.571065   \n",
       "108  -0.281974  -0.187118   0.535779   1.201660  ...  -0.288675  -0.156537   \n",
       "109   0.457679   2.576746   2.151973   2.649578  ...  -1.295633   1.393517   \n",
       "275   0.564347  -0.437639  -0.415907   0.307772  ...  10.803264   3.292811   \n",
       "276   6.284255 -24.687990   0.004540  15.109208  ...   0.635599   0.210030   \n",
       "277   3.652341  -7.026508 -17.801989  -0.656651  ...   4.361655   0.558856   \n",
       "278   3.672879  -3.525978 -13.130322  -2.264816  ...   4.859433   4.253850   \n",
       "279  -0.586952  -0.776387   0.844867  -2.313306  ...   1.683870   0.687546   \n",
       "280  14.421991  27.557166  27.603715  35.278040  ...   3.410146  15.959706   \n",
       "\n",
       "        ZWILCH      ZWINT       ZXDA       ZXDB       ZXDC    ZYG11B  \\\n",
       "104  -0.269027   0.484859   0.905045   0.277953   1.126481  0.432023   \n",
       "105   0.010659  -1.890484   1.062484  -0.136040  -0.224016 -1.890099   \n",
       "106  -0.589313  -0.660929   0.016530   0.319136   0.299521 -0.383452   \n",
       "107   0.346539  -0.338557   0.549544  -0.607941  -0.130692 -0.059547   \n",
       "108  -0.555925  -0.564582   0.735246  -0.641172   0.272963 -0.482503   \n",
       "109   0.098008   0.523280   0.871999   2.195867   1.880501  0.489364   \n",
       "275  -0.051246   0.247855  -1.651776  -1.788311  -0.418805  3.396236   \n",
       "276 -21.273505   1.190610  -0.486464  -1.040062  -8.310726  0.612581   \n",
       "277  -0.809408   0.265743  -0.056795  -0.019083  -0.140576  3.909364   \n",
       "278   0.628184   0.332405  -6.780020  -2.497143  -0.868885  3.692675   \n",
       "279  -0.817418  -0.340659  -1.568735  -1.322291   0.231650  1.249664   \n",
       "280  10.649018  17.231287  23.721492  23.089832  10.844942  4.822008   \n",
       "\n",
       "          ZYX     ZZEF1  \n",
       "104 -2.508760 -0.354758  \n",
       "105 -3.105304 -1.155821  \n",
       "106  0.267828 -1.100267  \n",
       "107 -0.169427 -1.992270  \n",
       "108 -0.498744 -0.097232  \n",
       "109 -0.388891 -0.617592  \n",
       "275 -0.567121  0.501423  \n",
       "276  7.826692 -0.917186  \n",
       "277 -1.252862 -1.467913  \n",
       "278  0.128906 -0.583605  \n",
       "279  0.373853  1.635430  \n",
       "280  3.067047  2.149157  \n",
       "\n",
       "[12 rows x 18216 columns]>"
      ]
     },
     "execution_count": 8,
     "metadata": {},
     "output_type": "execute_result"
    }
   ],
   "source": [
    "de_train[de_train[\"control\"] == True].count  "
   ]
  },
  {
   "cell_type": "markdown",
   "id": "faf6c6b8",
   "metadata": {
    "papermill": {
     "duration": 0.010367,
     "end_time": "2023-10-14T14:47:13.999291",
     "exception": false,
     "start_time": "2023-10-14T14:47:13.988924",
     "status": "completed"
    },
    "tags": []
   },
   "source": [
    "Visualizing more and staring at data for sometime will be more helpful for understanding but let's try building some simple model."
   ]
  },
  {
   "cell_type": "markdown",
   "id": "6b26f34a",
   "metadata": {
    "papermill": {
     "duration": 0.010189,
     "end_time": "2023-10-14T14:47:14.019788",
     "exception": false,
     "start_time": "2023-10-14T14:47:14.009599",
     "status": "completed"
    },
    "tags": []
   },
   "source": [
    "# Preprocess data \n",
    "We'll take only 'cell_type' and 'sm_name' as features and 18211 gene values as labels."
   ]
  },
  {
   "cell_type": "code",
   "execution_count": 9,
   "id": "f5558eab",
   "metadata": {
    "execution": {
     "iopub.execute_input": "2023-10-14T14:47:14.042177Z",
     "iopub.status.busy": "2023-10-14T14:47:14.041489Z",
     "iopub.status.idle": "2023-10-14T14:47:14.086433Z",
     "shell.execute_reply": "2023-10-14T14:47:14.085500Z"
    },
    "papermill": {
     "duration": 0.058428,
     "end_time": "2023-10-14T14:47:14.088543",
     "exception": false,
     "start_time": "2023-10-14T14:47:14.030115",
     "status": "completed"
    },
    "tags": []
   },
   "outputs": [],
   "source": [
    "# shuffle the data\n",
    "de_train = de_train.sample(frac=1.0, random_state=42)"
   ]
  },
  {
   "cell_type": "code",
   "execution_count": 10,
   "id": "f8fa6f8e",
   "metadata": {
    "execution": {
     "iopub.execute_input": "2023-10-14T14:47:14.112690Z",
     "iopub.status.busy": "2023-10-14T14:47:14.111767Z",
     "iopub.status.idle": "2023-10-14T14:47:14.134229Z",
     "shell.execute_reply": "2023-10-14T14:47:14.133354Z"
    },
    "papermill": {
     "duration": 0.036375,
     "end_time": "2023-10-14T14:47:14.136101",
     "exception": false,
     "start_time": "2023-10-14T14:47:14.099726",
     "status": "completed"
    },
    "tags": []
   },
   "outputs": [
    {
     "data": {
      "text/html": [
       "<div>\n",
       "<style scoped>\n",
       "    .dataframe tbody tr th:only-of-type {\n",
       "        vertical-align: middle;\n",
       "    }\n",
       "\n",
       "    .dataframe tbody tr th {\n",
       "        vertical-align: top;\n",
       "    }\n",
       "\n",
       "    .dataframe thead th {\n",
       "        text-align: right;\n",
       "    }\n",
       "</style>\n",
       "<table border=\"1\" class=\"dataframe\">\n",
       "  <thead>\n",
       "    <tr style=\"text-align: right;\">\n",
       "      <th></th>\n",
       "      <th>cell_type</th>\n",
       "      <th>sm_name</th>\n",
       "      <th>sm_lincs_id</th>\n",
       "      <th>SMILES</th>\n",
       "      <th>control</th>\n",
       "      <th>A1BG</th>\n",
       "      <th>A1BG-AS1</th>\n",
       "      <th>A2M</th>\n",
       "      <th>A2M-AS1</th>\n",
       "      <th>A2MP1</th>\n",
       "      <th>...</th>\n",
       "      <th>ZUP1</th>\n",
       "      <th>ZW10</th>\n",
       "      <th>ZWILCH</th>\n",
       "      <th>ZWINT</th>\n",
       "      <th>ZXDA</th>\n",
       "      <th>ZXDB</th>\n",
       "      <th>ZXDC</th>\n",
       "      <th>ZYG11B</th>\n",
       "      <th>ZYX</th>\n",
       "      <th>ZZEF1</th>\n",
       "    </tr>\n",
       "  </thead>\n",
       "  <tbody>\n",
       "    <tr>\n",
       "      <th>350</th>\n",
       "      <td>T regulatory cells</td>\n",
       "      <td>TPCA-1</td>\n",
       "      <td>LSM-1136</td>\n",
       "      <td>NC(=O)Nc1sc(-c2ccc(F)cc2)cc1C(N)=O</td>\n",
       "      <td>False</td>\n",
       "      <td>2.175274</td>\n",
       "      <td>1.219289</td>\n",
       "      <td>2.396227</td>\n",
       "      <td>2.885988</td>\n",
       "      <td>3.384956</td>\n",
       "      <td>...</td>\n",
       "      <td>-1.062199</td>\n",
       "      <td>1.178715</td>\n",
       "      <td>0.180416</td>\n",
       "      <td>0.755145</td>\n",
       "      <td>1.809688</td>\n",
       "      <td>1.644712</td>\n",
       "      <td>0.701406</td>\n",
       "      <td>0.137341</td>\n",
       "      <td>0.230949</td>\n",
       "      <td>0.179458</td>\n",
       "    </tr>\n",
       "    <tr>\n",
       "      <th>377</th>\n",
       "      <td>NK cells</td>\n",
       "      <td>Dovitinib</td>\n",
       "      <td>LSM-1127</td>\n",
       "      <td>CN1CCN(c2ccc3[nH]c(-c4c(N)c5c(F)cccc5[nH]c4=O)...</td>\n",
       "      <td>False</td>\n",
       "      <td>0.214531</td>\n",
       "      <td>-0.115171</td>\n",
       "      <td>0.326515</td>\n",
       "      <td>0.032289</td>\n",
       "      <td>0.220971</td>\n",
       "      <td>...</td>\n",
       "      <td>0.438939</td>\n",
       "      <td>0.216506</td>\n",
       "      <td>-0.108654</td>\n",
       "      <td>-0.063070</td>\n",
       "      <td>0.006721</td>\n",
       "      <td>-0.593161</td>\n",
       "      <td>-0.044022</td>\n",
       "      <td>0.475729</td>\n",
       "      <td>0.356555</td>\n",
       "      <td>-0.038020</td>\n",
       "    </tr>\n",
       "    <tr>\n",
       "      <th>163</th>\n",
       "      <td>T regulatory cells</td>\n",
       "      <td>Tacalcitol</td>\n",
       "      <td>LSM-45518</td>\n",
       "      <td>C=C1/C(=C\\C=C2/CCC[C@]3(C)[C@@H]([C@H](C)CC[C@...</td>\n",
       "      <td>False</td>\n",
       "      <td>0.391257</td>\n",
       "      <td>-0.052922</td>\n",
       "      <td>0.540292</td>\n",
       "      <td>0.718991</td>\n",
       "      <td>1.083183</td>\n",
       "      <td>...</td>\n",
       "      <td>-1.755527</td>\n",
       "      <td>0.556352</td>\n",
       "      <td>0.089976</td>\n",
       "      <td>-0.000729</td>\n",
       "      <td>0.419802</td>\n",
       "      <td>1.020842</td>\n",
       "      <td>0.367313</td>\n",
       "      <td>0.486345</td>\n",
       "      <td>-0.856723</td>\n",
       "      <td>0.191009</td>\n",
       "    </tr>\n",
       "    <tr>\n",
       "      <th>609</th>\n",
       "      <td>T regulatory cells</td>\n",
       "      <td>Atorvastatin</td>\n",
       "      <td>LSM-5771</td>\n",
       "      <td>CC(C)c1c(C(=O)Nc2ccccc2)c(-c2ccccc2)c(-c2ccc(F...</td>\n",
       "      <td>False</td>\n",
       "      <td>-0.014372</td>\n",
       "      <td>-0.122464</td>\n",
       "      <td>-0.456366</td>\n",
       "      <td>-0.147894</td>\n",
       "      <td>-0.545382</td>\n",
       "      <td>...</td>\n",
       "      <td>-0.549987</td>\n",
       "      <td>-2.200925</td>\n",
       "      <td>0.359806</td>\n",
       "      <td>1.073983</td>\n",
       "      <td>0.356939</td>\n",
       "      <td>-0.029603</td>\n",
       "      <td>-0.528817</td>\n",
       "      <td>0.105138</td>\n",
       "      <td>0.491015</td>\n",
       "      <td>-0.979951</td>\n",
       "    </tr>\n",
       "    <tr>\n",
       "      <th>132</th>\n",
       "      <td>T cells CD8+</td>\n",
       "      <td>MK-5108</td>\n",
       "      <td>LSM-36812</td>\n",
       "      <td>O=C(O)[C@]1(Cc2cccc(Nc3nccs3)n2)CC[C@@H](Oc2cc...</td>\n",
       "      <td>False</td>\n",
       "      <td>0.094873</td>\n",
       "      <td>1.067610</td>\n",
       "      <td>-0.745980</td>\n",
       "      <td>1.083842</td>\n",
       "      <td>0.638504</td>\n",
       "      <td>...</td>\n",
       "      <td>0.279780</td>\n",
       "      <td>0.489431</td>\n",
       "      <td>0.147217</td>\n",
       "      <td>0.292313</td>\n",
       "      <td>0.029266</td>\n",
       "      <td>0.330628</td>\n",
       "      <td>1.038142</td>\n",
       "      <td>-0.194884</td>\n",
       "      <td>1.078132</td>\n",
       "      <td>0.057001</td>\n",
       "    </tr>\n",
       "    <tr>\n",
       "      <th>...</th>\n",
       "      <td>...</td>\n",
       "      <td>...</td>\n",
       "      <td>...</td>\n",
       "      <td>...</td>\n",
       "      <td>...</td>\n",
       "      <td>...</td>\n",
       "      <td>...</td>\n",
       "      <td>...</td>\n",
       "      <td>...</td>\n",
       "      <td>...</td>\n",
       "      <td>...</td>\n",
       "      <td>...</td>\n",
       "      <td>...</td>\n",
       "      <td>...</td>\n",
       "      <td>...</td>\n",
       "      <td>...</td>\n",
       "      <td>...</td>\n",
       "      <td>...</td>\n",
       "      <td>...</td>\n",
       "      <td>...</td>\n",
       "      <td>...</td>\n",
       "    </tr>\n",
       "    <tr>\n",
       "      <th>71</th>\n",
       "      <td>T regulatory cells</td>\n",
       "      <td>Raloxifene</td>\n",
       "      <td>LSM-3425</td>\n",
       "      <td>O=C(c1ccc(OCCN2CCCCC2)cc1)c1c(-c2ccc(O)cc2)sc2...</td>\n",
       "      <td>False</td>\n",
       "      <td>1.080779</td>\n",
       "      <td>0.226991</td>\n",
       "      <td>2.440729</td>\n",
       "      <td>2.581894</td>\n",
       "      <td>1.773980</td>\n",
       "      <td>...</td>\n",
       "      <td>-0.276043</td>\n",
       "      <td>0.768273</td>\n",
       "      <td>1.351487</td>\n",
       "      <td>2.359651</td>\n",
       "      <td>1.470219</td>\n",
       "      <td>0.866639</td>\n",
       "      <td>0.467307</td>\n",
       "      <td>0.663700</td>\n",
       "      <td>-0.122574</td>\n",
       "      <td>-0.315800</td>\n",
       "    </tr>\n",
       "    <tr>\n",
       "      <th>106</th>\n",
       "      <td>NK cells</td>\n",
       "      <td>Dabrafenib</td>\n",
       "      <td>LSM-6303</td>\n",
       "      <td>CC(C)(C)c1nc(-c2cccc(NS(=O)(=O)c3c(F)cccc3F)c2...</td>\n",
       "      <td>True</td>\n",
       "      <td>-0.161665</td>\n",
       "      <td>0.269009</td>\n",
       "      <td>-1.770091</td>\n",
       "      <td>-0.198444</td>\n",
       "      <td>0.954753</td>\n",
       "      <td>...</td>\n",
       "      <td>0.131425</td>\n",
       "      <td>-1.112697</td>\n",
       "      <td>-0.589313</td>\n",
       "      <td>-0.660929</td>\n",
       "      <td>0.016530</td>\n",
       "      <td>0.319136</td>\n",
       "      <td>0.299521</td>\n",
       "      <td>-0.383452</td>\n",
       "      <td>0.267828</td>\n",
       "      <td>-1.100267</td>\n",
       "    </tr>\n",
       "    <tr>\n",
       "      <th>270</th>\n",
       "      <td>T regulatory cells</td>\n",
       "      <td>RN-486</td>\n",
       "      <td>LSM-47132</td>\n",
       "      <td>CN1CCN(c2ccc(Nc3cc(-c4cccc(-n5ccc6cc(C7CC7)cc(...</td>\n",
       "      <td>False</td>\n",
       "      <td>-0.304126</td>\n",
       "      <td>0.443651</td>\n",
       "      <td>0.688265</td>\n",
       "      <td>-0.101457</td>\n",
       "      <td>-0.005912</td>\n",
       "      <td>...</td>\n",
       "      <td>-0.855096</td>\n",
       "      <td>-0.499096</td>\n",
       "      <td>-0.211083</td>\n",
       "      <td>-0.495621</td>\n",
       "      <td>-0.233734</td>\n",
       "      <td>1.120530</td>\n",
       "      <td>-0.109096</td>\n",
       "      <td>0.128084</td>\n",
       "      <td>0.313468</td>\n",
       "      <td>-0.512444</td>\n",
       "    </tr>\n",
       "    <tr>\n",
       "      <th>435</th>\n",
       "      <td>NK cells</td>\n",
       "      <td>Doxorubicin</td>\n",
       "      <td>LSM-4062</td>\n",
       "      <td>COc1cccc2c1C(=O)c1c(O)c3c(c(O)c1C2=O)C[C@@](O)...</td>\n",
       "      <td>False</td>\n",
       "      <td>0.482294</td>\n",
       "      <td>-1.262924</td>\n",
       "      <td>-0.545405</td>\n",
       "      <td>-0.497739</td>\n",
       "      <td>-0.750201</td>\n",
       "      <td>...</td>\n",
       "      <td>0.444958</td>\n",
       "      <td>0.029279</td>\n",
       "      <td>0.337660</td>\n",
       "      <td>0.025025</td>\n",
       "      <td>0.035943</td>\n",
       "      <td>0.691171</td>\n",
       "      <td>0.352091</td>\n",
       "      <td>0.046012</td>\n",
       "      <td>-0.760812</td>\n",
       "      <td>-0.168719</td>\n",
       "    </tr>\n",
       "    <tr>\n",
       "      <th>102</th>\n",
       "      <td>T cells CD8+</td>\n",
       "      <td>Ricolinostat</td>\n",
       "      <td>LSM-6324</td>\n",
       "      <td>O=C(CCCCCCNC(=O)c1cnc(N(c2ccccc2)c2ccccc2)nc1)NO</td>\n",
       "      <td>False</td>\n",
       "      <td>-1.270048</td>\n",
       "      <td>-0.102076</td>\n",
       "      <td>-0.274282</td>\n",
       "      <td>0.357499</td>\n",
       "      <td>-0.756485</td>\n",
       "      <td>...</td>\n",
       "      <td>0.307323</td>\n",
       "      <td>-1.183770</td>\n",
       "      <td>-0.541778</td>\n",
       "      <td>-0.433469</td>\n",
       "      <td>-0.310043</td>\n",
       "      <td>-0.515335</td>\n",
       "      <td>0.125768</td>\n",
       "      <td>-0.354120</td>\n",
       "      <td>0.603707</td>\n",
       "      <td>-0.379696</td>\n",
       "    </tr>\n",
       "  </tbody>\n",
       "</table>\n",
       "<p>614 rows × 18216 columns</p>\n",
       "</div>"
      ],
      "text/plain": [
       "              cell_type       sm_name sm_lincs_id  \\\n",
       "350  T regulatory cells        TPCA-1    LSM-1136   \n",
       "377            NK cells     Dovitinib    LSM-1127   \n",
       "163  T regulatory cells    Tacalcitol   LSM-45518   \n",
       "609  T regulatory cells  Atorvastatin    LSM-5771   \n",
       "132        T cells CD8+       MK-5108   LSM-36812   \n",
       "..                  ...           ...         ...   \n",
       "71   T regulatory cells    Raloxifene    LSM-3425   \n",
       "106            NK cells    Dabrafenib    LSM-6303   \n",
       "270  T regulatory cells        RN-486   LSM-47132   \n",
       "435            NK cells   Doxorubicin    LSM-4062   \n",
       "102        T cells CD8+  Ricolinostat    LSM-6324   \n",
       "\n",
       "                                                SMILES  control      A1BG  \\\n",
       "350                 NC(=O)Nc1sc(-c2ccc(F)cc2)cc1C(N)=O    False  2.175274   \n",
       "377  CN1CCN(c2ccc3[nH]c(-c4c(N)c5c(F)cccc5[nH]c4=O)...    False  0.214531   \n",
       "163  C=C1/C(=C\\C=C2/CCC[C@]3(C)[C@@H]([C@H](C)CC[C@...    False  0.391257   \n",
       "609  CC(C)c1c(C(=O)Nc2ccccc2)c(-c2ccccc2)c(-c2ccc(F...    False -0.014372   \n",
       "132  O=C(O)[C@]1(Cc2cccc(Nc3nccs3)n2)CC[C@@H](Oc2cc...    False  0.094873   \n",
       "..                                                 ...      ...       ...   \n",
       "71   O=C(c1ccc(OCCN2CCCCC2)cc1)c1c(-c2ccc(O)cc2)sc2...    False  1.080779   \n",
       "106  CC(C)(C)c1nc(-c2cccc(NS(=O)(=O)c3c(F)cccc3F)c2...     True -0.161665   \n",
       "270  CN1CCN(c2ccc(Nc3cc(-c4cccc(-n5ccc6cc(C7CC7)cc(...    False -0.304126   \n",
       "435  COc1cccc2c1C(=O)c1c(O)c3c(c(O)c1C2=O)C[C@@](O)...    False  0.482294   \n",
       "102   O=C(CCCCCCNC(=O)c1cnc(N(c2ccccc2)c2ccccc2)nc1)NO    False -1.270048   \n",
       "\n",
       "     A1BG-AS1       A2M   A2M-AS1     A2MP1  ...      ZUP1      ZW10  \\\n",
       "350  1.219289  2.396227  2.885988  3.384956  ... -1.062199  1.178715   \n",
       "377 -0.115171  0.326515  0.032289  0.220971  ...  0.438939  0.216506   \n",
       "163 -0.052922  0.540292  0.718991  1.083183  ... -1.755527  0.556352   \n",
       "609 -0.122464 -0.456366 -0.147894 -0.545382  ... -0.549987 -2.200925   \n",
       "132  1.067610 -0.745980  1.083842  0.638504  ...  0.279780  0.489431   \n",
       "..        ...       ...       ...       ...  ...       ...       ...   \n",
       "71   0.226991  2.440729  2.581894  1.773980  ... -0.276043  0.768273   \n",
       "106  0.269009 -1.770091 -0.198444  0.954753  ...  0.131425 -1.112697   \n",
       "270  0.443651  0.688265 -0.101457 -0.005912  ... -0.855096 -0.499096   \n",
       "435 -1.262924 -0.545405 -0.497739 -0.750201  ...  0.444958  0.029279   \n",
       "102 -0.102076 -0.274282  0.357499 -0.756485  ...  0.307323 -1.183770   \n",
       "\n",
       "       ZWILCH     ZWINT      ZXDA      ZXDB      ZXDC    ZYG11B       ZYX  \\\n",
       "350  0.180416  0.755145  1.809688  1.644712  0.701406  0.137341  0.230949   \n",
       "377 -0.108654 -0.063070  0.006721 -0.593161 -0.044022  0.475729  0.356555   \n",
       "163  0.089976 -0.000729  0.419802  1.020842  0.367313  0.486345 -0.856723   \n",
       "609  0.359806  1.073983  0.356939 -0.029603 -0.528817  0.105138  0.491015   \n",
       "132  0.147217  0.292313  0.029266  0.330628  1.038142 -0.194884  1.078132   \n",
       "..        ...       ...       ...       ...       ...       ...       ...   \n",
       "71   1.351487  2.359651  1.470219  0.866639  0.467307  0.663700 -0.122574   \n",
       "106 -0.589313 -0.660929  0.016530  0.319136  0.299521 -0.383452  0.267828   \n",
       "270 -0.211083 -0.495621 -0.233734  1.120530 -0.109096  0.128084  0.313468   \n",
       "435  0.337660  0.025025  0.035943  0.691171  0.352091  0.046012 -0.760812   \n",
       "102 -0.541778 -0.433469 -0.310043 -0.515335  0.125768 -0.354120  0.603707   \n",
       "\n",
       "        ZZEF1  \n",
       "350  0.179458  \n",
       "377 -0.038020  \n",
       "163  0.191009  \n",
       "609 -0.979951  \n",
       "132  0.057001  \n",
       "..        ...  \n",
       "71  -0.315800  \n",
       "106 -1.100267  \n",
       "270 -0.512444  \n",
       "435 -0.168719  \n",
       "102 -0.379696  \n",
       "\n",
       "[614 rows x 18216 columns]"
      ]
     },
     "execution_count": 10,
     "metadata": {},
     "output_type": "execute_result"
    }
   ],
   "source": [
    "de_train"
   ]
  },
  {
   "cell_type": "code",
   "execution_count": 11,
   "id": "f72932d8",
   "metadata": {
    "execution": {
     "iopub.execute_input": "2023-10-14T14:47:14.160060Z",
     "iopub.status.busy": "2023-10-14T14:47:14.159332Z",
     "iopub.status.idle": "2023-10-14T14:47:14.196315Z",
     "shell.execute_reply": "2023-10-14T14:47:14.195402Z"
    },
    "papermill": {
     "duration": 0.050951,
     "end_time": "2023-10-14T14:47:14.198528",
     "exception": false,
     "start_time": "2023-10-14T14:47:14.147577",
     "status": "completed"
    },
    "tags": []
   },
   "outputs": [],
   "source": [
    "# Create features and and labels for reverse model 18211 features and 152 labels for true model\n",
    "features_columns = [\"cell_type\", \"sm_name\"]\n",
    "labels_columns=[\"cell_type\",\"sm_name\",\"sm_lincs_id\",\"SMILES\",\"control\"]\n",
    "labels = de_train.drop(columns=labels_columns)\n",
    "features = pd.DataFrame(de_train, columns=features_columns)"
   ]
  },
  {
   "cell_type": "code",
   "execution_count": 12,
   "id": "b41ba6de",
   "metadata": {
    "execution": {
     "iopub.execute_input": "2023-10-14T14:47:14.224736Z",
     "iopub.status.busy": "2023-10-14T14:47:14.224447Z",
     "iopub.status.idle": "2023-10-14T14:47:14.233871Z",
     "shell.execute_reply": "2023-10-14T14:47:14.233043Z"
    },
    "papermill": {
     "duration": 0.024817,
     "end_time": "2023-10-14T14:47:14.235593",
     "exception": false,
     "start_time": "2023-10-14T14:47:14.210776",
     "status": "completed"
    },
    "tags": []
   },
   "outputs": [
    {
     "data": {
      "text/html": [
       "<div>\n",
       "<style scoped>\n",
       "    .dataframe tbody tr th:only-of-type {\n",
       "        vertical-align: middle;\n",
       "    }\n",
       "\n",
       "    .dataframe tbody tr th {\n",
       "        vertical-align: top;\n",
       "    }\n",
       "\n",
       "    .dataframe thead th {\n",
       "        text-align: right;\n",
       "    }\n",
       "</style>\n",
       "<table border=\"1\" class=\"dataframe\">\n",
       "  <thead>\n",
       "    <tr style=\"text-align: right;\">\n",
       "      <th></th>\n",
       "      <th>cell_type</th>\n",
       "      <th>sm_name</th>\n",
       "    </tr>\n",
       "  </thead>\n",
       "  <tbody>\n",
       "    <tr>\n",
       "      <th>350</th>\n",
       "      <td>T regulatory cells</td>\n",
       "      <td>TPCA-1</td>\n",
       "    </tr>\n",
       "    <tr>\n",
       "      <th>377</th>\n",
       "      <td>NK cells</td>\n",
       "      <td>Dovitinib</td>\n",
       "    </tr>\n",
       "    <tr>\n",
       "      <th>163</th>\n",
       "      <td>T regulatory cells</td>\n",
       "      <td>Tacalcitol</td>\n",
       "    </tr>\n",
       "    <tr>\n",
       "      <th>609</th>\n",
       "      <td>T regulatory cells</td>\n",
       "      <td>Atorvastatin</td>\n",
       "    </tr>\n",
       "    <tr>\n",
       "      <th>132</th>\n",
       "      <td>T cells CD8+</td>\n",
       "      <td>MK-5108</td>\n",
       "    </tr>\n",
       "    <tr>\n",
       "      <th>...</th>\n",
       "      <td>...</td>\n",
       "      <td>...</td>\n",
       "    </tr>\n",
       "    <tr>\n",
       "      <th>71</th>\n",
       "      <td>T regulatory cells</td>\n",
       "      <td>Raloxifene</td>\n",
       "    </tr>\n",
       "    <tr>\n",
       "      <th>106</th>\n",
       "      <td>NK cells</td>\n",
       "      <td>Dabrafenib</td>\n",
       "    </tr>\n",
       "    <tr>\n",
       "      <th>270</th>\n",
       "      <td>T regulatory cells</td>\n",
       "      <td>RN-486</td>\n",
       "    </tr>\n",
       "    <tr>\n",
       "      <th>435</th>\n",
       "      <td>NK cells</td>\n",
       "      <td>Doxorubicin</td>\n",
       "    </tr>\n",
       "    <tr>\n",
       "      <th>102</th>\n",
       "      <td>T cells CD8+</td>\n",
       "      <td>Ricolinostat</td>\n",
       "    </tr>\n",
       "  </tbody>\n",
       "</table>\n",
       "<p>614 rows × 2 columns</p>\n",
       "</div>"
      ],
      "text/plain": [
       "              cell_type       sm_name\n",
       "350  T regulatory cells        TPCA-1\n",
       "377            NK cells     Dovitinib\n",
       "163  T regulatory cells    Tacalcitol\n",
       "609  T regulatory cells  Atorvastatin\n",
       "132        T cells CD8+       MK-5108\n",
       "..                  ...           ...\n",
       "71   T regulatory cells    Raloxifene\n",
       "106            NK cells    Dabrafenib\n",
       "270  T regulatory cells        RN-486\n",
       "435            NK cells   Doxorubicin\n",
       "102        T cells CD8+  Ricolinostat\n",
       "\n",
       "[614 rows x 2 columns]"
      ]
     },
     "execution_count": 12,
     "metadata": {},
     "output_type": "execute_result"
    }
   ],
   "source": [
    "features"
   ]
  },
  {
   "cell_type": "code",
   "execution_count": 13,
   "id": "ad77b084",
   "metadata": {
    "execution": {
     "iopub.execute_input": "2023-10-14T14:47:14.259030Z",
     "iopub.status.busy": "2023-10-14T14:47:14.258397Z",
     "iopub.status.idle": "2023-10-14T14:47:14.282184Z",
     "shell.execute_reply": "2023-10-14T14:47:14.281189Z"
    },
    "papermill": {
     "duration": 0.037193,
     "end_time": "2023-10-14T14:47:14.283867",
     "exception": false,
     "start_time": "2023-10-14T14:47:14.246674",
     "status": "completed"
    },
    "tags": []
   },
   "outputs": [
    {
     "data": {
      "text/html": [
       "<div>\n",
       "<style scoped>\n",
       "    .dataframe tbody tr th:only-of-type {\n",
       "        vertical-align: middle;\n",
       "    }\n",
       "\n",
       "    .dataframe tbody tr th {\n",
       "        vertical-align: top;\n",
       "    }\n",
       "\n",
       "    .dataframe thead th {\n",
       "        text-align: right;\n",
       "    }\n",
       "</style>\n",
       "<table border=\"1\" class=\"dataframe\">\n",
       "  <thead>\n",
       "    <tr style=\"text-align: right;\">\n",
       "      <th></th>\n",
       "      <th>A1BG</th>\n",
       "      <th>A1BG-AS1</th>\n",
       "      <th>A2M</th>\n",
       "      <th>A2M-AS1</th>\n",
       "      <th>A2MP1</th>\n",
       "      <th>A4GALT</th>\n",
       "      <th>AAAS</th>\n",
       "      <th>AACS</th>\n",
       "      <th>AAGAB</th>\n",
       "      <th>AAK1</th>\n",
       "      <th>...</th>\n",
       "      <th>ZUP1</th>\n",
       "      <th>ZW10</th>\n",
       "      <th>ZWILCH</th>\n",
       "      <th>ZWINT</th>\n",
       "      <th>ZXDA</th>\n",
       "      <th>ZXDB</th>\n",
       "      <th>ZXDC</th>\n",
       "      <th>ZYG11B</th>\n",
       "      <th>ZYX</th>\n",
       "      <th>ZZEF1</th>\n",
       "    </tr>\n",
       "  </thead>\n",
       "  <tbody>\n",
       "    <tr>\n",
       "      <th>350</th>\n",
       "      <td>2.175274</td>\n",
       "      <td>1.219289</td>\n",
       "      <td>2.396227</td>\n",
       "      <td>2.885988</td>\n",
       "      <td>3.384956</td>\n",
       "      <td>3.267348</td>\n",
       "      <td>0.134622</td>\n",
       "      <td>1.829941</td>\n",
       "      <td>-0.956191</td>\n",
       "      <td>-0.404039</td>\n",
       "      <td>...</td>\n",
       "      <td>-1.062199</td>\n",
       "      <td>1.178715</td>\n",
       "      <td>0.180416</td>\n",
       "      <td>0.755145</td>\n",
       "      <td>1.809688</td>\n",
       "      <td>1.644712</td>\n",
       "      <td>0.701406</td>\n",
       "      <td>0.137341</td>\n",
       "      <td>0.230949</td>\n",
       "      <td>0.179458</td>\n",
       "    </tr>\n",
       "    <tr>\n",
       "      <th>377</th>\n",
       "      <td>0.214531</td>\n",
       "      <td>-0.115171</td>\n",
       "      <td>0.326515</td>\n",
       "      <td>0.032289</td>\n",
       "      <td>0.220971</td>\n",
       "      <td>-0.463554</td>\n",
       "      <td>1.016849</td>\n",
       "      <td>0.153039</td>\n",
       "      <td>0.292684</td>\n",
       "      <td>0.038020</td>\n",
       "      <td>...</td>\n",
       "      <td>0.438939</td>\n",
       "      <td>0.216506</td>\n",
       "      <td>-0.108654</td>\n",
       "      <td>-0.063070</td>\n",
       "      <td>0.006721</td>\n",
       "      <td>-0.593161</td>\n",
       "      <td>-0.044022</td>\n",
       "      <td>0.475729</td>\n",
       "      <td>0.356555</td>\n",
       "      <td>-0.038020</td>\n",
       "    </tr>\n",
       "    <tr>\n",
       "      <th>163</th>\n",
       "      <td>0.391257</td>\n",
       "      <td>-0.052922</td>\n",
       "      <td>0.540292</td>\n",
       "      <td>0.718991</td>\n",
       "      <td>1.083183</td>\n",
       "      <td>1.021599</td>\n",
       "      <td>-0.097250</td>\n",
       "      <td>0.306833</td>\n",
       "      <td>-3.331719</td>\n",
       "      <td>0.235092</td>\n",
       "      <td>...</td>\n",
       "      <td>-1.755527</td>\n",
       "      <td>0.556352</td>\n",
       "      <td>0.089976</td>\n",
       "      <td>-0.000729</td>\n",
       "      <td>0.419802</td>\n",
       "      <td>1.020842</td>\n",
       "      <td>0.367313</td>\n",
       "      <td>0.486345</td>\n",
       "      <td>-0.856723</td>\n",
       "      <td>0.191009</td>\n",
       "    </tr>\n",
       "    <tr>\n",
       "      <th>609</th>\n",
       "      <td>-0.014372</td>\n",
       "      <td>-0.122464</td>\n",
       "      <td>-0.456366</td>\n",
       "      <td>-0.147894</td>\n",
       "      <td>-0.545382</td>\n",
       "      <td>-0.544709</td>\n",
       "      <td>0.282458</td>\n",
       "      <td>-0.431359</td>\n",
       "      <td>-0.364961</td>\n",
       "      <td>0.043123</td>\n",
       "      <td>...</td>\n",
       "      <td>-0.549987</td>\n",
       "      <td>-2.200925</td>\n",
       "      <td>0.359806</td>\n",
       "      <td>1.073983</td>\n",
       "      <td>0.356939</td>\n",
       "      <td>-0.029603</td>\n",
       "      <td>-0.528817</td>\n",
       "      <td>0.105138</td>\n",
       "      <td>0.491015</td>\n",
       "      <td>-0.979951</td>\n",
       "    </tr>\n",
       "    <tr>\n",
       "      <th>132</th>\n",
       "      <td>0.094873</td>\n",
       "      <td>1.067610</td>\n",
       "      <td>-0.745980</td>\n",
       "      <td>1.083842</td>\n",
       "      <td>0.638504</td>\n",
       "      <td>0.307649</td>\n",
       "      <td>-0.038108</td>\n",
       "      <td>0.772186</td>\n",
       "      <td>-0.736735</td>\n",
       "      <td>-0.462323</td>\n",
       "      <td>...</td>\n",
       "      <td>0.279780</td>\n",
       "      <td>0.489431</td>\n",
       "      <td>0.147217</td>\n",
       "      <td>0.292313</td>\n",
       "      <td>0.029266</td>\n",
       "      <td>0.330628</td>\n",
       "      <td>1.038142</td>\n",
       "      <td>-0.194884</td>\n",
       "      <td>1.078132</td>\n",
       "      <td>0.057001</td>\n",
       "    </tr>\n",
       "    <tr>\n",
       "      <th>...</th>\n",
       "      <td>...</td>\n",
       "      <td>...</td>\n",
       "      <td>...</td>\n",
       "      <td>...</td>\n",
       "      <td>...</td>\n",
       "      <td>...</td>\n",
       "      <td>...</td>\n",
       "      <td>...</td>\n",
       "      <td>...</td>\n",
       "      <td>...</td>\n",
       "      <td>...</td>\n",
       "      <td>...</td>\n",
       "      <td>...</td>\n",
       "      <td>...</td>\n",
       "      <td>...</td>\n",
       "      <td>...</td>\n",
       "      <td>...</td>\n",
       "      <td>...</td>\n",
       "      <td>...</td>\n",
       "      <td>...</td>\n",
       "      <td>...</td>\n",
       "    </tr>\n",
       "    <tr>\n",
       "      <th>71</th>\n",
       "      <td>1.080779</td>\n",
       "      <td>0.226991</td>\n",
       "      <td>2.440729</td>\n",
       "      <td>2.581894</td>\n",
       "      <td>1.773980</td>\n",
       "      <td>1.989227</td>\n",
       "      <td>-0.074095</td>\n",
       "      <td>0.906555</td>\n",
       "      <td>2.214564</td>\n",
       "      <td>-0.182784</td>\n",
       "      <td>...</td>\n",
       "      <td>-0.276043</td>\n",
       "      <td>0.768273</td>\n",
       "      <td>1.351487</td>\n",
       "      <td>2.359651</td>\n",
       "      <td>1.470219</td>\n",
       "      <td>0.866639</td>\n",
       "      <td>0.467307</td>\n",
       "      <td>0.663700</td>\n",
       "      <td>-0.122574</td>\n",
       "      <td>-0.315800</td>\n",
       "    </tr>\n",
       "    <tr>\n",
       "      <th>106</th>\n",
       "      <td>-0.161665</td>\n",
       "      <td>0.269009</td>\n",
       "      <td>-1.770091</td>\n",
       "      <td>-0.198444</td>\n",
       "      <td>0.954753</td>\n",
       "      <td>1.155912</td>\n",
       "      <td>-0.312552</td>\n",
       "      <td>0.621897</td>\n",
       "      <td>-0.154055</td>\n",
       "      <td>0.331780</td>\n",
       "      <td>...</td>\n",
       "      <td>0.131425</td>\n",
       "      <td>-1.112697</td>\n",
       "      <td>-0.589313</td>\n",
       "      <td>-0.660929</td>\n",
       "      <td>0.016530</td>\n",
       "      <td>0.319136</td>\n",
       "      <td>0.299521</td>\n",
       "      <td>-0.383452</td>\n",
       "      <td>0.267828</td>\n",
       "      <td>-1.100267</td>\n",
       "    </tr>\n",
       "    <tr>\n",
       "      <th>270</th>\n",
       "      <td>-0.304126</td>\n",
       "      <td>0.443651</td>\n",
       "      <td>0.688265</td>\n",
       "      <td>-0.101457</td>\n",
       "      <td>-0.005912</td>\n",
       "      <td>-0.004914</td>\n",
       "      <td>-0.247434</td>\n",
       "      <td>0.281614</td>\n",
       "      <td>-0.915735</td>\n",
       "      <td>-0.032908</td>\n",
       "      <td>...</td>\n",
       "      <td>-0.855096</td>\n",
       "      <td>-0.499096</td>\n",
       "      <td>-0.211083</td>\n",
       "      <td>-0.495621</td>\n",
       "      <td>-0.233734</td>\n",
       "      <td>1.120530</td>\n",
       "      <td>-0.109096</td>\n",
       "      <td>0.128084</td>\n",
       "      <td>0.313468</td>\n",
       "      <td>-0.512444</td>\n",
       "    </tr>\n",
       "    <tr>\n",
       "      <th>435</th>\n",
       "      <td>0.482294</td>\n",
       "      <td>-1.262924</td>\n",
       "      <td>-0.545405</td>\n",
       "      <td>-0.497739</td>\n",
       "      <td>-0.750201</td>\n",
       "      <td>0.959704</td>\n",
       "      <td>0.527966</td>\n",
       "      <td>1.198200</td>\n",
       "      <td>-0.482740</td>\n",
       "      <td>0.635863</td>\n",
       "      <td>...</td>\n",
       "      <td>0.444958</td>\n",
       "      <td>0.029279</td>\n",
       "      <td>0.337660</td>\n",
       "      <td>0.025025</td>\n",
       "      <td>0.035943</td>\n",
       "      <td>0.691171</td>\n",
       "      <td>0.352091</td>\n",
       "      <td>0.046012</td>\n",
       "      <td>-0.760812</td>\n",
       "      <td>-0.168719</td>\n",
       "    </tr>\n",
       "    <tr>\n",
       "      <th>102</th>\n",
       "      <td>-1.270048</td>\n",
       "      <td>-0.102076</td>\n",
       "      <td>-0.274282</td>\n",
       "      <td>0.357499</td>\n",
       "      <td>-0.756485</td>\n",
       "      <td>-0.668128</td>\n",
       "      <td>-0.157495</td>\n",
       "      <td>-0.001625</td>\n",
       "      <td>-1.435762</td>\n",
       "      <td>0.150410</td>\n",
       "      <td>...</td>\n",
       "      <td>0.307323</td>\n",
       "      <td>-1.183770</td>\n",
       "      <td>-0.541778</td>\n",
       "      <td>-0.433469</td>\n",
       "      <td>-0.310043</td>\n",
       "      <td>-0.515335</td>\n",
       "      <td>0.125768</td>\n",
       "      <td>-0.354120</td>\n",
       "      <td>0.603707</td>\n",
       "      <td>-0.379696</td>\n",
       "    </tr>\n",
       "  </tbody>\n",
       "</table>\n",
       "<p>614 rows × 18211 columns</p>\n",
       "</div>"
      ],
      "text/plain": [
       "         A1BG  A1BG-AS1       A2M   A2M-AS1     A2MP1    A4GALT      AAAS  \\\n",
       "350  2.175274  1.219289  2.396227  2.885988  3.384956  3.267348  0.134622   \n",
       "377  0.214531 -0.115171  0.326515  0.032289  0.220971 -0.463554  1.016849   \n",
       "163  0.391257 -0.052922  0.540292  0.718991  1.083183  1.021599 -0.097250   \n",
       "609 -0.014372 -0.122464 -0.456366 -0.147894 -0.545382 -0.544709  0.282458   \n",
       "132  0.094873  1.067610 -0.745980  1.083842  0.638504  0.307649 -0.038108   \n",
       "..        ...       ...       ...       ...       ...       ...       ...   \n",
       "71   1.080779  0.226991  2.440729  2.581894  1.773980  1.989227 -0.074095   \n",
       "106 -0.161665  0.269009 -1.770091 -0.198444  0.954753  1.155912 -0.312552   \n",
       "270 -0.304126  0.443651  0.688265 -0.101457 -0.005912 -0.004914 -0.247434   \n",
       "435  0.482294 -1.262924 -0.545405 -0.497739 -0.750201  0.959704  0.527966   \n",
       "102 -1.270048 -0.102076 -0.274282  0.357499 -0.756485 -0.668128 -0.157495   \n",
       "\n",
       "         AACS     AAGAB      AAK1  ...      ZUP1      ZW10    ZWILCH  \\\n",
       "350  1.829941 -0.956191 -0.404039  ... -1.062199  1.178715  0.180416   \n",
       "377  0.153039  0.292684  0.038020  ...  0.438939  0.216506 -0.108654   \n",
       "163  0.306833 -3.331719  0.235092  ... -1.755527  0.556352  0.089976   \n",
       "609 -0.431359 -0.364961  0.043123  ... -0.549987 -2.200925  0.359806   \n",
       "132  0.772186 -0.736735 -0.462323  ...  0.279780  0.489431  0.147217   \n",
       "..        ...       ...       ...  ...       ...       ...       ...   \n",
       "71   0.906555  2.214564 -0.182784  ... -0.276043  0.768273  1.351487   \n",
       "106  0.621897 -0.154055  0.331780  ...  0.131425 -1.112697 -0.589313   \n",
       "270  0.281614 -0.915735 -0.032908  ... -0.855096 -0.499096 -0.211083   \n",
       "435  1.198200 -0.482740  0.635863  ...  0.444958  0.029279  0.337660   \n",
       "102 -0.001625 -1.435762  0.150410  ...  0.307323 -1.183770 -0.541778   \n",
       "\n",
       "        ZWINT      ZXDA      ZXDB      ZXDC    ZYG11B       ZYX     ZZEF1  \n",
       "350  0.755145  1.809688  1.644712  0.701406  0.137341  0.230949  0.179458  \n",
       "377 -0.063070  0.006721 -0.593161 -0.044022  0.475729  0.356555 -0.038020  \n",
       "163 -0.000729  0.419802  1.020842  0.367313  0.486345 -0.856723  0.191009  \n",
       "609  1.073983  0.356939 -0.029603 -0.528817  0.105138  0.491015 -0.979951  \n",
       "132  0.292313  0.029266  0.330628  1.038142 -0.194884  1.078132  0.057001  \n",
       "..        ...       ...       ...       ...       ...       ...       ...  \n",
       "71   2.359651  1.470219  0.866639  0.467307  0.663700 -0.122574 -0.315800  \n",
       "106 -0.660929  0.016530  0.319136  0.299521 -0.383452  0.267828 -1.100267  \n",
       "270 -0.495621 -0.233734  1.120530 -0.109096  0.128084  0.313468 -0.512444  \n",
       "435  0.025025  0.035943  0.691171  0.352091  0.046012 -0.760812 -0.168719  \n",
       "102 -0.433469 -0.310043 -0.515335  0.125768 -0.354120  0.603707 -0.379696  \n",
       "\n",
       "[614 rows x 18211 columns]"
      ]
     },
     "execution_count": 13,
     "metadata": {},
     "output_type": "execute_result"
    }
   ],
   "source": [
    "labels"
   ]
  },
  {
   "cell_type": "code",
   "execution_count": 14,
   "id": "f8c77465",
   "metadata": {
    "execution": {
     "iopub.execute_input": "2023-10-14T14:47:14.308842Z",
     "iopub.status.busy": "2023-10-14T14:47:14.308053Z",
     "iopub.status.idle": "2023-10-14T14:47:14.312803Z",
     "shell.execute_reply": "2023-10-14T14:47:14.311990Z"
    },
    "papermill": {
     "duration": 0.018937,
     "end_time": "2023-10-14T14:47:14.314590",
     "exception": false,
     "start_time": "2023-10-14T14:47:14.295653",
     "status": "completed"
    },
    "tags": []
   },
   "outputs": [],
   "source": [
    "# Get test data \n",
    "test_data = pd.DataFrame(id_map, columns=features_columns)"
   ]
  },
  {
   "cell_type": "markdown",
   "id": "e526c950",
   "metadata": {
    "papermill": {
     "duration": 0.011082,
     "end_time": "2023-10-14T14:47:14.337407",
     "exception": false,
     "start_time": "2023-10-14T14:47:14.326325",
     "status": "completed"
    },
    "tags": []
   },
   "source": [
    "# Process categorical data\n",
    "We'll use OneHotEncode for categorical data"
   ]
  },
  {
   "cell_type": "code",
   "execution_count": 15,
   "id": "d50c19bb",
   "metadata": {
    "execution": {
     "iopub.execute_input": "2023-10-14T14:47:14.361682Z",
     "iopub.status.busy": "2023-10-14T14:47:14.360957Z",
     "iopub.status.idle": "2023-10-14T14:47:14.911934Z",
     "shell.execute_reply": "2023-10-14T14:47:14.910938Z"
    },
    "papermill": {
     "duration": 0.565202,
     "end_time": "2023-10-14T14:47:14.914025",
     "exception": false,
     "start_time": "2023-10-14T14:47:14.348823",
     "status": "completed"
    },
    "tags": []
   },
   "outputs": [],
   "source": [
    "from sklearn.preprocessing import OneHotEncoder\n",
    "\n",
    "# Create an instance of the encoder\n",
    "encoder = OneHotEncoder()\n",
    "\n",
    "# Fit the encoder on features\n",
    "encoder.fit(features)\n",
    "\n",
    "# Transform the features into one-hot encoded format\n",
    "one_hot_encode_features = encoder.transform(features)\n",
    "\n",
    "# Transform the test data(id_map)\n",
    "one_hot_test = encoder.transform(test_data)"
   ]
  },
  {
   "cell_type": "code",
   "execution_count": 16,
   "id": "f51375d3",
   "metadata": {
    "execution": {
     "iopub.execute_input": "2023-10-14T14:47:14.940507Z",
     "iopub.status.busy": "2023-10-14T14:47:14.939708Z",
     "iopub.status.idle": "2023-10-14T14:47:14.948379Z",
     "shell.execute_reply": "2023-10-14T14:47:14.947475Z"
    },
    "papermill": {
     "duration": 0.02357,
     "end_time": "2023-10-14T14:47:14.950041",
     "exception": false,
     "start_time": "2023-10-14T14:47:14.926471",
     "status": "completed"
    },
    "tags": []
   },
   "outputs": [
    {
     "data": {
      "text/plain": [
       "((614, 152), (255, 152))"
      ]
     },
     "execution_count": 16,
     "metadata": {},
     "output_type": "execute_result"
    }
   ],
   "source": [
    "# check shape\n",
    "one_hot_encode_features.toarray().shape, one_hot_test.toarray().shape"
   ]
  },
  {
   "cell_type": "code",
   "execution_count": 17,
   "id": "4f97b68e",
   "metadata": {
    "execution": {
     "iopub.execute_input": "2023-10-14T14:47:14.974614Z",
     "iopub.status.busy": "2023-10-14T14:47:14.973715Z",
     "iopub.status.idle": "2023-10-14T14:47:14.980761Z",
     "shell.execute_reply": "2023-10-14T14:47:14.979838Z"
    },
    "papermill": {
     "duration": 0.02102,
     "end_time": "2023-10-14T14:47:14.982516",
     "exception": false,
     "start_time": "2023-10-14T14:47:14.961496",
     "status": "completed"
    },
    "tags": []
   },
   "outputs": [
    {
     "data": {
      "text/plain": [
       "array([0., 0., 0., 0., 0., 1., 0., 0., 0., 0., 0., 0., 0., 0., 0., 0., 0.,\n",
       "       0., 0., 0., 0., 0., 0., 0., 0., 0., 0., 0., 0., 0., 0., 0., 0., 0.,\n",
       "       0., 0., 0., 0., 0., 0., 0., 0., 0., 0., 0., 0., 0., 0., 0., 0., 0.,\n",
       "       0., 0., 0., 0., 0., 0., 0., 0., 0., 0., 0., 0., 0., 0., 0., 0., 0.,\n",
       "       0., 0., 0., 0., 0., 0., 0., 0., 0., 0., 0., 0., 0., 0., 0., 0., 0.,\n",
       "       0., 0., 0., 0., 0., 0., 0., 0., 0., 0., 0., 0., 0., 0., 0., 0., 0.,\n",
       "       0., 0., 0., 0., 0., 0., 0., 0., 0., 0., 0., 0., 0., 0., 0., 0., 0.,\n",
       "       0., 0., 0., 0., 0., 0., 0., 0., 0., 0., 0., 0., 0., 0., 0., 0., 0.,\n",
       "       1., 0., 0., 0., 0., 0., 0., 0., 0., 0., 0., 0., 0., 0., 0., 0.])"
      ]
     },
     "execution_count": 17,
     "metadata": {},
     "output_type": "execute_result"
    }
   ],
   "source": [
    "# check one sample\n",
    "one_hot_encode_features.toarray()[0]"
   ]
  },
  {
   "cell_type": "markdown",
   "id": "fe2d1150",
   "metadata": {
    "papermill": {
     "duration": 0.011547,
     "end_time": "2023-10-14T14:47:15.005769",
     "exception": false,
     "start_time": "2023-10-14T14:47:14.994222",
     "status": "completed"
    },
    "tags": []
   },
   "source": [
    "# Split Data into training, validation and test sets "
   ]
  },
  {
   "cell_type": "code",
   "execution_count": 18,
   "id": "0025eb40",
   "metadata": {
    "execution": {
     "iopub.execute_input": "2023-10-14T14:47:15.030469Z",
     "iopub.status.busy": "2023-10-14T14:47:15.029570Z",
     "iopub.status.idle": "2023-10-14T14:47:15.189756Z",
     "shell.execute_reply": "2023-10-14T14:47:15.188697Z"
    },
    "papermill": {
     "duration": 0.174863,
     "end_time": "2023-10-14T14:47:15.191989",
     "exception": false,
     "start_time": "2023-10-14T14:47:15.017126",
     "status": "completed"
    },
    "tags": []
   },
   "outputs": [],
   "source": [
    "from sklearn.model_selection import train_test_split\n",
    "\n",
    "# Split the data into 70% training, 15% validation, and 15% testing\n",
    "X_train, X_temp, y_train, y_temp = train_test_split(one_hot_encode_features, labels.values, test_size=0.3, shuffle=False)\n",
    "X_val, X_test, y_val, y_test = train_test_split(X_temp, y_temp, test_size=0.5, shuffle=False)"
   ]
  },
  {
   "cell_type": "code",
   "execution_count": 19,
   "id": "ab35bac0",
   "metadata": {
    "execution": {
     "iopub.execute_input": "2023-10-14T14:47:15.217842Z",
     "iopub.status.busy": "2023-10-14T14:47:15.217007Z",
     "iopub.status.idle": "2023-10-14T14:47:15.222880Z",
     "shell.execute_reply": "2023-10-14T14:47:15.221714Z"
    },
    "papermill": {
     "duration": 0.019967,
     "end_time": "2023-10-14T14:47:15.224559",
     "exception": false,
     "start_time": "2023-10-14T14:47:15.204592",
     "status": "completed"
    },
    "tags": []
   },
   "outputs": [
    {
     "name": "stdout",
     "output_type": "stream",
     "text": [
      "X_train shape: (429, 152)\n",
      "X_val shape: (92, 152)\n",
      "X_test shape: (93, 152)\n",
      "y_train shape: (429, 18211)\n",
      "y_val shape: (92, 18211)\n",
      "y_test shape: (93, 18211)\n"
     ]
    }
   ],
   "source": [
    "# Printing the shapes of the data splits\n",
    "print(\"X_train shape:\", X_train.shape)\n",
    "print(\"X_val shape:\", X_val.shape)\n",
    "print(\"X_test shape:\", X_test.shape)\n",
    "print(\"y_train shape:\", y_train.shape)\n",
    "print(\"y_val shape:\", y_val.shape)\n",
    "print(\"y_test shape:\", y_test.shape)"
   ]
  },
  {
   "cell_type": "code",
   "execution_count": 20,
   "id": "e851b5b6",
   "metadata": {
    "execution": {
     "iopub.execute_input": "2023-10-14T14:47:15.249012Z",
     "iopub.status.busy": "2023-10-14T14:47:15.248291Z",
     "iopub.status.idle": "2023-10-14T14:47:15.252964Z",
     "shell.execute_reply": "2023-10-14T14:47:15.252190Z"
    },
    "papermill": {
     "duration": 0.018746,
     "end_time": "2023-10-14T14:47:15.254644",
     "exception": false,
     "start_time": "2023-10-14T14:47:15.235898",
     "status": "completed"
    },
    "tags": []
   },
   "outputs": [],
   "source": [
    "# We also get full features for final training \n",
    "full_features = one_hot_encode_features.toarray()\n",
    "full_labels = labels.values"
   ]
  },
  {
   "cell_type": "code",
   "execution_count": 21,
   "id": "fadca79d",
   "metadata": {
    "execution": {
     "iopub.execute_input": "2023-10-14T14:47:15.279405Z",
     "iopub.status.busy": "2023-10-14T14:47:15.278532Z",
     "iopub.status.idle": "2023-10-14T14:47:15.283792Z",
     "shell.execute_reply": "2023-10-14T14:47:15.282541Z"
    },
    "papermill": {
     "duration": 0.019238,
     "end_time": "2023-10-14T14:47:15.285473",
     "exception": false,
     "start_time": "2023-10-14T14:47:15.266235",
     "status": "completed"
    },
    "tags": []
   },
   "outputs": [
    {
     "name": "stdout",
     "output_type": "stream",
     "text": [
      "full_features shape: (614, 152)\n",
      "full_labels shape: (614, 18211)\n"
     ]
    }
   ],
   "source": [
    "print(\"full_features shape:\", full_features.shape)\n",
    "print(\"full_labels shape:\", full_labels.shape)"
   ]
  },
  {
   "cell_type": "markdown",
   "id": "70bc7fd6",
   "metadata": {
    "papermill": {
     "duration": 0.011355,
     "end_time": "2023-10-14T14:47:15.308251",
     "exception": false,
     "start_time": "2023-10-14T14:47:15.296896",
     "status": "completed"
    },
    "tags": []
   },
   "source": [
    "# Auxillary functions "
   ]
  },
  {
   "cell_type": "code",
   "execution_count": 22,
   "id": "66b51746",
   "metadata": {
    "execution": {
     "iopub.execute_input": "2023-10-14T14:47:15.332984Z",
     "iopub.status.busy": "2023-10-14T14:47:15.332458Z",
     "iopub.status.idle": "2023-10-14T14:47:15.338930Z",
     "shell.execute_reply": "2023-10-14T14:47:15.338165Z"
    },
    "papermill": {
     "duration": 0.020679,
     "end_time": "2023-10-14T14:47:15.340603",
     "exception": false,
     "start_time": "2023-10-14T14:47:15.319924",
     "status": "completed"
    },
    "tags": []
   },
   "outputs": [],
   "source": [
    "from tensorflow.keras.callbacks import ModelCheckpoint\n",
    "\n",
    "def create_model_checkpoint(filepath, monitor='val_mae', save_best_only=True,\n",
    "                            save_weights_only=True, mode='auto', verbose=0):\n",
    "    \"\"\"\n",
    "    Create a ModelCheckpoint callback for saving the best model weights during training.\n",
    "\n",
    "    Args:\n",
    "        filepath (str): Filepath to save the best weights.\n",
    "        monitor (str): Metric to monitor (e.g., 'val_loss' or 'val_mae').\n",
    "        save_best_only (bool): Save only the best weights.\n",
    "        save_weights_only (bool): Save only the model's weights, not the entire model.\n",
    "        mode (str): One of {'auto', 'min', 'max'}. In 'min' mode, it saves when the monitored metric decreases.\n",
    "        verbose (int): Verbosity mode. 0 = silent, 1 = progress bar, 2 = one line per epoch.\n",
    "\n",
    "    Returns:\n",
    "\n",
    "        keras.callbacks.ModelCheckpoint: ModelCheckpoint callback.\n",
    "    \"\"\"\n",
    "    checkpoint = ModelCheckpoint(\n",
    "        filepath=filepath,\n",
    "        monitor=monitor,\n",
    "        save_best_only=save_best_only,\n",
    "        save_weights_only=save_weights_only,\n",
    "        mode=mode,\n",
    "        verbose=verbose\n",
    "    )\n",
    "    return checkpoint"
   ]
  },
  {
   "cell_type": "code",
   "execution_count": 23,
   "id": "d48aa5ff",
   "metadata": {
    "execution": {
     "iopub.execute_input": "2023-10-14T14:47:15.365160Z",
     "iopub.status.busy": "2023-10-14T14:47:15.364895Z",
     "iopub.status.idle": "2023-10-14T14:47:15.371727Z",
     "shell.execute_reply": "2023-10-14T14:47:15.370797Z"
    },
    "papermill": {
     "duration": 0.021271,
     "end_time": "2023-10-14T14:47:15.373555",
     "exception": false,
     "start_time": "2023-10-14T14:47:15.352284",
     "status": "completed"
    },
    "tags": []
   },
   "outputs": [],
   "source": [
    "def plot_training_history(history, metrics):\n",
    "    \"\"\"\n",
    "    Plot training history curves for loss and evaluation metrics on the same line.\n",
    "\n",
    "    Args:\n",
    "        history (keras.callbacks.History): Training history object.\n",
    "        metrics (list): List of metric names to plot.\n",
    "\n",
    "    Returns:\n",
    "        None\n",
    "    \"\"\"\n",
    "    loss = history.history['loss']\n",
    "    val_loss = history.history['val_loss']\n",
    "\n",
    "    epochs = range(len(loss))\n",
    "\n",
    "    plt.figure(figsize=(12, 6))\n",
    "\n",
    "    # Plot loss\n",
    "    plt.subplot(1, 2, 1)\n",
    "    plt.plot(epochs, loss, label='Training Loss', color=\"blue\")\n",
    "    plt.plot(epochs, val_loss, label='Validation Loss', color=\"red\")\n",
    "    plt.title('Loss')\n",
    "    plt.xlabel('Epochs')\n",
    "    plt.legend()\n",
    "\n",
    "    # Plot specified evaluation metrics on the same line\n",
    "    for metric in metrics:\n",
    "        train_metric_name = f'Training {metric.capitalize()}'\n",
    "        val_metric_name = f'Validation {metric.capitalize()}'\n",
    "        train_metric = history.history[metric]\n",
    "        val_metric = history.history['val_' + metric]\n",
    "\n",
    "        plt.subplot(1, 2, 2)\n",
    "        plt.plot(epochs, train_metric, label=train_metric_name, color=\"green\")\n",
    "        plt.plot(epochs, val_metric, label=val_metric_name, color=\"orange\")\n",
    "\n",
    "    plt.title('Metrics')\n",
    "    plt.xlabel('Epochs')\n",
    "    plt.legend(loc='upper right')\n",
    "\n",
    "    plt.tight_layout()\n",
    "    plt.show()\n"
   ]
  },
  {
   "cell_type": "code",
   "execution_count": 24,
   "id": "ada83989",
   "metadata": {
    "execution": {
     "iopub.execute_input": "2023-10-14T14:47:15.398181Z",
     "iopub.status.busy": "2023-10-14T14:47:15.397420Z",
     "iopub.status.idle": "2023-10-14T14:47:15.403222Z",
     "shell.execute_reply": "2023-10-14T14:47:15.402427Z"
    },
    "papermill": {
     "duration": 0.019908,
     "end_time": "2023-10-14T14:47:15.404845",
     "exception": false,
     "start_time": "2023-10-14T14:47:15.384937",
     "status": "completed"
    },
    "tags": []
   },
   "outputs": [],
   "source": [
    "from sklearn.metrics import mean_absolute_error\n",
    "\n",
    "def calculate_mae_and_mrrmse(model, data, y_true):\n",
    "    \"\"\"\n",
    "    Calculate Mean Absolute Error (MAE) and Mean Rowwise Root Mean Squared Error (MRRMSE).\n",
    "\n",
    "    Parameters:\n",
    "    - model: The trained  model.\n",
    "    - data: The input data for prediction.\n",
    "    - y_true: The true target values.\n",
    "    - scaler: The scaler used for data normalization.\n",
    "\n",
    "    Returns:\n",
    "    - None\n",
    "    \"\"\"\n",
    "    # Predict using the model\n",
    "    y_pred_original = model.predict(data, batch_size=1)\n",
    "    \n",
    "    # Calculate Mean Absolute Error (MAE)\n",
    "    mae = mean_absolute_error(y_true , y_pred_original)\n",
    "    \n",
    "    # Calculate Mean Rowwise Root Mean Squared Error (MRRMSE)\n",
    "    rowwise_rmse = np.sqrt(np.mean(np.square(y_true - y_pred_original), axis=1))\n",
    "    mrrmse_score = np.mean(rowwise_rmse)\n",
    "    \n",
    "    # Print the results\n",
    "    print(f\"Mean Absolute Error (MAE): {mae}\")\n",
    "    print(f\"Mean Rowwise Root Mean Squared Error (MRRMSE): {mrrmse_score}\")"
   ]
  },
  {
   "cell_type": "code",
   "execution_count": 25,
   "id": "b9fb5373",
   "metadata": {
    "execution": {
     "iopub.execute_input": "2023-10-14T14:47:15.429438Z",
     "iopub.status.busy": "2023-10-14T14:47:15.428737Z",
     "iopub.status.idle": "2023-10-14T14:47:15.433818Z",
     "shell.execute_reply": "2023-10-14T14:47:15.433021Z"
    },
    "papermill": {
     "duration": 0.019281,
     "end_time": "2023-10-14T14:47:15.435554",
     "exception": false,
     "start_time": "2023-10-14T14:47:15.416273",
     "status": "completed"
    },
    "tags": []
   },
   "outputs": [],
   "source": [
    "def mean_rowwise_rmse_loss(y_true, y_pred):\n",
    "    \"\"\"\n",
    "    Custom loss function to calculate the Mean Rowwise Root Mean Squared Error (RMSE) loss.\n",
    "\n",
    "    Parameters:\n",
    "    - y_true: The true target values.\n",
    "    - y_pred: The predicted values.\n",
    "\n",
    "    Returns:\n",
    "    - Mean Rowwise RMSE loss as a scalar tensor.\n",
    "    \"\"\"\n",
    "    # Calculate RMSE for each row\n",
    "    rmse_per_row = tf.sqrt(tf.reduce_mean(tf.square(y_true - y_pred), axis=1))\n",
    "    # Calculate the mean of RMSE values across all rows\n",
    "    mean_rmse = tf.reduce_mean(rmse_per_row)\n",
    "    \n",
    "    return mean_rmse"
   ]
  },
  {
   "cell_type": "code",
   "execution_count": 26,
   "id": "36e83e5f",
   "metadata": {
    "execution": {
     "iopub.execute_input": "2023-10-14T14:47:15.460009Z",
     "iopub.status.busy": "2023-10-14T14:47:15.459762Z",
     "iopub.status.idle": "2023-10-14T14:47:15.464253Z",
     "shell.execute_reply": "2023-10-14T14:47:15.463312Z"
    },
    "papermill": {
     "duration": 0.018672,
     "end_time": "2023-10-14T14:47:15.465882",
     "exception": false,
     "start_time": "2023-10-14T14:47:15.447210",
     "status": "completed"
    },
    "tags": []
   },
   "outputs": [],
   "source": [
    "def custom_mean_rowwise_rmse(y_true, y_pred):\n",
    "    \"\"\"\n",
    "    Custom metric to calculate the Mean Rowwise Root Mean Squared Error (RMSE).\n",
    "\n",
    "    Parameters:\n",
    "    - y_true: The true target values.\n",
    "    - y_pred: The predicted values.\n",
    "\n",
    "    Returns:\n",
    "    - Mean Rowwise RMSE as a scalar tensor.\n",
    "    \"\"\"\n",
    "    # Calculate RMSE for each row\n",
    "    rmse_per_row = tf.sqrt(tf.reduce_mean(tf.square(y_true - y_pred), axis=1))\n",
    "    # Calculate the mean of RMSE values across all rows\n",
    "    mean_rmse = tf.reduce_mean(rmse_per_row)\n",
    "    \n",
    "    return mean_rmse"
   ]
  },
  {
   "cell_type": "markdown",
   "id": "dd6d01aa",
   "metadata": {
    "papermill": {
     "duration": 0.011604,
     "end_time": "2023-10-14T14:47:15.488973",
     "exception": false,
     "start_time": "2023-10-14T14:47:15.477369",
     "status": "completed"
    },
    "tags": []
   },
   "source": [
    "Beautiful functions let's start experiment with building models"
   ]
  },
  {
   "cell_type": "markdown",
   "id": "14de8841",
   "metadata": {
    "papermill": {
     "duration": 0.011519,
     "end_time": "2023-10-14T14:47:15.512036",
     "exception": false,
     "start_time": "2023-10-14T14:47:15.500517",
     "status": "completed"
    },
    "tags": []
   },
   "source": [
    "# Build the model"
   ]
  },
  {
   "cell_type": "code",
   "execution_count": 27,
   "id": "2620b7b3",
   "metadata": {
    "execution": {
     "iopub.execute_input": "2023-10-14T14:47:15.537352Z",
     "iopub.status.busy": "2023-10-14T14:47:15.536369Z",
     "iopub.status.idle": "2023-10-14T14:47:15.542618Z",
     "shell.execute_reply": "2023-10-14T14:47:15.541828Z"
    },
    "papermill": {
     "duration": 0.020809,
     "end_time": "2023-10-14T14:47:15.544359",
     "exception": false,
     "start_time": "2023-10-14T14:47:15.523550",
     "status": "completed"
    },
    "tags": []
   },
   "outputs": [],
   "source": [
    "from tensorflow.keras.layers import Dense, Dropout, BatchNormalization, Activation\n",
    "from tensorflow.keras.models import Sequential"
   ]
  },
  {
   "cell_type": "markdown",
   "id": "be7be4dd",
   "metadata": {
    "papermill": {
     "duration": 0.011912,
     "end_time": "2023-10-14T14:47:15.568214",
     "exception": false,
     "start_time": "2023-10-14T14:47:15.556302",
     "status": "completed"
    },
    "tags": []
   },
   "source": [
    "> **Model_0:** Let's start with only 2 dense layers "
   ]
  },
  {
   "cell_type": "code",
   "execution_count": 28,
   "id": "584a3d5b",
   "metadata": {
    "execution": {
     "iopub.execute_input": "2023-10-14T14:47:15.592757Z",
     "iopub.status.busy": "2023-10-14T14:47:15.592214Z",
     "iopub.status.idle": "2023-10-14T14:47:34.340958Z",
     "shell.execute_reply": "2023-10-14T14:47:34.339964Z"
    },
    "papermill": {
     "duration": 18.763458,
     "end_time": "2023-10-14T14:47:34.343169",
     "exception": false,
     "start_time": "2023-10-14T14:47:15.579711",
     "status": "completed"
    },
    "tags": []
   },
   "outputs": [
    {
     "name": "stdout",
     "output_type": "stream",
     "text": [
      "Epoch 1/10\n",
      "14/14 [==============================] - 6s 126ms/step - loss: 1.3330 - custom_mean_rowwise_rmse: 1.3218 - val_loss: 1.1626 - val_custom_mean_rowwise_rmse: 1.1626\n",
      "Epoch 2/10\n",
      "14/14 [==============================] - 1s 51ms/step - loss: 1.3164 - custom_mean_rowwise_rmse: 1.3046 - val_loss: 1.1432 - val_custom_mean_rowwise_rmse: 1.1431\n",
      "Epoch 3/10\n",
      "14/14 [==============================] - 1s 79ms/step - loss: 1.3030 - custom_mean_rowwise_rmse: 1.3318 - val_loss: 1.1309 - val_custom_mean_rowwise_rmse: 1.1307\n",
      "Epoch 4/10\n",
      "14/14 [==============================] - 1s 36ms/step - loss: 1.2912 - custom_mean_rowwise_rmse: 1.2724 - val_loss: 1.1249 - val_custom_mean_rowwise_rmse: 1.1247\n",
      "Epoch 5/10\n",
      "14/14 [==============================] - 1s 37ms/step - loss: 1.2809 - custom_mean_rowwise_rmse: 1.3242 - val_loss: 1.1185 - val_custom_mean_rowwise_rmse: 1.1183\n",
      "Epoch 6/10\n",
      "14/14 [==============================] - 1s 40ms/step - loss: 1.2687 - custom_mean_rowwise_rmse: 1.2600 - val_loss: 1.1108 - val_custom_mean_rowwise_rmse: 1.1106\n",
      "Epoch 7/10\n",
      "14/14 [==============================] - 2s 163ms/step - loss: 1.2555 - custom_mean_rowwise_rmse: 1.2764 - val_loss: 1.1049 - val_custom_mean_rowwise_rmse: 1.1047\n",
      "Epoch 8/10\n",
      "14/14 [==============================] - 0s 28ms/step - loss: 1.2421 - custom_mean_rowwise_rmse: 1.2341 - val_loss: 1.1015 - val_custom_mean_rowwise_rmse: 1.1014\n",
      "Epoch 9/10\n",
      "14/14 [==============================] - 1s 37ms/step - loss: 1.2295 - custom_mean_rowwise_rmse: 1.2330 - val_loss: 1.0980 - val_custom_mean_rowwise_rmse: 1.0979\n",
      "Epoch 10/10\n",
      "14/14 [==============================] - 0s 34ms/step - loss: 1.2173 - custom_mean_rowwise_rmse: 1.2288 - val_loss: 1.0959 - val_custom_mean_rowwise_rmse: 1.0958\n"
     ]
    }
   ],
   "source": [
    "tf.random.set_seed(42)\n",
    "\n",
    "model_0 = Sequential([\n",
    "    Dense(512, activation=\"tanh\"),\n",
    "    Dense(18211, activation=\"linear\")\n",
    "])\n",
    "\n",
    "model_0.compile(loss=mean_rowwise_rmse_loss, \n",
    "                optimizer=tf.keras.optimizers.Adam(),\n",
    "                metrics=[custom_mean_rowwise_rmse])\n",
    "\n",
    "history_0 = model_0.fit(X_train, y_train,\n",
    "                       epochs=10,\n",
    "                       validation_data=(X_val,y_val),\n",
    "                       batch_size=32,\n",
    "                       callbacks=[create_model_checkpoint(\"model_0\", monitor=\"val_custom_mean_rowwise_rmse\")])"
   ]
  },
  {
   "cell_type": "code",
   "execution_count": 29,
   "id": "378a55a7",
   "metadata": {
    "execution": {
     "iopub.execute_input": "2023-10-14T14:47:34.373582Z",
     "iopub.status.busy": "2023-10-14T14:47:34.372620Z",
     "iopub.status.idle": "2023-10-14T14:47:34.916201Z",
     "shell.execute_reply": "2023-10-14T14:47:34.914923Z"
    },
    "papermill": {
     "duration": 0.560431,
     "end_time": "2023-10-14T14:47:34.918096",
     "exception": false,
     "start_time": "2023-10-14T14:47:34.357665",
     "status": "completed"
    },
    "tags": []
   },
   "outputs": [
    {
     "name": "stdout",
     "output_type": "stream",
     "text": [
      "93/93 [==============================] - 0s 2ms/step\n",
      "Mean Absolute Error (MAE): 0.720931328886185\n",
      "Mean Rowwise Root Mean Squared Error (MRRMSE): 1.0688578319835276\n"
     ]
    }
   ],
   "source": [
    "# Loading weights \n",
    "model_0.load_weights(\"model_0\")\n",
    "calculate_mae_and_mrrmse(model=model_0, data=X_test, y_true=y_test)"
   ]
  },
  {
   "cell_type": "code",
   "execution_count": 30,
   "id": "bd3b7f47",
   "metadata": {
    "execution": {
     "iopub.execute_input": "2023-10-14T14:47:34.948223Z",
     "iopub.status.busy": "2023-10-14T14:47:34.947316Z",
     "iopub.status.idle": "2023-10-14T14:47:36.441117Z",
     "shell.execute_reply": "2023-10-14T14:47:36.440015Z"
    },
    "papermill": {
     "duration": 1.510646,
     "end_time": "2023-10-14T14:47:36.443040",
     "exception": false,
     "start_time": "2023-10-14T14:47:34.932394",
     "status": "completed"
    },
    "tags": []
   },
   "outputs": [
    {
     "name": "stdout",
     "output_type": "stream",
     "text": [
      "614/614 [==============================] - 1s 1ms/step\n",
      "Mean Absolute Error (MAE): 0.7750002944065837\n",
      "Mean Rowwise Root Mean Squared Error (MRRMSE): 1.170277337609647\n"
     ]
    }
   ],
   "source": [
    "# Model performance on full data \n",
    "calculate_mae_and_mrrmse(model=model_0, data=full_features, y_true=full_labels)"
   ]
  },
  {
   "cell_type": "code",
   "execution_count": 31,
   "id": "8a2068b6",
   "metadata": {
    "execution": {
     "iopub.execute_input": "2023-10-14T14:47:36.475830Z",
     "iopub.status.busy": "2023-10-14T14:47:36.475512Z",
     "iopub.status.idle": "2023-10-14T14:47:37.157951Z",
     "shell.execute_reply": "2023-10-14T14:47:37.157103Z"
    },
    "papermill": {
     "duration": 0.700749,
     "end_time": "2023-10-14T14:47:37.160133",
     "exception": false,
     "start_time": "2023-10-14T14:47:36.459384",
     "status": "completed"
    },
    "tags": []
   },
   "outputs": [
    {
     "data": {
      "image/png": "[encoded data removed]",
      "text/plain": [
       "<Figure size 1200x600 with 2 Axes>"
      ]
     },
     "metadata": {},
     "output_type": "display_data"
    }
   ],
   "source": [
    "# Visualize the learning from our helper functions\n",
    "plot_training_history(history_0, metrics=[\"custom_mean_rowwise_rmse\"])"
   ]
  },
  {
   "cell_type": "markdown",
   "id": "c59745aa",
   "metadata": {
    "papermill": {
     "duration": 0.016502,
     "end_time": "2023-10-14T14:47:37.204816",
     "exception": false,
     "start_time": "2023-10-14T14:47:37.188314",
     "status": "completed"
    },
    "tags": []
   },
   "source": [
    "Okay, it seems the model is not learning much and is underfitting. Let's try something different. "
   ]
  },
  {
   "cell_type": "markdown",
   "id": "2d5304a5",
   "metadata": {
    "papermill": {
     "duration": 0.016012,
     "end_time": "2023-10-14T14:47:37.236294",
     "exception": false,
     "start_time": "2023-10-14T14:47:37.220282",
     "status": "completed"
    },
    "tags": []
   },
   "source": [
    "> **model_1:** Increase layers and neurons "
   ]
  },
  {
   "cell_type": "code",
   "execution_count": 32,
   "id": "178a53dd",
   "metadata": {
    "execution": {
     "iopub.execute_input": "2023-10-14T14:47:37.269700Z",
     "iopub.status.busy": "2023-10-14T14:47:37.269373Z",
     "iopub.status.idle": "2023-10-14T14:47:54.404611Z",
     "shell.execute_reply": "2023-10-14T14:47:54.403717Z"
    },
    "papermill": {
     "duration": 17.154915,
     "end_time": "2023-10-14T14:47:54.406662",
     "exception": false,
     "start_time": "2023-10-14T14:47:37.251747",
     "status": "completed"
    },
    "tags": []
   },
   "outputs": [
    {
     "name": "stdout",
     "output_type": "stream",
     "text": [
      "Epoch 1/30\n",
      "14/14 [==============================] - 3s 101ms/step - loss: 1.3309 - custom_mean_rowwise_rmse: 1.3198 - val_loss: 1.1430 - val_custom_mean_rowwise_rmse: 1.1429\n",
      "Epoch 2/30\n",
      "14/14 [==============================] - 1s 52ms/step - loss: 1.3057 - custom_mean_rowwise_rmse: 1.2933 - val_loss: 1.1281 - val_custom_mean_rowwise_rmse: 1.1280\n",
      "Epoch 3/30\n",
      "14/14 [==============================] - 1s 71ms/step - loss: 1.2818 - custom_mean_rowwise_rmse: 1.3084 - val_loss: 1.1125 - val_custom_mean_rowwise_rmse: 1.1125\n",
      "Epoch 4/30\n",
      "14/14 [==============================] - 1s 41ms/step - loss: 1.2525 - custom_mean_rowwise_rmse: 1.2345 - val_loss: 1.1113 - val_custom_mean_rowwise_rmse: 1.1112\n",
      "Epoch 5/30\n",
      "14/14 [==============================] - 1s 42ms/step - loss: 1.2342 - custom_mean_rowwise_rmse: 1.2701 - val_loss: 1.1072 - val_custom_mean_rowwise_rmse: 1.1074\n",
      "Epoch 6/30\n",
      "14/14 [==============================] - 0s 7ms/step - loss: 1.2140 - custom_mean_rowwise_rmse: 1.2089 - val_loss: 1.1098 - val_custom_mean_rowwise_rmse: 1.1096\n",
      "Epoch 7/30\n",
      "14/14 [==============================] - 1s 41ms/step - loss: 1.2003 - custom_mean_rowwise_rmse: 1.2273 - val_loss: 1.0974 - val_custom_mean_rowwise_rmse: 1.0974\n",
      "Epoch 8/30\n",
      "14/14 [==============================] - 1s 42ms/step - loss: 1.1970 - custom_mean_rowwise_rmse: 1.1916 - val_loss: 1.0896 - val_custom_mean_rowwise_rmse: 1.0897\n",
      "Epoch 9/30\n",
      "14/14 [==============================] - 0s 6ms/step - loss: 1.1824 - custom_mean_rowwise_rmse: 1.1878 - val_loss: 1.0951 - val_custom_mean_rowwise_rmse: 1.0942\n",
      "Epoch 10/30\n",
      "14/14 [==============================] - 0s 6ms/step - loss: 1.1808 - custom_mean_rowwise_rmse: 1.1944 - val_loss: 1.1011 - val_custom_mean_rowwise_rmse: 1.1002\n",
      "Epoch 11/30\n",
      "14/14 [==============================] - 1s 40ms/step - loss: 1.1717 - custom_mean_rowwise_rmse: 1.1498 - val_loss: 1.0871 - val_custom_mean_rowwise_rmse: 1.0867\n",
      "Epoch 12/30\n",
      "14/14 [==============================] - 1s 43ms/step - loss: 1.1655 - custom_mean_rowwise_rmse: 1.1796 - val_loss: 1.0808 - val_custom_mean_rowwise_rmse: 1.0802\n",
      "Epoch 13/30\n",
      "14/14 [==============================] - 3s 253ms/step - loss: 1.1540 - custom_mean_rowwise_rmse: 1.1616 - val_loss: 1.0783 - val_custom_mean_rowwise_rmse: 1.0773\n",
      "Epoch 14/30\n",
      "14/14 [==============================] - 0s 7ms/step - loss: 1.1431 - custom_mean_rowwise_rmse: 1.1838 - val_loss: 1.0859 - val_custom_mean_rowwise_rmse: 1.0844\n",
      "Epoch 15/30\n",
      "14/14 [==============================] - 0s 7ms/step - loss: 1.1406 - custom_mean_rowwise_rmse: 1.1254 - val_loss: 1.0810 - val_custom_mean_rowwise_rmse: 1.0793\n",
      "Epoch 16/30\n",
      "14/14 [==============================] - 1s 56ms/step - loss: 1.1390 - custom_mean_rowwise_rmse: 1.1294 - val_loss: 1.0743 - val_custom_mean_rowwise_rmse: 1.0736\n",
      "Epoch 17/30\n",
      "14/14 [==============================] - 0s 9ms/step - loss: 1.1318 - custom_mean_rowwise_rmse: 1.1275 - val_loss: 1.0785 - val_custom_mean_rowwise_rmse: 1.0773\n",
      "Epoch 18/30\n",
      "14/14 [==============================] - 0s 6ms/step - loss: 1.1155 - custom_mean_rowwise_rmse: 1.1425 - val_loss: 1.0943 - val_custom_mean_rowwise_rmse: 1.0922\n",
      "Epoch 19/30\n",
      "14/14 [==============================] - 0s 7ms/step - loss: 1.1077 - custom_mean_rowwise_rmse: 1.0854 - val_loss: 1.0967 - val_custom_mean_rowwise_rmse: 1.0952\n",
      "Epoch 20/30\n",
      "14/14 [==============================] - 0s 6ms/step - loss: 1.1001 - custom_mean_rowwise_rmse: 1.0823 - val_loss: 1.1020 - val_custom_mean_rowwise_rmse: 1.1003\n",
      "Epoch 21/30\n",
      "14/14 [==============================] - 0s 6ms/step - loss: 1.0977 - custom_mean_rowwise_rmse: 1.0902 - val_loss: 1.0955 - val_custom_mean_rowwise_rmse: 1.0936\n",
      "Epoch 22/30\n",
      "14/14 [==============================] - 0s 7ms/step - loss: 1.0881 - custom_mean_rowwise_rmse: 1.0788 - val_loss: 1.1042 - val_custom_mean_rowwise_rmse: 1.1025\n",
      "Epoch 23/30\n",
      "14/14 [==============================] - 0s 7ms/step - loss: 1.0839 - custom_mean_rowwise_rmse: 1.0642 - val_loss: 1.1059 - val_custom_mean_rowwise_rmse: 1.1041\n",
      "Epoch 24/30\n",
      "14/14 [==============================] - 0s 7ms/step - loss: 1.0782 - custom_mean_rowwise_rmse: 1.0596 - val_loss: 1.1055 - val_custom_mean_rowwise_rmse: 1.1041\n",
      "Epoch 25/30\n",
      "14/14 [==============================] - 0s 17ms/step - loss: 1.0714 - custom_mean_rowwise_rmse: 1.0574 - val_loss: 1.1070 - val_custom_mean_rowwise_rmse: 1.1047\n",
      "Epoch 26/30\n",
      "14/14 [==============================] - 0s 6ms/step - loss: 1.0700 - custom_mean_rowwise_rmse: 1.0645 - val_loss: 1.1173 - val_custom_mean_rowwise_rmse: 1.1152\n",
      "Epoch 27/30\n",
      "14/14 [==============================] - 0s 6ms/step - loss: 1.0586 - custom_mean_rowwise_rmse: 1.0410 - val_loss: 1.1265 - val_custom_mean_rowwise_rmse: 1.1237\n",
      "Epoch 28/30\n",
      "14/14 [==============================] - 0s 7ms/step - loss: 1.0612 - custom_mean_rowwise_rmse: 1.0392 - val_loss: 1.1267 - val_custom_mean_rowwise_rmse: 1.1250\n",
      "Epoch 29/30\n",
      "14/14 [==============================] - 0s 6ms/step - loss: 1.0437 - custom_mean_rowwise_rmse: 1.0483 - val_loss: 1.0959 - val_custom_mean_rowwise_rmse: 1.0943\n",
      "Epoch 30/30\n",
      "14/14 [==============================] - 0s 7ms/step - loss: 1.0335 - custom_mean_rowwise_rmse: 1.0612 - val_loss: 1.0941 - val_custom_mean_rowwise_rmse: 1.0918\n"
     ]
    }
   ],
   "source": [
    "tf.random.set_seed(42)\n",
    "\n",
    "model_1 = Sequential([\n",
    "    Dense(1024, activation=\"tanh\"),\n",
    "    Dense(512, activation=\"tanh\"),\n",
    "    Dense(18211, activation=\"linear\")\n",
    "])\n",
    "\n",
    "model_1.compile(loss=mean_rowwise_rmse_loss, \n",
    "                optimizer=tf.keras.optimizers.Adam(),\n",
    "                metrics=[custom_mean_rowwise_rmse])\n",
    "\n",
    "history_1 = model_1.fit(X_train, y_train,\n",
    "                       epochs=30,\n",
    "                       validation_data=(X_val,y_val),\n",
    "                       callbacks=[create_model_checkpoint(\"model_1\", monitor=\"val_custom_mean_rowwise_rmse\")])"
   ]
  },
  {
   "cell_type": "code",
   "execution_count": 33,
   "id": "3a2b13d0",
   "metadata": {
    "execution": {
     "iopub.execute_input": "2023-10-14T14:47:54.450622Z",
     "iopub.status.busy": "2023-10-14T14:47:54.450025Z",
     "iopub.status.idle": "2023-10-14T14:47:54.940408Z",
     "shell.execute_reply": "2023-10-14T14:47:54.939246Z"
    },
    "papermill": {
     "duration": 0.514311,
     "end_time": "2023-10-14T14:47:54.942365",
     "exception": false,
     "start_time": "2023-10-14T14:47:54.428054",
     "status": "completed"
    },
    "tags": []
   },
   "outputs": [
    {
     "name": "stdout",
     "output_type": "stream",
     "text": [
      "93/93 [==============================] - 0s 2ms/step\n",
      "Mean Absolute Error (MAE): 0.7313500840181072\n",
      "Mean Rowwise Root Mean Squared Error (MRRMSE): 1.0648863813552483\n"
     ]
    }
   ],
   "source": [
    "# Loading weights \n",
    "model_1.load_weights(\"model_1\")\n",
    "calculate_mae_and_mrrmse(model=model_1, data=X_test, y_true=y_test)"
   ]
  },
  {
   "cell_type": "code",
   "execution_count": 34,
   "id": "262e4ecd",
   "metadata": {
    "execution": {
     "iopub.execute_input": "2023-10-14T14:47:54.990197Z",
     "iopub.status.busy": "2023-10-14T14:47:54.989858Z",
     "iopub.status.idle": "2023-10-14T14:47:56.470915Z",
     "shell.execute_reply": "2023-10-14T14:47:56.469803Z"
    },
    "papermill": {
     "duration": 1.50854,
     "end_time": "2023-10-14T14:47:56.472805",
     "exception": false,
     "start_time": "2023-10-14T14:47:54.964265",
     "status": "completed"
    },
    "tags": []
   },
   "outputs": [
    {
     "name": "stdout",
     "output_type": "stream",
     "text": [
      "614/614 [==============================] - 1s 1ms/step\n",
      "Mean Absolute Error (MAE): 0.7589716167336273\n",
      "Mean Rowwise Root Mean Squared Error (MRRMSE): 1.1061356357586047\n"
     ]
    }
   ],
   "source": [
    "# Model performance on full data \n",
    "calculate_mae_and_mrrmse(model=model_1, data=full_features, y_true=full_labels)"
   ]
  },
  {
   "cell_type": "code",
   "execution_count": 35,
   "id": "3df5e6a9",
   "metadata": {
    "execution": {
     "iopub.execute_input": "2023-10-14T14:47:56.520329Z",
     "iopub.status.busy": "2023-10-14T14:47:56.519732Z",
     "iopub.status.idle": "2023-10-14T14:47:57.102723Z",
     "shell.execute_reply": "2023-10-14T14:47:57.101847Z"
    },
    "papermill": {
     "duration": 0.608386,
     "end_time": "2023-10-14T14:47:57.104897",
     "exception": false,
     "start_time": "2023-10-14T14:47:56.496511",
     "status": "completed"
    },
    "tags": []
   },
   "outputs": [
    {
     "data": {
      "image/png": "[encoded data removed]",
      "text/plain": [
       "<Figure size 1200x600 with 2 Axes>"
      ]
     },
     "metadata": {},
     "output_type": "display_data"
    }
   ],
   "source": [
    "# Visualize the learning from our helper functions\n",
    "plot_training_history(history_1, metrics=[\"custom_mean_rowwise_rmse\"])"
   ]
  },
  {
   "cell_type": "markdown",
   "id": "7ac9a8fa",
   "metadata": {
    "papermill": {
     "duration": 0.033284,
     "end_time": "2023-10-14T14:47:57.162251",
     "exception": false,
     "start_time": "2023-10-14T14:47:57.128967",
     "status": "completed"
    },
    "tags": []
   },
   "source": [
    "> The model is not performing good let's increase complexity and also add Dropout and BatchNormalization layers"
   ]
  },
  {
   "cell_type": "code",
   "execution_count": 36,
   "id": "55efce2d",
   "metadata": {
    "execution": {
     "iopub.execute_input": "2023-10-14T14:47:57.217489Z",
     "iopub.status.busy": "2023-10-14T14:47:57.217109Z",
     "iopub.status.idle": "2023-10-14T14:48:08.456848Z",
     "shell.execute_reply": "2023-10-14T14:48:08.455907Z"
    },
    "papermill": {
     "duration": 11.270382,
     "end_time": "2023-10-14T14:48:08.459116",
     "exception": false,
     "start_time": "2023-10-14T14:47:57.188734",
     "status": "completed"
    },
    "tags": []
   },
   "outputs": [],
   "source": [
    "tf.random.set_seed(42)\n",
    "\n",
    "model_2 = Sequential([ \n",
    "    Dense(256),\n",
    "    BatchNormalization(),\n",
    "    Activation(\"relu\"),\n",
    "    Dropout(0.2),\n",
    "    Dense(128, activation=\"relu\"),\n",
    "    Dropout(0.2),\n",
    "    Dense(64, activation=\"relu\"),\n",
    "    BatchNormalization(),\n",
    "    Dropout(0.2),\n",
    "    Dense(32, activation=\"relu\"),\n",
    "    Dropout(0.2),\n",
    "    Dense(16, activation=\"relu\"),\n",
    "    Dropout(0.2),\n",
    "    Dense(18211,activation= \"linear\")\n",
    "])\n",
    "\n",
    "\n",
    "model_2.compile(loss=\"mae\", \n",
    "                optimizer=tf.keras.optimizers.Adam(),\n",
    "                metrics=[\"mae\"])\n",
    "\n",
    "history_2 = model_2.fit(X_train, y_train,\n",
    "                       epochs=30,\n",
    "                       verbose=0, #train in silent mode\n",
    "                       validation_data=(X_val,y_val),\n",
    "                       callbacks=[create_model_checkpoint(\"model_2\", monitor=\"val_mae\")])"
   ]
  },
  {
   "cell_type": "code",
   "execution_count": 37,
   "id": "d40e69ac",
   "metadata": {
    "execution": {
     "iopub.execute_input": "2023-10-14T14:48:08.506520Z",
     "iopub.status.busy": "2023-10-14T14:48:08.506206Z",
     "iopub.status.idle": "2023-10-14T14:48:08.953053Z",
     "shell.execute_reply": "2023-10-14T14:48:08.951962Z"
    },
    "papermill": {
     "duration": 0.472917,
     "end_time": "2023-10-14T14:48:08.955252",
     "exception": false,
     "start_time": "2023-10-14T14:48:08.482335",
     "status": "completed"
    },
    "tags": []
   },
   "outputs": [
    {
     "name": "stdout",
     "output_type": "stream",
     "text": [
      "93/93 [==============================] - 0s 2ms/step\n",
      "Mean Absolute Error (MAE): 0.7255524269549204\n",
      "Mean Rowwise Root Mean Squared Error (MRRMSE): 1.1034799520958851\n"
     ]
    }
   ],
   "source": [
    "model_2.load_weights(\"model_2\")\n",
    "calculate_mae_and_mrrmse(model=model_2, data=X_test, y_true=y_test)"
   ]
  },
  {
   "cell_type": "code",
   "execution_count": 38,
   "id": "00a1d0ae",
   "metadata": {
    "execution": {
     "iopub.execute_input": "2023-10-14T14:48:09.004053Z",
     "iopub.status.busy": "2023-10-14T14:48:09.003225Z",
     "iopub.status.idle": "2023-10-14T14:48:11.927262Z",
     "shell.execute_reply": "2023-10-14T14:48:11.926089Z"
    },
    "papermill": {
     "duration": 2.95005,
     "end_time": "2023-10-14T14:48:11.929089",
     "exception": false,
     "start_time": "2023-10-14T14:48:08.979039",
     "status": "completed"
    },
    "tags": []
   },
   "outputs": [
    {
     "name": "stdout",
     "output_type": "stream",
     "text": [
      "614/614 [==============================] - 1s 2ms/step\n",
      "Mean Absolute Error (MAE): 0.6989181783996697\n",
      "Mean Rowwise Root Mean Squared Error (MRRMSE): 1.0940312249618325\n"
     ]
    }
   ],
   "source": [
    "calculate_mae_and_mrrmse(model=model_2, data=full_features, y_true=full_labels)"
   ]
  },
  {
   "cell_type": "code",
   "execution_count": 39,
   "id": "6cd4c7ce",
   "metadata": {
    "execution": {
     "iopub.execute_input": "2023-10-14T14:48:11.979637Z",
     "iopub.status.busy": "2023-10-14T14:48:11.979339Z",
     "iopub.status.idle": "2023-10-14T14:48:12.523849Z",
     "shell.execute_reply": "2023-10-14T14:48:12.523040Z"
    },
    "papermill": {
     "duration": 0.571416,
     "end_time": "2023-10-14T14:48:12.525695",
     "exception": false,
     "start_time": "2023-10-14T14:48:11.954279",
     "status": "completed"
    },
    "tags": []
   },
   "outputs": [
    {
     "data": {
      "image/png": "[encoded data removed]",
      "text/plain": [
       "<Figure size 1200x600 with 2 Axes>"
      ]
     },
     "metadata": {},
     "output_type": "display_data"
    }
   ],
   "source": [
    "#  Visualize the learning from our helper functions\n",
    "plot_training_history(history_2, metrics=[\"mae\"])"
   ]
  },
  {
   "cell_type": "markdown",
   "id": "fd9f9d12",
   "metadata": {
    "papermill": {
     "duration": 0.029535,
     "end_time": "2023-10-14T14:48:12.581019",
     "exception": false,
     "start_time": "2023-10-14T14:48:12.551484",
     "status": "completed"
    },
    "tags": []
   },
   "source": [
    "> Changing metrics and using same model"
   ]
  },
  {
   "cell_type": "code",
   "execution_count": 40,
   "id": "a7c50ede",
   "metadata": {
    "execution": {
     "iopub.execute_input": "2023-10-14T14:48:12.632556Z",
     "iopub.status.busy": "2023-10-14T14:48:12.632227Z",
     "iopub.status.idle": "2023-10-14T14:48:22.479158Z",
     "shell.execute_reply": "2023-10-14T14:48:22.478207Z"
    },
    "papermill": {
     "duration": 9.875676,
     "end_time": "2023-10-14T14:48:22.481347",
     "exception": false,
     "start_time": "2023-10-14T14:48:12.605671",
     "status": "completed"
    },
    "tags": []
   },
   "outputs": [
    {
     "name": "stdout",
     "output_type": "stream",
     "text": [
      "Epoch 1/25\n",
      "Epoch 2/25\n",
      "Epoch 3/25\n",
      "Epoch 4/25\n",
      "Epoch 5/25\n",
      "Epoch 6/25\n",
      "Epoch 7/25\n",
      "Epoch 8/25\n",
      "Epoch 9/25\n",
      "Epoch 10/25\n",
      "Epoch 11/25\n",
      "Epoch 12/25\n",
      "Epoch 13/25\n",
      "Epoch 14/25\n",
      "Epoch 15/25\n",
      "Epoch 16/25\n",
      "Epoch 17/25\n",
      "Epoch 18/25\n",
      "Epoch 19/25\n",
      "Epoch 20/25\n",
      "Epoch 21/25\n",
      "Epoch 22/25\n",
      "Epoch 23/25\n",
      "Epoch 24/25\n",
      "Epoch 25/25\n"
     ]
    }
   ],
   "source": [
    "tf.random.set_seed(42)\n",
    "\n",
    "# clone model 2\n",
    "model_3 = tf.keras.models.clone_model(model_2)\n",
    "\n",
    "model_3.compile(loss=\"mae\", \n",
    "                optimizer=tf.keras.optimizers.Adam(learning_rate=0.0027),\n",
    "                metrics=[custom_mean_rowwise_rmse])\n",
    "\n",
    "history_3 = model_3.fit(X_train, y_train,\n",
    "                       epochs=25,\n",
    "                       verbose=100, #train in silent mode\n",
    "                       validation_data=(X_val,y_val),\n",
    "                       callbacks=[create_model_checkpoint(\"model_3\", monitor=\"val_custom_mean_rowwise_rmse\")])"
   ]
  },
  {
   "cell_type": "code",
   "execution_count": 41,
   "id": "5fbd97c0",
   "metadata": {
    "execution": {
     "iopub.execute_input": "2023-10-14T14:48:22.535247Z",
     "iopub.status.busy": "2023-10-14T14:48:22.534607Z",
     "iopub.status.idle": "2023-10-14T14:48:23.344227Z",
     "shell.execute_reply": "2023-10-14T14:48:23.343203Z"
    },
    "papermill": {
     "duration": 0.839133,
     "end_time": "2023-10-14T14:48:23.346919",
     "exception": false,
     "start_time": "2023-10-14T14:48:22.507786",
     "status": "completed"
    },
    "tags": []
   },
   "outputs": [
    {
     "name": "stdout",
     "output_type": "stream",
     "text": [
      "93/93 [==============================] - 0s 3ms/step\n",
      "Mean Absolute Error (MAE): 0.7162889407766464\n",
      "Mean Rowwise Root Mean Squared Error (MRRMSE): 1.0909026588034343\n"
     ]
    }
   ],
   "source": [
    "model_3.load_weights(\"model_3\")\n",
    "calculate_mae_and_mrrmse(model=model_3, data=X_test, y_true=y_test)"
   ]
  },
  {
   "cell_type": "code",
   "execution_count": 42,
   "id": "7d04836f",
   "metadata": {
    "execution": {
     "iopub.execute_input": "2023-10-14T14:48:23.459689Z",
     "iopub.status.busy": "2023-10-14T14:48:23.459170Z",
     "iopub.status.idle": "2023-10-14T14:48:25.377226Z",
     "shell.execute_reply": "2023-10-14T14:48:25.376226Z"
    },
    "papermill": {
     "duration": 1.977068,
     "end_time": "2023-10-14T14:48:25.379113",
     "exception": false,
     "start_time": "2023-10-14T14:48:23.402045",
     "status": "completed"
    },
    "tags": []
   },
   "outputs": [
    {
     "name": "stdout",
     "output_type": "stream",
     "text": [
      "614/614 [==============================] - 1s 2ms/step\n",
      "Mean Absolute Error (MAE): 0.6846960510111111\n",
      "Mean Rowwise Root Mean Squared Error (MRRMSE): 1.0742882373645193\n"
     ]
    }
   ],
   "source": [
    "calculate_mae_and_mrrmse(model=model_3, data=full_features, y_true=full_labels)"
   ]
  },
  {
   "cell_type": "code",
   "execution_count": 43,
   "id": "df951284",
   "metadata": {
    "execution": {
     "iopub.execute_input": "2023-10-14T14:48:25.437624Z",
     "iopub.status.busy": "2023-10-14T14:48:25.437307Z",
     "iopub.status.idle": "2023-10-14T14:48:25.984840Z",
     "shell.execute_reply": "2023-10-14T14:48:25.983957Z"
    },
    "papermill": {
     "duration": 0.578255,
     "end_time": "2023-10-14T14:48:25.987608",
     "exception": false,
     "start_time": "2023-10-14T14:48:25.409353",
     "status": "completed"
    },
    "tags": []
   },
   "outputs": [
    {
     "data": {
      "image/png": "[encoded data removed]",
      "text/plain": [
       "<Figure size 1200x600 with 2 Axes>"
      ]
     },
     "metadata": {},
     "output_type": "display_data"
    }
   ],
   "source": [
    "plot_training_history(history_3, metrics=[\"custom_mean_rowwise_rmse\"])"
   ]
  },
  {
   "cell_type": "markdown",
   "id": "d7c5a36e",
   "metadata": {
    "papermill": {
     "duration": 0.028199,
     "end_time": "2023-10-14T14:48:26.044324",
     "exception": false,
     "start_time": "2023-10-14T14:48:26.016125",
     "status": "completed"
    },
    "tags": []
   },
   "source": [
    "# K-fold validation "
   ]
  },
  {
   "cell_type": "code",
   "execution_count": 44,
   "id": "22257eb0",
   "metadata": {
    "execution": {
     "iopub.execute_input": "2023-10-14T14:48:26.106596Z",
     "iopub.status.busy": "2023-10-14T14:48:26.105960Z",
     "iopub.status.idle": "2023-10-14T14:48:26.160709Z",
     "shell.execute_reply": "2023-10-14T14:48:26.159809Z"
    },
    "papermill": {
     "duration": 0.089509,
     "end_time": "2023-10-14T14:48:26.162826",
     "exception": false,
     "start_time": "2023-10-14T14:48:26.073317",
     "status": "completed"
    },
    "tags": []
   },
   "outputs": [],
   "source": [
    "tf.random.set_seed(42)\n",
    "\n",
    "# clone model 2\n",
    "model_4 = Sequential([ \n",
    "    Dense(256),\n",
    "    BatchNormalization(),\n",
    "    Activation(\"relu\"),\n",
    "    Dropout(0.2),\n",
    "    Dense(128, activation=\"relu\"),\n",
    "    Dropout(0.2),\n",
    "    Dense(64, activation=\"relu\"),\n",
    "    BatchNormalization(),\n",
    "    Dropout(0.2),\n",
    "    Dense(32, activation=\"relu\"),\n",
    "    Dropout(0.2),\n",
    "    Dense(16, activation=\"relu\"),\n",
    "    Dropout(0.1),\n",
    "    Dense(18211,activation= \"linear\")\n",
    "])\n",
    "\n",
    "model_4.compile(loss=\"mae\", \n",
    "                optimizer=tf.keras.optimizers.Adam(),\n",
    "                metrics=[custom_mean_rowwise_rmse])"
   ]
  },
  {
   "cell_type": "code",
   "execution_count": 45,
   "id": "ae08ec90",
   "metadata": {
    "execution": {
     "iopub.execute_input": "2023-10-14T14:48:26.222232Z",
     "iopub.status.busy": "2023-10-14T14:48:26.221422Z",
     "iopub.status.idle": "2023-10-14T14:49:22.938489Z",
     "shell.execute_reply": "2023-10-14T14:49:22.937436Z"
    },
    "papermill": {
     "duration": 56.748659,
     "end_time": "2023-10-14T14:49:22.940371",
     "exception": false,
     "start_time": "2023-10-14T14:48:26.191712",
     "status": "completed"
    },
    "tags": []
   },
   "outputs": [
    {
     "name": "stdout",
     "output_type": "stream",
     "text": [
      "2/2 [==============================] - 0s 4ms/step\n",
      "2/2 [==============================] - 0s 4ms/step\n",
      "2/2 [==============================] - 0s 4ms/step\n",
      "2/2 [==============================] - 0s 3ms/step\n",
      "2/2 [==============================] - 0s 6ms/step\n",
      "2/2 [==============================] - 0s 4ms/step\n",
      "2/2 [==============================] - 0s 3ms/step\n",
      "2/2 [==============================] - 0s 4ms/step\n",
      "2/2 [==============================] - 0s 4ms/step\n",
      "2/2 [==============================] - 0s 4ms/step\n",
      "Average MAE across 10 folds: 0.6891 \n",
      "Average MRRMSE across 10 folds: 1.1082\n"
     ]
    }
   ],
   "source": [
    "from sklearn.model_selection import KFold\n",
    "\n",
    "# Define the number of folds (K)\n",
    "num_folds = 10 # You can change this value as needed\n",
    "\n",
    "# Initialize lists to store the model's performance scores\n",
    "mae_scores = []\n",
    "mrrmse_scores = []\n",
    "\n",
    "# Initialize the KFold object\n",
    "kf = KFold(n_splits=num_folds, shuffle=True, random_state=51)\n",
    "\n",
    "# Loop through the K folds\n",
    "for train_index, val_index in kf.split(full_features):\n",
    "    # Convert indices to integers and split the data\n",
    "    train_index = train_index.astype(int)\n",
    "    val_index = val_index.astype(int)\n",
    "    X_train_, X_val_ = full_features[train_index], full_features[val_index]\n",
    "    y_train_, y_val_ = full_labels[train_index], full_labels[val_index]\n",
    "\n",
    "    # Train your model on X_train and y_train\n",
    "    model_4.fit(X_train_, y_train_, epochs=50, verbose=0)\n",
    "\n",
    "    # Make predictions on the validation set\n",
    "    y_preds = model_4.predict(X_val_)\n",
    "\n",
    "    # Calculate the Mean Absolute Error (MAE)\n",
    "    mae = mean_absolute_error(y_val_, y_preds)\n",
    "    mae_scores.append(mae)\n",
    "\n",
    "    # Calculate the Mean Rowwise Root Mean Square Error (MRRMSE)\n",
    "    rowwise_rmse = np.sqrt(np.mean(np.square(y_val_ - y_preds), axis=1))\n",
    "    mrrmse_score = np.mean(rowwise_rmse)\n",
    "    mrrmse_scores.append(mrrmse_score)\n",
    "\n",
    "# Calculate the mean and standard deviation of MAE and MRRMSE scores\n",
    "mean_mae = np.mean(mae_scores)\n",
    "mean_mrrmse = np.mean(mrrmse_scores)\n",
    "\n",
    "# Print the results\n",
    "print(f'Average MAE across {num_folds} folds: {mean_mae:.4f} ')\n",
    "print(f'Average MRRMSE across {num_folds} folds: {mean_mrrmse:.4f}')"
   ]
  },
  {
   "cell_type": "markdown",
   "id": "fcfb36e1",
   "metadata": {
    "papermill": {
     "duration": 0.030149,
     "end_time": "2023-10-14T14:49:23.000117",
     "exception": false,
     "start_time": "2023-10-14T14:49:22.969968",
     "status": "completed"
    },
    "tags": []
   },
   "source": [
    "Train the model on full data"
   ]
  },
  {
   "cell_type": "code",
   "execution_count": 46,
   "id": "2ec52957",
   "metadata": {
    "execution": {
     "iopub.execute_input": "2023-10-14T14:49:23.060299Z",
     "iopub.status.busy": "2023-10-14T14:49:23.059937Z",
     "iopub.status.idle": "2023-10-14T14:49:31.609987Z",
     "shell.execute_reply": "2023-10-14T14:49:31.609011Z"
    },
    "papermill": {
     "duration": 8.583433,
     "end_time": "2023-10-14T14:49:31.612277",
     "exception": false,
     "start_time": "2023-10-14T14:49:23.028844",
     "status": "completed"
    },
    "tags": []
   },
   "outputs": [],
   "source": [
    "model_4.compile(loss=\"mae\", \n",
    "                optimizer=tf.keras.optimizers.Adam(),\n",
    "                metrics=[custom_mean_rowwise_rmse])\n",
    "\n",
    "history_4 = model_4.fit(full_features, full_labels,\n",
    "                       epochs=50,\n",
    "                       verbose=0)"
   ]
  },
  {
   "cell_type": "code",
   "execution_count": 47,
   "id": "fc7708b7",
   "metadata": {
    "execution": {
     "iopub.execute_input": "2023-10-14T14:49:31.673965Z",
     "iopub.status.busy": "2023-10-14T14:49:31.673646Z",
     "iopub.status.idle": "2023-10-14T14:49:33.431873Z",
     "shell.execute_reply": "2023-10-14T14:49:33.430481Z"
    },
    "papermill": {
     "duration": 1.790863,
     "end_time": "2023-10-14T14:49:33.433773",
     "exception": false,
     "start_time": "2023-10-14T14:49:31.642910",
     "status": "completed"
    },
    "tags": []
   },
   "outputs": [
    {
     "name": "stdout",
     "output_type": "stream",
     "text": [
      "614/614 [==============================] - 1s 2ms/step\n",
      "Mean Absolute Error (MAE): 0.564304402767055\n",
      "Mean Rowwise Root Mean Squared Error (MRRMSE): 0.9384356287054081\n"
     ]
    }
   ],
   "source": [
    "calculate_mae_and_mrrmse(model=model_4, data=full_features, y_true=full_labels)"
   ]
  },
  {
   "cell_type": "markdown",
   "id": "9d266585",
   "metadata": {
    "papermill": {
     "duration": 0.029536,
     "end_time": "2023-10-14T14:49:33.494970",
     "exception": false,
     "start_time": "2023-10-14T14:49:33.465434",
     "status": "completed"
    },
    "tags": []
   },
   "source": [
    "# Predicting on test data "
   ]
  },
  {
   "cell_type": "code",
   "execution_count": 48,
   "id": "f5db99d6",
   "metadata": {
    "execution": {
     "iopub.execute_input": "2023-10-14T14:49:33.556629Z",
     "iopub.status.busy": "2023-10-14T14:49:33.555758Z",
     "iopub.status.idle": "2023-10-14T14:49:34.228266Z",
     "shell.execute_reply": "2023-10-14T14:49:34.227295Z"
    },
    "papermill": {
     "duration": 0.705899,
     "end_time": "2023-10-14T14:49:34.230547",
     "exception": false,
     "start_time": "2023-10-14T14:49:33.524648",
     "status": "completed"
    },
    "tags": []
   },
   "outputs": [
    {
     "name": "stdout",
     "output_type": "stream",
     "text": [
      "255/255 [==============================] - 0s 2ms/step\n"
     ]
    }
   ],
   "source": [
    "preds = model_4.predict(one_hot_test.toarray(), batch_size=1)"
   ]
  },
  {
   "cell_type": "code",
   "execution_count": 49,
   "id": "680e51fa",
   "metadata": {
    "execution": {
     "iopub.execute_input": "2023-10-14T14:49:34.295358Z",
     "iopub.status.busy": "2023-10-14T14:49:34.294537Z",
     "iopub.status.idle": "2023-10-14T14:49:34.300387Z",
     "shell.execute_reply": "2023-10-14T14:49:34.299507Z"
    },
    "papermill": {
     "duration": 0.039649,
     "end_time": "2023-10-14T14:49:34.302126",
     "exception": false,
     "start_time": "2023-10-14T14:49:34.262477",
     "status": "completed"
    },
    "tags": []
   },
   "outputs": [
    {
     "data": {
      "text/plain": [
       "(255, 18211)"
      ]
     },
     "execution_count": 49,
     "metadata": {},
     "output_type": "execute_result"
    }
   ],
   "source": [
    "preds.shape "
   ]
  },
  {
   "cell_type": "code",
   "execution_count": 50,
   "id": "0d3367a6",
   "metadata": {
    "execution": {
     "iopub.execute_input": "2023-10-14T14:49:34.366504Z",
     "iopub.status.busy": "2023-10-14T14:49:34.366180Z",
     "iopub.status.idle": "2023-10-14T14:49:34.371076Z",
     "shell.execute_reply": "2023-10-14T14:49:34.370119Z"
    },
    "papermill": {
     "duration": 0.038208,
     "end_time": "2023-10-14T14:49:34.372900",
     "exception": false,
     "start_time": "2023-10-14T14:49:34.334692",
     "status": "completed"
    },
    "tags": []
   },
   "outputs": [],
   "source": [
    "sample_columns = sample_submission.columns\n",
    "sample_columns= sample_columns[1:]\n",
    "submission_df = pd.DataFrame(preds, columns=sample_columns)"
   ]
  },
  {
   "cell_type": "code",
   "execution_count": 51,
   "id": "08e81ec9",
   "metadata": {
    "execution": {
     "iopub.execute_input": "2023-10-14T14:49:34.435791Z",
     "iopub.status.busy": "2023-10-14T14:49:34.435473Z",
     "iopub.status.idle": "2023-10-14T14:49:34.442458Z",
     "shell.execute_reply": "2023-10-14T14:49:34.441575Z"
    },
    "papermill": {
     "duration": 0.040776,
     "end_time": "2023-10-14T14:49:34.444110",
     "exception": false,
     "start_time": "2023-10-14T14:49:34.403334",
     "status": "completed"
    },
    "tags": []
   },
   "outputs": [],
   "source": [
    "submission_df.insert(0, 'id', range(255))"
   ]
  },
  {
   "cell_type": "code",
   "execution_count": 52,
   "id": "b564ea6e",
   "metadata": {
    "execution": {
     "iopub.execute_input": "2023-10-14T14:49:34.505916Z",
     "iopub.status.busy": "2023-10-14T14:49:34.505627Z",
     "iopub.status.idle": "2023-10-14T14:49:34.539615Z",
     "shell.execute_reply": "2023-10-14T14:49:34.538439Z"
    },
    "papermill": {
     "duration": 0.067027,
     "end_time": "2023-10-14T14:49:34.541355",
     "exception": false,
     "start_time": "2023-10-14T14:49:34.474328",
     "status": "completed"
    },
    "tags": []
   },
   "outputs": [
    {
     "data": {
      "text/html": [
       "<div>\n",
       "<style scoped>\n",
       "    .dataframe tbody tr th:only-of-type {\n",
       "        vertical-align: middle;\n",
       "    }\n",
       "\n",
       "    .dataframe tbody tr th {\n",
       "        vertical-align: top;\n",
       "    }\n",
       "\n",
       "    .dataframe thead th {\n",
       "        text-align: right;\n",
       "    }\n",
       "</style>\n",
       "<table border=\"1\" class=\"dataframe\">\n",
       "  <thead>\n",
       "    <tr style=\"text-align: right;\">\n",
       "      <th></th>\n",
       "      <th>id</th>\n",
       "      <th>A1BG</th>\n",
       "      <th>A1BG-AS1</th>\n",
       "      <th>A2M</th>\n",
       "      <th>A2M-AS1</th>\n",
       "      <th>A2MP1</th>\n",
       "      <th>A4GALT</th>\n",
       "      <th>AAAS</th>\n",
       "      <th>AACS</th>\n",
       "      <th>AAGAB</th>\n",
       "      <th>...</th>\n",
       "      <th>ZUP1</th>\n",
       "      <th>ZW10</th>\n",
       "      <th>ZWILCH</th>\n",
       "      <th>ZWINT</th>\n",
       "      <th>ZXDA</th>\n",
       "      <th>ZXDB</th>\n",
       "      <th>ZXDC</th>\n",
       "      <th>ZYG11B</th>\n",
       "      <th>ZYX</th>\n",
       "      <th>ZZEF1</th>\n",
       "    </tr>\n",
       "  </thead>\n",
       "  <tbody>\n",
       "    <tr>\n",
       "      <th>0</th>\n",
       "      <td>0</td>\n",
       "      <td>0.0</td>\n",
       "      <td>0.0</td>\n",
       "      <td>0.0</td>\n",
       "      <td>0.0</td>\n",
       "      <td>0.0</td>\n",
       "      <td>0.0</td>\n",
       "      <td>0.0</td>\n",
       "      <td>0.0</td>\n",
       "      <td>0.0</td>\n",
       "      <td>...</td>\n",
       "      <td>0.0</td>\n",
       "      <td>0.0</td>\n",
       "      <td>0.0</td>\n",
       "      <td>0.0</td>\n",
       "      <td>0.0</td>\n",
       "      <td>0.0</td>\n",
       "      <td>0.0</td>\n",
       "      <td>0.0</td>\n",
       "      <td>0.0</td>\n",
       "      <td>0.0</td>\n",
       "    </tr>\n",
       "    <tr>\n",
       "      <th>1</th>\n",
       "      <td>1</td>\n",
       "      <td>0.0</td>\n",
       "      <td>0.0</td>\n",
       "      <td>0.0</td>\n",
       "      <td>0.0</td>\n",
       "      <td>0.0</td>\n",
       "      <td>0.0</td>\n",
       "      <td>0.0</td>\n",
       "      <td>0.0</td>\n",
       "      <td>0.0</td>\n",
       "      <td>...</td>\n",
       "      <td>0.0</td>\n",
       "      <td>0.0</td>\n",
       "      <td>0.0</td>\n",
       "      <td>0.0</td>\n",
       "      <td>0.0</td>\n",
       "      <td>0.0</td>\n",
       "      <td>0.0</td>\n",
       "      <td>0.0</td>\n",
       "      <td>0.0</td>\n",
       "      <td>0.0</td>\n",
       "    </tr>\n",
       "    <tr>\n",
       "      <th>2</th>\n",
       "      <td>2</td>\n",
       "      <td>0.0</td>\n",
       "      <td>0.0</td>\n",
       "      <td>0.0</td>\n",
       "      <td>0.0</td>\n",
       "      <td>0.0</td>\n",
       "      <td>0.0</td>\n",
       "      <td>0.0</td>\n",
       "      <td>0.0</td>\n",
       "      <td>0.0</td>\n",
       "      <td>...</td>\n",
       "      <td>0.0</td>\n",
       "      <td>0.0</td>\n",
       "      <td>0.0</td>\n",
       "      <td>0.0</td>\n",
       "      <td>0.0</td>\n",
       "      <td>0.0</td>\n",
       "      <td>0.0</td>\n",
       "      <td>0.0</td>\n",
       "      <td>0.0</td>\n",
       "      <td>0.0</td>\n",
       "    </tr>\n",
       "    <tr>\n",
       "      <th>3</th>\n",
       "      <td>3</td>\n",
       "      <td>0.0</td>\n",
       "      <td>0.0</td>\n",
       "      <td>0.0</td>\n",
       "      <td>0.0</td>\n",
       "      <td>0.0</td>\n",
       "      <td>0.0</td>\n",
       "      <td>0.0</td>\n",
       "      <td>0.0</td>\n",
       "      <td>0.0</td>\n",
       "      <td>...</td>\n",
       "      <td>0.0</td>\n",
       "      <td>0.0</td>\n",
       "      <td>0.0</td>\n",
       "      <td>0.0</td>\n",
       "      <td>0.0</td>\n",
       "      <td>0.0</td>\n",
       "      <td>0.0</td>\n",
       "      <td>0.0</td>\n",
       "      <td>0.0</td>\n",
       "      <td>0.0</td>\n",
       "    </tr>\n",
       "    <tr>\n",
       "      <th>4</th>\n",
       "      <td>4</td>\n",
       "      <td>0.0</td>\n",
       "      <td>0.0</td>\n",
       "      <td>0.0</td>\n",
       "      <td>0.0</td>\n",
       "      <td>0.0</td>\n",
       "      <td>0.0</td>\n",
       "      <td>0.0</td>\n",
       "      <td>0.0</td>\n",
       "      <td>0.0</td>\n",
       "      <td>...</td>\n",
       "      <td>0.0</td>\n",
       "      <td>0.0</td>\n",
       "      <td>0.0</td>\n",
       "      <td>0.0</td>\n",
       "      <td>0.0</td>\n",
       "      <td>0.0</td>\n",
       "      <td>0.0</td>\n",
       "      <td>0.0</td>\n",
       "      <td>0.0</td>\n",
       "      <td>0.0</td>\n",
       "    </tr>\n",
       "    <tr>\n",
       "      <th>...</th>\n",
       "      <td>...</td>\n",
       "      <td>...</td>\n",
       "      <td>...</td>\n",
       "      <td>...</td>\n",
       "      <td>...</td>\n",
       "      <td>...</td>\n",
       "      <td>...</td>\n",
       "      <td>...</td>\n",
       "      <td>...</td>\n",
       "      <td>...</td>\n",
       "      <td>...</td>\n",
       "      <td>...</td>\n",
       "      <td>...</td>\n",
       "      <td>...</td>\n",
       "      <td>...</td>\n",
       "      <td>...</td>\n",
       "      <td>...</td>\n",
       "      <td>...</td>\n",
       "      <td>...</td>\n",
       "      <td>...</td>\n",
       "      <td>...</td>\n",
       "    </tr>\n",
       "    <tr>\n",
       "      <th>250</th>\n",
       "      <td>250</td>\n",
       "      <td>0.0</td>\n",
       "      <td>0.0</td>\n",
       "      <td>0.0</td>\n",
       "      <td>0.0</td>\n",
       "      <td>0.0</td>\n",
       "      <td>0.0</td>\n",
       "      <td>0.0</td>\n",
       "      <td>0.0</td>\n",
       "      <td>0.0</td>\n",
       "      <td>...</td>\n",
       "      <td>0.0</td>\n",
       "      <td>0.0</td>\n",
       "      <td>0.0</td>\n",
       "      <td>0.0</td>\n",
       "      <td>0.0</td>\n",
       "      <td>0.0</td>\n",
       "      <td>0.0</td>\n",
       "      <td>0.0</td>\n",
       "      <td>0.0</td>\n",
       "      <td>0.0</td>\n",
       "    </tr>\n",
       "    <tr>\n",
       "      <th>251</th>\n",
       "      <td>251</td>\n",
       "      <td>0.0</td>\n",
       "      <td>0.0</td>\n",
       "      <td>0.0</td>\n",
       "      <td>0.0</td>\n",
       "      <td>0.0</td>\n",
       "      <td>0.0</td>\n",
       "      <td>0.0</td>\n",
       "      <td>0.0</td>\n",
       "      <td>0.0</td>\n",
       "      <td>...</td>\n",
       "      <td>0.0</td>\n",
       "      <td>0.0</td>\n",
       "      <td>0.0</td>\n",
       "      <td>0.0</td>\n",
       "      <td>0.0</td>\n",
       "      <td>0.0</td>\n",
       "      <td>0.0</td>\n",
       "      <td>0.0</td>\n",
       "      <td>0.0</td>\n",
       "      <td>0.0</td>\n",
       "    </tr>\n",
       "    <tr>\n",
       "      <th>252</th>\n",
       "      <td>252</td>\n",
       "      <td>0.0</td>\n",
       "      <td>0.0</td>\n",
       "      <td>0.0</td>\n",
       "      <td>0.0</td>\n",
       "      <td>0.0</td>\n",
       "      <td>0.0</td>\n",
       "      <td>0.0</td>\n",
       "      <td>0.0</td>\n",
       "      <td>0.0</td>\n",
       "      <td>...</td>\n",
       "      <td>0.0</td>\n",
       "      <td>0.0</td>\n",
       "      <td>0.0</td>\n",
       "      <td>0.0</td>\n",
       "      <td>0.0</td>\n",
       "      <td>0.0</td>\n",
       "      <td>0.0</td>\n",
       "      <td>0.0</td>\n",
       "      <td>0.0</td>\n",
       "      <td>0.0</td>\n",
       "    </tr>\n",
       "    <tr>\n",
       "      <th>253</th>\n",
       "      <td>253</td>\n",
       "      <td>0.0</td>\n",
       "      <td>0.0</td>\n",
       "      <td>0.0</td>\n",
       "      <td>0.0</td>\n",
       "      <td>0.0</td>\n",
       "      <td>0.0</td>\n",
       "      <td>0.0</td>\n",
       "      <td>0.0</td>\n",
       "      <td>0.0</td>\n",
       "      <td>...</td>\n",
       "      <td>0.0</td>\n",
       "      <td>0.0</td>\n",
       "      <td>0.0</td>\n",
       "      <td>0.0</td>\n",
       "      <td>0.0</td>\n",
       "      <td>0.0</td>\n",
       "      <td>0.0</td>\n",
       "      <td>0.0</td>\n",
       "      <td>0.0</td>\n",
       "      <td>0.0</td>\n",
       "    </tr>\n",
       "    <tr>\n",
       "      <th>254</th>\n",
       "      <td>254</td>\n",
       "      <td>0.0</td>\n",
       "      <td>0.0</td>\n",
       "      <td>0.0</td>\n",
       "      <td>0.0</td>\n",
       "      <td>0.0</td>\n",
       "      <td>0.0</td>\n",
       "      <td>0.0</td>\n",
       "      <td>0.0</td>\n",
       "      <td>0.0</td>\n",
       "      <td>...</td>\n",
       "      <td>0.0</td>\n",
       "      <td>0.0</td>\n",
       "      <td>0.0</td>\n",
       "      <td>0.0</td>\n",
       "      <td>0.0</td>\n",
       "      <td>0.0</td>\n",
       "      <td>0.0</td>\n",
       "      <td>0.0</td>\n",
       "      <td>0.0</td>\n",
       "      <td>0.0</td>\n",
       "    </tr>\n",
       "  </tbody>\n",
       "</table>\n",
       "<p>255 rows × 18212 columns</p>\n",
       "</div>"
      ],
      "text/plain": [
       "      id  A1BG  A1BG-AS1  A2M  A2M-AS1  A2MP1  A4GALT  AAAS  AACS  AAGAB  ...  \\\n",
       "0      0   0.0       0.0  0.0      0.0    0.0     0.0   0.0   0.0    0.0  ...   \n",
       "1      1   0.0       0.0  0.0      0.0    0.0     0.0   0.0   0.0    0.0  ...   \n",
       "2      2   0.0       0.0  0.0      0.0    0.0     0.0   0.0   0.0    0.0  ...   \n",
       "3      3   0.0       0.0  0.0      0.0    0.0     0.0   0.0   0.0    0.0  ...   \n",
       "4      4   0.0       0.0  0.0      0.0    0.0     0.0   0.0   0.0    0.0  ...   \n",
       "..   ...   ...       ...  ...      ...    ...     ...   ...   ...    ...  ...   \n",
       "250  250   0.0       0.0  0.0      0.0    0.0     0.0   0.0   0.0    0.0  ...   \n",
       "251  251   0.0       0.0  0.0      0.0    0.0     0.0   0.0   0.0    0.0  ...   \n",
       "252  252   0.0       0.0  0.0      0.0    0.0     0.0   0.0   0.0    0.0  ...   \n",
       "253  253   0.0       0.0  0.0      0.0    0.0     0.0   0.0   0.0    0.0  ...   \n",
       "254  254   0.0       0.0  0.0      0.0    0.0     0.0   0.0   0.0    0.0  ...   \n",
       "\n",
       "     ZUP1  ZW10  ZWILCH  ZWINT  ZXDA  ZXDB  ZXDC  ZYG11B  ZYX  ZZEF1  \n",
       "0     0.0   0.0     0.0    0.0   0.0   0.0   0.0     0.0  0.0    0.0  \n",
       "1     0.0   0.0     0.0    0.0   0.0   0.0   0.0     0.0  0.0    0.0  \n",
       "2     0.0   0.0     0.0    0.0   0.0   0.0   0.0     0.0  0.0    0.0  \n",
       "3     0.0   0.0     0.0    0.0   0.0   0.0   0.0     0.0  0.0    0.0  \n",
       "4     0.0   0.0     0.0    0.0   0.0   0.0   0.0     0.0  0.0    0.0  \n",
       "..    ...   ...     ...    ...   ...   ...   ...     ...  ...    ...  \n",
       "250   0.0   0.0     0.0    0.0   0.0   0.0   0.0     0.0  0.0    0.0  \n",
       "251   0.0   0.0     0.0    0.0   0.0   0.0   0.0     0.0  0.0    0.0  \n",
       "252   0.0   0.0     0.0    0.0   0.0   0.0   0.0     0.0  0.0    0.0  \n",
       "253   0.0   0.0     0.0    0.0   0.0   0.0   0.0     0.0  0.0    0.0  \n",
       "254   0.0   0.0     0.0    0.0   0.0   0.0   0.0     0.0  0.0    0.0  \n",
       "\n",
       "[255 rows x 18212 columns]"
      ]
     },
     "execution_count": 52,
     "metadata": {},
     "output_type": "execute_result"
    }
   ],
   "source": [
    "sample_submission"
   ]
  },
  {
   "cell_type": "code",
   "execution_count": 53,
   "id": "6982775a",
   "metadata": {
    "execution": {
     "iopub.execute_input": "2023-10-14T14:49:34.605627Z",
     "iopub.status.busy": "2023-10-14T14:49:34.605023Z",
     "iopub.status.idle": "2023-10-14T14:49:34.629564Z",
     "shell.execute_reply": "2023-10-14T14:49:34.628637Z"
    },
    "papermill": {
     "duration": 0.057939,
     "end_time": "2023-10-14T14:49:34.631139",
     "exception": false,
     "start_time": "2023-10-14T14:49:34.573200",
     "status": "completed"
    },
    "tags": []
   },
   "outputs": [
    {
     "data": {
      "text/html": [
       "<div>\n",
       "<style scoped>\n",
       "    .dataframe tbody tr th:only-of-type {\n",
       "        vertical-align: middle;\n",
       "    }\n",
       "\n",
       "    .dataframe tbody tr th {\n",
       "        vertical-align: top;\n",
       "    }\n",
       "\n",
       "    .dataframe thead th {\n",
       "        text-align: right;\n",
       "    }\n",
       "</style>\n",
       "<table border=\"1\" class=\"dataframe\">\n",
       "  <thead>\n",
       "    <tr style=\"text-align: right;\">\n",
       "      <th></th>\n",
       "      <th>id</th>\n",
       "      <th>A1BG</th>\n",
       "      <th>A1BG-AS1</th>\n",
       "      <th>A2M</th>\n",
       "      <th>A2M-AS1</th>\n",
       "      <th>A2MP1</th>\n",
       "      <th>A4GALT</th>\n",
       "      <th>AAAS</th>\n",
       "      <th>AACS</th>\n",
       "      <th>AAGAB</th>\n",
       "      <th>...</th>\n",
       "      <th>ZUP1</th>\n",
       "      <th>ZW10</th>\n",
       "      <th>ZWILCH</th>\n",
       "      <th>ZWINT</th>\n",
       "      <th>ZXDA</th>\n",
       "      <th>ZXDB</th>\n",
       "      <th>ZXDC</th>\n",
       "      <th>ZYG11B</th>\n",
       "      <th>ZYX</th>\n",
       "      <th>ZZEF1</th>\n",
       "    </tr>\n",
       "  </thead>\n",
       "  <tbody>\n",
       "    <tr>\n",
       "      <th>0</th>\n",
       "      <td>0</td>\n",
       "      <td>0.058656</td>\n",
       "      <td>0.084829</td>\n",
       "      <td>0.041478</td>\n",
       "      <td>-0.006555</td>\n",
       "      <td>0.071967</td>\n",
       "      <td>0.298666</td>\n",
       "      <td>-0.006910</td>\n",
       "      <td>0.176319</td>\n",
       "      <td>-0.060327</td>\n",
       "      <td>...</td>\n",
       "      <td>-0.009104</td>\n",
       "      <td>0.014548</td>\n",
       "      <td>0.019719</td>\n",
       "      <td>0.023061</td>\n",
       "      <td>0.082669</td>\n",
       "      <td>0.108950</td>\n",
       "      <td>0.110113</td>\n",
       "      <td>0.071378</td>\n",
       "      <td>-0.081469</td>\n",
       "      <td>-0.029372</td>\n",
       "    </tr>\n",
       "    <tr>\n",
       "      <th>1</th>\n",
       "      <td>1</td>\n",
       "      <td>0.077248</td>\n",
       "      <td>0.096428</td>\n",
       "      <td>0.044974</td>\n",
       "      <td>0.007320</td>\n",
       "      <td>0.073675</td>\n",
       "      <td>0.264973</td>\n",
       "      <td>0.006825</td>\n",
       "      <td>0.176221</td>\n",
       "      <td>-0.070217</td>\n",
       "      <td>...</td>\n",
       "      <td>0.029059</td>\n",
       "      <td>0.012872</td>\n",
       "      <td>-0.018850</td>\n",
       "      <td>0.050113</td>\n",
       "      <td>0.073978</td>\n",
       "      <td>0.143714</td>\n",
       "      <td>0.123214</td>\n",
       "      <td>0.081424</td>\n",
       "      <td>-0.081989</td>\n",
       "      <td>-0.045388</td>\n",
       "    </tr>\n",
       "    <tr>\n",
       "      <th>2</th>\n",
       "      <td>2</td>\n",
       "      <td>0.201182</td>\n",
       "      <td>0.180457</td>\n",
       "      <td>-0.085319</td>\n",
       "      <td>-0.075884</td>\n",
       "      <td>0.330882</td>\n",
       "      <td>0.784457</td>\n",
       "      <td>0.039530</td>\n",
       "      <td>0.308344</td>\n",
       "      <td>-0.087607</td>\n",
       "      <td>...</td>\n",
       "      <td>0.112614</td>\n",
       "      <td>-0.006560</td>\n",
       "      <td>-0.001862</td>\n",
       "      <td>0.069730</td>\n",
       "      <td>0.135106</td>\n",
       "      <td>0.208680</td>\n",
       "      <td>0.154809</td>\n",
       "      <td>0.119230</td>\n",
       "      <td>-0.173375</td>\n",
       "      <td>-0.033169</td>\n",
       "    </tr>\n",
       "    <tr>\n",
       "      <th>3</th>\n",
       "      <td>3</td>\n",
       "      <td>0.095326</td>\n",
       "      <td>0.125605</td>\n",
       "      <td>0.060981</td>\n",
       "      <td>0.001051</td>\n",
       "      <td>0.096801</td>\n",
       "      <td>0.310376</td>\n",
       "      <td>0.023895</td>\n",
       "      <td>0.188974</td>\n",
       "      <td>-0.070244</td>\n",
       "      <td>...</td>\n",
       "      <td>0.037214</td>\n",
       "      <td>0.027863</td>\n",
       "      <td>-0.005479</td>\n",
       "      <td>0.076149</td>\n",
       "      <td>0.086393</td>\n",
       "      <td>0.161618</td>\n",
       "      <td>0.132884</td>\n",
       "      <td>0.091859</td>\n",
       "      <td>-0.079984</td>\n",
       "      <td>-0.045854</td>\n",
       "    </tr>\n",
       "    <tr>\n",
       "      <th>4</th>\n",
       "      <td>4</td>\n",
       "      <td>0.054463</td>\n",
       "      <td>0.075396</td>\n",
       "      <td>0.030824</td>\n",
       "      <td>0.009202</td>\n",
       "      <td>0.091088</td>\n",
       "      <td>0.267065</td>\n",
       "      <td>-0.011238</td>\n",
       "      <td>0.174185</td>\n",
       "      <td>-0.066075</td>\n",
       "      <td>...</td>\n",
       "      <td>0.007198</td>\n",
       "      <td>-0.002556</td>\n",
       "      <td>-0.004181</td>\n",
       "      <td>0.022756</td>\n",
       "      <td>0.066136</td>\n",
       "      <td>0.108525</td>\n",
       "      <td>0.110468</td>\n",
       "      <td>0.070625</td>\n",
       "      <td>-0.089982</td>\n",
       "      <td>-0.033117</td>\n",
       "    </tr>\n",
       "    <tr>\n",
       "      <th>...</th>\n",
       "      <td>...</td>\n",
       "      <td>...</td>\n",
       "      <td>...</td>\n",
       "      <td>...</td>\n",
       "      <td>...</td>\n",
       "      <td>...</td>\n",
       "      <td>...</td>\n",
       "      <td>...</td>\n",
       "      <td>...</td>\n",
       "      <td>...</td>\n",
       "      <td>...</td>\n",
       "      <td>...</td>\n",
       "      <td>...</td>\n",
       "      <td>...</td>\n",
       "      <td>...</td>\n",
       "      <td>...</td>\n",
       "      <td>...</td>\n",
       "      <td>...</td>\n",
       "      <td>...</td>\n",
       "      <td>...</td>\n",
       "      <td>...</td>\n",
       "    </tr>\n",
       "    <tr>\n",
       "      <th>250</th>\n",
       "      <td>250</td>\n",
       "      <td>-0.053572</td>\n",
       "      <td>-0.060716</td>\n",
       "      <td>-0.111814</td>\n",
       "      <td>-0.000067</td>\n",
       "      <td>-0.060807</td>\n",
       "      <td>-0.208394</td>\n",
       "      <td>-0.047730</td>\n",
       "      <td>0.001310</td>\n",
       "      <td>-0.072682</td>\n",
       "      <td>...</td>\n",
       "      <td>0.033506</td>\n",
       "      <td>-0.090983</td>\n",
       "      <td>-0.206710</td>\n",
       "      <td>-0.099534</td>\n",
       "      <td>-0.065150</td>\n",
       "      <td>-0.009158</td>\n",
       "      <td>0.044430</td>\n",
       "      <td>0.028925</td>\n",
       "      <td>-0.045724</td>\n",
       "      <td>-0.088080</td>\n",
       "    </tr>\n",
       "    <tr>\n",
       "      <th>251</th>\n",
       "      <td>251</td>\n",
       "      <td>0.180742</td>\n",
       "      <td>0.131148</td>\n",
       "      <td>-0.049504</td>\n",
       "      <td>0.044116</td>\n",
       "      <td>0.557140</td>\n",
       "      <td>0.667222</td>\n",
       "      <td>0.015402</td>\n",
       "      <td>0.208871</td>\n",
       "      <td>-0.085477</td>\n",
       "      <td>...</td>\n",
       "      <td>0.051449</td>\n",
       "      <td>-0.018536</td>\n",
       "      <td>-0.039308</td>\n",
       "      <td>0.022471</td>\n",
       "      <td>0.198561</td>\n",
       "      <td>0.184332</td>\n",
       "      <td>0.128112</td>\n",
       "      <td>0.080426</td>\n",
       "      <td>-0.159273</td>\n",
       "      <td>-0.047116</td>\n",
       "    </tr>\n",
       "    <tr>\n",
       "      <th>252</th>\n",
       "      <td>252</td>\n",
       "      <td>0.407168</td>\n",
       "      <td>0.285824</td>\n",
       "      <td>-0.043890</td>\n",
       "      <td>0.512023</td>\n",
       "      <td>1.859536</td>\n",
       "      <td>0.858017</td>\n",
       "      <td>0.096568</td>\n",
       "      <td>-0.013393</td>\n",
       "      <td>-0.196093</td>\n",
       "      <td>...</td>\n",
       "      <td>-0.090866</td>\n",
       "      <td>-0.099104</td>\n",
       "      <td>-0.195944</td>\n",
       "      <td>-0.210490</td>\n",
       "      <td>0.453260</td>\n",
       "      <td>0.237137</td>\n",
       "      <td>0.105150</td>\n",
       "      <td>0.093705</td>\n",
       "      <td>-0.124522</td>\n",
       "      <td>-0.119134</td>\n",
       "    </tr>\n",
       "    <tr>\n",
       "      <th>253</th>\n",
       "      <td>253</td>\n",
       "      <td>0.986609</td>\n",
       "      <td>0.501370</td>\n",
       "      <td>-0.193621</td>\n",
       "      <td>0.743153</td>\n",
       "      <td>4.440107</td>\n",
       "      <td>2.930522</td>\n",
       "      <td>0.143669</td>\n",
       "      <td>0.265520</td>\n",
       "      <td>-0.128725</td>\n",
       "      <td>...</td>\n",
       "      <td>0.032751</td>\n",
       "      <td>-0.024638</td>\n",
       "      <td>-0.110254</td>\n",
       "      <td>0.069544</td>\n",
       "      <td>1.324293</td>\n",
       "      <td>0.489029</td>\n",
       "      <td>0.200308</td>\n",
       "      <td>0.042242</td>\n",
       "      <td>-0.420101</td>\n",
       "      <td>-0.033723</td>\n",
       "    </tr>\n",
       "    <tr>\n",
       "      <th>254</th>\n",
       "      <td>254</td>\n",
       "      <td>0.172283</td>\n",
       "      <td>0.152247</td>\n",
       "      <td>0.036746</td>\n",
       "      <td>0.001766</td>\n",
       "      <td>0.273055</td>\n",
       "      <td>0.507983</td>\n",
       "      <td>0.045587</td>\n",
       "      <td>0.235499</td>\n",
       "      <td>-0.068244</td>\n",
       "      <td>...</td>\n",
       "      <td>0.088931</td>\n",
       "      <td>0.040973</td>\n",
       "      <td>-0.019212</td>\n",
       "      <td>0.120922</td>\n",
       "      <td>0.158275</td>\n",
       "      <td>0.224791</td>\n",
       "      <td>0.155064</td>\n",
       "      <td>0.100895</td>\n",
       "      <td>-0.109909</td>\n",
       "      <td>-0.054775</td>\n",
       "    </tr>\n",
       "  </tbody>\n",
       "</table>\n",
       "<p>255 rows × 18212 columns</p>\n",
       "</div>"
      ],
      "text/plain": [
       "      id      A1BG  A1BG-AS1       A2M   A2M-AS1     A2MP1    A4GALT  \\\n",
       "0      0  0.058656  0.084829  0.041478 -0.006555  0.071967  0.298666   \n",
       "1      1  0.077248  0.096428  0.044974  0.007320  0.073675  0.264973   \n",
       "2      2  0.201182  0.180457 -0.085319 -0.075884  0.330882  0.784457   \n",
       "3      3  0.095326  0.125605  0.060981  0.001051  0.096801  0.310376   \n",
       "4      4  0.054463  0.075396  0.030824  0.009202  0.091088  0.267065   \n",
       "..   ...       ...       ...       ...       ...       ...       ...   \n",
       "250  250 -0.053572 -0.060716 -0.111814 -0.000067 -0.060807 -0.208394   \n",
       "251  251  0.180742  0.131148 -0.049504  0.044116  0.557140  0.667222   \n",
       "252  252  0.407168  0.285824 -0.043890  0.512023  1.859536  0.858017   \n",
       "253  253  0.986609  0.501370 -0.193621  0.743153  4.440107  2.930522   \n",
       "254  254  0.172283  0.152247  0.036746  0.001766  0.273055  0.507983   \n",
       "\n",
       "         AAAS      AACS     AAGAB  ...      ZUP1      ZW10    ZWILCH  \\\n",
       "0   -0.006910  0.176319 -0.060327  ... -0.009104  0.014548  0.019719   \n",
       "1    0.006825  0.176221 -0.070217  ...  0.029059  0.012872 -0.018850   \n",
       "2    0.039530  0.308344 -0.087607  ...  0.112614 -0.006560 -0.001862   \n",
       "3    0.023895  0.188974 -0.070244  ...  0.037214  0.027863 -0.005479   \n",
       "4   -0.011238  0.174185 -0.066075  ...  0.007198 -0.002556 -0.004181   \n",
       "..        ...       ...       ...  ...       ...       ...       ...   \n",
       "250 -0.047730  0.001310 -0.072682  ...  0.033506 -0.090983 -0.206710   \n",
       "251  0.015402  0.208871 -0.085477  ...  0.051449 -0.018536 -0.039308   \n",
       "252  0.096568 -0.013393 -0.196093  ... -0.090866 -0.099104 -0.195944   \n",
       "253  0.143669  0.265520 -0.128725  ...  0.032751 -0.024638 -0.110254   \n",
       "254  0.045587  0.235499 -0.068244  ...  0.088931  0.040973 -0.019212   \n",
       "\n",
       "        ZWINT      ZXDA      ZXDB      ZXDC    ZYG11B       ZYX     ZZEF1  \n",
       "0    0.023061  0.082669  0.108950  0.110113  0.071378 -0.081469 -0.029372  \n",
       "1    0.050113  0.073978  0.143714  0.123214  0.081424 -0.081989 -0.045388  \n",
       "2    0.069730  0.135106  0.208680  0.154809  0.119230 -0.173375 -0.033169  \n",
       "3    0.076149  0.086393  0.161618  0.132884  0.091859 -0.079984 -0.045854  \n",
       "4    0.022756  0.066136  0.108525  0.110468  0.070625 -0.089982 -0.033117  \n",
       "..        ...       ...       ...       ...       ...       ...       ...  \n",
       "250 -0.099534 -0.065150 -0.009158  0.044430  0.028925 -0.045724 -0.088080  \n",
       "251  0.022471  0.198561  0.184332  0.128112  0.080426 -0.159273 -0.047116  \n",
       "252 -0.210490  0.453260  0.237137  0.105150  0.093705 -0.124522 -0.119134  \n",
       "253  0.069544  1.324293  0.489029  0.200308  0.042242 -0.420101 -0.033723  \n",
       "254  0.120922  0.158275  0.224791  0.155064  0.100895 -0.109909 -0.054775  \n",
       "\n",
       "[255 rows x 18212 columns]"
      ]
     },
     "execution_count": 53,
     "metadata": {},
     "output_type": "execute_result"
    }
   ],
   "source": [
    "submission_df"
   ]
  },
  {
   "cell_type": "code",
   "execution_count": 54,
   "id": "0e359673",
   "metadata": {
    "execution": {
     "iopub.execute_input": "2023-10-14T14:49:34.697945Z",
     "iopub.status.busy": "2023-10-14T14:49:34.697338Z",
     "iopub.status.idle": "2023-10-14T14:49:39.976479Z",
     "shell.execute_reply": "2023-10-14T14:49:39.975501Z"
    },
    "papermill": {
     "duration": 5.313979,
     "end_time": "2023-10-14T14:49:39.978789",
     "exception": false,
     "start_time": "2023-10-14T14:49:34.664810",
     "status": "completed"
    },
    "tags": []
   },
   "outputs": [],
   "source": [
    "submission_df.to_csv(\"submission.csv\", index=False)"
   ]
  },
  {
   "cell_type": "code",
   "execution_count": 55,
   "id": "2f02fffb",
   "metadata": {
    "execution": {
     "iopub.execute_input": "2023-10-14T14:49:40.044098Z",
     "iopub.status.busy": "2023-10-14T14:49:40.043786Z",
     "iopub.status.idle": "2023-10-14T14:49:46.267928Z",
     "shell.execute_reply": "2023-10-14T14:49:46.266782Z"
    },
    "papermill": {
     "duration": 6.258728,
     "end_time": "2023-10-14T14:49:46.270311",
     "exception": false,
     "start_time": "2023-10-14T14:49:40.011583",
     "status": "completed"
    },
    "tags": []
   },
   "outputs": [
    {
     "name": "stdout",
     "output_type": "stream",
     "text": [
      "  adding: kaggle/working/submission.csv (deflated 58%)\r\n"
     ]
    }
   ],
   "source": [
    "!zip submission_preds.zip /kaggle/working/submission.csv"
   ]
  },
  {
   "cell_type": "markdown",
   "id": "97ddadaa",
   "metadata": {
    "execution": {
     "iopub.execute_input": "2023-10-05T09:14:36.993577Z",
     "iopub.status.busy": "2023-10-05T09:14:36.993246Z",
     "iopub.status.idle": "2023-10-05T09:14:37.000183Z",
     "shell.execute_reply": "2023-10-05T09:14:36.999213Z",
     "shell.execute_reply.started": "2023-10-05T09:14:36.99355Z"
    },
    "papermill": {
     "duration": 0.030597,
     "end_time": "2023-10-14T14:49:46.332968",
     "exception": false,
     "start_time": "2023-10-14T14:49:46.302371",
     "status": "completed"
    },
    "tags": []
   },
   "source": [
    "V1\n"
   ]
  }
 ],
 "metadata": {
  "kernelspec": {
   "display_name": "Python 3",
   "language": "python",
   "name": "python3"
  },
  "language_info": {
   "codemirror_mode": {
    "name": "ipython",
    "version": 3
   },
   "file_extension": ".py",
   "mimetype": "text/x-python",
   "name": "python",
   "nbconvert_exporter": "python",
   "pygments_lexer": "ipython3",
   "version": "3.10.12"
  },
  "papermill": {
   "default_parameters": {},
   "duration": 171.413413,
   "end_time": "2023-10-14T14:49:49.774243",
   "environment_variables": {},
   "exception": null,
   "input_path": "__notebook__.ipynb",
   "output_path": "__notebook__.ipynb",
   "parameters": {},
   "start_time": "2023-10-14T14:46:58.360830",
   "version": "2.4.0"
  }
 },
 "nbformat": 4,
 "nbformat_minor": 5
}
