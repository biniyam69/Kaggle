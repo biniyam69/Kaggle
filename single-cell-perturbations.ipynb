{
 "cells": [
  {
   "cell_type": "markdown",
   "id": "4872f5f1",
   "metadata": {
    "_cell_guid": "b1076dfc-b9ad-4769-8c92-a6c4dae69d19",
    "_uuid": "8f2839f25d086af736a60e9eeb907d3b93b6e0e5",
    "papermill": {
     "duration": 0.010005,
     "end_time": "2023-10-14T14:34:09.915995",
     "exception": false,
     "start_time": "2023-10-14T14:34:09.905990",
     "status": "completed"
    },
    "tags": []
   },
   "source": [
    "# Neural Network Regression  \n",
    "In this notebook the goal is to levarge the power of neural networks and get lowest MRRMSE(Mean Rowwise Root Mean Sqared Error)"
   ]
  },
  {
   "cell_type": "code",
   "execution_count": 1,
   "id": "502647a1",
   "metadata": {
    "execution": {
     "iopub.execute_input": "2023-10-14T14:34:09.936748Z",
     "iopub.status.busy": "2023-10-14T14:34:09.936441Z",
     "iopub.status.idle": "2023-10-14T14:34:17.870485Z",
     "shell.execute_reply": "2023-10-14T14:34:17.869572Z"
    },
    "papermill": {
     "duration": 7.947182,
     "end_time": "2023-10-14T14:34:17.872664",
     "exception": false,
     "start_time": "2023-10-14T14:34:09.925482",
     "status": "completed"
    },
    "tags": []
   },
   "outputs": [
    {
     "name": "stderr",
     "output_type": "stream",
     "text": [
      "/opt/conda/lib/python3.10/site-packages/scipy/__init__.py:146: UserWarning: A NumPy version >=1.16.5 and <1.23.0 is required for this version of SciPy (detected version 1.23.5\n",
      "  warnings.warn(f\"A NumPy version >={np_minversion} and <{np_maxversion}\"\n"
     ]
    }
   ],
   "source": [
    "import pandas as pd\n",
    "import tensorflow as tf\n",
    "import numpy as np\n",
    "import matplotlib.pyplot as plt"
   ]
  },
  {
   "cell_type": "markdown",
   "id": "32c6ef80",
   "metadata": {
    "papermill": {
     "duration": 0.009234,
     "end_time": "2023-10-14T14:34:17.891739",
     "exception": false,
     "start_time": "2023-10-14T14:34:17.882505",
     "status": "completed"
    },
    "tags": []
   },
   "source": [
    "# Read data "
   ]
  },
  {
   "cell_type": "code",
   "execution_count": 2,
   "id": "e8e829f0",
   "metadata": {
    "execution": {
     "iopub.execute_input": "2023-10-14T14:34:17.912053Z",
     "iopub.status.busy": "2023-10-14T14:34:17.911518Z",
     "iopub.status.idle": "2023-10-14T14:34:22.470853Z",
     "shell.execute_reply": "2023-10-14T14:34:22.469912Z"
    },
    "papermill": {
     "duration": 4.571724,
     "end_time": "2023-10-14T14:34:22.473034",
     "exception": false,
     "start_time": "2023-10-14T14:34:17.901310",
     "status": "completed"
    },
    "tags": []
   },
   "outputs": [],
   "source": [
    "de_train =   pd.read_parquet(\"/kaggle/input/open-problems-single-cell-perturbations/de_train.parquet\")\n",
    "id_map = pd.read_csv(\"/kaggle/input/open-problems-single-cell-perturbations/id_map.csv\")\n",
    "sample_submission = pd.read_csv(\"/kaggle/input/open-problems-single-cell-perturbations/sample_submission.csv\")"
   ]
  },
  {
   "cell_type": "markdown",
   "id": "6d960235",
   "metadata": {
    "papermill": {
     "duration": 0.009717,
     "end_time": "2023-10-14T14:34:22.493235",
     "exception": false,
     "start_time": "2023-10-14T14:34:22.483518",
     "status": "completed"
    },
    "tags": []
   },
   "source": [
    "# Become one with data"
   ]
  },
  {
   "cell_type": "code",
   "execution_count": 3,
   "id": "c243302c",
   "metadata": {
    "execution": {
     "iopub.execute_input": "2023-10-14T14:34:22.513535Z",
     "iopub.status.busy": "2023-10-14T14:34:22.513228Z",
     "iopub.status.idle": "2023-10-14T14:34:22.545455Z",
     "shell.execute_reply": "2023-10-14T14:34:22.544543Z"
    },
    "papermill": {
     "duration": 0.044539,
     "end_time": "2023-10-14T14:34:22.547266",
     "exception": false,
     "start_time": "2023-10-14T14:34:22.502727",
     "status": "completed"
    },
    "tags": []
   },
   "outputs": [
    {
     "data": {
      "text/html": [
       "<div>\n",
       "<style scoped>\n",
       "    .dataframe tbody tr th:only-of-type {\n",
       "        vertical-align: middle;\n",
       "    }\n",
       "\n",
       "    .dataframe tbody tr th {\n",
       "        vertical-align: top;\n",
       "    }\n",
       "\n",
       "    .dataframe thead th {\n",
       "        text-align: right;\n",
       "    }\n",
       "</style>\n",
       "<table border=\"1\" class=\"dataframe\">\n",
       "  <thead>\n",
       "    <tr style=\"text-align: right;\">\n",
       "      <th></th>\n",
       "      <th>cell_type</th>\n",
       "      <th>sm_name</th>\n",
       "      <th>sm_lincs_id</th>\n",
       "      <th>SMILES</th>\n",
       "      <th>control</th>\n",
       "      <th>A1BG</th>\n",
       "      <th>A1BG-AS1</th>\n",
       "      <th>A2M</th>\n",
       "      <th>A2M-AS1</th>\n",
       "      <th>A2MP1</th>\n",
       "      <th>...</th>\n",
       "      <th>ZUP1</th>\n",
       "      <th>ZW10</th>\n",
       "      <th>ZWILCH</th>\n",
       "      <th>ZWINT</th>\n",
       "      <th>ZXDA</th>\n",
       "      <th>ZXDB</th>\n",
       "      <th>ZXDC</th>\n",
       "      <th>ZYG11B</th>\n",
       "      <th>ZYX</th>\n",
       "      <th>ZZEF1</th>\n",
       "    </tr>\n",
       "  </thead>\n",
       "  <tbody>\n",
       "    <tr>\n",
       "      <th>0</th>\n",
       "      <td>NK cells</td>\n",
       "      <td>Clotrimazole</td>\n",
       "      <td>LSM-5341</td>\n",
       "      <td>Clc1ccccc1C(c1ccccc1)(c1ccccc1)n1ccnc1</td>\n",
       "      <td>False</td>\n",
       "      <td>0.104720</td>\n",
       "      <td>-0.077524</td>\n",
       "      <td>-1.625596</td>\n",
       "      <td>-0.144545</td>\n",
       "      <td>0.143555</td>\n",
       "      <td>...</td>\n",
       "      <td>-0.227781</td>\n",
       "      <td>-0.010752</td>\n",
       "      <td>-0.023881</td>\n",
       "      <td>0.674536</td>\n",
       "      <td>-0.453068</td>\n",
       "      <td>0.005164</td>\n",
       "      <td>-0.094959</td>\n",
       "      <td>0.034127</td>\n",
       "      <td>0.221377</td>\n",
       "      <td>0.368755</td>\n",
       "    </tr>\n",
       "    <tr>\n",
       "      <th>1</th>\n",
       "      <td>T cells CD4+</td>\n",
       "      <td>Clotrimazole</td>\n",
       "      <td>LSM-5341</td>\n",
       "      <td>Clc1ccccc1C(c1ccccc1)(c1ccccc1)n1ccnc1</td>\n",
       "      <td>False</td>\n",
       "      <td>0.915953</td>\n",
       "      <td>-0.884380</td>\n",
       "      <td>0.371834</td>\n",
       "      <td>-0.081677</td>\n",
       "      <td>-0.498266</td>\n",
       "      <td>...</td>\n",
       "      <td>-0.494985</td>\n",
       "      <td>-0.303419</td>\n",
       "      <td>0.304955</td>\n",
       "      <td>-0.333905</td>\n",
       "      <td>-0.315516</td>\n",
       "      <td>-0.369626</td>\n",
       "      <td>-0.095079</td>\n",
       "      <td>0.704780</td>\n",
       "      <td>1.096702</td>\n",
       "      <td>-0.869887</td>\n",
       "    </tr>\n",
       "    <tr>\n",
       "      <th>2</th>\n",
       "      <td>T cells CD8+</td>\n",
       "      <td>Clotrimazole</td>\n",
       "      <td>LSM-5341</td>\n",
       "      <td>Clc1ccccc1C(c1ccccc1)(c1ccccc1)n1ccnc1</td>\n",
       "      <td>False</td>\n",
       "      <td>-0.387721</td>\n",
       "      <td>-0.305378</td>\n",
       "      <td>0.567777</td>\n",
       "      <td>0.303895</td>\n",
       "      <td>-0.022653</td>\n",
       "      <td>...</td>\n",
       "      <td>-0.119422</td>\n",
       "      <td>-0.033608</td>\n",
       "      <td>-0.153123</td>\n",
       "      <td>0.183597</td>\n",
       "      <td>-0.555678</td>\n",
       "      <td>-1.494789</td>\n",
       "      <td>-0.213550</td>\n",
       "      <td>0.415768</td>\n",
       "      <td>0.078439</td>\n",
       "      <td>-0.259365</td>\n",
       "    </tr>\n",
       "    <tr>\n",
       "      <th>3</th>\n",
       "      <td>T regulatory cells</td>\n",
       "      <td>Clotrimazole</td>\n",
       "      <td>LSM-5341</td>\n",
       "      <td>Clc1ccccc1C(c1ccccc1)(c1ccccc1)n1ccnc1</td>\n",
       "      <td>False</td>\n",
       "      <td>0.232893</td>\n",
       "      <td>0.129029</td>\n",
       "      <td>0.336897</td>\n",
       "      <td>0.486946</td>\n",
       "      <td>0.767661</td>\n",
       "      <td>...</td>\n",
       "      <td>0.451679</td>\n",
       "      <td>0.704643</td>\n",
       "      <td>0.015468</td>\n",
       "      <td>-0.103868</td>\n",
       "      <td>0.865027</td>\n",
       "      <td>0.189114</td>\n",
       "      <td>0.224700</td>\n",
       "      <td>-0.048233</td>\n",
       "      <td>0.216139</td>\n",
       "      <td>-0.085024</td>\n",
       "    </tr>\n",
       "    <tr>\n",
       "      <th>4</th>\n",
       "      <td>NK cells</td>\n",
       "      <td>Mometasone Furoate</td>\n",
       "      <td>LSM-3349</td>\n",
       "      <td>C[C@@H]1C[C@H]2[C@@H]3CCC4=CC(=O)C=C[C@]4(C)[C...</td>\n",
       "      <td>False</td>\n",
       "      <td>4.290652</td>\n",
       "      <td>-0.063864</td>\n",
       "      <td>-0.017443</td>\n",
       "      <td>-0.541154</td>\n",
       "      <td>0.570982</td>\n",
       "      <td>...</td>\n",
       "      <td>0.758474</td>\n",
       "      <td>0.510762</td>\n",
       "      <td>0.607401</td>\n",
       "      <td>-0.123059</td>\n",
       "      <td>0.214366</td>\n",
       "      <td>0.487838</td>\n",
       "      <td>-0.819775</td>\n",
       "      <td>0.112365</td>\n",
       "      <td>-0.122193</td>\n",
       "      <td>0.676629</td>\n",
       "    </tr>\n",
       "    <tr>\n",
       "      <th>...</th>\n",
       "      <td>...</td>\n",
       "      <td>...</td>\n",
       "      <td>...</td>\n",
       "      <td>...</td>\n",
       "      <td>...</td>\n",
       "      <td>...</td>\n",
       "      <td>...</td>\n",
       "      <td>...</td>\n",
       "      <td>...</td>\n",
       "      <td>...</td>\n",
       "      <td>...</td>\n",
       "      <td>...</td>\n",
       "      <td>...</td>\n",
       "      <td>...</td>\n",
       "      <td>...</td>\n",
       "      <td>...</td>\n",
       "      <td>...</td>\n",
       "      <td>...</td>\n",
       "      <td>...</td>\n",
       "      <td>...</td>\n",
       "      <td>...</td>\n",
       "    </tr>\n",
       "    <tr>\n",
       "      <th>609</th>\n",
       "      <td>T regulatory cells</td>\n",
       "      <td>Atorvastatin</td>\n",
       "      <td>LSM-5771</td>\n",
       "      <td>CC(C)c1c(C(=O)Nc2ccccc2)c(-c2ccccc2)c(-c2ccc(F...</td>\n",
       "      <td>False</td>\n",
       "      <td>-0.014372</td>\n",
       "      <td>-0.122464</td>\n",
       "      <td>-0.456366</td>\n",
       "      <td>-0.147894</td>\n",
       "      <td>-0.545382</td>\n",
       "      <td>...</td>\n",
       "      <td>-0.549987</td>\n",
       "      <td>-2.200925</td>\n",
       "      <td>0.359806</td>\n",
       "      <td>1.073983</td>\n",
       "      <td>0.356939</td>\n",
       "      <td>-0.029603</td>\n",
       "      <td>-0.528817</td>\n",
       "      <td>0.105138</td>\n",
       "      <td>0.491015</td>\n",
       "      <td>-0.979951</td>\n",
       "    </tr>\n",
       "    <tr>\n",
       "      <th>610</th>\n",
       "      <td>NK cells</td>\n",
       "      <td>Riociguat</td>\n",
       "      <td>LSM-45758</td>\n",
       "      <td>COC(=O)N(C)c1c(N)nc(-c2nn(Cc3ccccc3F)c3ncccc23...</td>\n",
       "      <td>False</td>\n",
       "      <td>-0.455549</td>\n",
       "      <td>0.188181</td>\n",
       "      <td>0.595734</td>\n",
       "      <td>-0.100299</td>\n",
       "      <td>0.786192</td>\n",
       "      <td>...</td>\n",
       "      <td>-1.236905</td>\n",
       "      <td>0.003854</td>\n",
       "      <td>-0.197569</td>\n",
       "      <td>-0.175307</td>\n",
       "      <td>0.101391</td>\n",
       "      <td>1.028394</td>\n",
       "      <td>0.034144</td>\n",
       "      <td>-0.231642</td>\n",
       "      <td>1.023994</td>\n",
       "      <td>-0.064760</td>\n",
       "    </tr>\n",
       "    <tr>\n",
       "      <th>611</th>\n",
       "      <td>T cells CD4+</td>\n",
       "      <td>Riociguat</td>\n",
       "      <td>LSM-45758</td>\n",
       "      <td>COC(=O)N(C)c1c(N)nc(-c2nn(Cc3ccccc3F)c3ncccc23...</td>\n",
       "      <td>False</td>\n",
       "      <td>0.338168</td>\n",
       "      <td>-0.109079</td>\n",
       "      <td>0.270182</td>\n",
       "      <td>-0.436586</td>\n",
       "      <td>-0.069476</td>\n",
       "      <td>...</td>\n",
       "      <td>0.077579</td>\n",
       "      <td>-1.101637</td>\n",
       "      <td>0.457201</td>\n",
       "      <td>0.535184</td>\n",
       "      <td>-0.198404</td>\n",
       "      <td>-0.005004</td>\n",
       "      <td>0.552810</td>\n",
       "      <td>-0.209077</td>\n",
       "      <td>0.389751</td>\n",
       "      <td>-0.337082</td>\n",
       "    </tr>\n",
       "    <tr>\n",
       "      <th>612</th>\n",
       "      <td>T cells CD8+</td>\n",
       "      <td>Riociguat</td>\n",
       "      <td>LSM-45758</td>\n",
       "      <td>COC(=O)N(C)c1c(N)nc(-c2nn(Cc3ccccc3F)c3ncccc23...</td>\n",
       "      <td>False</td>\n",
       "      <td>0.101138</td>\n",
       "      <td>-0.409724</td>\n",
       "      <td>-0.606292</td>\n",
       "      <td>-0.071300</td>\n",
       "      <td>-0.001789</td>\n",
       "      <td>...</td>\n",
       "      <td>0.005951</td>\n",
       "      <td>-0.893093</td>\n",
       "      <td>-1.003029</td>\n",
       "      <td>-0.080367</td>\n",
       "      <td>-0.076604</td>\n",
       "      <td>0.024849</td>\n",
       "      <td>0.012862</td>\n",
       "      <td>-0.029684</td>\n",
       "      <td>0.005506</td>\n",
       "      <td>-1.733112</td>\n",
       "    </tr>\n",
       "    <tr>\n",
       "      <th>613</th>\n",
       "      <td>T regulatory cells</td>\n",
       "      <td>Riociguat</td>\n",
       "      <td>LSM-45758</td>\n",
       "      <td>COC(=O)N(C)c1c(N)nc(-c2nn(Cc3ccccc3F)c3ncccc23...</td>\n",
       "      <td>False</td>\n",
       "      <td>-0.757116</td>\n",
       "      <td>0.085910</td>\n",
       "      <td>-0.730025</td>\n",
       "      <td>-1.367801</td>\n",
       "      <td>-0.695944</td>\n",
       "      <td>...</td>\n",
       "      <td>0.232343</td>\n",
       "      <td>-2.247816</td>\n",
       "      <td>-0.346036</td>\n",
       "      <td>-0.919567</td>\n",
       "      <td>-1.131372</td>\n",
       "      <td>-0.120252</td>\n",
       "      <td>-0.064537</td>\n",
       "      <td>-0.603280</td>\n",
       "      <td>-0.098041</td>\n",
       "      <td>-0.750681</td>\n",
       "    </tr>\n",
       "  </tbody>\n",
       "</table>\n",
       "<p>614 rows × 18216 columns</p>\n",
       "</div>"
      ],
      "text/plain": [
       "              cell_type             sm_name sm_lincs_id  \\\n",
       "0              NK cells        Clotrimazole    LSM-5341   \n",
       "1          T cells CD4+        Clotrimazole    LSM-5341   \n",
       "2          T cells CD8+        Clotrimazole    LSM-5341   \n",
       "3    T regulatory cells        Clotrimazole    LSM-5341   \n",
       "4              NK cells  Mometasone Furoate    LSM-3349   \n",
       "..                  ...                 ...         ...   \n",
       "609  T regulatory cells        Atorvastatin    LSM-5771   \n",
       "610            NK cells           Riociguat   LSM-45758   \n",
       "611        T cells CD4+           Riociguat   LSM-45758   \n",
       "612        T cells CD8+           Riociguat   LSM-45758   \n",
       "613  T regulatory cells           Riociguat   LSM-45758   \n",
       "\n",
       "                                                SMILES  control      A1BG  \\\n",
       "0               Clc1ccccc1C(c1ccccc1)(c1ccccc1)n1ccnc1    False  0.104720   \n",
       "1               Clc1ccccc1C(c1ccccc1)(c1ccccc1)n1ccnc1    False  0.915953   \n",
       "2               Clc1ccccc1C(c1ccccc1)(c1ccccc1)n1ccnc1    False -0.387721   \n",
       "3               Clc1ccccc1C(c1ccccc1)(c1ccccc1)n1ccnc1    False  0.232893   \n",
       "4    C[C@@H]1C[C@H]2[C@@H]3CCC4=CC(=O)C=C[C@]4(C)[C...    False  4.290652   \n",
       "..                                                 ...      ...       ...   \n",
       "609  CC(C)c1c(C(=O)Nc2ccccc2)c(-c2ccccc2)c(-c2ccc(F...    False -0.014372   \n",
       "610  COC(=O)N(C)c1c(N)nc(-c2nn(Cc3ccccc3F)c3ncccc23...    False -0.455549   \n",
       "611  COC(=O)N(C)c1c(N)nc(-c2nn(Cc3ccccc3F)c3ncccc23...    False  0.338168   \n",
       "612  COC(=O)N(C)c1c(N)nc(-c2nn(Cc3ccccc3F)c3ncccc23...    False  0.101138   \n",
       "613  COC(=O)N(C)c1c(N)nc(-c2nn(Cc3ccccc3F)c3ncccc23...    False -0.757116   \n",
       "\n",
       "     A1BG-AS1       A2M   A2M-AS1     A2MP1  ...      ZUP1      ZW10  \\\n",
       "0   -0.077524 -1.625596 -0.144545  0.143555  ... -0.227781 -0.010752   \n",
       "1   -0.884380  0.371834 -0.081677 -0.498266  ... -0.494985 -0.303419   \n",
       "2   -0.305378  0.567777  0.303895 -0.022653  ... -0.119422 -0.033608   \n",
       "3    0.129029  0.336897  0.486946  0.767661  ...  0.451679  0.704643   \n",
       "4   -0.063864 -0.017443 -0.541154  0.570982  ...  0.758474  0.510762   \n",
       "..        ...       ...       ...       ...  ...       ...       ...   \n",
       "609 -0.122464 -0.456366 -0.147894 -0.545382  ... -0.549987 -2.200925   \n",
       "610  0.188181  0.595734 -0.100299  0.786192  ... -1.236905  0.003854   \n",
       "611 -0.109079  0.270182 -0.436586 -0.069476  ...  0.077579 -1.101637   \n",
       "612 -0.409724 -0.606292 -0.071300 -0.001789  ...  0.005951 -0.893093   \n",
       "613  0.085910 -0.730025 -1.367801 -0.695944  ...  0.232343 -2.247816   \n",
       "\n",
       "       ZWILCH     ZWINT      ZXDA      ZXDB      ZXDC    ZYG11B       ZYX  \\\n",
       "0   -0.023881  0.674536 -0.453068  0.005164 -0.094959  0.034127  0.221377   \n",
       "1    0.304955 -0.333905 -0.315516 -0.369626 -0.095079  0.704780  1.096702   \n",
       "2   -0.153123  0.183597 -0.555678 -1.494789 -0.213550  0.415768  0.078439   \n",
       "3    0.015468 -0.103868  0.865027  0.189114  0.224700 -0.048233  0.216139   \n",
       "4    0.607401 -0.123059  0.214366  0.487838 -0.819775  0.112365 -0.122193   \n",
       "..        ...       ...       ...       ...       ...       ...       ...   \n",
       "609  0.359806  1.073983  0.356939 -0.029603 -0.528817  0.105138  0.491015   \n",
       "610 -0.197569 -0.175307  0.101391  1.028394  0.034144 -0.231642  1.023994   \n",
       "611  0.457201  0.535184 -0.198404 -0.005004  0.552810 -0.209077  0.389751   \n",
       "612 -1.003029 -0.080367 -0.076604  0.024849  0.012862 -0.029684  0.005506   \n",
       "613 -0.346036 -0.919567 -1.131372 -0.120252 -0.064537 -0.603280 -0.098041   \n",
       "\n",
       "        ZZEF1  \n",
       "0    0.368755  \n",
       "1   -0.869887  \n",
       "2   -0.259365  \n",
       "3   -0.085024  \n",
       "4    0.676629  \n",
       "..        ...  \n",
       "609 -0.979951  \n",
       "610 -0.064760  \n",
       "611 -0.337082  \n",
       "612 -1.733112  \n",
       "613 -0.750681  \n",
       "\n",
       "[614 rows x 18216 columns]"
      ]
     },
     "execution_count": 3,
     "metadata": {},
     "output_type": "execute_result"
    }
   ],
   "source": [
    "de_train"
   ]
  },
  {
   "cell_type": "code",
   "execution_count": 4,
   "id": "9a33939a",
   "metadata": {
    "execution": {
     "iopub.execute_input": "2023-10-14T14:34:22.569128Z",
     "iopub.status.busy": "2023-10-14T14:34:22.568833Z",
     "iopub.status.idle": "2023-10-14T14:34:22.576942Z",
     "shell.execute_reply": "2023-10-14T14:34:22.575926Z"
    },
    "papermill": {
     "duration": 0.0209,
     "end_time": "2023-10-14T14:34:22.578902",
     "exception": false,
     "start_time": "2023-10-14T14:34:22.558002",
     "status": "completed"
    },
    "tags": []
   },
   "outputs": [
    {
     "data": {
      "text/html": [
       "<div>\n",
       "<style scoped>\n",
       "    .dataframe tbody tr th:only-of-type {\n",
       "        vertical-align: middle;\n",
       "    }\n",
       "\n",
       "    .dataframe tbody tr th {\n",
       "        vertical-align: top;\n",
       "    }\n",
       "\n",
       "    .dataframe thead th {\n",
       "        text-align: right;\n",
       "    }\n",
       "</style>\n",
       "<table border=\"1\" class=\"dataframe\">\n",
       "  <thead>\n",
       "    <tr style=\"text-align: right;\">\n",
       "      <th></th>\n",
       "      <th>id</th>\n",
       "      <th>cell_type</th>\n",
       "      <th>sm_name</th>\n",
       "    </tr>\n",
       "  </thead>\n",
       "  <tbody>\n",
       "    <tr>\n",
       "      <th>0</th>\n",
       "      <td>0</td>\n",
       "      <td>B cells</td>\n",
       "      <td>5-(9-Isopropyl-8-methyl-2-morpholino-9H-purin-...</td>\n",
       "    </tr>\n",
       "    <tr>\n",
       "      <th>1</th>\n",
       "      <td>1</td>\n",
       "      <td>B cells</td>\n",
       "      <td>ABT-199 (GDC-0199)</td>\n",
       "    </tr>\n",
       "    <tr>\n",
       "      <th>2</th>\n",
       "      <td>2</td>\n",
       "      <td>B cells</td>\n",
       "      <td>ABT737</td>\n",
       "    </tr>\n",
       "    <tr>\n",
       "      <th>3</th>\n",
       "      <td>3</td>\n",
       "      <td>B cells</td>\n",
       "      <td>AMD-070 (hydrochloride)</td>\n",
       "    </tr>\n",
       "    <tr>\n",
       "      <th>4</th>\n",
       "      <td>4</td>\n",
       "      <td>B cells</td>\n",
       "      <td>AT 7867</td>\n",
       "    </tr>\n",
       "  </tbody>\n",
       "</table>\n",
       "</div>"
      ],
      "text/plain": [
       "   id cell_type                                            sm_name\n",
       "0   0   B cells  5-(9-Isopropyl-8-methyl-2-morpholino-9H-purin-...\n",
       "1   1   B cells                                 ABT-199 (GDC-0199)\n",
       "2   2   B cells                                             ABT737\n",
       "3   3   B cells                            AMD-070 (hydrochloride)\n",
       "4   4   B cells                                            AT 7867"
      ]
     },
     "execution_count": 4,
     "metadata": {},
     "output_type": "execute_result"
    }
   ],
   "source": [
    "id_map.head()"
   ]
  },
  {
   "cell_type": "code",
   "execution_count": 5,
   "id": "5122b3b3",
   "metadata": {
    "execution": {
     "iopub.execute_input": "2023-10-14T14:34:22.600564Z",
     "iopub.status.busy": "2023-10-14T14:34:22.599942Z",
     "iopub.status.idle": "2023-10-14T14:34:22.632011Z",
     "shell.execute_reply": "2023-10-14T14:34:22.631095Z"
    },
    "papermill": {
     "duration": 0.044524,
     "end_time": "2023-10-14T14:34:22.633742",
     "exception": false,
     "start_time": "2023-10-14T14:34:22.589218",
     "status": "completed"
    },
    "tags": []
   },
   "outputs": [
    {
     "data": {
      "text/plain": [
       "cell_type      0\n",
       "sm_name        0\n",
       "sm_lincs_id    0\n",
       "SMILES         0\n",
       "control        0\n",
       "              ..\n",
       "ZXDB           0\n",
       "ZXDC           0\n",
       "ZYG11B         0\n",
       "ZYX            0\n",
       "ZZEF1          0\n",
       "Length: 18216, dtype: int64"
      ]
     },
     "execution_count": 5,
     "metadata": {},
     "output_type": "execute_result"
    }
   ],
   "source": [
    "de_train.isnull().sum()"
   ]
  },
  {
   "cell_type": "code",
   "execution_count": 6,
   "id": "7e532c2e",
   "metadata": {
    "execution": {
     "iopub.execute_input": "2023-10-14T14:34:22.656063Z",
     "iopub.status.busy": "2023-10-14T14:34:22.655188Z",
     "iopub.status.idle": "2023-10-14T14:34:22.664007Z",
     "shell.execute_reply": "2023-10-14T14:34:22.663053Z"
    },
    "papermill": {
     "duration": 0.021748,
     "end_time": "2023-10-14T14:34:22.665649",
     "exception": false,
     "start_time": "2023-10-14T14:34:22.643901",
     "status": "completed"
    },
    "tags": []
   },
   "outputs": [
    {
     "name": "stdout",
     "output_type": "stream",
     "text": [
      "Count 146\n"
     ]
    },
    {
     "data": {
      "text/plain": [
       "(array(['Clotrimazole', 'Mometasone Furoate', 'Idelalisib', 'Vandetanib',\n",
       "        'Bosutinib', 'Ceritinib', 'Lamivudine', 'Crizotinib',\n",
       "        'Cabozantinib', 'Flutamide', 'Dasatinib', 'Selumetinib',\n",
       "        'Trametinib', 'ABT-199 (GDC-0199)', 'Oxybenzone', 'Vorinostat',\n",
       "        'Raloxifene', 'Linagliptin', 'Lapatinib', 'Canertinib',\n",
       "        'Disulfiram', 'Vardenafil', 'Palbociclib', 'Ricolinostat',\n",
       "        'Dabrafenib', 'Proscillaridin A;Proscillaridin-A', 'IN1451',\n",
       "        'Ixabepilone', 'CEP-18770 (Delanzomib)', 'RG7112', 'MK-5108',\n",
       "        'Resminostat', 'IMD-0354', 'Alvocidib', 'LY2090314',\n",
       "        'Methotrexate', 'LDN 193189', 'Tacalcitol', 'Colchicine', 'R428',\n",
       "        'TL_HRAS26', 'BMS-387032', 'CGP 60474', 'TIE2 Kinase Inhibitor',\n",
       "        'PD-0325901', 'Isoniazid', 'GSK-1070916', 'Masitinib',\n",
       "        'Saracatinib', 'CC-401', 'Decitabine', 'Ketoconazole',\n",
       "        'HYDROXYUREA', 'BAY 61-3606', 'Navitoclax', 'Porcn Inhibitor III',\n",
       "        'GW843682X', 'Prednisolone', 'Tamatinib', 'Tosedostat',\n",
       "        'GSK256066', 'MGCD-265', 'AZD-8330', 'RN-486', 'Amiodarone',\n",
       "        'Belinostat', 'RVX-208', 'GO-6976', 'Scriptaid', 'HMN-214',\n",
       "        'SB525334', 'AVL-292', 'BMS-777607', 'AZD4547', 'Foretinib',\n",
       "        'Tivozanib', 'Quizartinib', 'IKK Inhibitor VII', 'UNII-BXU45ZH6LI',\n",
       "        'Chlorpheniramine', 'Tivantinib', 'CEP-37440', 'TPCA-1', 'AZ628',\n",
       "        'OSI-930', 'AZD3514', 'Vanoxerine', 'PF-03814735', 'MLN 2238',\n",
       "        'Dovitinib', 'K-02288', 'Midostaurin', 'I-BET151', 'STK219801',\n",
       "        'PRT-062607', 'AT 7867', 'Sunitinib', 'Penfluridol', 'BMS-536924',\n",
       "        'Perhexiline', 'BI-D1870', 'FK 866', 'Mubritinib (TAK 165)',\n",
       "        'Doxorubicin', 'Pomalidomide', 'Colforsin', 'Phenylbutazone',\n",
       "        'Protriptyline', 'Buspirone', 'Clomipramine', 'Alogliptin',\n",
       "        'Nefazodone', 'ABT737', 'Dactolisib', 'Nilotinib', 'Defactinib',\n",
       "        'PF-04691502', 'GLPG0634', 'Sgc-cbp30', 'BX 912', 'SCH-58261',\n",
       "        'Ruxolitinib', 'BAY 87-2243', 'O-Demethylated Adapalene',\n",
       "        'YK 4-279', 'Ganetespib (STA-9090)', 'SLx-2119',\n",
       "        'Oprozomib (ONX 0912)', 'Desloratadine', 'Pitavastatin Calcium',\n",
       "        'TR-14035', 'AT13387', 'CHIR-99021', 'RG7090',\n",
       "        'AMD-070 (hydrochloride)', 'BMS-265246', 'Tipifarnib', 'Imatinib',\n",
       "        'Topotecan', 'Clemastine',\n",
       "        '5-(9-Isopropyl-8-methyl-2-morpholino-9H-purin-6-yl)pyrimidin-2-amine',\n",
       "        'CGM-097', 'TGX 221', 'Azacitidine', 'Atorvastatin', 'Riociguat'],\n",
       "       dtype=object),\n",
       " None)"
      ]
     },
     "execution_count": 6,
     "metadata": {},
     "output_type": "execute_result"
    }
   ],
   "source": [
    "unique= de_train['sm_name'].unique()\n",
    "unique, print(f\"Count {len(unique)}\")"
   ]
  },
  {
   "cell_type": "code",
   "execution_count": 7,
   "id": "6647c358",
   "metadata": {
    "execution": {
     "iopub.execute_input": "2023-10-14T14:34:22.692152Z",
     "iopub.status.busy": "2023-10-14T14:34:22.691683Z",
     "iopub.status.idle": "2023-10-14T14:34:22.697691Z",
     "shell.execute_reply": "2023-10-14T14:34:22.696837Z"
    },
    "papermill": {
     "duration": 0.023565,
     "end_time": "2023-10-14T14:34:22.699354",
     "exception": false,
     "start_time": "2023-10-14T14:34:22.675789",
     "status": "completed"
    },
    "tags": []
   },
   "outputs": [
    {
     "data": {
      "text/plain": [
       "array(['NK cells', 'T cells CD4+', 'T cells CD8+', 'T regulatory cells',\n",
       "       'B cells', 'Myeloid cells'], dtype=object)"
      ]
     },
     "execution_count": 7,
     "metadata": {},
     "output_type": "execute_result"
    }
   ],
   "source": [
    "de_train['cell_type'].unique()"
   ]
  },
  {
   "cell_type": "code",
   "execution_count": 8,
   "id": "04b6d5bd",
   "metadata": {
    "execution": {
     "iopub.execute_input": "2023-10-14T14:34:22.767304Z",
     "iopub.status.busy": "2023-10-14T14:34:22.766982Z",
     "iopub.status.idle": "2023-10-14T14:34:22.785847Z",
     "shell.execute_reply": "2023-10-14T14:34:22.784907Z"
    },
    "papermill": {
     "duration": 0.07827,
     "end_time": "2023-10-14T14:34:22.787747",
     "exception": false,
     "start_time": "2023-10-14T14:34:22.709477",
     "status": "completed"
    },
    "tags": []
   },
   "outputs": [
    {
     "data": {
      "text/plain": [
       "<bound method DataFrame.count of               cell_type     sm_name sm_lincs_id  \\\n",
       "104             B cells  Dabrafenib    LSM-6303   \n",
       "105       Myeloid cells  Dabrafenib    LSM-6303   \n",
       "106            NK cells  Dabrafenib    LSM-6303   \n",
       "107        T cells CD4+  Dabrafenib    LSM-6303   \n",
       "108        T cells CD8+  Dabrafenib    LSM-6303   \n",
       "109  T regulatory cells  Dabrafenib    LSM-6303   \n",
       "275             B cells  Belinostat   LSM-43181   \n",
       "276       Myeloid cells  Belinostat   LSM-43181   \n",
       "277            NK cells  Belinostat   LSM-43181   \n",
       "278        T cells CD4+  Belinostat   LSM-43181   \n",
       "279        T cells CD8+  Belinostat   LSM-43181   \n",
       "280  T regulatory cells  Belinostat   LSM-43181   \n",
       "\n",
       "                                                SMILES  control       A1BG  \\\n",
       "104  CC(C)(C)c1nc(-c2cccc(NS(=O)(=O)c3c(F)cccc3F)c2...     True   0.942197   \n",
       "105  CC(C)(C)c1nc(-c2cccc(NS(=O)(=O)c3c(F)cccc3F)c2...     True   0.254567   \n",
       "106  CC(C)(C)c1nc(-c2cccc(NS(=O)(=O)c3c(F)cccc3F)c2...     True  -0.161665   \n",
       "107  CC(C)(C)c1nc(-c2cccc(NS(=O)(=O)c3c(F)cccc3F)c2...     True   0.000443   \n",
       "108  CC(C)(C)c1nc(-c2cccc(NS(=O)(=O)c3c(F)cccc3F)c2...     True   0.103281   \n",
       "109  CC(C)(C)c1nc(-c2cccc(NS(=O)(=O)c3c(F)cccc3F)c2...     True   0.679796   \n",
       "275           O=C(/C=C/c1cccc(S(=O)(=O)Nc2ccccc2)c1)NO     True   2.225073   \n",
       "276           O=C(/C=C/c1cccc(S(=O)(=O)Nc2ccccc2)c1)NO     True   3.519499   \n",
       "277           O=C(/C=C/c1cccc(S(=O)(=O)Nc2ccccc2)c1)NO     True   1.181036   \n",
       "278           O=C(/C=C/c1cccc(S(=O)(=O)Nc2ccccc2)c1)NO     True   0.858771   \n",
       "279           O=C(/C=C/c1cccc(S(=O)(=O)Nc2ccccc2)c1)NO     True  -1.654045   \n",
       "280           O=C(/C=C/c1cccc(S(=O)(=O)Nc2ccccc2)c1)NO     True  22.085428   \n",
       "\n",
       "      A1BG-AS1        A2M    A2M-AS1      A2MP1  ...       ZUP1       ZW10  \\\n",
       "104   0.539713  -0.417087   0.391397   2.049071  ...  -0.094318  -0.043478   \n",
       "105   0.244074 -28.552191  -0.377238  -0.731186  ...   1.771915  -0.085585   \n",
       "106   0.269009  -1.770091  -0.198444   0.954753  ...   0.131425  -1.112697   \n",
       "107   0.750020  -0.151077  -2.733638  -1.073863  ...  -1.032259  -0.571065   \n",
       "108  -0.281974  -0.187118   0.535779   1.201660  ...  -0.288675  -0.156537   \n",
       "109   0.457679   2.576746   2.151973   2.649578  ...  -1.295633   1.393517   \n",
       "275   0.564347  -0.437639  -0.415907   0.307772  ...  10.803264   3.292811   \n",
       "276   6.284255 -24.687990   0.004540  15.109208  ...   0.635599   0.210030   \n",
       "277   3.652341  -7.026508 -17.801989  -0.656651  ...   4.361655   0.558856   \n",
       "278   3.672879  -3.525978 -13.130322  -2.264816  ...   4.859433   4.253850   \n",
       "279  -0.586952  -0.776387   0.844867  -2.313306  ...   1.683870   0.687546   \n",
       "280  14.421991  27.557166  27.603715  35.278040  ...   3.410146  15.959706   \n",
       "\n",
       "        ZWILCH      ZWINT       ZXDA       ZXDB       ZXDC    ZYG11B  \\\n",
       "104  -0.269027   0.484859   0.905045   0.277953   1.126481  0.432023   \n",
       "105   0.010659  -1.890484   1.062484  -0.136040  -0.224016 -1.890099   \n",
       "106  -0.589313  -0.660929   0.016530   0.319136   0.299521 -0.383452   \n",
       "107   0.346539  -0.338557   0.549544  -0.607941  -0.130692 -0.059547   \n",
       "108  -0.555925  -0.564582   0.735246  -0.641172   0.272963 -0.482503   \n",
       "109   0.098008   0.523280   0.871999   2.195867   1.880501  0.489364   \n",
       "275  -0.051246   0.247855  -1.651776  -1.788311  -0.418805  3.396236   \n",
       "276 -21.273505   1.190610  -0.486464  -1.040062  -8.310726  0.612581   \n",
       "277  -0.809408   0.265743  -0.056795  -0.019083  -0.140576  3.909364   \n",
       "278   0.628184   0.332405  -6.780020  -2.497143  -0.868885  3.692675   \n",
       "279  -0.817418  -0.340659  -1.568735  -1.322291   0.231650  1.249664   \n",
       "280  10.649018  17.231287  23.721492  23.089832  10.844942  4.822008   \n",
       "\n",
       "          ZYX     ZZEF1  \n",
       "104 -2.508760 -0.354758  \n",
       "105 -3.105304 -1.155821  \n",
       "106  0.267828 -1.100267  \n",
       "107 -0.169427 -1.992270  \n",
       "108 -0.498744 -0.097232  \n",
       "109 -0.388891 -0.617592  \n",
       "275 -0.567121  0.501423  \n",
       "276  7.826692 -0.917186  \n",
       "277 -1.252862 -1.467913  \n",
       "278  0.128906 -0.583605  \n",
       "279  0.373853  1.635430  \n",
       "280  3.067047  2.149157  \n",
       "\n",
       "[12 rows x 18216 columns]>"
      ]
     },
     "execution_count": 8,
     "metadata": {},
     "output_type": "execute_result"
    }
   ],
   "source": [
    "de_train[de_train[\"control\"] == True].count  "
   ]
  },
  {
   "cell_type": "markdown",
   "id": "54eefef9",
   "metadata": {
    "papermill": {
     "duration": 0.011238,
     "end_time": "2023-10-14T14:34:22.809767",
     "exception": false,
     "start_time": "2023-10-14T14:34:22.798529",
     "status": "completed"
    },
    "tags": []
   },
   "source": [
    "Visualizing more and staring at data for sometime will be more helpful for understanding but let's try building some simple model."
   ]
  },
  {
   "cell_type": "markdown",
   "id": "73cfe484",
   "metadata": {
    "papermill": {
     "duration": 0.010706,
     "end_time": "2023-10-14T14:34:22.831105",
     "exception": false,
     "start_time": "2023-10-14T14:34:22.820399",
     "status": "completed"
    },
    "tags": []
   },
   "source": [
    "# Preprocess data \n",
    "We'll take only 'cell_type' and 'sm_name' as features and 18211 gene values as labels."
   ]
  },
  {
   "cell_type": "code",
   "execution_count": 9,
   "id": "dc35632a",
   "metadata": {
    "execution": {
     "iopub.execute_input": "2023-10-14T14:34:22.853897Z",
     "iopub.status.busy": "2023-10-14T14:34:22.853136Z",
     "iopub.status.idle": "2023-10-14T14:34:22.897572Z",
     "shell.execute_reply": "2023-10-14T14:34:22.896615Z"
    },
    "papermill": {
     "duration": 0.058402,
     "end_time": "2023-10-14T14:34:22.899834",
     "exception": false,
     "start_time": "2023-10-14T14:34:22.841432",
     "status": "completed"
    },
    "tags": []
   },
   "outputs": [],
   "source": [
    "# shuffle the data\n",
    "de_train = de_train.sample(frac=1.0, random_state=42)"
   ]
  },
  {
   "cell_type": "code",
   "execution_count": 10,
   "id": "dd72a714",
   "metadata": {
    "execution": {
     "iopub.execute_input": "2023-10-14T14:34:22.924519Z",
     "iopub.status.busy": "2023-10-14T14:34:22.924235Z",
     "iopub.status.idle": "2023-10-14T14:34:22.946785Z",
     "shell.execute_reply": "2023-10-14T14:34:22.945843Z"
    },
    "papermill": {
     "duration": 0.037314,
     "end_time": "2023-10-14T14:34:22.948533",
     "exception": false,
     "start_time": "2023-10-14T14:34:22.911219",
     "status": "completed"
    },
    "tags": []
   },
   "outputs": [
    {
     "data": {
      "text/html": [
       "<div>\n",
       "<style scoped>\n",
       "    .dataframe tbody tr th:only-of-type {\n",
       "        vertical-align: middle;\n",
       "    }\n",
       "\n",
       "    .dataframe tbody tr th {\n",
       "        vertical-align: top;\n",
       "    }\n",
       "\n",
       "    .dataframe thead th {\n",
       "        text-align: right;\n",
       "    }\n",
       "</style>\n",
       "<table border=\"1\" class=\"dataframe\">\n",
       "  <thead>\n",
       "    <tr style=\"text-align: right;\">\n",
       "      <th></th>\n",
       "      <th>cell_type</th>\n",
       "      <th>sm_name</th>\n",
       "      <th>sm_lincs_id</th>\n",
       "      <th>SMILES</th>\n",
       "      <th>control</th>\n",
       "      <th>A1BG</th>\n",
       "      <th>A1BG-AS1</th>\n",
       "      <th>A2M</th>\n",
       "      <th>A2M-AS1</th>\n",
       "      <th>A2MP1</th>\n",
       "      <th>...</th>\n",
       "      <th>ZUP1</th>\n",
       "      <th>ZW10</th>\n",
       "      <th>ZWILCH</th>\n",
       "      <th>ZWINT</th>\n",
       "      <th>ZXDA</th>\n",
       "      <th>ZXDB</th>\n",
       "      <th>ZXDC</th>\n",
       "      <th>ZYG11B</th>\n",
       "      <th>ZYX</th>\n",
       "      <th>ZZEF1</th>\n",
       "    </tr>\n",
       "  </thead>\n",
       "  <tbody>\n",
       "    <tr>\n",
       "      <th>350</th>\n",
       "      <td>T regulatory cells</td>\n",
       "      <td>TPCA-1</td>\n",
       "      <td>LSM-1136</td>\n",
       "      <td>NC(=O)Nc1sc(-c2ccc(F)cc2)cc1C(N)=O</td>\n",
       "      <td>False</td>\n",
       "      <td>2.175274</td>\n",
       "      <td>1.219289</td>\n",
       "      <td>2.396227</td>\n",
       "      <td>2.885988</td>\n",
       "      <td>3.384956</td>\n",
       "      <td>...</td>\n",
       "      <td>-1.062199</td>\n",
       "      <td>1.178715</td>\n",
       "      <td>0.180416</td>\n",
       "      <td>0.755145</td>\n",
       "      <td>1.809688</td>\n",
       "      <td>1.644712</td>\n",
       "      <td>0.701406</td>\n",
       "      <td>0.137341</td>\n",
       "      <td>0.230949</td>\n",
       "      <td>0.179458</td>\n",
       "    </tr>\n",
       "    <tr>\n",
       "      <th>377</th>\n",
       "      <td>NK cells</td>\n",
       "      <td>Dovitinib</td>\n",
       "      <td>LSM-1127</td>\n",
       "      <td>CN1CCN(c2ccc3[nH]c(-c4c(N)c5c(F)cccc5[nH]c4=O)...</td>\n",
       "      <td>False</td>\n",
       "      <td>0.214531</td>\n",
       "      <td>-0.115171</td>\n",
       "      <td>0.326515</td>\n",
       "      <td>0.032289</td>\n",
       "      <td>0.220971</td>\n",
       "      <td>...</td>\n",
       "      <td>0.438939</td>\n",
       "      <td>0.216506</td>\n",
       "      <td>-0.108654</td>\n",
       "      <td>-0.063070</td>\n",
       "      <td>0.006721</td>\n",
       "      <td>-0.593161</td>\n",
       "      <td>-0.044022</td>\n",
       "      <td>0.475729</td>\n",
       "      <td>0.356555</td>\n",
       "      <td>-0.038020</td>\n",
       "    </tr>\n",
       "    <tr>\n",
       "      <th>163</th>\n",
       "      <td>T regulatory cells</td>\n",
       "      <td>Tacalcitol</td>\n",
       "      <td>LSM-45518</td>\n",
       "      <td>C=C1/C(=C\\C=C2/CCC[C@]3(C)[C@@H]([C@H](C)CC[C@...</td>\n",
       "      <td>False</td>\n",
       "      <td>0.391257</td>\n",
       "      <td>-0.052922</td>\n",
       "      <td>0.540292</td>\n",
       "      <td>0.718991</td>\n",
       "      <td>1.083183</td>\n",
       "      <td>...</td>\n",
       "      <td>-1.755527</td>\n",
       "      <td>0.556352</td>\n",
       "      <td>0.089976</td>\n",
       "      <td>-0.000729</td>\n",
       "      <td>0.419802</td>\n",
       "      <td>1.020842</td>\n",
       "      <td>0.367313</td>\n",
       "      <td>0.486345</td>\n",
       "      <td>-0.856723</td>\n",
       "      <td>0.191009</td>\n",
       "    </tr>\n",
       "    <tr>\n",
       "      <th>609</th>\n",
       "      <td>T regulatory cells</td>\n",
       "      <td>Atorvastatin</td>\n",
       "      <td>LSM-5771</td>\n",
       "      <td>CC(C)c1c(C(=O)Nc2ccccc2)c(-c2ccccc2)c(-c2ccc(F...</td>\n",
       "      <td>False</td>\n",
       "      <td>-0.014372</td>\n",
       "      <td>-0.122464</td>\n",
       "      <td>-0.456366</td>\n",
       "      <td>-0.147894</td>\n",
       "      <td>-0.545382</td>\n",
       "      <td>...</td>\n",
       "      <td>-0.549987</td>\n",
       "      <td>-2.200925</td>\n",
       "      <td>0.359806</td>\n",
       "      <td>1.073983</td>\n",
       "      <td>0.356939</td>\n",
       "      <td>-0.029603</td>\n",
       "      <td>-0.528817</td>\n",
       "      <td>0.105138</td>\n",
       "      <td>0.491015</td>\n",
       "      <td>-0.979951</td>\n",
       "    </tr>\n",
       "    <tr>\n",
       "      <th>132</th>\n",
       "      <td>T cells CD8+</td>\n",
       "      <td>MK-5108</td>\n",
       "      <td>LSM-36812</td>\n",
       "      <td>O=C(O)[C@]1(Cc2cccc(Nc3nccs3)n2)CC[C@@H](Oc2cc...</td>\n",
       "      <td>False</td>\n",
       "      <td>0.094873</td>\n",
       "      <td>1.067610</td>\n",
       "      <td>-0.745980</td>\n",
       "      <td>1.083842</td>\n",
       "      <td>0.638504</td>\n",
       "      <td>...</td>\n",
       "      <td>0.279780</td>\n",
       "      <td>0.489431</td>\n",
       "      <td>0.147217</td>\n",
       "      <td>0.292313</td>\n",
       "      <td>0.029266</td>\n",
       "      <td>0.330628</td>\n",
       "      <td>1.038142</td>\n",
       "      <td>-0.194884</td>\n",
       "      <td>1.078132</td>\n",
       "      <td>0.057001</td>\n",
       "    </tr>\n",
       "    <tr>\n",
       "      <th>...</th>\n",
       "      <td>...</td>\n",
       "      <td>...</td>\n",
       "      <td>...</td>\n",
       "      <td>...</td>\n",
       "      <td>...</td>\n",
       "      <td>...</td>\n",
       "      <td>...</td>\n",
       "      <td>...</td>\n",
       "      <td>...</td>\n",
       "      <td>...</td>\n",
       "      <td>...</td>\n",
       "      <td>...</td>\n",
       "      <td>...</td>\n",
       "      <td>...</td>\n",
       "      <td>...</td>\n",
       "      <td>...</td>\n",
       "      <td>...</td>\n",
       "      <td>...</td>\n",
       "      <td>...</td>\n",
       "      <td>...</td>\n",
       "      <td>...</td>\n",
       "    </tr>\n",
       "    <tr>\n",
       "      <th>71</th>\n",
       "      <td>T regulatory cells</td>\n",
       "      <td>Raloxifene</td>\n",
       "      <td>LSM-3425</td>\n",
       "      <td>O=C(c1ccc(OCCN2CCCCC2)cc1)c1c(-c2ccc(O)cc2)sc2...</td>\n",
       "      <td>False</td>\n",
       "      <td>1.080779</td>\n",
       "      <td>0.226991</td>\n",
       "      <td>2.440729</td>\n",
       "      <td>2.581894</td>\n",
       "      <td>1.773980</td>\n",
       "      <td>...</td>\n",
       "      <td>-0.276043</td>\n",
       "      <td>0.768273</td>\n",
       "      <td>1.351487</td>\n",
       "      <td>2.359651</td>\n",
       "      <td>1.470219</td>\n",
       "      <td>0.866639</td>\n",
       "      <td>0.467307</td>\n",
       "      <td>0.663700</td>\n",
       "      <td>-0.122574</td>\n",
       "      <td>-0.315800</td>\n",
       "    </tr>\n",
       "    <tr>\n",
       "      <th>106</th>\n",
       "      <td>NK cells</td>\n",
       "      <td>Dabrafenib</td>\n",
       "      <td>LSM-6303</td>\n",
       "      <td>CC(C)(C)c1nc(-c2cccc(NS(=O)(=O)c3c(F)cccc3F)c2...</td>\n",
       "      <td>True</td>\n",
       "      <td>-0.161665</td>\n",
       "      <td>0.269009</td>\n",
       "      <td>-1.770091</td>\n",
       "      <td>-0.198444</td>\n",
       "      <td>0.954753</td>\n",
       "      <td>...</td>\n",
       "      <td>0.131425</td>\n",
       "      <td>-1.112697</td>\n",
       "      <td>-0.589313</td>\n",
       "      <td>-0.660929</td>\n",
       "      <td>0.016530</td>\n",
       "      <td>0.319136</td>\n",
       "      <td>0.299521</td>\n",
       "      <td>-0.383452</td>\n",
       "      <td>0.267828</td>\n",
       "      <td>-1.100267</td>\n",
       "    </tr>\n",
       "    <tr>\n",
       "      <th>270</th>\n",
       "      <td>T regulatory cells</td>\n",
       "      <td>RN-486</td>\n",
       "      <td>LSM-47132</td>\n",
       "      <td>CN1CCN(c2ccc(Nc3cc(-c4cccc(-n5ccc6cc(C7CC7)cc(...</td>\n",
       "      <td>False</td>\n",
       "      <td>-0.304126</td>\n",
       "      <td>0.443651</td>\n",
       "      <td>0.688265</td>\n",
       "      <td>-0.101457</td>\n",
       "      <td>-0.005912</td>\n",
       "      <td>...</td>\n",
       "      <td>-0.855096</td>\n",
       "      <td>-0.499096</td>\n",
       "      <td>-0.211083</td>\n",
       "      <td>-0.495621</td>\n",
       "      <td>-0.233734</td>\n",
       "      <td>1.120530</td>\n",
       "      <td>-0.109096</td>\n",
       "      <td>0.128084</td>\n",
       "      <td>0.313468</td>\n",
       "      <td>-0.512444</td>\n",
       "    </tr>\n",
       "    <tr>\n",
       "      <th>435</th>\n",
       "      <td>NK cells</td>\n",
       "      <td>Doxorubicin</td>\n",
       "      <td>LSM-4062</td>\n",
       "      <td>COc1cccc2c1C(=O)c1c(O)c3c(c(O)c1C2=O)C[C@@](O)...</td>\n",
       "      <td>False</td>\n",
       "      <td>0.482294</td>\n",
       "      <td>-1.262924</td>\n",
       "      <td>-0.545405</td>\n",
       "      <td>-0.497739</td>\n",
       "      <td>-0.750201</td>\n",
       "      <td>...</td>\n",
       "      <td>0.444958</td>\n",
       "      <td>0.029279</td>\n",
       "      <td>0.337660</td>\n",
       "      <td>0.025025</td>\n",
       "      <td>0.035943</td>\n",
       "      <td>0.691171</td>\n",
       "      <td>0.352091</td>\n",
       "      <td>0.046012</td>\n",
       "      <td>-0.760812</td>\n",
       "      <td>-0.168719</td>\n",
       "    </tr>\n",
       "    <tr>\n",
       "      <th>102</th>\n",
       "      <td>T cells CD8+</td>\n",
       "      <td>Ricolinostat</td>\n",
       "      <td>LSM-6324</td>\n",
       "      <td>O=C(CCCCCCNC(=O)c1cnc(N(c2ccccc2)c2ccccc2)nc1)NO</td>\n",
       "      <td>False</td>\n",
       "      <td>-1.270048</td>\n",
       "      <td>-0.102076</td>\n",
       "      <td>-0.274282</td>\n",
       "      <td>0.357499</td>\n",
       "      <td>-0.756485</td>\n",
       "      <td>...</td>\n",
       "      <td>0.307323</td>\n",
       "      <td>-1.183770</td>\n",
       "      <td>-0.541778</td>\n",
       "      <td>-0.433469</td>\n",
       "      <td>-0.310043</td>\n",
       "      <td>-0.515335</td>\n",
       "      <td>0.125768</td>\n",
       "      <td>-0.354120</td>\n",
       "      <td>0.603707</td>\n",
       "      <td>-0.379696</td>\n",
       "    </tr>\n",
       "  </tbody>\n",
       "</table>\n",
       "<p>614 rows × 18216 columns</p>\n",
       "</div>"
      ],
      "text/plain": [
       "              cell_type       sm_name sm_lincs_id  \\\n",
       "350  T regulatory cells        TPCA-1    LSM-1136   \n",
       "377            NK cells     Dovitinib    LSM-1127   \n",
       "163  T regulatory cells    Tacalcitol   LSM-45518   \n",
       "609  T regulatory cells  Atorvastatin    LSM-5771   \n",
       "132        T cells CD8+       MK-5108   LSM-36812   \n",
       "..                  ...           ...         ...   \n",
       "71   T regulatory cells    Raloxifene    LSM-3425   \n",
       "106            NK cells    Dabrafenib    LSM-6303   \n",
       "270  T regulatory cells        RN-486   LSM-47132   \n",
       "435            NK cells   Doxorubicin    LSM-4062   \n",
       "102        T cells CD8+  Ricolinostat    LSM-6324   \n",
       "\n",
       "                                                SMILES  control      A1BG  \\\n",
       "350                 NC(=O)Nc1sc(-c2ccc(F)cc2)cc1C(N)=O    False  2.175274   \n",
       "377  CN1CCN(c2ccc3[nH]c(-c4c(N)c5c(F)cccc5[nH]c4=O)...    False  0.214531   \n",
       "163  C=C1/C(=C\\C=C2/CCC[C@]3(C)[C@@H]([C@H](C)CC[C@...    False  0.391257   \n",
       "609  CC(C)c1c(C(=O)Nc2ccccc2)c(-c2ccccc2)c(-c2ccc(F...    False -0.014372   \n",
       "132  O=C(O)[C@]1(Cc2cccc(Nc3nccs3)n2)CC[C@@H](Oc2cc...    False  0.094873   \n",
       "..                                                 ...      ...       ...   \n",
       "71   O=C(c1ccc(OCCN2CCCCC2)cc1)c1c(-c2ccc(O)cc2)sc2...    False  1.080779   \n",
       "106  CC(C)(C)c1nc(-c2cccc(NS(=O)(=O)c3c(F)cccc3F)c2...     True -0.161665   \n",
       "270  CN1CCN(c2ccc(Nc3cc(-c4cccc(-n5ccc6cc(C7CC7)cc(...    False -0.304126   \n",
       "435  COc1cccc2c1C(=O)c1c(O)c3c(c(O)c1C2=O)C[C@@](O)...    False  0.482294   \n",
       "102   O=C(CCCCCCNC(=O)c1cnc(N(c2ccccc2)c2ccccc2)nc1)NO    False -1.270048   \n",
       "\n",
       "     A1BG-AS1       A2M   A2M-AS1     A2MP1  ...      ZUP1      ZW10  \\\n",
       "350  1.219289  2.396227  2.885988  3.384956  ... -1.062199  1.178715   \n",
       "377 -0.115171  0.326515  0.032289  0.220971  ...  0.438939  0.216506   \n",
       "163 -0.052922  0.540292  0.718991  1.083183  ... -1.755527  0.556352   \n",
       "609 -0.122464 -0.456366 -0.147894 -0.545382  ... -0.549987 -2.200925   \n",
       "132  1.067610 -0.745980  1.083842  0.638504  ...  0.279780  0.489431   \n",
       "..        ...       ...       ...       ...  ...       ...       ...   \n",
       "71   0.226991  2.440729  2.581894  1.773980  ... -0.276043  0.768273   \n",
       "106  0.269009 -1.770091 -0.198444  0.954753  ...  0.131425 -1.112697   \n",
       "270  0.443651  0.688265 -0.101457 -0.005912  ... -0.855096 -0.499096   \n",
       "435 -1.262924 -0.545405 -0.497739 -0.750201  ...  0.444958  0.029279   \n",
       "102 -0.102076 -0.274282  0.357499 -0.756485  ...  0.307323 -1.183770   \n",
       "\n",
       "       ZWILCH     ZWINT      ZXDA      ZXDB      ZXDC    ZYG11B       ZYX  \\\n",
       "350  0.180416  0.755145  1.809688  1.644712  0.701406  0.137341  0.230949   \n",
       "377 -0.108654 -0.063070  0.006721 -0.593161 -0.044022  0.475729  0.356555   \n",
       "163  0.089976 -0.000729  0.419802  1.020842  0.367313  0.486345 -0.856723   \n",
       "609  0.359806  1.073983  0.356939 -0.029603 -0.528817  0.105138  0.491015   \n",
       "132  0.147217  0.292313  0.029266  0.330628  1.038142 -0.194884  1.078132   \n",
       "..        ...       ...       ...       ...       ...       ...       ...   \n",
       "71   1.351487  2.359651  1.470219  0.866639  0.467307  0.663700 -0.122574   \n",
       "106 -0.589313 -0.660929  0.016530  0.319136  0.299521 -0.383452  0.267828   \n",
       "270 -0.211083 -0.495621 -0.233734  1.120530 -0.109096  0.128084  0.313468   \n",
       "435  0.337660  0.025025  0.035943  0.691171  0.352091  0.046012 -0.760812   \n",
       "102 -0.541778 -0.433469 -0.310043 -0.515335  0.125768 -0.354120  0.603707   \n",
       "\n",
       "        ZZEF1  \n",
       "350  0.179458  \n",
       "377 -0.038020  \n",
       "163  0.191009  \n",
       "609 -0.979951  \n",
       "132  0.057001  \n",
       "..        ...  \n",
       "71  -0.315800  \n",
       "106 -1.100267  \n",
       "270 -0.512444  \n",
       "435 -0.168719  \n",
       "102 -0.379696  \n",
       "\n",
       "[614 rows x 18216 columns]"
      ]
     },
     "execution_count": 10,
     "metadata": {},
     "output_type": "execute_result"
    }
   ],
   "source": [
    "de_train"
   ]
  },
  {
   "cell_type": "code",
   "execution_count": 11,
   "id": "757578d2",
   "metadata": {
    "execution": {
     "iopub.execute_input": "2023-10-14T14:34:22.971852Z",
     "iopub.status.busy": "2023-10-14T14:34:22.971304Z",
     "iopub.status.idle": "2023-10-14T14:34:23.008536Z",
     "shell.execute_reply": "2023-10-14T14:34:23.007422Z"
    },
    "papermill": {
     "duration": 0.051093,
     "end_time": "2023-10-14T14:34:23.010713",
     "exception": false,
     "start_time": "2023-10-14T14:34:22.959620",
     "status": "completed"
    },
    "tags": []
   },
   "outputs": [],
   "source": [
    "# Create features and and labels for reverse model 18211 features and 152 labels for true model\n",
    "features_columns = [\"cell_type\", \"sm_name\"]\n",
    "labels_columns=[\"cell_type\",\"sm_name\",\"sm_lincs_id\",\"SMILES\",\"control\"]\n",
    "labels = de_train.drop(columns=labels_columns)\n",
    "features = pd.DataFrame(de_train, columns=features_columns)"
   ]
  },
  {
   "cell_type": "code",
   "execution_count": 12,
   "id": "1a39b0c4",
   "metadata": {
    "execution": {
     "iopub.execute_input": "2023-10-14T14:34:23.035362Z",
     "iopub.status.busy": "2023-10-14T14:34:23.034450Z",
     "iopub.status.idle": "2023-10-14T14:34:23.043896Z",
     "shell.execute_reply": "2023-10-14T14:34:23.042929Z"
    },
    "papermill": {
     "duration": 0.023224,
     "end_time": "2023-10-14T14:34:23.045608",
     "exception": false,
     "start_time": "2023-10-14T14:34:23.022384",
     "status": "completed"
    },
    "tags": []
   },
   "outputs": [
    {
     "data": {
      "text/html": [
       "<div>\n",
       "<style scoped>\n",
       "    .dataframe tbody tr th:only-of-type {\n",
       "        vertical-align: middle;\n",
       "    }\n",
       "\n",
       "    .dataframe tbody tr th {\n",
       "        vertical-align: top;\n",
       "    }\n",
       "\n",
       "    .dataframe thead th {\n",
       "        text-align: right;\n",
       "    }\n",
       "</style>\n",
       "<table border=\"1\" class=\"dataframe\">\n",
       "  <thead>\n",
       "    <tr style=\"text-align: right;\">\n",
       "      <th></th>\n",
       "      <th>cell_type</th>\n",
       "      <th>sm_name</th>\n",
       "    </tr>\n",
       "  </thead>\n",
       "  <tbody>\n",
       "    <tr>\n",
       "      <th>350</th>\n",
       "      <td>T regulatory cells</td>\n",
       "      <td>TPCA-1</td>\n",
       "    </tr>\n",
       "    <tr>\n",
       "      <th>377</th>\n",
       "      <td>NK cells</td>\n",
       "      <td>Dovitinib</td>\n",
       "    </tr>\n",
       "    <tr>\n",
       "      <th>163</th>\n",
       "      <td>T regulatory cells</td>\n",
       "      <td>Tacalcitol</td>\n",
       "    </tr>\n",
       "    <tr>\n",
       "      <th>609</th>\n",
       "      <td>T regulatory cells</td>\n",
       "      <td>Atorvastatin</td>\n",
       "    </tr>\n",
       "    <tr>\n",
       "      <th>132</th>\n",
       "      <td>T cells CD8+</td>\n",
       "      <td>MK-5108</td>\n",
       "    </tr>\n",
       "    <tr>\n",
       "      <th>...</th>\n",
       "      <td>...</td>\n",
       "      <td>...</td>\n",
       "    </tr>\n",
       "    <tr>\n",
       "      <th>71</th>\n",
       "      <td>T regulatory cells</td>\n",
       "      <td>Raloxifene</td>\n",
       "    </tr>\n",
       "    <tr>\n",
       "      <th>106</th>\n",
       "      <td>NK cells</td>\n",
       "      <td>Dabrafenib</td>\n",
       "    </tr>\n",
       "    <tr>\n",
       "      <th>270</th>\n",
       "      <td>T regulatory cells</td>\n",
       "      <td>RN-486</td>\n",
       "    </tr>\n",
       "    <tr>\n",
       "      <th>435</th>\n",
       "      <td>NK cells</td>\n",
       "      <td>Doxorubicin</td>\n",
       "    </tr>\n",
       "    <tr>\n",
       "      <th>102</th>\n",
       "      <td>T cells CD8+</td>\n",
       "      <td>Ricolinostat</td>\n",
       "    </tr>\n",
       "  </tbody>\n",
       "</table>\n",
       "<p>614 rows × 2 columns</p>\n",
       "</div>"
      ],
      "text/plain": [
       "              cell_type       sm_name\n",
       "350  T regulatory cells        TPCA-1\n",
       "377            NK cells     Dovitinib\n",
       "163  T regulatory cells    Tacalcitol\n",
       "609  T regulatory cells  Atorvastatin\n",
       "132        T cells CD8+       MK-5108\n",
       "..                  ...           ...\n",
       "71   T regulatory cells    Raloxifene\n",
       "106            NK cells    Dabrafenib\n",
       "270  T regulatory cells        RN-486\n",
       "435            NK cells   Doxorubicin\n",
       "102        T cells CD8+  Ricolinostat\n",
       "\n",
       "[614 rows x 2 columns]"
      ]
     },
     "execution_count": 12,
     "metadata": {},
     "output_type": "execute_result"
    }
   ],
   "source": [
    "features"
   ]
  },
  {
   "cell_type": "code",
   "execution_count": 13,
   "id": "f5625251",
   "metadata": {
    "execution": {
     "iopub.execute_input": "2023-10-14T14:34:23.069968Z",
     "iopub.status.busy": "2023-10-14T14:34:23.069171Z",
     "iopub.status.idle": "2023-10-14T14:34:23.093494Z",
     "shell.execute_reply": "2023-10-14T14:34:23.092545Z"
    },
    "papermill": {
     "duration": 0.037841,
     "end_time": "2023-10-14T14:34:23.095132",
     "exception": false,
     "start_time": "2023-10-14T14:34:23.057291",
     "status": "completed"
    },
    "tags": []
   },
   "outputs": [
    {
     "data": {
      "text/html": [
       "<div>\n",
       "<style scoped>\n",
       "    .dataframe tbody tr th:only-of-type {\n",
       "        vertical-align: middle;\n",
       "    }\n",
       "\n",
       "    .dataframe tbody tr th {\n",
       "        vertical-align: top;\n",
       "    }\n",
       "\n",
       "    .dataframe thead th {\n",
       "        text-align: right;\n",
       "    }\n",
       "</style>\n",
       "<table border=\"1\" class=\"dataframe\">\n",
       "  <thead>\n",
       "    <tr style=\"text-align: right;\">\n",
       "      <th></th>\n",
       "      <th>A1BG</th>\n",
       "      <th>A1BG-AS1</th>\n",
       "      <th>A2M</th>\n",
       "      <th>A2M-AS1</th>\n",
       "      <th>A2MP1</th>\n",
       "      <th>A4GALT</th>\n",
       "      <th>AAAS</th>\n",
       "      <th>AACS</th>\n",
       "      <th>AAGAB</th>\n",
       "      <th>AAK1</th>\n",
       "      <th>...</th>\n",
       "      <th>ZUP1</th>\n",
       "      <th>ZW10</th>\n",
       "      <th>ZWILCH</th>\n",
       "      <th>ZWINT</th>\n",
       "      <th>ZXDA</th>\n",
       "      <th>ZXDB</th>\n",
       "      <th>ZXDC</th>\n",
       "      <th>ZYG11B</th>\n",
       "      <th>ZYX</th>\n",
       "      <th>ZZEF1</th>\n",
       "    </tr>\n",
       "  </thead>\n",
       "  <tbody>\n",
       "    <tr>\n",
       "      <th>350</th>\n",
       "      <td>2.175274</td>\n",
       "      <td>1.219289</td>\n",
       "      <td>2.396227</td>\n",
       "      <td>2.885988</td>\n",
       "      <td>3.384956</td>\n",
       "      <td>3.267348</td>\n",
       "      <td>0.134622</td>\n",
       "      <td>1.829941</td>\n",
       "      <td>-0.956191</td>\n",
       "      <td>-0.404039</td>\n",
       "      <td>...</td>\n",
       "      <td>-1.062199</td>\n",
       "      <td>1.178715</td>\n",
       "      <td>0.180416</td>\n",
       "      <td>0.755145</td>\n",
       "      <td>1.809688</td>\n",
       "      <td>1.644712</td>\n",
       "      <td>0.701406</td>\n",
       "      <td>0.137341</td>\n",
       "      <td>0.230949</td>\n",
       "      <td>0.179458</td>\n",
       "    </tr>\n",
       "    <tr>\n",
       "      <th>377</th>\n",
       "      <td>0.214531</td>\n",
       "      <td>-0.115171</td>\n",
       "      <td>0.326515</td>\n",
       "      <td>0.032289</td>\n",
       "      <td>0.220971</td>\n",
       "      <td>-0.463554</td>\n",
       "      <td>1.016849</td>\n",
       "      <td>0.153039</td>\n",
       "      <td>0.292684</td>\n",
       "      <td>0.038020</td>\n",
       "      <td>...</td>\n",
       "      <td>0.438939</td>\n",
       "      <td>0.216506</td>\n",
       "      <td>-0.108654</td>\n",
       "      <td>-0.063070</td>\n",
       "      <td>0.006721</td>\n",
       "      <td>-0.593161</td>\n",
       "      <td>-0.044022</td>\n",
       "      <td>0.475729</td>\n",
       "      <td>0.356555</td>\n",
       "      <td>-0.038020</td>\n",
       "    </tr>\n",
       "    <tr>\n",
       "      <th>163</th>\n",
       "      <td>0.391257</td>\n",
       "      <td>-0.052922</td>\n",
       "      <td>0.540292</td>\n",
       "      <td>0.718991</td>\n",
       "      <td>1.083183</td>\n",
       "      <td>1.021599</td>\n",
       "      <td>-0.097250</td>\n",
       "      <td>0.306833</td>\n",
       "      <td>-3.331719</td>\n",
       "      <td>0.235092</td>\n",
       "      <td>...</td>\n",
       "      <td>-1.755527</td>\n",
       "      <td>0.556352</td>\n",
       "      <td>0.089976</td>\n",
       "      <td>-0.000729</td>\n",
       "      <td>0.419802</td>\n",
       "      <td>1.020842</td>\n",
       "      <td>0.367313</td>\n",
       "      <td>0.486345</td>\n",
       "      <td>-0.856723</td>\n",
       "      <td>0.191009</td>\n",
       "    </tr>\n",
       "    <tr>\n",
       "      <th>609</th>\n",
       "      <td>-0.014372</td>\n",
       "      <td>-0.122464</td>\n",
       "      <td>-0.456366</td>\n",
       "      <td>-0.147894</td>\n",
       "      <td>-0.545382</td>\n",
       "      <td>-0.544709</td>\n",
       "      <td>0.282458</td>\n",
       "      <td>-0.431359</td>\n",
       "      <td>-0.364961</td>\n",
       "      <td>0.043123</td>\n",
       "      <td>...</td>\n",
       "      <td>-0.549987</td>\n",
       "      <td>-2.200925</td>\n",
       "      <td>0.359806</td>\n",
       "      <td>1.073983</td>\n",
       "      <td>0.356939</td>\n",
       "      <td>-0.029603</td>\n",
       "      <td>-0.528817</td>\n",
       "      <td>0.105138</td>\n",
       "      <td>0.491015</td>\n",
       "      <td>-0.979951</td>\n",
       "    </tr>\n",
       "    <tr>\n",
       "      <th>132</th>\n",
       "      <td>0.094873</td>\n",
       "      <td>1.067610</td>\n",
       "      <td>-0.745980</td>\n",
       "      <td>1.083842</td>\n",
       "      <td>0.638504</td>\n",
       "      <td>0.307649</td>\n",
       "      <td>-0.038108</td>\n",
       "      <td>0.772186</td>\n",
       "      <td>-0.736735</td>\n",
       "      <td>-0.462323</td>\n",
       "      <td>...</td>\n",
       "      <td>0.279780</td>\n",
       "      <td>0.489431</td>\n",
       "      <td>0.147217</td>\n",
       "      <td>0.292313</td>\n",
       "      <td>0.029266</td>\n",
       "      <td>0.330628</td>\n",
       "      <td>1.038142</td>\n",
       "      <td>-0.194884</td>\n",
       "      <td>1.078132</td>\n",
       "      <td>0.057001</td>\n",
       "    </tr>\n",
       "    <tr>\n",
       "      <th>...</th>\n",
       "      <td>...</td>\n",
       "      <td>...</td>\n",
       "      <td>...</td>\n",
       "      <td>...</td>\n",
       "      <td>...</td>\n",
       "      <td>...</td>\n",
       "      <td>...</td>\n",
       "      <td>...</td>\n",
       "      <td>...</td>\n",
       "      <td>...</td>\n",
       "      <td>...</td>\n",
       "      <td>...</td>\n",
       "      <td>...</td>\n",
       "      <td>...</td>\n",
       "      <td>...</td>\n",
       "      <td>...</td>\n",
       "      <td>...</td>\n",
       "      <td>...</td>\n",
       "      <td>...</td>\n",
       "      <td>...</td>\n",
       "      <td>...</td>\n",
       "    </tr>\n",
       "    <tr>\n",
       "      <th>71</th>\n",
       "      <td>1.080779</td>\n",
       "      <td>0.226991</td>\n",
       "      <td>2.440729</td>\n",
       "      <td>2.581894</td>\n",
       "      <td>1.773980</td>\n",
       "      <td>1.989227</td>\n",
       "      <td>-0.074095</td>\n",
       "      <td>0.906555</td>\n",
       "      <td>2.214564</td>\n",
       "      <td>-0.182784</td>\n",
       "      <td>...</td>\n",
       "      <td>-0.276043</td>\n",
       "      <td>0.768273</td>\n",
       "      <td>1.351487</td>\n",
       "      <td>2.359651</td>\n",
       "      <td>1.470219</td>\n",
       "      <td>0.866639</td>\n",
       "      <td>0.467307</td>\n",
       "      <td>0.663700</td>\n",
       "      <td>-0.122574</td>\n",
       "      <td>-0.315800</td>\n",
       "    </tr>\n",
       "    <tr>\n",
       "      <th>106</th>\n",
       "      <td>-0.161665</td>\n",
       "      <td>0.269009</td>\n",
       "      <td>-1.770091</td>\n",
       "      <td>-0.198444</td>\n",
       "      <td>0.954753</td>\n",
       "      <td>1.155912</td>\n",
       "      <td>-0.312552</td>\n",
       "      <td>0.621897</td>\n",
       "      <td>-0.154055</td>\n",
       "      <td>0.331780</td>\n",
       "      <td>...</td>\n",
       "      <td>0.131425</td>\n",
       "      <td>-1.112697</td>\n",
       "      <td>-0.589313</td>\n",
       "      <td>-0.660929</td>\n",
       "      <td>0.016530</td>\n",
       "      <td>0.319136</td>\n",
       "      <td>0.299521</td>\n",
       "      <td>-0.383452</td>\n",
       "      <td>0.267828</td>\n",
       "      <td>-1.100267</td>\n",
       "    </tr>\n",
       "    <tr>\n",
       "      <th>270</th>\n",
       "      <td>-0.304126</td>\n",
       "      <td>0.443651</td>\n",
       "      <td>0.688265</td>\n",
       "      <td>-0.101457</td>\n",
       "      <td>-0.005912</td>\n",
       "      <td>-0.004914</td>\n",
       "      <td>-0.247434</td>\n",
       "      <td>0.281614</td>\n",
       "      <td>-0.915735</td>\n",
       "      <td>-0.032908</td>\n",
       "      <td>...</td>\n",
       "      <td>-0.855096</td>\n",
       "      <td>-0.499096</td>\n",
       "      <td>-0.211083</td>\n",
       "      <td>-0.495621</td>\n",
       "      <td>-0.233734</td>\n",
       "      <td>1.120530</td>\n",
       "      <td>-0.109096</td>\n",
       "      <td>0.128084</td>\n",
       "      <td>0.313468</td>\n",
       "      <td>-0.512444</td>\n",
       "    </tr>\n",
       "    <tr>\n",
       "      <th>435</th>\n",
       "      <td>0.482294</td>\n",
       "      <td>-1.262924</td>\n",
       "      <td>-0.545405</td>\n",
       "      <td>-0.497739</td>\n",
       "      <td>-0.750201</td>\n",
       "      <td>0.959704</td>\n",
       "      <td>0.527966</td>\n",
       "      <td>1.198200</td>\n",
       "      <td>-0.482740</td>\n",
       "      <td>0.635863</td>\n",
       "      <td>...</td>\n",
       "      <td>0.444958</td>\n",
       "      <td>0.029279</td>\n",
       "      <td>0.337660</td>\n",
       "      <td>0.025025</td>\n",
       "      <td>0.035943</td>\n",
       "      <td>0.691171</td>\n",
       "      <td>0.352091</td>\n",
       "      <td>0.046012</td>\n",
       "      <td>-0.760812</td>\n",
       "      <td>-0.168719</td>\n",
       "    </tr>\n",
       "    <tr>\n",
       "      <th>102</th>\n",
       "      <td>-1.270048</td>\n",
       "      <td>-0.102076</td>\n",
       "      <td>-0.274282</td>\n",
       "      <td>0.357499</td>\n",
       "      <td>-0.756485</td>\n",
       "      <td>-0.668128</td>\n",
       "      <td>-0.157495</td>\n",
       "      <td>-0.001625</td>\n",
       "      <td>-1.435762</td>\n",
       "      <td>0.150410</td>\n",
       "      <td>...</td>\n",
       "      <td>0.307323</td>\n",
       "      <td>-1.183770</td>\n",
       "      <td>-0.541778</td>\n",
       "      <td>-0.433469</td>\n",
       "      <td>-0.310043</td>\n",
       "      <td>-0.515335</td>\n",
       "      <td>0.125768</td>\n",
       "      <td>-0.354120</td>\n",
       "      <td>0.603707</td>\n",
       "      <td>-0.379696</td>\n",
       "    </tr>\n",
       "  </tbody>\n",
       "</table>\n",
       "<p>614 rows × 18211 columns</p>\n",
       "</div>"
      ],
      "text/plain": [
       "         A1BG  A1BG-AS1       A2M   A2M-AS1     A2MP1    A4GALT      AAAS  \\\n",
       "350  2.175274  1.219289  2.396227  2.885988  3.384956  3.267348  0.134622   \n",
       "377  0.214531 -0.115171  0.326515  0.032289  0.220971 -0.463554  1.016849   \n",
       "163  0.391257 -0.052922  0.540292  0.718991  1.083183  1.021599 -0.097250   \n",
       "609 -0.014372 -0.122464 -0.456366 -0.147894 -0.545382 -0.544709  0.282458   \n",
       "132  0.094873  1.067610 -0.745980  1.083842  0.638504  0.307649 -0.038108   \n",
       "..        ...       ...       ...       ...       ...       ...       ...   \n",
       "71   1.080779  0.226991  2.440729  2.581894  1.773980  1.989227 -0.074095   \n",
       "106 -0.161665  0.269009 -1.770091 -0.198444  0.954753  1.155912 -0.312552   \n",
       "270 -0.304126  0.443651  0.688265 -0.101457 -0.005912 -0.004914 -0.247434   \n",
       "435  0.482294 -1.262924 -0.545405 -0.497739 -0.750201  0.959704  0.527966   \n",
       "102 -1.270048 -0.102076 -0.274282  0.357499 -0.756485 -0.668128 -0.157495   \n",
       "\n",
       "         AACS     AAGAB      AAK1  ...      ZUP1      ZW10    ZWILCH  \\\n",
       "350  1.829941 -0.956191 -0.404039  ... -1.062199  1.178715  0.180416   \n",
       "377  0.153039  0.292684  0.038020  ...  0.438939  0.216506 -0.108654   \n",
       "163  0.306833 -3.331719  0.235092  ... -1.755527  0.556352  0.089976   \n",
       "609 -0.431359 -0.364961  0.043123  ... -0.549987 -2.200925  0.359806   \n",
       "132  0.772186 -0.736735 -0.462323  ...  0.279780  0.489431  0.147217   \n",
       "..        ...       ...       ...  ...       ...       ...       ...   \n",
       "71   0.906555  2.214564 -0.182784  ... -0.276043  0.768273  1.351487   \n",
       "106  0.621897 -0.154055  0.331780  ...  0.131425 -1.112697 -0.589313   \n",
       "270  0.281614 -0.915735 -0.032908  ... -0.855096 -0.499096 -0.211083   \n",
       "435  1.198200 -0.482740  0.635863  ...  0.444958  0.029279  0.337660   \n",
       "102 -0.001625 -1.435762  0.150410  ...  0.307323 -1.183770 -0.541778   \n",
       "\n",
       "        ZWINT      ZXDA      ZXDB      ZXDC    ZYG11B       ZYX     ZZEF1  \n",
       "350  0.755145  1.809688  1.644712  0.701406  0.137341  0.230949  0.179458  \n",
       "377 -0.063070  0.006721 -0.593161 -0.044022  0.475729  0.356555 -0.038020  \n",
       "163 -0.000729  0.419802  1.020842  0.367313  0.486345 -0.856723  0.191009  \n",
       "609  1.073983  0.356939 -0.029603 -0.528817  0.105138  0.491015 -0.979951  \n",
       "132  0.292313  0.029266  0.330628  1.038142 -0.194884  1.078132  0.057001  \n",
       "..        ...       ...       ...       ...       ...       ...       ...  \n",
       "71   2.359651  1.470219  0.866639  0.467307  0.663700 -0.122574 -0.315800  \n",
       "106 -0.660929  0.016530  0.319136  0.299521 -0.383452  0.267828 -1.100267  \n",
       "270 -0.495621 -0.233734  1.120530 -0.109096  0.128084  0.313468 -0.512444  \n",
       "435  0.025025  0.035943  0.691171  0.352091  0.046012 -0.760812 -0.168719  \n",
       "102 -0.433469 -0.310043 -0.515335  0.125768 -0.354120  0.603707 -0.379696  \n",
       "\n",
       "[614 rows x 18211 columns]"
      ]
     },
     "execution_count": 13,
     "metadata": {},
     "output_type": "execute_result"
    }
   ],
   "source": [
    "labels"
   ]
  },
  {
   "cell_type": "code",
   "execution_count": 14,
   "id": "b6f788f5",
   "metadata": {
    "execution": {
     "iopub.execute_input": "2023-10-14T14:34:23.119299Z",
     "iopub.status.busy": "2023-10-14T14:34:23.119050Z",
     "iopub.status.idle": "2023-10-14T14:34:23.123482Z",
     "shell.execute_reply": "2023-10-14T14:34:23.122624Z"
    },
    "papermill": {
     "duration": 0.018313,
     "end_time": "2023-10-14T14:34:23.125147",
     "exception": false,
     "start_time": "2023-10-14T14:34:23.106834",
     "status": "completed"
    },
    "tags": []
   },
   "outputs": [],
   "source": [
    "# Get test data \n",
    "test_data = pd.DataFrame(id_map, columns=features_columns)"
   ]
  },
  {
   "cell_type": "markdown",
   "id": "71006ba4",
   "metadata": {
    "papermill": {
     "duration": 0.011229,
     "end_time": "2023-10-14T14:34:23.147801",
     "exception": false,
     "start_time": "2023-10-14T14:34:23.136572",
     "status": "completed"
    },
    "tags": []
   },
   "source": [
    "# Process categorical data\n",
    "We'll use OneHotEncode for categorical data"
   ]
  },
  {
   "cell_type": "code",
   "execution_count": 15,
   "id": "dee37494",
   "metadata": {
    "execution": {
     "iopub.execute_input": "2023-10-14T14:34:23.171825Z",
     "iopub.status.busy": "2023-10-14T14:34:23.171223Z",
     "iopub.status.idle": "2023-10-14T14:34:23.732243Z",
     "shell.execute_reply": "2023-10-14T14:34:23.731296Z"
    },
    "papermill": {
     "duration": 0.575429,
     "end_time": "2023-10-14T14:34:23.734475",
     "exception": false,
     "start_time": "2023-10-14T14:34:23.159046",
     "status": "completed"
    },
    "tags": []
   },
   "outputs": [],
   "source": [
    "from sklearn.preprocessing import OneHotEncoder\n",
    "\n",
    "# Create an instance of the encoder\n",
    "encoder = OneHotEncoder()\n",
    "\n",
    "# Fit the encoder on features\n",
    "encoder.fit(features)\n",
    "\n",
    "# Transform the features into one-hot encoded format\n",
    "one_hot_encode_features = encoder.transform(features)\n",
    "\n",
    "# Transform the test data(id_map)\n",
    "one_hot_test = encoder.transform(test_data)"
   ]
  },
  {
   "cell_type": "code",
   "execution_count": 16,
   "id": "f54865ee",
   "metadata": {
    "execution": {
     "iopub.execute_input": "2023-10-14T14:34:23.762032Z",
     "iopub.status.busy": "2023-10-14T14:34:23.761716Z",
     "iopub.status.idle": "2023-10-14T14:34:23.769117Z",
     "shell.execute_reply": "2023-10-14T14:34:23.768159Z"
    },
    "papermill": {
     "duration": 0.021711,
     "end_time": "2023-10-14T14:34:23.770716",
     "exception": false,
     "start_time": "2023-10-14T14:34:23.749005",
     "status": "completed"
    },
    "tags": []
   },
   "outputs": [
    {
     "data": {
      "text/plain": [
       "((614, 152), (255, 152))"
      ]
     },
     "execution_count": 16,
     "metadata": {},
     "output_type": "execute_result"
    }
   ],
   "source": [
    "# check shape\n",
    "one_hot_encode_features.toarray().shape, one_hot_test.toarray().shape"
   ]
  },
  {
   "cell_type": "code",
   "execution_count": 17,
   "id": "b452e65b",
   "metadata": {
    "execution": {
     "iopub.execute_input": "2023-10-14T14:34:23.795543Z",
     "iopub.status.busy": "2023-10-14T14:34:23.794784Z",
     "iopub.status.idle": "2023-10-14T14:34:23.802051Z",
     "shell.execute_reply": "2023-10-14T14:34:23.801056Z"
    },
    "papermill": {
     "duration": 0.021587,
     "end_time": "2023-10-14T14:34:23.803815",
     "exception": false,
     "start_time": "2023-10-14T14:34:23.782228",
     "status": "completed"
    },
    "tags": []
   },
   "outputs": [
    {
     "data": {
      "text/plain": [
       "array([0., 0., 0., 0., 0., 1., 0., 0., 0., 0., 0., 0., 0., 0., 0., 0., 0.,\n",
       "       0., 0., 0., 0., 0., 0., 0., 0., 0., 0., 0., 0., 0., 0., 0., 0., 0.,\n",
       "       0., 0., 0., 0., 0., 0., 0., 0., 0., 0., 0., 0., 0., 0., 0., 0., 0.,\n",
       "       0., 0., 0., 0., 0., 0., 0., 0., 0., 0., 0., 0., 0., 0., 0., 0., 0.,\n",
       "       0., 0., 0., 0., 0., 0., 0., 0., 0., 0., 0., 0., 0., 0., 0., 0., 0.,\n",
       "       0., 0., 0., 0., 0., 0., 0., 0., 0., 0., 0., 0., 0., 0., 0., 0., 0.,\n",
       "       0., 0., 0., 0., 0., 0., 0., 0., 0., 0., 0., 0., 0., 0., 0., 0., 0.,\n",
       "       0., 0., 0., 0., 0., 0., 0., 0., 0., 0., 0., 0., 0., 0., 0., 0., 0.,\n",
       "       1., 0., 0., 0., 0., 0., 0., 0., 0., 0., 0., 0., 0., 0., 0., 0.])"
      ]
     },
     "execution_count": 17,
     "metadata": {},
     "output_type": "execute_result"
    }
   ],
   "source": [
    "# check one sample\n",
    "one_hot_encode_features.toarray()[0]"
   ]
  },
  {
   "cell_type": "markdown",
   "id": "14339608",
   "metadata": {
    "papermill": {
     "duration": 0.01202,
     "end_time": "2023-10-14T14:34:23.828716",
     "exception": false,
     "start_time": "2023-10-14T14:34:23.816696",
     "status": "completed"
    },
    "tags": []
   },
   "source": [
    "# Split Data into training, validation and test sets "
   ]
  },
  {
   "cell_type": "code",
   "execution_count": 18,
   "id": "95059adf",
   "metadata": {
    "execution": {
     "iopub.execute_input": "2023-10-14T14:34:23.853512Z",
     "iopub.status.busy": "2023-10-14T14:34:23.852939Z",
     "iopub.status.idle": "2023-10-14T14:34:24.010702Z",
     "shell.execute_reply": "2023-10-14T14:34:24.009588Z"
    },
    "papermill": {
     "duration": 0.172698,
     "end_time": "2023-10-14T14:34:24.012979",
     "exception": false,
     "start_time": "2023-10-14T14:34:23.840281",
     "status": "completed"
    },
    "tags": []
   },
   "outputs": [],
   "source": [
    "from sklearn.model_selection import train_test_split\n",
    "\n",
    "# Split the data into 70% training, 15% validation, and 15% testing\n",
    "X_train, X_temp, y_train, y_temp = train_test_split(one_hot_encode_features, labels.values, test_size=0.3, shuffle=False)\n",
    "X_val, X_test, y_val, y_test = train_test_split(X_temp, y_temp, test_size=0.5, shuffle=False)"
   ]
  },
  {
   "cell_type": "code",
   "execution_count": 19,
   "id": "04715897",
   "metadata": {
    "execution": {
     "iopub.execute_input": "2023-10-14T14:34:24.041983Z",
     "iopub.status.busy": "2023-10-14T14:34:24.041225Z",
     "iopub.status.idle": "2023-10-14T14:34:24.048618Z",
     "shell.execute_reply": "2023-10-14T14:34:24.047288Z"
    },
    "papermill": {
     "duration": 0.024467,
     "end_time": "2023-10-14T14:34:24.050592",
     "exception": false,
     "start_time": "2023-10-14T14:34:24.026125",
     "status": "completed"
    },
    "tags": []
   },
   "outputs": [
    {
     "name": "stdout",
     "output_type": "stream",
     "text": [
      "X_train shape: (429, 152)\n",
      "X_val shape: (92, 152)\n",
      "X_test shape: (93, 152)\n",
      "y_train shape: (429, 18211)\n",
      "y_val shape: (92, 18211)\n",
      "y_test shape: (93, 18211)\n"
     ]
    }
   ],
   "source": [
    "# Printing the shapes of the data splits\n",
    "print(\"X_train shape:\", X_train.shape)\n",
    "print(\"X_val shape:\", X_val.shape)\n",
    "print(\"X_test shape:\", X_test.shape)\n",
    "print(\"y_train shape:\", y_train.shape)\n",
    "print(\"y_val shape:\", y_val.shape)\n",
    "print(\"y_test shape:\", y_test.shape)"
   ]
  },
  {
   "cell_type": "code",
   "execution_count": 20,
   "id": "82522abb",
   "metadata": {
    "execution": {
     "iopub.execute_input": "2023-10-14T14:34:24.080090Z",
     "iopub.status.busy": "2023-10-14T14:34:24.079241Z",
     "iopub.status.idle": "2023-10-14T14:34:24.084493Z",
     "shell.execute_reply": "2023-10-14T14:34:24.083592Z"
    },
    "papermill": {
     "duration": 0.02193,
     "end_time": "2023-10-14T14:34:24.086515",
     "exception": false,
     "start_time": "2023-10-14T14:34:24.064585",
     "status": "completed"
    },
    "tags": []
   },
   "outputs": [],
   "source": [
    "# We also get full features for final training \n",
    "full_features = one_hot_encode_features.toarray()\n",
    "full_labels = labels.values"
   ]
  },
  {
   "cell_type": "code",
   "execution_count": 21,
   "id": "36445edb",
   "metadata": {
    "execution": {
     "iopub.execute_input": "2023-10-14T14:34:24.115475Z",
     "iopub.status.busy": "2023-10-14T14:34:24.114660Z",
     "iopub.status.idle": "2023-10-14T14:34:24.120450Z",
     "shell.execute_reply": "2023-10-14T14:34:24.119099Z"
    },
    "papermill": {
     "duration": 0.022205,
     "end_time": "2023-10-14T14:34:24.122358",
     "exception": false,
     "start_time": "2023-10-14T14:34:24.100153",
     "status": "completed"
    },
    "tags": []
   },
   "outputs": [
    {
     "name": "stdout",
     "output_type": "stream",
     "text": [
      "full_features shape: (614, 152)\n",
      "full_labels shape: (614, 18211)\n"
     ]
    }
   ],
   "source": [
    "print(\"full_features shape:\", full_features.shape)\n",
    "print(\"full_labels shape:\", full_labels.shape)"
   ]
  },
  {
   "cell_type": "markdown",
   "id": "056f61ae",
   "metadata": {
    "papermill": {
     "duration": 0.013119,
     "end_time": "2023-10-14T14:34:24.148635",
     "exception": false,
     "start_time": "2023-10-14T14:34:24.135516",
     "status": "completed"
    },
    "tags": []
   },
   "source": [
    "# Auxillary functions "
   ]
  },
  {
   "cell_type": "code",
   "execution_count": 22,
   "id": "e74c1cb8",
   "metadata": {
    "execution": {
     "iopub.execute_input": "2023-10-14T14:34:24.176371Z",
     "iopub.status.busy": "2023-10-14T14:34:24.175680Z",
     "iopub.status.idle": "2023-10-14T14:34:24.182974Z",
     "shell.execute_reply": "2023-10-14T14:34:24.182099Z"
    },
    "papermill": {
     "duration": 0.02341,
     "end_time": "2023-10-14T14:34:24.184834",
     "exception": false,
     "start_time": "2023-10-14T14:34:24.161424",
     "status": "completed"
    },
    "tags": []
   },
   "outputs": [],
   "source": [
    "from tensorflow.keras.callbacks import ModelCheckpoint\n",
    "\n",
    "def create_model_checkpoint(filepath, monitor='val_mae', save_best_only=True,\n",
    "                            save_weights_only=True, mode='auto', verbose=0):\n",
    "    \"\"\"\n",
    "    Create a ModelCheckpoint callback for saving the best model weights during training.\n",
    "\n",
    "    Args:\n",
    "        filepath (str): Filepath to save the best weights.\n",
    "        monitor (str): Metric to monitor (e.g., 'val_loss' or 'val_mae').\n",
    "        save_best_only (bool): Save only the best weights.\n",
    "        save_weights_only (bool): Save only the model's weights, not the entire model.\n",
    "        mode (str): One of {'auto', 'min', 'max'}. In 'min' mode, it saves when the monitored metric decreases.\n",
    "        verbose (int): Verbosity mode. 0 = silent, 1 = progress bar, 2 = one line per epoch.\n",
    "\n",
    "    Returns:\n",
    "\n",
    "        keras.callbacks.ModelCheckpoint: ModelCheckpoint callback.\n",
    "    \"\"\"\n",
    "    checkpoint = ModelCheckpoint(\n",
    "        filepath=filepath,\n",
    "        monitor=monitor,\n",
    "        save_best_only=save_best_only,\n",
    "        save_weights_only=save_weights_only,\n",
    "        mode=mode,\n",
    "        verbose=verbose\n",
    "    )\n",
    "    return checkpoint"
   ]
  },
  {
   "cell_type": "code",
   "execution_count": 23,
   "id": "ce36c7b3",
   "metadata": {
    "execution": {
     "iopub.execute_input": "2023-10-14T14:34:24.212207Z",
     "iopub.status.busy": "2023-10-14T14:34:24.211439Z",
     "iopub.status.idle": "2023-10-14T14:34:24.218757Z",
     "shell.execute_reply": "2023-10-14T14:34:24.217771Z"
    },
    "papermill": {
     "duration": 0.022612,
     "end_time": "2023-10-14T14:34:24.220514",
     "exception": false,
     "start_time": "2023-10-14T14:34:24.197902",
     "status": "completed"
    },
    "tags": []
   },
   "outputs": [],
   "source": [
    "def plot_training_history(history, metrics):\n",
    "    \"\"\"\n",
    "    Plot training history curves for loss and evaluation metrics on the same line.\n",
    "\n",
    "    Args:\n",
    "        history (keras.callbacks.History): Training history object.\n",
    "        metrics (list): List of metric names to plot.\n",
    "\n",
    "    Returns:\n",
    "        None\n",
    "    \"\"\"\n",
    "    loss = history.history['loss']\n",
    "    val_loss = history.history['val_loss']\n",
    "\n",
    "    epochs = range(len(loss))\n",
    "\n",
    "    plt.figure(figsize=(12, 6))\n",
    "\n",
    "    # Plot loss\n",
    "    plt.subplot(1, 2, 1)\n",
    "    plt.plot(epochs, loss, label='Training Loss', color=\"blue\")\n",
    "    plt.plot(epochs, val_loss, label='Validation Loss', color=\"red\")\n",
    "    plt.title('Loss')\n",
    "    plt.xlabel('Epochs')\n",
    "    plt.legend()\n",
    "\n",
    "    # Plot specified evaluation metrics on the same line\n",
    "    for metric in metrics:\n",
    "        train_metric_name = f'Training {metric.capitalize()}'\n",
    "        val_metric_name = f'Validation {metric.capitalize()}'\n",
    "        train_metric = history.history[metric]\n",
    "        val_metric = history.history['val_' + metric]\n",
    "\n",
    "        plt.subplot(1, 2, 2)\n",
    "        plt.plot(epochs, train_metric, label=train_metric_name, color=\"green\")\n",
    "        plt.plot(epochs, val_metric, label=val_metric_name, color=\"orange\")\n",
    "\n",
    "    plt.title('Metrics')\n",
    "    plt.xlabel('Epochs')\n",
    "    plt.legend(loc='upper right')\n",
    "\n",
    "    plt.tight_layout()\n",
    "    plt.show()\n"
   ]
  },
  {
   "cell_type": "code",
   "execution_count": 24,
   "id": "4aceb24f",
   "metadata": {
    "execution": {
     "iopub.execute_input": "2023-10-14T14:34:24.246644Z",
     "iopub.status.busy": "2023-10-14T14:34:24.246389Z",
     "iopub.status.idle": "2023-10-14T14:34:24.251772Z",
     "shell.execute_reply": "2023-10-14T14:34:24.250780Z"
    },
    "papermill": {
     "duration": 0.020491,
     "end_time": "2023-10-14T14:34:24.253454",
     "exception": false,
     "start_time": "2023-10-14T14:34:24.232963",
     "status": "completed"
    },
    "tags": []
   },
   "outputs": [],
   "source": [
    "from sklearn.metrics import mean_absolute_error\n",
    "\n",
    "def calculate_mae_and_mrrmse(model, data, y_true):\n",
    "    \"\"\"\n",
    "    Calculate Mean Absolute Error (MAE) and Mean Rowwise Root Mean Squared Error (MRRMSE).\n",
    "\n",
    "    Parameters:\n",
    "    - model: The trained  model.\n",
    "    - data: The input data for prediction.\n",
    "    - y_true: The true target values.\n",
    "    - scaler: The scaler used for data normalization.\n",
    "\n",
    "    Returns:\n",
    "    - None\n",
    "    \"\"\"\n",
    "    # Predict using the model\n",
    "    y_pred_original = model.predict(data, batch_size=1)\n",
    "    \n",
    "    # Calculate Mean Absolute Error (MAE)\n",
    "    mae = mean_absolute_error(y_true , y_pred_original)\n",
    "    \n",
    "    # Calculate Mean Rowwise Root Mean Squared Error (MRRMSE)\n",
    "    rowwise_rmse = np.sqrt(np.mean(np.square(y_true - y_pred_original), axis=1))\n",
    "    mrrmse_score = np.mean(rowwise_rmse)\n",
    "    \n",
    "    # Print the results\n",
    "    print(f\"Mean Absolute Error (MAE): {mae}\")\n",
    "    print(f\"Mean Rowwise Root Mean Squared Error (MRRMSE): {mrrmse_score}\")"
   ]
  },
  {
   "cell_type": "code",
   "execution_count": 25,
   "id": "315a6ecc",
   "metadata": {
    "execution": {
     "iopub.execute_input": "2023-10-14T14:34:24.279145Z",
     "iopub.status.busy": "2023-10-14T14:34:24.278837Z",
     "iopub.status.idle": "2023-10-14T14:34:24.283557Z",
     "shell.execute_reply": "2023-10-14T14:34:24.282574Z"
    },
    "papermill": {
     "duration": 0.0199,
     "end_time": "2023-10-14T14:34:24.285346",
     "exception": false,
     "start_time": "2023-10-14T14:34:24.265446",
     "status": "completed"
    },
    "tags": []
   },
   "outputs": [],
   "source": [
    "def mean_rowwise_rmse_loss(y_true, y_pred):\n",
    "    \"\"\"\n",
    "    Custom loss function to calculate the Mean Rowwise Root Mean Squared Error (RMSE) loss.\n",
    "\n",
    "    Parameters:\n",
    "    - y_true: The true target values.\n",
    "    - y_pred: The predicted values.\n",
    "\n",
    "    Returns:\n",
    "    - Mean Rowwise RMSE loss as a scalar tensor.\n",
    "    \"\"\"\n",
    "    # Calculate RMSE for each row\n",
    "    rmse_per_row = tf.sqrt(tf.reduce_mean(tf.square(y_true - y_pred), axis=1))\n",
    "    # Calculate the mean of RMSE values across all rows\n",
    "    mean_rmse = tf.reduce_mean(rmse_per_row)\n",
    "    \n",
    "    return mean_rmse"
   ]
  },
  {
   "cell_type": "code",
   "execution_count": 26,
   "id": "3fce6160",
   "metadata": {
    "execution": {
     "iopub.execute_input": "2023-10-14T14:34:24.311763Z",
     "iopub.status.busy": "2023-10-14T14:34:24.311006Z",
     "iopub.status.idle": "2023-10-14T14:34:24.316131Z",
     "shell.execute_reply": "2023-10-14T14:34:24.315251Z"
    },
    "papermill": {
     "duration": 0.020316,
     "end_time": "2023-10-14T14:34:24.317941",
     "exception": false,
     "start_time": "2023-10-14T14:34:24.297625",
     "status": "completed"
    },
    "tags": []
   },
   "outputs": [],
   "source": [
    "def custom_mean_rowwise_rmse(y_true, y_pred):\n",
    "    \"\"\"\n",
    "    Custom metric to calculate the Mean Rowwise Root Mean Squared Error (RMSE).\n",
    "\n",
    "    Parameters:\n",
    "    - y_true: The true target values.\n",
    "    - y_pred: The predicted values.\n",
    "\n",
    "    Returns:\n",
    "    - Mean Rowwise RMSE as a scalar tensor.\n",
    "    \"\"\"\n",
    "    # Calculate RMSE for each row\n",
    "    rmse_per_row = tf.sqrt(tf.reduce_mean(tf.square(y_true - y_pred), axis=1))\n",
    "    # Calculate the mean of RMSE values across all rows\n",
    "    mean_rmse = tf.reduce_mean(rmse_per_row)\n",
    "    \n",
    "    return mean_rmse"
   ]
  },
  {
   "cell_type": "markdown",
   "id": "118914df",
   "metadata": {
    "papermill": {
     "duration": 0.01241,
     "end_time": "2023-10-14T14:34:24.342878",
     "exception": false,
     "start_time": "2023-10-14T14:34:24.330468",
     "status": "completed"
    },
    "tags": []
   },
   "source": [
    "Beautiful functions let's start experiment with building models"
   ]
  },
  {
   "cell_type": "markdown",
   "id": "a865313b",
   "metadata": {
    "papermill": {
     "duration": 0.011754,
     "end_time": "2023-10-14T14:34:24.367335",
     "exception": false,
     "start_time": "2023-10-14T14:34:24.355581",
     "status": "completed"
    },
    "tags": []
   },
   "source": [
    "# Build the model"
   ]
  },
  {
   "cell_type": "code",
   "execution_count": 27,
   "id": "d50a3dbe",
   "metadata": {
    "execution": {
     "iopub.execute_input": "2023-10-14T14:34:24.393327Z",
     "iopub.status.busy": "2023-10-14T14:34:24.393015Z",
     "iopub.status.idle": "2023-10-14T14:34:24.398732Z",
     "shell.execute_reply": "2023-10-14T14:34:24.397916Z"
    },
    "papermill": {
     "duration": 0.021028,
     "end_time": "2023-10-14T14:34:24.400657",
     "exception": false,
     "start_time": "2023-10-14T14:34:24.379629",
     "status": "completed"
    },
    "tags": []
   },
   "outputs": [],
   "source": [
    "from tensorflow.keras.layers import Dense, Dropout, BatchNormalization, Activation\n",
    "from tensorflow.keras.models import Sequential"
   ]
  },
  {
   "cell_type": "markdown",
   "id": "b4670adf",
   "metadata": {
    "papermill": {
     "duration": 0.012301,
     "end_time": "2023-10-14T14:34:24.425195",
     "exception": false,
     "start_time": "2023-10-14T14:34:24.412894",
     "status": "completed"
    },
    "tags": []
   },
   "source": [
    "> **Model_0:** Let's start with only 2 dense layers "
   ]
  },
  {
   "cell_type": "code",
   "execution_count": 28,
   "id": "f32cefbb",
   "metadata": {
    "execution": {
     "iopub.execute_input": "2023-10-14T14:34:24.451419Z",
     "iopub.status.busy": "2023-10-14T14:34:24.450892Z",
     "iopub.status.idle": "2023-10-14T14:34:43.981543Z",
     "shell.execute_reply": "2023-10-14T14:34:43.980543Z"
    },
    "papermill": {
     "duration": 19.546293,
     "end_time": "2023-10-14T14:34:43.983791",
     "exception": false,
     "start_time": "2023-10-14T14:34:24.437498",
     "status": "completed"
    },
    "tags": []
   },
   "outputs": [
    {
     "name": "stdout",
     "output_type": "stream",
     "text": [
      "Epoch 1/10\n",
      "14/14 [==============================] - 6s 129ms/step - loss: 1.3331 - custom_mean_rowwise_rmse: 1.3218 - val_loss: 1.1624 - val_custom_mean_rowwise_rmse: 1.1624\n",
      "Epoch 2/10\n",
      "14/14 [==============================] - 1s 50ms/step - loss: 1.3163 - custom_mean_rowwise_rmse: 1.3045 - val_loss: 1.1420 - val_custom_mean_rowwise_rmse: 1.1419\n",
      "Epoch 3/10\n",
      "14/14 [==============================] - 1s 75ms/step - loss: 1.3024 - custom_mean_rowwise_rmse: 1.3311 - val_loss: 1.1289 - val_custom_mean_rowwise_rmse: 1.1286\n",
      "Epoch 4/10\n",
      "14/14 [==============================] - 1s 32ms/step - loss: 1.2902 - custom_mean_rowwise_rmse: 1.2715 - val_loss: 1.1231 - val_custom_mean_rowwise_rmse: 1.1228\n",
      "Epoch 5/10\n",
      "14/14 [==============================] - 1s 32ms/step - loss: 1.2796 - custom_mean_rowwise_rmse: 1.3227 - val_loss: 1.1166 - val_custom_mean_rowwise_rmse: 1.1164\n",
      "Epoch 6/10\n",
      "14/14 [==============================] - 0s 32ms/step - loss: 1.2671 - custom_mean_rowwise_rmse: 1.2584 - val_loss: 1.1088 - val_custom_mean_rowwise_rmse: 1.1086\n",
      "Epoch 7/10\n",
      "14/14 [==============================] - 0s 27ms/step - loss: 1.2536 - custom_mean_rowwise_rmse: 1.2746 - val_loss: 1.1032 - val_custom_mean_rowwise_rmse: 1.1030\n",
      "Epoch 8/10\n",
      "14/14 [==============================] - 1s 39ms/step - loss: 1.2401 - custom_mean_rowwise_rmse: 1.2323 - val_loss: 1.0999 - val_custom_mean_rowwise_rmse: 1.0998\n",
      "Epoch 9/10\n",
      "14/14 [==============================] - 3s 252ms/step - loss: 1.2277 - custom_mean_rowwise_rmse: 1.2312 - val_loss: 1.0966 - val_custom_mean_rowwise_rmse: 1.0964\n",
      "Epoch 10/10\n",
      "14/14 [==============================] - 0s 30ms/step - loss: 1.2155 - custom_mean_rowwise_rmse: 1.2271 - val_loss: 1.0946 - val_custom_mean_rowwise_rmse: 1.0944\n"
     ]
    }
   ],
   "source": [
    "tf.random.set_seed(42)\n",
    "\n",
    "model_0 = Sequential([\n",
    "    Dense(512, activation=\"tanh\"),\n",
    "    Dense(18211, activation=\"linear\")\n",
    "])\n",
    "\n",
    "model_0.compile(loss=mean_rowwise_rmse_loss, \n",
    "                optimizer=tf.keras.optimizers.Adam(),\n",
    "                metrics=[custom_mean_rowwise_rmse])\n",
    "\n",
    "history_0 = model_0.fit(X_train, y_train,\n",
    "                       epochs=10,\n",
    "                       validation_data=(X_val,y_val),\n",
    "                       batch_size=32,\n",
    "                       callbacks=[create_model_checkpoint(\"model_0\", monitor=\"val_custom_mean_rowwise_rmse\")])"
   ]
  },
  {
   "cell_type": "code",
   "execution_count": 29,
   "id": "b58b5a34",
   "metadata": {
    "execution": {
     "iopub.execute_input": "2023-10-14T14:34:44.013273Z",
     "iopub.status.busy": "2023-10-14T14:34:44.012977Z",
     "iopub.status.idle": "2023-10-14T14:34:44.493491Z",
     "shell.execute_reply": "2023-10-14T14:34:44.492457Z"
    },
    "papermill": {
     "duration": 0.497171,
     "end_time": "2023-10-14T14:34:44.495429",
     "exception": false,
     "start_time": "2023-10-14T14:34:43.998258",
     "status": "completed"
    },
    "tags": []
   },
   "outputs": [
    {
     "name": "stdout",
     "output_type": "stream",
     "text": [
      "93/93 [==============================] - 0s 2ms/step\n",
      "Mean Absolute Error (MAE): 0.7220863978984366\n",
      "Mean Rowwise Root Mean Squared Error (MRRMSE): 1.0697635421019844\n"
     ]
    }
   ],
   "source": [
    "# Loading weights \n",
    "model_0.load_weights(\"model_0\")\n",
    "calculate_mae_and_mrrmse(model=model_0, data=X_test, y_true=y_test)"
   ]
  },
  {
   "cell_type": "code",
   "execution_count": 30,
   "id": "33b574d9",
   "metadata": {
    "execution": {
     "iopub.execute_input": "2023-10-14T14:34:44.526289Z",
     "iopub.status.busy": "2023-10-14T14:34:44.525693Z",
     "iopub.status.idle": "2023-10-14T14:34:46.133274Z",
     "shell.execute_reply": "2023-10-14T14:34:46.132181Z"
    },
    "papermill": {
     "duration": 1.624503,
     "end_time": "2023-10-14T14:34:46.135348",
     "exception": false,
     "start_time": "2023-10-14T14:34:44.510845",
     "status": "completed"
    },
    "tags": []
   },
   "outputs": [
    {
     "name": "stdout",
     "output_type": "stream",
     "text": [
      "614/614 [==============================] - 1s 1ms/step\n",
      "Mean Absolute Error (MAE): 0.774310391094535\n",
      "Mean Rowwise Root Mean Squared Error (MRRMSE): 1.1689806327556969\n"
     ]
    }
   ],
   "source": [
    "# Model performance on full data \n",
    "calculate_mae_and_mrrmse(model=model_0, data=full_features, y_true=full_labels)"
   ]
  },
  {
   "cell_type": "code",
   "execution_count": 31,
   "id": "2452d39c",
   "metadata": {
    "execution": {
     "iopub.execute_input": "2023-10-14T14:34:46.169311Z",
     "iopub.status.busy": "2023-10-14T14:34:46.168675Z",
     "iopub.status.idle": "2023-10-14T14:34:46.719803Z",
     "shell.execute_reply": "2023-10-14T14:34:46.718922Z"
    },
    "papermill": {
     "duration": 0.570038,
     "end_time": "2023-10-14T14:34:46.722064",
     "exception": false,
     "start_time": "2023-10-14T14:34:46.152026",
     "status": "completed"
    },
    "tags": []
   },
   "outputs": [
    {
     "data": {
      "image/png": "[encoded data removed]",
      "text/plain": [
       "<Figure size 1200x600 with 2 Axes>"
      ]
     },
     "metadata": {},
     "output_type": "display_data"
    }
   ],
   "source": [
    "# Visualize the learning from our helper functions\n",
    "plot_training_history(history_0, metrics=[\"custom_mean_rowwise_rmse\"])"
   ]
  },
  {
   "cell_type": "markdown",
   "id": "5f56af0e",
   "metadata": {
    "papermill": {
     "duration": 0.016127,
     "end_time": "2023-10-14T14:34:46.754305",
     "exception": false,
     "start_time": "2023-10-14T14:34:46.738178",
     "status": "completed"
    },
    "tags": []
   },
   "source": [
    "Okay, it seems the model is not learning much and is underfitting. Let's try something different. "
   ]
  },
  {
   "cell_type": "markdown",
   "id": "56798981",
   "metadata": {
    "papermill": {
     "duration": 0.01582,
     "end_time": "2023-10-14T14:34:46.785646",
     "exception": false,
     "start_time": "2023-10-14T14:34:46.769826",
     "status": "completed"
    },
    "tags": []
   },
   "source": [
    "> **model_1:** Increase layers and neurons "
   ]
  },
  {
   "cell_type": "code",
   "execution_count": 32,
   "id": "bed97b52",
   "metadata": {
    "execution": {
     "iopub.execute_input": "2023-10-14T14:34:46.818503Z",
     "iopub.status.busy": "2023-10-14T14:34:46.818185Z",
     "iopub.status.idle": "2023-10-14T14:35:04.549968Z",
     "shell.execute_reply": "2023-10-14T14:35:04.549079Z"
    },
    "papermill": {
     "duration": 17.750636,
     "end_time": "2023-10-14T14:35:04.552051",
     "exception": false,
     "start_time": "2023-10-14T14:34:46.801415",
     "status": "completed"
    },
    "tags": []
   },
   "outputs": [
    {
     "name": "stdout",
     "output_type": "stream",
     "text": [
      "Epoch 1/30\n",
      "14/14 [==============================] - 3s 100ms/step - loss: 1.3304 - custom_mean_rowwise_rmse: 1.3193 - val_loss: 1.1410 - val_custom_mean_rowwise_rmse: 1.1408\n",
      "Epoch 2/30\n",
      "14/14 [==============================] - 1s 49ms/step - loss: 1.3043 - custom_mean_rowwise_rmse: 1.2917 - val_loss: 1.1271 - val_custom_mean_rowwise_rmse: 1.1270\n",
      "Epoch 3/30\n",
      "14/14 [==============================] - 1s 69ms/step - loss: 1.2787 - custom_mean_rowwise_rmse: 1.3047 - val_loss: 1.1128 - val_custom_mean_rowwise_rmse: 1.1128\n",
      "Epoch 4/30\n",
      "14/14 [==============================] - 1s 41ms/step - loss: 1.2498 - custom_mean_rowwise_rmse: 1.2319 - val_loss: 1.1091 - val_custom_mean_rowwise_rmse: 1.1093\n",
      "Epoch 5/30\n",
      "14/14 [==============================] - 1s 41ms/step - loss: 1.2316 - custom_mean_rowwise_rmse: 1.2666 - val_loss: 1.1047 - val_custom_mean_rowwise_rmse: 1.1052\n",
      "Epoch 6/30\n",
      "14/14 [==============================] - 0s 7ms/step - loss: 1.2117 - custom_mean_rowwise_rmse: 1.2069 - val_loss: 1.1106 - val_custom_mean_rowwise_rmse: 1.1105\n",
      "Epoch 7/30\n",
      "14/14 [==============================] - 2s 146ms/step - loss: 1.1997 - custom_mean_rowwise_rmse: 1.2269 - val_loss: 1.0991 - val_custom_mean_rowwise_rmse: 1.0992\n",
      "Epoch 8/30\n",
      "14/14 [==============================] - 1s 38ms/step - loss: 1.1968 - custom_mean_rowwise_rmse: 1.1915 - val_loss: 1.0913 - val_custom_mean_rowwise_rmse: 1.0914\n",
      "Epoch 9/30\n",
      "14/14 [==============================] - 0s 7ms/step - loss: 1.1828 - custom_mean_rowwise_rmse: 1.1883 - val_loss: 1.0955 - val_custom_mean_rowwise_rmse: 1.0947\n",
      "Epoch 10/30\n",
      "14/14 [==============================] - 0s 6ms/step - loss: 1.1822 - custom_mean_rowwise_rmse: 1.1957 - val_loss: 1.0999 - val_custom_mean_rowwise_rmse: 1.0991\n",
      "Epoch 11/30\n",
      "14/14 [==============================] - 1s 38ms/step - loss: 1.1721 - custom_mean_rowwise_rmse: 1.1505 - val_loss: 1.0876 - val_custom_mean_rowwise_rmse: 1.0872\n",
      "Epoch 12/30\n",
      "14/14 [==============================] - 1s 40ms/step - loss: 1.1666 - custom_mean_rowwise_rmse: 1.1808 - val_loss: 1.0817 - val_custom_mean_rowwise_rmse: 1.0812\n",
      "Epoch 13/30\n",
      "14/14 [==============================] - 1s 39ms/step - loss: 1.1562 - custom_mean_rowwise_rmse: 1.1637 - val_loss: 1.0775 - val_custom_mean_rowwise_rmse: 1.0765\n",
      "Epoch 14/30\n",
      "14/14 [==============================] - 0s 6ms/step - loss: 1.1455 - custom_mean_rowwise_rmse: 1.1860 - val_loss: 1.0852 - val_custom_mean_rowwise_rmse: 1.0837\n",
      "Epoch 15/30\n",
      "14/14 [==============================] - 0s 6ms/step - loss: 1.1431 - custom_mean_rowwise_rmse: 1.1280 - val_loss: 1.0821 - val_custom_mean_rowwise_rmse: 1.0805\n",
      "Epoch 16/30\n",
      "14/14 [==============================] - 2s 123ms/step - loss: 1.1416 - custom_mean_rowwise_rmse: 1.1322 - val_loss: 1.0716 - val_custom_mean_rowwise_rmse: 1.0710\n",
      "Epoch 17/30\n",
      "14/14 [==============================] - 0s 6ms/step - loss: 1.1336 - custom_mean_rowwise_rmse: 1.1296 - val_loss: 1.0744 - val_custom_mean_rowwise_rmse: 1.0733\n",
      "Epoch 18/30\n",
      "14/14 [==============================] - 0s 7ms/step - loss: 1.1176 - custom_mean_rowwise_rmse: 1.1446 - val_loss: 1.0928 - val_custom_mean_rowwise_rmse: 1.0907\n",
      "Epoch 19/30\n",
      "14/14 [==============================] - 0s 6ms/step - loss: 1.1097 - custom_mean_rowwise_rmse: 1.0874 - val_loss: 1.0956 - val_custom_mean_rowwise_rmse: 1.0939\n",
      "Epoch 20/30\n",
      "14/14 [==============================] - 0s 6ms/step - loss: 1.1026 - custom_mean_rowwise_rmse: 1.0849 - val_loss: 1.1020 - val_custom_mean_rowwise_rmse: 1.1003\n",
      "Epoch 21/30\n",
      "14/14 [==============================] - 0s 6ms/step - loss: 1.0991 - custom_mean_rowwise_rmse: 1.0913 - val_loss: 1.0954 - val_custom_mean_rowwise_rmse: 1.0934\n",
      "Epoch 22/30\n",
      "14/14 [==============================] - 0s 7ms/step - loss: 1.0893 - custom_mean_rowwise_rmse: 1.0799 - val_loss: 1.1016 - val_custom_mean_rowwise_rmse: 1.0998\n",
      "Epoch 23/30\n",
      "14/14 [==============================] - 0s 6ms/step - loss: 1.0853 - custom_mean_rowwise_rmse: 1.0656 - val_loss: 1.1064 - val_custom_mean_rowwise_rmse: 1.1046\n",
      "Epoch 24/30\n",
      "14/14 [==============================] - 0s 6ms/step - loss: 1.0799 - custom_mean_rowwise_rmse: 1.0612 - val_loss: 1.1008 - val_custom_mean_rowwise_rmse: 1.0993\n",
      "Epoch 25/30\n",
      "14/14 [==============================] - 0s 17ms/step - loss: 1.0727 - custom_mean_rowwise_rmse: 1.0590 - val_loss: 1.1062 - val_custom_mean_rowwise_rmse: 1.1038\n",
      "Epoch 26/30\n",
      "14/14 [==============================] - 0s 7ms/step - loss: 1.0687 - custom_mean_rowwise_rmse: 1.0634 - val_loss: 1.1168 - val_custom_mean_rowwise_rmse: 1.1146\n",
      "Epoch 27/30\n",
      "14/14 [==============================] - 0s 6ms/step - loss: 1.0563 - custom_mean_rowwise_rmse: 1.0386 - val_loss: 1.1259 - val_custom_mean_rowwise_rmse: 1.1229\n",
      "Epoch 28/30\n",
      "14/14 [==============================] - 0s 7ms/step - loss: 1.0577 - custom_mean_rowwise_rmse: 1.0359 - val_loss: 1.1218 - val_custom_mean_rowwise_rmse: 1.1201\n",
      "Epoch 29/30\n",
      "14/14 [==============================] - 0s 6ms/step - loss: 1.0379 - custom_mean_rowwise_rmse: 1.0424 - val_loss: 1.0944 - val_custom_mean_rowwise_rmse: 1.0925\n",
      "Epoch 30/30\n",
      "14/14 [==============================] - 0s 6ms/step - loss: 1.0258 - custom_mean_rowwise_rmse: 1.0538 - val_loss: 1.1015 - val_custom_mean_rowwise_rmse: 1.0987\n"
     ]
    }
   ],
   "source": [
    "tf.random.set_seed(42)\n",
    "\n",
    "model_1 = Sequential([\n",
    "    Dense(1024, activation=\"tanh\"),\n",
    "    Dense(512, activation=\"tanh\"),\n",
    "    Dense(18211, activation=\"linear\")\n",
    "])\n",
    "\n",
    "model_1.compile(loss=mean_rowwise_rmse_loss, \n",
    "                optimizer=tf.keras.optimizers.Adam(),\n",
    "                metrics=[custom_mean_rowwise_rmse])\n",
    "\n",
    "history_1 = model_1.fit(X_train, y_train,\n",
    "                       epochs=30,\n",
    "                       validation_data=(X_val,y_val),\n",
    "                       callbacks=[create_model_checkpoint(\"model_1\", monitor=\"val_custom_mean_rowwise_rmse\")])"
   ]
  },
  {
   "cell_type": "code",
   "execution_count": 33,
   "id": "325fa438",
   "metadata": {
    "execution": {
     "iopub.execute_input": "2023-10-14T14:35:04.596284Z",
     "iopub.status.busy": "2023-10-14T14:35:04.595695Z",
     "iopub.status.idle": "2023-10-14T14:35:05.134441Z",
     "shell.execute_reply": "2023-10-14T14:35:05.133298Z"
    },
    "papermill": {
     "duration": 0.562923,
     "end_time": "2023-10-14T14:35:05.136378",
     "exception": false,
     "start_time": "2023-10-14T14:35:04.573455",
     "status": "completed"
    },
    "tags": []
   },
   "outputs": [
    {
     "name": "stdout",
     "output_type": "stream",
     "text": [
      "93/93 [==============================] - 0s 2ms/step\n",
      "Mean Absolute Error (MAE): 0.7296158065794276\n",
      "Mean Rowwise Root Mean Squared Error (MRRMSE): 1.06381861784091\n"
     ]
    }
   ],
   "source": [
    "# Loading weights \n",
    "model_1.load_weights(\"model_1\")\n",
    "calculate_mae_and_mrrmse(model=model_1, data=X_test, y_true=y_test)"
   ]
  },
  {
   "cell_type": "code",
   "execution_count": 34,
   "id": "b19c0a24",
   "metadata": {
    "execution": {
     "iopub.execute_input": "2023-10-14T14:35:05.181077Z",
     "iopub.status.busy": "2023-10-14T14:35:05.180501Z",
     "iopub.status.idle": "2023-10-14T14:35:06.678914Z",
     "shell.execute_reply": "2023-10-14T14:35:06.677716Z"
    },
    "papermill": {
     "duration": 1.522815,
     "end_time": "2023-10-14T14:35:06.681106",
     "exception": false,
     "start_time": "2023-10-14T14:35:05.158291",
     "status": "completed"
    },
    "tags": []
   },
   "outputs": [
    {
     "name": "stdout",
     "output_type": "stream",
     "text": [
      "614/614 [==============================] - 1s 1ms/step\n",
      "Mean Absolute Error (MAE): 0.7578166369871014\n",
      "Mean Rowwise Root Mean Squared Error (MRRMSE): 1.1066152648250402\n"
     ]
    }
   ],
   "source": [
    "# Model performance on full data \n",
    "calculate_mae_and_mrrmse(model=model_1, data=full_features, y_true=full_labels)"
   ]
  },
  {
   "cell_type": "code",
   "execution_count": 35,
   "id": "770ed6fd",
   "metadata": {
    "execution": {
     "iopub.execute_input": "2023-10-14T14:35:06.727653Z",
     "iopub.status.busy": "2023-10-14T14:35:06.727374Z",
     "iopub.status.idle": "2023-10-14T14:35:07.236712Z",
     "shell.execute_reply": "2023-10-14T14:35:07.235843Z"
    },
    "papermill": {
     "duration": 0.534495,
     "end_time": "2023-10-14T14:35:07.238837",
     "exception": false,
     "start_time": "2023-10-14T14:35:06.704342",
     "status": "completed"
    },
    "tags": []
   },
   "outputs": [
    {
     "data": {
      "image/png": "[encoded data removed]",
      "text/plain": [
       "<Figure size 1200x600 with 2 Axes>"
      ]
     },
     "metadata": {},
     "output_type": "display_data"
    }
   ],
   "source": [
    "# Visualize the learning from our helper functions\n",
    "plot_training_history(history_1, metrics=[\"custom_mean_rowwise_rmse\"])"
   ]
  },
  {
   "cell_type": "markdown",
   "id": "20694fb3",
   "metadata": {
    "papermill": {
     "duration": 0.022538,
     "end_time": "2023-10-14T14:35:07.284836",
     "exception": false,
     "start_time": "2023-10-14T14:35:07.262298",
     "status": "completed"
    },
    "tags": []
   },
   "source": [
    "> The model is not performing good let's increase complexity and also add Dropout and BatchNormalization layers"
   ]
  },
  {
   "cell_type": "code",
   "execution_count": 36,
   "id": "4d80e4bd",
   "metadata": {
    "execution": {
     "iopub.execute_input": "2023-10-14T14:35:07.332709Z",
     "iopub.status.busy": "2023-10-14T14:35:07.332398Z",
     "iopub.status.idle": "2023-10-14T14:35:21.095173Z",
     "shell.execute_reply": "2023-10-14T14:35:21.094154Z"
    },
    "papermill": {
     "duration": 13.789078,
     "end_time": "2023-10-14T14:35:21.097542",
     "exception": false,
     "start_time": "2023-10-14T14:35:07.308464",
     "status": "completed"
    },
    "tags": []
   },
   "outputs": [],
   "source": [
    "tf.random.set_seed(42)\n",
    "\n",
    "model_2 = Sequential([ \n",
    "    Dense(256),\n",
    "    BatchNormalization(),\n",
    "    Activation(\"relu\"),\n",
    "    Dropout(0.2),\n",
    "    Dense(128, activation=\"relu\"),\n",
    "    Dropout(0.2),\n",
    "    Dense(64, activation=\"relu\"),\n",
    "    BatchNormalization(),\n",
    "    Dropout(0.2),\n",
    "    Dense(32, activation=\"relu\"),\n",
    "    Dropout(0.2),\n",
    "    Dense(16, activation=\"relu\"),\n",
    "    Dropout(0.2),\n",
    "    Dense(18211,activation= \"linear\")\n",
    "])\n",
    "\n",
    "\n",
    "model_2.compile(loss=\"mae\", \n",
    "                optimizer=tf.keras.optimizers.Adam(),\n",
    "                metrics=[\"mae\"])\n",
    "\n",
    "history_2 = model_2.fit(X_train, y_train,\n",
    "                       epochs=30,\n",
    "                       verbose=0, #train in silent mode\n",
    "                       validation_data=(X_val,y_val),\n",
    "                       callbacks=[create_model_checkpoint(\"model_2\", monitor=\"val_mae\")])"
   ]
  },
  {
   "cell_type": "code",
   "execution_count": 37,
   "id": "0b597ffe",
   "metadata": {
    "execution": {
     "iopub.execute_input": "2023-10-14T14:35:21.145600Z",
     "iopub.status.busy": "2023-10-14T14:35:21.144983Z",
     "iopub.status.idle": "2023-10-14T14:35:21.588957Z",
     "shell.execute_reply": "2023-10-14T14:35:21.587822Z"
    },
    "papermill": {
     "duration": 0.46994,
     "end_time": "2023-10-14T14:35:21.590793",
     "exception": false,
     "start_time": "2023-10-14T14:35:21.120853",
     "status": "completed"
    },
    "tags": []
   },
   "outputs": [
    {
     "name": "stdout",
     "output_type": "stream",
     "text": [
      "93/93 [==============================] - 0s 2ms/step\n",
      "Mean Absolute Error (MAE): 0.7311741147045773\n",
      "Mean Rowwise Root Mean Squared Error (MRRMSE): 1.1120951787847009\n"
     ]
    }
   ],
   "source": [
    "model_2.load_weights(\"model_2\")\n",
    "calculate_mae_and_mrrmse(model=model_2, data=X_test, y_true=y_test)"
   ]
  },
  {
   "cell_type": "code",
   "execution_count": 38,
   "id": "e5e53d1f",
   "metadata": {
    "execution": {
     "iopub.execute_input": "2023-10-14T14:35:21.639198Z",
     "iopub.status.busy": "2023-10-14T14:35:21.638359Z",
     "iopub.status.idle": "2023-10-14T14:35:23.273136Z",
     "shell.execute_reply": "2023-10-14T14:35:23.272153Z"
    },
    "papermill": {
     "duration": 1.660479,
     "end_time": "2023-10-14T14:35:23.275037",
     "exception": false,
     "start_time": "2023-10-14T14:35:21.614558",
     "status": "completed"
    },
    "tags": []
   },
   "outputs": [
    {
     "name": "stdout",
     "output_type": "stream",
     "text": [
      "614/614 [==============================] - 1s 1ms/step\n",
      "Mean Absolute Error (MAE): 0.6932558477589753\n",
      "Mean Rowwise Root Mean Squared Error (MRRMSE): 1.0801426862130235\n"
     ]
    }
   ],
   "source": [
    "calculate_mae_and_mrrmse(model=model_2, data=full_features, y_true=full_labels)"
   ]
  },
  {
   "cell_type": "code",
   "execution_count": 39,
   "id": "cc12d83b",
   "metadata": {
    "execution": {
     "iopub.execute_input": "2023-10-14T14:35:23.332013Z",
     "iopub.status.busy": "2023-10-14T14:35:23.331654Z",
     "iopub.status.idle": "2023-10-14T14:35:23.880346Z",
     "shell.execute_reply": "2023-10-14T14:35:23.879465Z"
    },
    "papermill": {
     "duration": 0.582025,
     "end_time": "2023-10-14T14:35:23.882373",
     "exception": false,
     "start_time": "2023-10-14T14:35:23.300348",
     "status": "completed"
    },
    "tags": []
   },
   "outputs": [
    {
     "data": {
      "image/png": "[encoded data removed]",
      "text/plain": [
       "<Figure size 1200x600 with 2 Axes>"
      ]
     },
     "metadata": {},
     "output_type": "display_data"
    }
   ],
   "source": [
    "#  Visualize the learning from our helper functions\n",
    "plot_training_history(history_2, metrics=[\"mae\"])"
   ]
  },
  {
   "cell_type": "markdown",
   "id": "45ca93cb",
   "metadata": {
    "papermill": {
     "duration": 0.024656,
     "end_time": "2023-10-14T14:35:23.932155",
     "exception": false,
     "start_time": "2023-10-14T14:35:23.907499",
     "status": "completed"
    },
    "tags": []
   },
   "source": [
    "> Changing metrics and using same model"
   ]
  },
  {
   "cell_type": "code",
   "execution_count": 40,
   "id": "bb8a2261",
   "metadata": {
    "execution": {
     "iopub.execute_input": "2023-10-14T14:35:23.986744Z",
     "iopub.status.busy": "2023-10-14T14:35:23.986166Z",
     "iopub.status.idle": "2023-10-14T14:35:32.942802Z",
     "shell.execute_reply": "2023-10-14T14:35:32.941470Z"
    },
    "papermill": {
     "duration": 8.988467,
     "end_time": "2023-10-14T14:35:32.945076",
     "exception": false,
     "start_time": "2023-10-14T14:35:23.956609",
     "status": "completed"
    },
    "tags": []
   },
   "outputs": [
    {
     "name": "stdout",
     "output_type": "stream",
     "text": [
      "Epoch 1/25\n",
      "Epoch 2/25\n",
      "Epoch 3/25\n",
      "Epoch 4/25\n",
      "Epoch 5/25\n",
      "Epoch 6/25\n",
      "Epoch 7/25\n",
      "Epoch 8/25\n",
      "Epoch 9/25\n",
      "Epoch 10/25\n",
      "Epoch 11/25\n",
      "Epoch 12/25\n",
      "Epoch 13/25\n",
      "Epoch 14/25\n",
      "Epoch 15/25\n",
      "Epoch 16/25\n",
      "Epoch 17/25\n",
      "Epoch 18/25\n",
      "Epoch 19/25\n",
      "Epoch 20/25\n",
      "Epoch 21/25\n",
      "Epoch 22/25\n",
      "Epoch 23/25\n",
      "Epoch 24/25\n",
      "Epoch 25/25\n"
     ]
    }
   ],
   "source": [
    "tf.random.set_seed(42)\n",
    "\n",
    "# clone model 2\n",
    "model_3 = tf.keras.models.clone_model(model_2)\n",
    "\n",
    "model_3.compile(loss=\"mae\", \n",
    "                optimizer=tf.keras.optimizers.Adam(learning_rate=0.0027),\n",
    "                metrics=[custom_mean_rowwise_rmse])\n",
    "\n",
    "history_3 = model_3.fit(X_train, y_train,\n",
    "                       epochs=25,\n",
    "                       verbose=100, #train in silent mode\n",
    "                       validation_data=(X_val,y_val),\n",
    "                       callbacks=[create_model_checkpoint(\"model_3\", monitor=\"val_custom_mean_rowwise_rmse\")])"
   ]
  },
  {
   "cell_type": "code",
   "execution_count": 41,
   "id": "799d2dd2",
   "metadata": {
    "execution": {
     "iopub.execute_input": "2023-10-14T14:35:32.998788Z",
     "iopub.status.busy": "2023-10-14T14:35:32.998192Z",
     "iopub.status.idle": "2023-10-14T14:35:33.444197Z",
     "shell.execute_reply": "2023-10-14T14:35:33.443223Z"
    },
    "papermill": {
     "duration": 0.47451,
     "end_time": "2023-10-14T14:35:33.446109",
     "exception": false,
     "start_time": "2023-10-14T14:35:32.971599",
     "status": "completed"
    },
    "tags": []
   },
   "outputs": [
    {
     "name": "stdout",
     "output_type": "stream",
     "text": [
      "93/93 [==============================] - 0s 2ms/step\n",
      "Mean Absolute Error (MAE): 0.7215312263675207\n",
      "Mean Rowwise Root Mean Squared Error (MRRMSE): 1.1015001389907269\n"
     ]
    }
   ],
   "source": [
    "model_3.load_weights(\"model_3\")\n",
    "calculate_mae_and_mrrmse(model=model_3, data=X_test, y_true=y_test)"
   ]
  },
  {
   "cell_type": "code",
   "execution_count": 42,
   "id": "6aac43a7",
   "metadata": {
    "execution": {
     "iopub.execute_input": "2023-10-14T14:35:33.500245Z",
     "iopub.status.busy": "2023-10-14T14:35:33.499953Z",
     "iopub.status.idle": "2023-10-14T14:35:36.413794Z",
     "shell.execute_reply": "2023-10-14T14:35:36.412791Z"
    },
    "papermill": {
     "duration": 2.942527,
     "end_time": "2023-10-14T14:35:36.415677",
     "exception": false,
     "start_time": "2023-10-14T14:35:33.473150",
     "status": "completed"
    },
    "tags": []
   },
   "outputs": [
    {
     "name": "stdout",
     "output_type": "stream",
     "text": [
      "614/614 [==============================] - 1s 2ms/step\n",
      "Mean Absolute Error (MAE): 0.7510463128778336\n",
      "Mean Rowwise Root Mean Squared Error (MRRMSE): 1.1616377854161202\n"
     ]
    }
   ],
   "source": [
    "calculate_mae_and_mrrmse(model=model_3, data=full_features, y_true=full_labels)"
   ]
  },
  {
   "cell_type": "code",
   "execution_count": 43,
   "id": "66891a97",
   "metadata": {
    "execution": {
     "iopub.execute_input": "2023-10-14T14:35:36.473665Z",
     "iopub.status.busy": "2023-10-14T14:35:36.472724Z",
     "iopub.status.idle": "2023-10-14T14:35:37.006907Z",
     "shell.execute_reply": "2023-10-14T14:35:37.006025Z"
    },
    "papermill": {
     "duration": 0.564563,
     "end_time": "2023-10-14T14:35:37.009112",
     "exception": false,
     "start_time": "2023-10-14T14:35:36.444549",
     "status": "completed"
    },
    "tags": []
   },
   "outputs": [
    {
     "data": {
      "image/png": "[encoded data removed]",
      "text/plain": [
       "<Figure size 1200x600 with 2 Axes>"
      ]
     },
     "metadata": {},
     "output_type": "display_data"
    }
   ],
   "source": [
    "plot_training_history(history_3, metrics=[\"custom_mean_rowwise_rmse\"])"
   ]
  },
  {
   "cell_type": "markdown",
   "id": "66098577",
   "metadata": {
    "papermill": {
     "duration": 0.027941,
     "end_time": "2023-10-14T14:35:37.072830",
     "exception": false,
     "start_time": "2023-10-14T14:35:37.044889",
     "status": "completed"
    },
    "tags": []
   },
   "source": [
    "# K-fold validation "
   ]
  },
  {
   "cell_type": "code",
   "execution_count": 44,
   "id": "caa8aead",
   "metadata": {
    "execution": {
     "iopub.execute_input": "2023-10-14T14:35:37.131824Z",
     "iopub.status.busy": "2023-10-14T14:35:37.130840Z",
     "iopub.status.idle": "2023-10-14T14:35:37.188715Z",
     "shell.execute_reply": "2023-10-14T14:35:37.187788Z"
    },
    "papermill": {
     "duration": 0.089691,
     "end_time": "2023-10-14T14:35:37.190700",
     "exception": false,
     "start_time": "2023-10-14T14:35:37.101009",
     "status": "completed"
    },
    "tags": []
   },
   "outputs": [],
   "source": [
    "tf.random.set_seed(42)\n",
    "\n",
    "# clone model 2\n",
    "model_4 = Sequential([ \n",
    "    Dense(256),\n",
    "    BatchNormalization(),\n",
    "    Activation(\"relu\"),\n",
    "    Dropout(0.2),\n",
    "    Dense(128, activation=\"relu\"),\n",
    "    Dropout(0.2),\n",
    "    Dense(64, activation=\"relu\"),\n",
    "    BatchNormalization(),\n",
    "    Dropout(0.2),\n",
    "    Dense(32, activation=\"relu\"),\n",
    "    Dropout(0.2),\n",
    "    Dense(16, activation=\"relu\"),\n",
    "    Dropout(0.1),\n",
    "    Dense(18211,activation= \"linear\")\n",
    "])\n",
    "\n",
    "model_4.compile(loss=\"mae\", \n",
    "                optimizer=tf.keras.optimizers.Adam(),\n",
    "                metrics=[custom_mean_rowwise_rmse])"
   ]
  },
  {
   "cell_type": "code",
   "execution_count": 45,
   "id": "067d6667",
   "metadata": {
    "execution": {
     "iopub.execute_input": "2023-10-14T14:35:37.249516Z",
     "iopub.status.busy": "2023-10-14T14:35:37.248488Z",
     "iopub.status.idle": "2023-10-14T14:36:41.035820Z",
     "shell.execute_reply": "2023-10-14T14:36:41.034911Z"
    },
    "papermill": {
     "duration": 63.840313,
     "end_time": "2023-10-14T14:36:41.059275",
     "exception": false,
     "start_time": "2023-10-14T14:35:37.218962",
     "status": "completed"
    },
    "tags": []
   },
   "outputs": [
    {
     "name": "stdout",
     "output_type": "stream",
     "text": [
      "2/2 [==============================] - 0s 4ms/step\n",
      "2/2 [==============================] - 0s 4ms/step\n",
      "2/2 [==============================] - 0s 4ms/step\n",
      "2/2 [==============================] - 0s 4ms/step\n",
      "2/2 [==============================] - 0s 3ms/step\n",
      "2/2 [==============================] - 0s 4ms/step\n",
      "2/2 [==============================] - 0s 3ms/step\n",
      "2/2 [==============================] - 0s 4ms/step\n",
      "2/2 [==============================] - 0s 4ms/step\n",
      "2/2 [==============================] - 0s 3ms/step\n",
      "Average MAE across 10 folds: 0.6242 \n",
      "Average MRRMSE across 10 folds: 1.0155\n"
     ]
    }
   ],
   "source": [
    "from sklearn.model_selection import KFold\n",
    "\n",
    "# Define the number of folds (K)\n",
    "num_folds = 10 # You can change this value as needed\n",
    "\n",
    "# Initialize lists to store the model's performance scores\n",
    "mae_scores = []\n",
    "mrrmse_scores = []\n",
    "\n",
    "# Initialize the KFold object\n",
    "kf = KFold(n_splits=num_folds, shuffle=True, random_state=51)\n",
    "\n",
    "# Loop through the K folds\n",
    "for train_index, val_index in kf.split(full_features):\n",
    "    # Convert indices to integers and split the data\n",
    "    train_index = train_index.astype(int)\n",
    "    val_index = val_index.astype(int)\n",
    "    X_train_, X_val_ = full_features[train_index], full_features[val_index]\n",
    "    y_train_, y_val_ = full_labels[train_index], full_labels[val_index]\n",
    "\n",
    "    # Train your model on X_train and y_train\n",
    "    model_4.fit(X_train_, y_train_, epochs=50, verbose=0)\n",
    "\n",
    "    # Make predictions on the validation set\n",
    "    y_preds = model_4.predict(X_val_)\n",
    "\n",
    "    # Calculate the Mean Absolute Error (MAE)\n",
    "    mae = mean_absolute_error(y_val_, y_preds)\n",
    "    mae_scores.append(mae)\n",
    "\n",
    "    # Calculate the Mean Rowwise Root Mean Square Error (MRRMSE)\n",
    "    rowwise_rmse = np.sqrt(np.mean(np.square(y_val_ - y_preds), axis=1))\n",
    "    mrrmse_score = np.mean(rowwise_rmse)\n",
    "    mrrmse_scores.append(mrrmse_score)\n",
    "\n",
    "# Calculate the mean and standard deviation of MAE and MRRMSE scores\n",
    "mean_mae = np.mean(mae_scores)\n",
    "mean_mrrmse = np.mean(mrrmse_scores)\n",
    "\n",
    "# Print the results\n",
    "print(f'Average MAE across {num_folds} folds: {mean_mae:.4f} ')\n",
    "print(f'Average MRRMSE across {num_folds} folds: {mean_mrrmse:.4f}')"
   ]
  },
  {
   "cell_type": "markdown",
   "id": "23c12a89",
   "metadata": {
    "papermill": {
     "duration": 0.028798,
     "end_time": "2023-10-14T14:36:41.117710",
     "exception": false,
     "start_time": "2023-10-14T14:36:41.088912",
     "status": "completed"
    },
    "tags": []
   },
   "source": [
    "Train the model on full data"
   ]
  },
  {
   "cell_type": "code",
   "execution_count": 46,
   "id": "2b70be6f",
   "metadata": {
    "execution": {
     "iopub.execute_input": "2023-10-14T14:36:41.177076Z",
     "iopub.status.busy": "2023-10-14T14:36:41.176714Z",
     "iopub.status.idle": "2023-10-14T14:36:49.869499Z",
     "shell.execute_reply": "2023-10-14T14:36:49.868507Z"
    },
    "papermill": {
     "duration": 8.725177,
     "end_time": "2023-10-14T14:36:49.871751",
     "exception": false,
     "start_time": "2023-10-14T14:36:41.146574",
     "status": "completed"
    },
    "tags": []
   },
   "outputs": [],
   "source": [
    "model_4.compile(loss=\"mae\", \n",
    "                optimizer=tf.keras.optimizers.Adam(),\n",
    "                metrics=[custom_mean_rowwise_rmse])\n",
    "\n",
    "history_4 = model_4.fit(full_features, full_labels,\n",
    "                       epochs=50,\n",
    "                       verbose=0)"
   ]
  },
  {
   "cell_type": "code",
   "execution_count": 47,
   "id": "647bceef",
   "metadata": {
    "execution": {
     "iopub.execute_input": "2023-10-14T14:36:49.932757Z",
     "iopub.status.busy": "2023-10-14T14:36:49.931954Z",
     "iopub.status.idle": "2023-10-14T14:36:51.626128Z",
     "shell.execute_reply": "2023-10-14T14:36:51.625106Z"
    },
    "papermill": {
     "duration": 1.727071,
     "end_time": "2023-10-14T14:36:51.628210",
     "exception": false,
     "start_time": "2023-10-14T14:36:49.901139",
     "status": "completed"
    },
    "tags": []
   },
   "outputs": [
    {
     "name": "stdout",
     "output_type": "stream",
     "text": [
      "614/614 [==============================] - 1s 2ms/step\n",
      "Mean Absolute Error (MAE): 0.5564746745099539\n",
      "Mean Rowwise Root Mean Squared Error (MRRMSE): 0.9334784421192844\n"
     ]
    }
   ],
   "source": [
    "calculate_mae_and_mrrmse(model=model_4, data=full_features, y_true=full_labels)"
   ]
  },
  {
   "cell_type": "markdown",
   "id": "3293a6ac",
   "metadata": {
    "papermill": {
     "duration": 0.029781,
     "end_time": "2023-10-14T14:36:51.689825",
     "exception": false,
     "start_time": "2023-10-14T14:36:51.660044",
     "status": "completed"
    },
    "tags": []
   },
   "source": [
    "# Predicting on test data "
   ]
  },
  {
   "cell_type": "code",
   "execution_count": 48,
   "id": "eaea8fed",
   "metadata": {
    "execution": {
     "iopub.execute_input": "2023-10-14T14:36:51.751498Z",
     "iopub.status.busy": "2023-10-14T14:36:51.751159Z",
     "iopub.status.idle": "2023-10-14T14:36:52.339967Z",
     "shell.execute_reply": "2023-10-14T14:36:52.339015Z"
    },
    "papermill": {
     "duration": 0.622328,
     "end_time": "2023-10-14T14:36:52.342289",
     "exception": false,
     "start_time": "2023-10-14T14:36:51.719961",
     "status": "completed"
    },
    "tags": []
   },
   "outputs": [
    {
     "name": "stdout",
     "output_type": "stream",
     "text": [
      "255/255 [==============================] - 0s 2ms/step\n"
     ]
    }
   ],
   "source": [
    "preds = model_4.predict(one_hot_test.toarray(), batch_size=1)"
   ]
  },
  {
   "cell_type": "code",
   "execution_count": 49,
   "id": "a6b6daa1",
   "metadata": {
    "execution": {
     "iopub.execute_input": "2023-10-14T14:36:52.406984Z",
     "iopub.status.busy": "2023-10-14T14:36:52.406622Z",
     "iopub.status.idle": "2023-10-14T14:36:52.412296Z",
     "shell.execute_reply": "2023-10-14T14:36:52.411412Z"
    },
    "papermill": {
     "duration": 0.040225,
     "end_time": "2023-10-14T14:36:52.414071",
     "exception": false,
     "start_time": "2023-10-14T14:36:52.373846",
     "status": "completed"
    },
    "tags": []
   },
   "outputs": [
    {
     "data": {
      "text/plain": [
       "(255, 18211)"
      ]
     },
     "execution_count": 49,
     "metadata": {},
     "output_type": "execute_result"
    }
   ],
   "source": [
    "preds.shape "
   ]
  },
  {
   "cell_type": "code",
   "execution_count": 50,
   "id": "591cec57",
   "metadata": {
    "execution": {
     "iopub.execute_input": "2023-10-14T14:36:52.477302Z",
     "iopub.status.busy": "2023-10-14T14:36:52.476653Z",
     "iopub.status.idle": "2023-10-14T14:36:52.482103Z",
     "shell.execute_reply": "2023-10-14T14:36:52.481261Z"
    },
    "papermill": {
     "duration": 0.039121,
     "end_time": "2023-10-14T14:36:52.483777",
     "exception": false,
     "start_time": "2023-10-14T14:36:52.444656",
     "status": "completed"
    },
    "tags": []
   },
   "outputs": [],
   "source": [
    "sample_columns = sample_submission.columns\n",
    "sample_columns= sample_columns[1:]\n",
    "submission_df = pd.DataFrame(preds, columns=sample_columns)"
   ]
  },
  {
   "cell_type": "code",
   "execution_count": 51,
   "id": "3c6db5d2",
   "metadata": {
    "execution": {
     "iopub.execute_input": "2023-10-14T14:36:52.547408Z",
     "iopub.status.busy": "2023-10-14T14:36:52.546747Z",
     "iopub.status.idle": "2023-10-14T14:36:52.553754Z",
     "shell.execute_reply": "2023-10-14T14:36:52.552901Z"
    },
    "papermill": {
     "duration": 0.040886,
     "end_time": "2023-10-14T14:36:52.555531",
     "exception": false,
     "start_time": "2023-10-14T14:36:52.514645",
     "status": "completed"
    },
    "tags": []
   },
   "outputs": [],
   "source": [
    "submission_df.insert(0, 'id', range(255))"
   ]
  },
  {
   "cell_type": "code",
   "execution_count": 52,
   "id": "9bafc0bf",
   "metadata": {
    "execution": {
     "iopub.execute_input": "2023-10-14T14:36:52.619022Z",
     "iopub.status.busy": "2023-10-14T14:36:52.618655Z",
     "iopub.status.idle": "2023-10-14T14:36:52.652439Z",
     "shell.execute_reply": "2023-10-14T14:36:52.651223Z"
    },
    "papermill": {
     "duration": 0.068265,
     "end_time": "2023-10-14T14:36:52.654381",
     "exception": false,
     "start_time": "2023-10-14T14:36:52.586116",
     "status": "completed"
    },
    "tags": []
   },
   "outputs": [
    {
     "data": {
      "text/html": [
       "<div>\n",
       "<style scoped>\n",
       "    .dataframe tbody tr th:only-of-type {\n",
       "        vertical-align: middle;\n",
       "    }\n",
       "\n",
       "    .dataframe tbody tr th {\n",
       "        vertical-align: top;\n",
       "    }\n",
       "\n",
       "    .dataframe thead th {\n",
       "        text-align: right;\n",
       "    }\n",
       "</style>\n",
       "<table border=\"1\" class=\"dataframe\">\n",
       "  <thead>\n",
       "    <tr style=\"text-align: right;\">\n",
       "      <th></th>\n",
       "      <th>id</th>\n",
       "      <th>A1BG</th>\n",
       "      <th>A1BG-AS1</th>\n",
       "      <th>A2M</th>\n",
       "      <th>A2M-AS1</th>\n",
       "      <th>A2MP1</th>\n",
       "      <th>A4GALT</th>\n",
       "      <th>AAAS</th>\n",
       "      <th>AACS</th>\n",
       "      <th>AAGAB</th>\n",
       "      <th>...</th>\n",
       "      <th>ZUP1</th>\n",
       "      <th>ZW10</th>\n",
       "      <th>ZWILCH</th>\n",
       "      <th>ZWINT</th>\n",
       "      <th>ZXDA</th>\n",
       "      <th>ZXDB</th>\n",
       "      <th>ZXDC</th>\n",
       "      <th>ZYG11B</th>\n",
       "      <th>ZYX</th>\n",
       "      <th>ZZEF1</th>\n",
       "    </tr>\n",
       "  </thead>\n",
       "  <tbody>\n",
       "    <tr>\n",
       "      <th>0</th>\n",
       "      <td>0</td>\n",
       "      <td>0.0</td>\n",
       "      <td>0.0</td>\n",
       "      <td>0.0</td>\n",
       "      <td>0.0</td>\n",
       "      <td>0.0</td>\n",
       "      <td>0.0</td>\n",
       "      <td>0.0</td>\n",
       "      <td>0.0</td>\n",
       "      <td>0.0</td>\n",
       "      <td>...</td>\n",
       "      <td>0.0</td>\n",
       "      <td>0.0</td>\n",
       "      <td>0.0</td>\n",
       "      <td>0.0</td>\n",
       "      <td>0.0</td>\n",
       "      <td>0.0</td>\n",
       "      <td>0.0</td>\n",
       "      <td>0.0</td>\n",
       "      <td>0.0</td>\n",
       "      <td>0.0</td>\n",
       "    </tr>\n",
       "    <tr>\n",
       "      <th>1</th>\n",
       "      <td>1</td>\n",
       "      <td>0.0</td>\n",
       "      <td>0.0</td>\n",
       "      <td>0.0</td>\n",
       "      <td>0.0</td>\n",
       "      <td>0.0</td>\n",
       "      <td>0.0</td>\n",
       "      <td>0.0</td>\n",
       "      <td>0.0</td>\n",
       "      <td>0.0</td>\n",
       "      <td>...</td>\n",
       "      <td>0.0</td>\n",
       "      <td>0.0</td>\n",
       "      <td>0.0</td>\n",
       "      <td>0.0</td>\n",
       "      <td>0.0</td>\n",
       "      <td>0.0</td>\n",
       "      <td>0.0</td>\n",
       "      <td>0.0</td>\n",
       "      <td>0.0</td>\n",
       "      <td>0.0</td>\n",
       "    </tr>\n",
       "    <tr>\n",
       "      <th>2</th>\n",
       "      <td>2</td>\n",
       "      <td>0.0</td>\n",
       "      <td>0.0</td>\n",
       "      <td>0.0</td>\n",
       "      <td>0.0</td>\n",
       "      <td>0.0</td>\n",
       "      <td>0.0</td>\n",
       "      <td>0.0</td>\n",
       "      <td>0.0</td>\n",
       "      <td>0.0</td>\n",
       "      <td>...</td>\n",
       "      <td>0.0</td>\n",
       "      <td>0.0</td>\n",
       "      <td>0.0</td>\n",
       "      <td>0.0</td>\n",
       "      <td>0.0</td>\n",
       "      <td>0.0</td>\n",
       "      <td>0.0</td>\n",
       "      <td>0.0</td>\n",
       "      <td>0.0</td>\n",
       "      <td>0.0</td>\n",
       "    </tr>\n",
       "    <tr>\n",
       "      <th>3</th>\n",
       "      <td>3</td>\n",
       "      <td>0.0</td>\n",
       "      <td>0.0</td>\n",
       "      <td>0.0</td>\n",
       "      <td>0.0</td>\n",
       "      <td>0.0</td>\n",
       "      <td>0.0</td>\n",
       "      <td>0.0</td>\n",
       "      <td>0.0</td>\n",
       "      <td>0.0</td>\n",
       "      <td>...</td>\n",
       "      <td>0.0</td>\n",
       "      <td>0.0</td>\n",
       "      <td>0.0</td>\n",
       "      <td>0.0</td>\n",
       "      <td>0.0</td>\n",
       "      <td>0.0</td>\n",
       "      <td>0.0</td>\n",
       "      <td>0.0</td>\n",
       "      <td>0.0</td>\n",
       "      <td>0.0</td>\n",
       "    </tr>\n",
       "    <tr>\n",
       "      <th>4</th>\n",
       "      <td>4</td>\n",
       "      <td>0.0</td>\n",
       "      <td>0.0</td>\n",
       "      <td>0.0</td>\n",
       "      <td>0.0</td>\n",
       "      <td>0.0</td>\n",
       "      <td>0.0</td>\n",
       "      <td>0.0</td>\n",
       "      <td>0.0</td>\n",
       "      <td>0.0</td>\n",
       "      <td>...</td>\n",
       "      <td>0.0</td>\n",
       "      <td>0.0</td>\n",
       "      <td>0.0</td>\n",
       "      <td>0.0</td>\n",
       "      <td>0.0</td>\n",
       "      <td>0.0</td>\n",
       "      <td>0.0</td>\n",
       "      <td>0.0</td>\n",
       "      <td>0.0</td>\n",
       "      <td>0.0</td>\n",
       "    </tr>\n",
       "    <tr>\n",
       "      <th>...</th>\n",
       "      <td>...</td>\n",
       "      <td>...</td>\n",
       "      <td>...</td>\n",
       "      <td>...</td>\n",
       "      <td>...</td>\n",
       "      <td>...</td>\n",
       "      <td>...</td>\n",
       "      <td>...</td>\n",
       "      <td>...</td>\n",
       "      <td>...</td>\n",
       "      <td>...</td>\n",
       "      <td>...</td>\n",
       "      <td>...</td>\n",
       "      <td>...</td>\n",
       "      <td>...</td>\n",
       "      <td>...</td>\n",
       "      <td>...</td>\n",
       "      <td>...</td>\n",
       "      <td>...</td>\n",
       "      <td>...</td>\n",
       "      <td>...</td>\n",
       "    </tr>\n",
       "    <tr>\n",
       "      <th>250</th>\n",
       "      <td>250</td>\n",
       "      <td>0.0</td>\n",
       "      <td>0.0</td>\n",
       "      <td>0.0</td>\n",
       "      <td>0.0</td>\n",
       "      <td>0.0</td>\n",
       "      <td>0.0</td>\n",
       "      <td>0.0</td>\n",
       "      <td>0.0</td>\n",
       "      <td>0.0</td>\n",
       "      <td>...</td>\n",
       "      <td>0.0</td>\n",
       "      <td>0.0</td>\n",
       "      <td>0.0</td>\n",
       "      <td>0.0</td>\n",
       "      <td>0.0</td>\n",
       "      <td>0.0</td>\n",
       "      <td>0.0</td>\n",
       "      <td>0.0</td>\n",
       "      <td>0.0</td>\n",
       "      <td>0.0</td>\n",
       "    </tr>\n",
       "    <tr>\n",
       "      <th>251</th>\n",
       "      <td>251</td>\n",
       "      <td>0.0</td>\n",
       "      <td>0.0</td>\n",
       "      <td>0.0</td>\n",
       "      <td>0.0</td>\n",
       "      <td>0.0</td>\n",
       "      <td>0.0</td>\n",
       "      <td>0.0</td>\n",
       "      <td>0.0</td>\n",
       "      <td>0.0</td>\n",
       "      <td>...</td>\n",
       "      <td>0.0</td>\n",
       "      <td>0.0</td>\n",
       "      <td>0.0</td>\n",
       "      <td>0.0</td>\n",
       "      <td>0.0</td>\n",
       "      <td>0.0</td>\n",
       "      <td>0.0</td>\n",
       "      <td>0.0</td>\n",
       "      <td>0.0</td>\n",
       "      <td>0.0</td>\n",
       "    </tr>\n",
       "    <tr>\n",
       "      <th>252</th>\n",
       "      <td>252</td>\n",
       "      <td>0.0</td>\n",
       "      <td>0.0</td>\n",
       "      <td>0.0</td>\n",
       "      <td>0.0</td>\n",
       "      <td>0.0</td>\n",
       "      <td>0.0</td>\n",
       "      <td>0.0</td>\n",
       "      <td>0.0</td>\n",
       "      <td>0.0</td>\n",
       "      <td>...</td>\n",
       "      <td>0.0</td>\n",
       "      <td>0.0</td>\n",
       "      <td>0.0</td>\n",
       "      <td>0.0</td>\n",
       "      <td>0.0</td>\n",
       "      <td>0.0</td>\n",
       "      <td>0.0</td>\n",
       "      <td>0.0</td>\n",
       "      <td>0.0</td>\n",
       "      <td>0.0</td>\n",
       "    </tr>\n",
       "    <tr>\n",
       "      <th>253</th>\n",
       "      <td>253</td>\n",
       "      <td>0.0</td>\n",
       "      <td>0.0</td>\n",
       "      <td>0.0</td>\n",
       "      <td>0.0</td>\n",
       "      <td>0.0</td>\n",
       "      <td>0.0</td>\n",
       "      <td>0.0</td>\n",
       "      <td>0.0</td>\n",
       "      <td>0.0</td>\n",
       "      <td>...</td>\n",
       "      <td>0.0</td>\n",
       "      <td>0.0</td>\n",
       "      <td>0.0</td>\n",
       "      <td>0.0</td>\n",
       "      <td>0.0</td>\n",
       "      <td>0.0</td>\n",
       "      <td>0.0</td>\n",
       "      <td>0.0</td>\n",
       "      <td>0.0</td>\n",
       "      <td>0.0</td>\n",
       "    </tr>\n",
       "    <tr>\n",
       "      <th>254</th>\n",
       "      <td>254</td>\n",
       "      <td>0.0</td>\n",
       "      <td>0.0</td>\n",
       "      <td>0.0</td>\n",
       "      <td>0.0</td>\n",
       "      <td>0.0</td>\n",
       "      <td>0.0</td>\n",
       "      <td>0.0</td>\n",
       "      <td>0.0</td>\n",
       "      <td>0.0</td>\n",
       "      <td>...</td>\n",
       "      <td>0.0</td>\n",
       "      <td>0.0</td>\n",
       "      <td>0.0</td>\n",
       "      <td>0.0</td>\n",
       "      <td>0.0</td>\n",
       "      <td>0.0</td>\n",
       "      <td>0.0</td>\n",
       "      <td>0.0</td>\n",
       "      <td>0.0</td>\n",
       "      <td>0.0</td>\n",
       "    </tr>\n",
       "  </tbody>\n",
       "</table>\n",
       "<p>255 rows × 18212 columns</p>\n",
       "</div>"
      ],
      "text/plain": [
       "      id  A1BG  A1BG-AS1  A2M  A2M-AS1  A2MP1  A4GALT  AAAS  AACS  AAGAB  ...  \\\n",
       "0      0   0.0       0.0  0.0      0.0    0.0     0.0   0.0   0.0    0.0  ...   \n",
       "1      1   0.0       0.0  0.0      0.0    0.0     0.0   0.0   0.0    0.0  ...   \n",
       "2      2   0.0       0.0  0.0      0.0    0.0     0.0   0.0   0.0    0.0  ...   \n",
       "3      3   0.0       0.0  0.0      0.0    0.0     0.0   0.0   0.0    0.0  ...   \n",
       "4      4   0.0       0.0  0.0      0.0    0.0     0.0   0.0   0.0    0.0  ...   \n",
       "..   ...   ...       ...  ...      ...    ...     ...   ...   ...    ...  ...   \n",
       "250  250   0.0       0.0  0.0      0.0    0.0     0.0   0.0   0.0    0.0  ...   \n",
       "251  251   0.0       0.0  0.0      0.0    0.0     0.0   0.0   0.0    0.0  ...   \n",
       "252  252   0.0       0.0  0.0      0.0    0.0     0.0   0.0   0.0    0.0  ...   \n",
       "253  253   0.0       0.0  0.0      0.0    0.0     0.0   0.0   0.0    0.0  ...   \n",
       "254  254   0.0       0.0  0.0      0.0    0.0     0.0   0.0   0.0    0.0  ...   \n",
       "\n",
       "     ZUP1  ZW10  ZWILCH  ZWINT  ZXDA  ZXDB  ZXDC  ZYG11B  ZYX  ZZEF1  \n",
       "0     0.0   0.0     0.0    0.0   0.0   0.0   0.0     0.0  0.0    0.0  \n",
       "1     0.0   0.0     0.0    0.0   0.0   0.0   0.0     0.0  0.0    0.0  \n",
       "2     0.0   0.0     0.0    0.0   0.0   0.0   0.0     0.0  0.0    0.0  \n",
       "3     0.0   0.0     0.0    0.0   0.0   0.0   0.0     0.0  0.0    0.0  \n",
       "4     0.0   0.0     0.0    0.0   0.0   0.0   0.0     0.0  0.0    0.0  \n",
       "..    ...   ...     ...    ...   ...   ...   ...     ...  ...    ...  \n",
       "250   0.0   0.0     0.0    0.0   0.0   0.0   0.0     0.0  0.0    0.0  \n",
       "251   0.0   0.0     0.0    0.0   0.0   0.0   0.0     0.0  0.0    0.0  \n",
       "252   0.0   0.0     0.0    0.0   0.0   0.0   0.0     0.0  0.0    0.0  \n",
       "253   0.0   0.0     0.0    0.0   0.0   0.0   0.0     0.0  0.0    0.0  \n",
       "254   0.0   0.0     0.0    0.0   0.0   0.0   0.0     0.0  0.0    0.0  \n",
       "\n",
       "[255 rows x 18212 columns]"
      ]
     },
     "execution_count": 52,
     "metadata": {},
     "output_type": "execute_result"
    }
   ],
   "source": [
    "sample_submission"
   ]
  },
  {
   "cell_type": "code",
   "execution_count": 53,
   "id": "7fc7e1d5",
   "metadata": {
    "execution": {
     "iopub.execute_input": "2023-10-14T14:36:52.729556Z",
     "iopub.status.busy": "2023-10-14T14:36:52.729227Z",
     "iopub.status.idle": "2023-10-14T14:36:52.755030Z",
     "shell.execute_reply": "2023-10-14T14:36:52.753912Z"
    },
    "papermill": {
     "duration": 0.059785,
     "end_time": "2023-10-14T14:36:52.756813",
     "exception": false,
     "start_time": "2023-10-14T14:36:52.697028",
     "status": "completed"
    },
    "tags": []
   },
   "outputs": [
    {
     "data": {
      "text/html": [
       "<div>\n",
       "<style scoped>\n",
       "    .dataframe tbody tr th:only-of-type {\n",
       "        vertical-align: middle;\n",
       "    }\n",
       "\n",
       "    .dataframe tbody tr th {\n",
       "        vertical-align: top;\n",
       "    }\n",
       "\n",
       "    .dataframe thead th {\n",
       "        text-align: right;\n",
       "    }\n",
       "</style>\n",
       "<table border=\"1\" class=\"dataframe\">\n",
       "  <thead>\n",
       "    <tr style=\"text-align: right;\">\n",
       "      <th></th>\n",
       "      <th>id</th>\n",
       "      <th>A1BG</th>\n",
       "      <th>A1BG-AS1</th>\n",
       "      <th>A2M</th>\n",
       "      <th>A2M-AS1</th>\n",
       "      <th>A2MP1</th>\n",
       "      <th>A4GALT</th>\n",
       "      <th>AAAS</th>\n",
       "      <th>AACS</th>\n",
       "      <th>AAGAB</th>\n",
       "      <th>...</th>\n",
       "      <th>ZUP1</th>\n",
       "      <th>ZW10</th>\n",
       "      <th>ZWILCH</th>\n",
       "      <th>ZWINT</th>\n",
       "      <th>ZXDA</th>\n",
       "      <th>ZXDB</th>\n",
       "      <th>ZXDC</th>\n",
       "      <th>ZYG11B</th>\n",
       "      <th>ZYX</th>\n",
       "      <th>ZZEF1</th>\n",
       "    </tr>\n",
       "  </thead>\n",
       "  <tbody>\n",
       "    <tr>\n",
       "      <th>0</th>\n",
       "      <td>0</td>\n",
       "      <td>0.033011</td>\n",
       "      <td>0.006788</td>\n",
       "      <td>-0.017402</td>\n",
       "      <td>0.031217</td>\n",
       "      <td>0.113484</td>\n",
       "      <td>0.275015</td>\n",
       "      <td>-0.000088</td>\n",
       "      <td>0.102712</td>\n",
       "      <td>-0.077553</td>\n",
       "      <td>...</td>\n",
       "      <td>-0.096747</td>\n",
       "      <td>-0.003199</td>\n",
       "      <td>-0.011820</td>\n",
       "      <td>-0.135720</td>\n",
       "      <td>0.069698</td>\n",
       "      <td>0.104460</td>\n",
       "      <td>0.104157</td>\n",
       "      <td>0.072605</td>\n",
       "      <td>-0.088088</td>\n",
       "      <td>-0.042582</td>\n",
       "    </tr>\n",
       "    <tr>\n",
       "      <th>1</th>\n",
       "      <td>1</td>\n",
       "      <td>0.048893</td>\n",
       "      <td>0.054827</td>\n",
       "      <td>-0.042252</td>\n",
       "      <td>-0.026784</td>\n",
       "      <td>0.106033</td>\n",
       "      <td>0.273543</td>\n",
       "      <td>0.004649</td>\n",
       "      <td>0.091295</td>\n",
       "      <td>-0.076720</td>\n",
       "      <td>...</td>\n",
       "      <td>-0.027757</td>\n",
       "      <td>-0.016679</td>\n",
       "      <td>-0.065768</td>\n",
       "      <td>-0.035609</td>\n",
       "      <td>0.056034</td>\n",
       "      <td>0.087626</td>\n",
       "      <td>0.085621</td>\n",
       "      <td>0.030150</td>\n",
       "      <td>-0.062767</td>\n",
       "      <td>-0.072291</td>\n",
       "    </tr>\n",
       "    <tr>\n",
       "      <th>2</th>\n",
       "      <td>2</td>\n",
       "      <td>0.137126</td>\n",
       "      <td>0.139802</td>\n",
       "      <td>-0.048846</td>\n",
       "      <td>-0.041184</td>\n",
       "      <td>0.209693</td>\n",
       "      <td>0.704453</td>\n",
       "      <td>0.013703</td>\n",
       "      <td>0.167856</td>\n",
       "      <td>-0.078901</td>\n",
       "      <td>...</td>\n",
       "      <td>-0.011791</td>\n",
       "      <td>0.007619</td>\n",
       "      <td>-0.010005</td>\n",
       "      <td>0.033970</td>\n",
       "      <td>0.154336</td>\n",
       "      <td>0.183516</td>\n",
       "      <td>0.122547</td>\n",
       "      <td>0.048419</td>\n",
       "      <td>-0.117532</td>\n",
       "      <td>-0.060801</td>\n",
       "    </tr>\n",
       "    <tr>\n",
       "      <th>3</th>\n",
       "      <td>3</td>\n",
       "      <td>0.030260</td>\n",
       "      <td>0.040435</td>\n",
       "      <td>0.025224</td>\n",
       "      <td>0.022673</td>\n",
       "      <td>0.089691</td>\n",
       "      <td>0.088084</td>\n",
       "      <td>-0.023356</td>\n",
       "      <td>0.017574</td>\n",
       "      <td>-0.069572</td>\n",
       "      <td>...</td>\n",
       "      <td>-0.036597</td>\n",
       "      <td>-0.010982</td>\n",
       "      <td>-0.114436</td>\n",
       "      <td>0.013601</td>\n",
       "      <td>0.055926</td>\n",
       "      <td>0.078880</td>\n",
       "      <td>0.062791</td>\n",
       "      <td>0.007748</td>\n",
       "      <td>-0.020457</td>\n",
       "      <td>-0.109393</td>\n",
       "    </tr>\n",
       "    <tr>\n",
       "      <th>4</th>\n",
       "      <td>4</td>\n",
       "      <td>0.070289</td>\n",
       "      <td>0.066545</td>\n",
       "      <td>-0.045747</td>\n",
       "      <td>-0.013240</td>\n",
       "      <td>0.148432</td>\n",
       "      <td>0.322180</td>\n",
       "      <td>0.011338</td>\n",
       "      <td>0.118809</td>\n",
       "      <td>-0.078556</td>\n",
       "      <td>...</td>\n",
       "      <td>-0.014140</td>\n",
       "      <td>-0.015615</td>\n",
       "      <td>-0.058168</td>\n",
       "      <td>-0.018076</td>\n",
       "      <td>0.065543</td>\n",
       "      <td>0.089307</td>\n",
       "      <td>0.093845</td>\n",
       "      <td>0.032056</td>\n",
       "      <td>-0.061086</td>\n",
       "      <td>-0.067919</td>\n",
       "    </tr>\n",
       "    <tr>\n",
       "      <th>...</th>\n",
       "      <td>...</td>\n",
       "      <td>...</td>\n",
       "      <td>...</td>\n",
       "      <td>...</td>\n",
       "      <td>...</td>\n",
       "      <td>...</td>\n",
       "      <td>...</td>\n",
       "      <td>...</td>\n",
       "      <td>...</td>\n",
       "      <td>...</td>\n",
       "      <td>...</td>\n",
       "      <td>...</td>\n",
       "      <td>...</td>\n",
       "      <td>...</td>\n",
       "      <td>...</td>\n",
       "      <td>...</td>\n",
       "      <td>...</td>\n",
       "      <td>...</td>\n",
       "      <td>...</td>\n",
       "      <td>...</td>\n",
       "      <td>...</td>\n",
       "    </tr>\n",
       "    <tr>\n",
       "      <th>250</th>\n",
       "      <td>250</td>\n",
       "      <td>0.007901</td>\n",
       "      <td>0.020150</td>\n",
       "      <td>-0.012978</td>\n",
       "      <td>0.010204</td>\n",
       "      <td>0.046597</td>\n",
       "      <td>0.000710</td>\n",
       "      <td>-0.028165</td>\n",
       "      <td>0.002250</td>\n",
       "      <td>-0.075994</td>\n",
       "      <td>...</td>\n",
       "      <td>-0.024086</td>\n",
       "      <td>-0.036144</td>\n",
       "      <td>-0.142803</td>\n",
       "      <td>-0.019400</td>\n",
       "      <td>0.034034</td>\n",
       "      <td>0.058330</td>\n",
       "      <td>0.060573</td>\n",
       "      <td>0.013164</td>\n",
       "      <td>-0.017608</td>\n",
       "      <td>-0.110672</td>\n",
       "    </tr>\n",
       "    <tr>\n",
       "      <th>251</th>\n",
       "      <td>251</td>\n",
       "      <td>0.107250</td>\n",
       "      <td>0.082775</td>\n",
       "      <td>-0.022165</td>\n",
       "      <td>-0.021090</td>\n",
       "      <td>0.207843</td>\n",
       "      <td>0.485379</td>\n",
       "      <td>-0.005122</td>\n",
       "      <td>0.132045</td>\n",
       "      <td>-0.061120</td>\n",
       "      <td>...</td>\n",
       "      <td>-0.001378</td>\n",
       "      <td>0.003765</td>\n",
       "      <td>-0.044283</td>\n",
       "      <td>0.063184</td>\n",
       "      <td>0.120277</td>\n",
       "      <td>0.122315</td>\n",
       "      <td>0.090950</td>\n",
       "      <td>0.026173</td>\n",
       "      <td>-0.076204</td>\n",
       "      <td>-0.081080</td>\n",
       "    </tr>\n",
       "    <tr>\n",
       "      <th>252</th>\n",
       "      <td>252</td>\n",
       "      <td>0.038617</td>\n",
       "      <td>0.055697</td>\n",
       "      <td>-0.008834</td>\n",
       "      <td>-0.005242</td>\n",
       "      <td>0.099587</td>\n",
       "      <td>0.140989</td>\n",
       "      <td>-0.009949</td>\n",
       "      <td>0.038467</td>\n",
       "      <td>-0.074410</td>\n",
       "      <td>...</td>\n",
       "      <td>-0.020105</td>\n",
       "      <td>-0.018730</td>\n",
       "      <td>-0.112200</td>\n",
       "      <td>0.006390</td>\n",
       "      <td>0.048784</td>\n",
       "      <td>0.075302</td>\n",
       "      <td>0.066424</td>\n",
       "      <td>0.006978</td>\n",
       "      <td>-0.028088</td>\n",
       "      <td>-0.101734</td>\n",
       "    </tr>\n",
       "    <tr>\n",
       "      <th>253</th>\n",
       "      <td>253</td>\n",
       "      <td>1.453000</td>\n",
       "      <td>0.350840</td>\n",
       "      <td>-0.770422</td>\n",
       "      <td>0.986581</td>\n",
       "      <td>7.873156</td>\n",
       "      <td>4.529393</td>\n",
       "      <td>-0.050296</td>\n",
       "      <td>-0.004715</td>\n",
       "      <td>-0.104747</td>\n",
       "      <td>...</td>\n",
       "      <td>-0.134492</td>\n",
       "      <td>-0.178250</td>\n",
       "      <td>-0.305766</td>\n",
       "      <td>0.152464</td>\n",
       "      <td>1.630457</td>\n",
       "      <td>0.158117</td>\n",
       "      <td>-0.065286</td>\n",
       "      <td>-0.229716</td>\n",
       "      <td>-0.345820</td>\n",
       "      <td>-0.149012</td>\n",
       "    </tr>\n",
       "    <tr>\n",
       "      <th>254</th>\n",
       "      <td>254</td>\n",
       "      <td>0.124227</td>\n",
       "      <td>0.080635</td>\n",
       "      <td>0.000965</td>\n",
       "      <td>0.138182</td>\n",
       "      <td>0.670530</td>\n",
       "      <td>0.326191</td>\n",
       "      <td>-0.024330</td>\n",
       "      <td>0.009294</td>\n",
       "      <td>-0.073931</td>\n",
       "      <td>...</td>\n",
       "      <td>-0.043939</td>\n",
       "      <td>-0.011702</td>\n",
       "      <td>-0.134223</td>\n",
       "      <td>0.022958</td>\n",
       "      <td>0.187324</td>\n",
       "      <td>0.098384</td>\n",
       "      <td>0.066797</td>\n",
       "      <td>-0.018707</td>\n",
       "      <td>-0.037111</td>\n",
       "      <td>-0.106954</td>\n",
       "    </tr>\n",
       "  </tbody>\n",
       "</table>\n",
       "<p>255 rows × 18212 columns</p>\n",
       "</div>"
      ],
      "text/plain": [
       "      id      A1BG  A1BG-AS1       A2M   A2M-AS1     A2MP1    A4GALT  \\\n",
       "0      0  0.033011  0.006788 -0.017402  0.031217  0.113484  0.275015   \n",
       "1      1  0.048893  0.054827 -0.042252 -0.026784  0.106033  0.273543   \n",
       "2      2  0.137126  0.139802 -0.048846 -0.041184  0.209693  0.704453   \n",
       "3      3  0.030260  0.040435  0.025224  0.022673  0.089691  0.088084   \n",
       "4      4  0.070289  0.066545 -0.045747 -0.013240  0.148432  0.322180   \n",
       "..   ...       ...       ...       ...       ...       ...       ...   \n",
       "250  250  0.007901  0.020150 -0.012978  0.010204  0.046597  0.000710   \n",
       "251  251  0.107250  0.082775 -0.022165 -0.021090  0.207843  0.485379   \n",
       "252  252  0.038617  0.055697 -0.008834 -0.005242  0.099587  0.140989   \n",
       "253  253  1.453000  0.350840 -0.770422  0.986581  7.873156  4.529393   \n",
       "254  254  0.124227  0.080635  0.000965  0.138182  0.670530  0.326191   \n",
       "\n",
       "         AAAS      AACS     AAGAB  ...      ZUP1      ZW10    ZWILCH  \\\n",
       "0   -0.000088  0.102712 -0.077553  ... -0.096747 -0.003199 -0.011820   \n",
       "1    0.004649  0.091295 -0.076720  ... -0.027757 -0.016679 -0.065768   \n",
       "2    0.013703  0.167856 -0.078901  ... -0.011791  0.007619 -0.010005   \n",
       "3   -0.023356  0.017574 -0.069572  ... -0.036597 -0.010982 -0.114436   \n",
       "4    0.011338  0.118809 -0.078556  ... -0.014140 -0.015615 -0.058168   \n",
       "..        ...       ...       ...  ...       ...       ...       ...   \n",
       "250 -0.028165  0.002250 -0.075994  ... -0.024086 -0.036144 -0.142803   \n",
       "251 -0.005122  0.132045 -0.061120  ... -0.001378  0.003765 -0.044283   \n",
       "252 -0.009949  0.038467 -0.074410  ... -0.020105 -0.018730 -0.112200   \n",
       "253 -0.050296 -0.004715 -0.104747  ... -0.134492 -0.178250 -0.305766   \n",
       "254 -0.024330  0.009294 -0.073931  ... -0.043939 -0.011702 -0.134223   \n",
       "\n",
       "        ZWINT      ZXDA      ZXDB      ZXDC    ZYG11B       ZYX     ZZEF1  \n",
       "0   -0.135720  0.069698  0.104460  0.104157  0.072605 -0.088088 -0.042582  \n",
       "1   -0.035609  0.056034  0.087626  0.085621  0.030150 -0.062767 -0.072291  \n",
       "2    0.033970  0.154336  0.183516  0.122547  0.048419 -0.117532 -0.060801  \n",
       "3    0.013601  0.055926  0.078880  0.062791  0.007748 -0.020457 -0.109393  \n",
       "4   -0.018076  0.065543  0.089307  0.093845  0.032056 -0.061086 -0.067919  \n",
       "..        ...       ...       ...       ...       ...       ...       ...  \n",
       "250 -0.019400  0.034034  0.058330  0.060573  0.013164 -0.017608 -0.110672  \n",
       "251  0.063184  0.120277  0.122315  0.090950  0.026173 -0.076204 -0.081080  \n",
       "252  0.006390  0.048784  0.075302  0.066424  0.006978 -0.028088 -0.101734  \n",
       "253  0.152464  1.630457  0.158117 -0.065286 -0.229716 -0.345820 -0.149012  \n",
       "254  0.022958  0.187324  0.098384  0.066797 -0.018707 -0.037111 -0.106954  \n",
       "\n",
       "[255 rows x 18212 columns]"
      ]
     },
     "execution_count": 53,
     "metadata": {},
     "output_type": "execute_result"
    }
   ],
   "source": [
    "submission_df"
   ]
  },
  {
   "cell_type": "code",
   "execution_count": 54,
   "id": "71960aef",
   "metadata": {
    "execution": {
     "iopub.execute_input": "2023-10-14T14:36:52.823372Z",
     "iopub.status.busy": "2023-10-14T14:36:52.822714Z",
     "iopub.status.idle": "2023-10-14T14:36:58.194937Z",
     "shell.execute_reply": "2023-10-14T14:36:58.194011Z"
    },
    "papermill": {
     "duration": 5.407419,
     "end_time": "2023-10-14T14:36:58.197157",
     "exception": false,
     "start_time": "2023-10-14T14:36:52.789738",
     "status": "completed"
    },
    "tags": []
   },
   "outputs": [],
   "source": [
    "submission_df.to_csv(\"submission_df.csv\", index=False)"
   ]
  },
  {
   "cell_type": "code",
   "execution_count": 55,
   "id": "7188a3dd",
   "metadata": {
    "execution": {
     "iopub.execute_input": "2023-10-14T14:36:58.261728Z",
     "iopub.status.busy": "2023-10-14T14:36:58.260804Z",
     "iopub.status.idle": "2023-10-14T14:37:04.567577Z",
     "shell.execute_reply": "2023-10-14T14:37:04.566379Z"
    },
    "papermill": {
     "duration": 6.341177,
     "end_time": "2023-10-14T14:37:04.569959",
     "exception": false,
     "start_time": "2023-10-14T14:36:58.228782",
     "status": "completed"
    },
    "tags": []
   },
   "outputs": [
    {
     "name": "stdout",
     "output_type": "stream",
     "text": [
      "  adding: kaggle/working/submission_df.csv (deflated 59%)\r\n"
     ]
    }
   ],
   "source": [
    "!zip submission_preds.zip /kaggle/working/submission_df.csv"
   ]
  },
  {
   "cell_type": "markdown",
   "id": "7e51c177",
   "metadata": {
    "execution": {
     "iopub.execute_input": "2023-10-05T09:14:36.993577Z",
     "iopub.status.busy": "2023-10-05T09:14:36.993246Z",
     "iopub.status.idle": "2023-10-05T09:14:37.000183Z",
     "shell.execute_reply": "2023-10-05T09:14:36.999213Z",
     "shell.execute_reply.started": "2023-10-05T09:14:36.99355Z"
    },
    "papermill": {
     "duration": 0.03118,
     "end_time": "2023-10-14T14:37:04.633128",
     "exception": false,
     "start_time": "2023-10-14T14:37:04.601948",
     "status": "completed"
    },
    "tags": []
   },
   "source": [
    "V1\n"
   ]
  }
 ],
 "metadata": {
  "kernelspec": {
   "display_name": "Python 3",
   "language": "python",
   "name": "python3"
  },
  "language_info": {
   "codemirror_mode": {
    "name": "ipython",
    "version": 3
   },
   "file_extension": ".py",
   "mimetype": "text/x-python",
   "name": "python",
   "nbconvert_exporter": "python",
   "pygments_lexer": "ipython3",
   "version": "3.10.12"
  },
  "papermill": {
   "default_parameters": {},
   "duration": 181.578314,
   "end_time": "2023-10-14T14:37:08.411410",
   "environment_variables": {},
   "exception": null,
   "input_path": "__notebook__.ipynb",
   "output_path": "__notebook__.ipynb",
   "parameters": {},
   "start_time": "2023-10-14T14:34:06.833096",
   "version": "2.4.0"
  }
 },
 "nbformat": 4,
 "nbformat_minor": 5
}
